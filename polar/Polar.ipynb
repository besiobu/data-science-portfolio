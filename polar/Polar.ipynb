{
 "cells": [
  {
   "cell_type": "markdown",
   "metadata": {},
   "source": [
    "# Imports"
   ]
  },
  {
   "cell_type": "code",
   "execution_count": 1,
   "metadata": {},
   "outputs": [],
   "source": [
    "import json\n",
    "from functools import reduce\n",
    "from os import listdir\n",
    "from os.path import isfile, join\n",
    "from pathlib import Path\n",
    "\n",
    "import matplotlib.pyplot as plt\n",
    "import numpy as np\n",
    "import pandas as pd\n",
    "import statsmodels.api as sm\n",
    "import statsmodels.formula.api as smf\n",
    "import tabulate\n",
    "from pylab import rcParams\n",
    "from scipy.stats import shapiro\n",
    "from statsmodels.graphics.gofplots import qqplot\n",
    "from statsmodels.stats.diagnostic import het_goldfeldquandt\n",
    "from statsmodels.stats.outliers_influence import variance_inflation_factor"
   ]
  },
  {
   "cell_type": "code",
   "execution_count": 2,
   "metadata": {},
   "outputs": [],
   "source": [
    "from IPython.display import display, HTML"
   ]
  },
  {
   "cell_type": "markdown",
   "metadata": {},
   "source": [
    "# Setup"
   ]
  },
  {
   "cell_type": "code",
   "execution_count": 3,
   "metadata": {},
   "outputs": [],
   "source": [
    "# Set figure size\n",
    "rcParams['figure.figsize'] = (4, 4)\n",
    "\n",
    "# Folder for images\n",
    "Path('img').mkdir(parents=True, exist_ok=True)\n",
    "\n",
    "# Nice float format\n",
    "pd.options.display.float_format = \"{:,.2f}\".format"
   ]
  },
  {
   "cell_type": "markdown",
   "metadata": {},
   "source": [
    "# Data description\n",
    "\n",
    "Last year I purchased a Polar watch that tracks my vitals during workouts. I used the [Polar Flow](polar.flow.com) website to obtain a copy of my data. For privacy reasons I shall not be sharing the dataset."
   ]
  },
  {
   "cell_type": "code",
   "execution_count": 4,
   "metadata": {},
   "outputs": [],
   "source": [
    "path = './data/'"
   ]
  },
  {
   "cell_type": "markdown",
   "metadata": {},
   "source": [
    "First, we create a list of files in the download."
   ]
  },
  {
   "cell_type": "code",
   "execution_count": 5,
   "metadata": {
    "scrolled": true
   },
   "outputs": [],
   "source": [
    "files = [f for f in listdir(path) if isfile(join(path, f))]"
   ]
  },
  {
   "cell_type": "markdown",
   "metadata": {},
   "source": [
    "We shall only consider files containing the string `'training-session'`."
   ]
  },
  {
   "cell_type": "code",
   "execution_count": 6,
   "metadata": {},
   "outputs": [],
   "source": [
    "files = [f for f in files if 'training-session' in f]"
   ]
  },
  {
   "cell_type": "markdown",
   "metadata": {},
   "source": [
    "The number of files under consideration is:"
   ]
  },
  {
   "cell_type": "code",
   "execution_count": 7,
   "metadata": {},
   "outputs": [
    {
     "data": {
      "text/plain": [
       "284"
      ]
     },
     "execution_count": 7,
     "metadata": {},
     "output_type": "execute_result"
    }
   ],
   "source": [
    "len(files)"
   ]
  },
  {
   "cell_type": "markdown",
   "metadata": {},
   "source": [
    "We loop over each of the files and them to a list."
   ]
  },
  {
   "cell_type": "code",
   "execution_count": 8,
   "metadata": {},
   "outputs": [],
   "source": [
    "data = []\n",
    "\n",
    "for f in files:\n",
    "    with open(join(path, f)) as f:\n",
    "        d = json.load(f)\n",
    "        data.append(d)"
   ]
  },
  {
   "cell_type": "markdown",
   "metadata": {},
   "source": [
    "We define a function to extract statistics about heart rate measured during the workouts."
   ]
  },
  {
   "cell_type": "code",
   "execution_count": 9,
   "metadata": {},
   "outputs": [],
   "source": [
    "quantiles = [0.01, 0.25, 0.5, 0.75, 0.99]"
   ]
  },
  {
   "cell_type": "code",
   "execution_count": 10,
   "metadata": {},
   "outputs": [],
   "source": [
    "def extract_hr_info(workout, quantiles):\n",
    "    \n",
    "    stats = {'heartRateAvg2': np.nan,\n",
    "             'heartRateStd': np.nan}    \n",
    "\n",
    "    for q in quantiles:\n",
    "        stats[f'heartRateQ' + str(int(q * 100))] = np.nan\n",
    "    \n",
    "    # Check if data exists\n",
    "    try:\n",
    "        heart_rates = workout['exercises'][0]['samples']['heartRate']    \n",
    "    except KeyError:\n",
    "        return stats\n",
    "     \n",
    "    # Loop over measurements\n",
    "    hr_data = []\n",
    "    for hr in heart_rates:\n",
    "        \n",
    "        # Check if actually measured hr\n",
    "        if 'value' in hr:\n",
    "            hr_data.append(hr['value'])    \n",
    "\n",
    "    stats['heartRateAvg2'] = np.mean(hr_data)\n",
    "    stats['heartRateStd'] = np.std(hr_data)\n",
    "    \n",
    "    for q in quantiles:\n",
    "        stats[f'heartRateQ' + str(int(q * 100))] = np.quantile(hr_data, q)\n",
    "    \n",
    "    return stats"
   ]
  },
  {
   "cell_type": "markdown",
   "metadata": {},
   "source": [
    "We extract the relevant information from the items in the list."
   ]
  },
  {
   "cell_type": "code",
   "execution_count": 11,
   "metadata": {},
   "outputs": [],
   "source": [
    "workouts = []\n",
    "\n",
    "for d in data:\n",
    "    basic = d['exercises'][0]\n",
    "    hr = extract_hr_info(workout=d, \n",
    "                         quantiles=quantiles)\n",
    "    \n",
    "    workouts.append({**basic, **hr})"
   ]
  },
  {
   "cell_type": "markdown",
   "metadata": {},
   "source": [
    "Finally we create a dataframe containing the workout information."
   ]
  },
  {
   "cell_type": "code",
   "execution_count": 12,
   "metadata": {},
   "outputs": [],
   "source": [
    "df = pd.DataFrame(workouts)"
   ]
  },
  {
   "cell_type": "markdown",
   "metadata": {},
   "source": [
    "# Data structure\n",
    "\n",
    "We find the following columns in the dataframe."
   ]
  },
  {
   "cell_type": "code",
   "execution_count": 13,
   "metadata": {},
   "outputs": [
    {
     "name": "stdout",
     "output_type": "stream",
     "text": [
      "<class 'pandas.core.frame.DataFrame'>\n",
      "RangeIndex: 284 entries, 0 to 283\n",
      "Data columns (total 24 columns):\n",
      " #   Column          Non-Null Count  Dtype  \n",
      "---  ------          --------------  -----  \n",
      " 0   startTime       284 non-null    object \n",
      " 1   stopTime        284 non-null    object \n",
      " 2   timezoneOffset  284 non-null    int64  \n",
      " 3   duration        284 non-null    object \n",
      " 4   sport           284 non-null    object \n",
      " 5   kiloCalories    283 non-null    float64\n",
      " 6   heartRate       283 non-null    object \n",
      " 7   zones           284 non-null    object \n",
      " 8   samples         284 non-null    object \n",
      " 9   heartRateAvg2   283 non-null    float64\n",
      " 10  heartRateStd    283 non-null    float64\n",
      " 11  heartRateQ1     283 non-null    float64\n",
      " 12  heartRateQ25    283 non-null    float64\n",
      " 13  heartRateQ50    283 non-null    float64\n",
      " 14  heartRateQ75    283 non-null    float64\n",
      " 15  heartRateQ99    283 non-null    float64\n",
      " 16  distance        130 non-null    float64\n",
      " 17  latitude        130 non-null    float64\n",
      " 18  longitude       130 non-null    float64\n",
      " 19  ascent          120 non-null    float64\n",
      " 20  descent         121 non-null    float64\n",
      " 21  speed           130 non-null    object \n",
      " 22  autoLaps        102 non-null    object \n",
      " 23  laps            2 non-null      object \n",
      "dtypes: float64(13), int64(1), object(10)\n",
      "memory usage: 53.4+ KB\n"
     ]
    }
   ],
   "source": [
    "df.info()"
   ]
  },
  {
   "cell_type": "markdown",
   "metadata": {},
   "source": [
    "We remove columns that containt data from features I do not use in my training."
   ]
  },
  {
   "cell_type": "markdown",
   "metadata": {},
   "source": [
    "Due to privacy concerns I shan't be extracting longitudinal and latitudinal data."
   ]
  },
  {
   "cell_type": "code",
   "execution_count": 14,
   "metadata": {},
   "outputs": [],
   "source": [
    "df = df.drop(['zones', 'samples', 'autoLaps', \n",
    "              'laps', 'latitude', 'longitude', \n",
    "              'ascent', 'descent'], axis=1)"
   ]
  },
  {
   "cell_type": "code",
   "execution_count": 15,
   "metadata": {
    "scrolled": false
   },
   "outputs": [
    {
     "data": {
      "text/html": [
       "<div>\n",
       "<style scoped>\n",
       "    .dataframe tbody tr th:only-of-type {\n",
       "        vertical-align: middle;\n",
       "    }\n",
       "\n",
       "    .dataframe tbody tr th {\n",
       "        vertical-align: top;\n",
       "    }\n",
       "\n",
       "    .dataframe thead th {\n",
       "        text-align: right;\n",
       "    }\n",
       "</style>\n",
       "<table border=\"1\" class=\"dataframe\">\n",
       "  <thead>\n",
       "    <tr style=\"text-align: right;\">\n",
       "      <th></th>\n",
       "      <th>startTime</th>\n",
       "      <th>stopTime</th>\n",
       "      <th>timezoneOffset</th>\n",
       "      <th>duration</th>\n",
       "      <th>sport</th>\n",
       "      <th>kiloCalories</th>\n",
       "      <th>heartRate</th>\n",
       "      <th>heartRateAvg2</th>\n",
       "      <th>heartRateStd</th>\n",
       "      <th>heartRateQ1</th>\n",
       "      <th>heartRateQ25</th>\n",
       "      <th>heartRateQ50</th>\n",
       "      <th>heartRateQ75</th>\n",
       "      <th>heartRateQ99</th>\n",
       "      <th>distance</th>\n",
       "      <th>speed</th>\n",
       "    </tr>\n",
       "  </thead>\n",
       "  <tbody>\n",
       "    <tr>\n",
       "      <th>0</th>\n",
       "      <td>2019-05-24T13:18:14.000</td>\n",
       "      <td>2019-05-24T14:58:44.125</td>\n",
       "      <td>120</td>\n",
       "      <td>PT6030.125S</td>\n",
       "      <td>STRENGTH_TRAINING</td>\n",
       "      <td>658.00</td>\n",
       "      <td>{'min': 72, 'avg': 105, 'max': 136}</td>\n",
       "      <td>104.77</td>\n",
       "      <td>11.28</td>\n",
       "      <td>77.00</td>\n",
       "      <td>99.00</td>\n",
       "      <td>105.00</td>\n",
       "      <td>111.00</td>\n",
       "      <td>132.00</td>\n",
       "      <td>nan</td>\n",
       "      <td>NaN</td>\n",
       "    </tr>\n",
       "    <tr>\n",
       "      <th>1</th>\n",
       "      <td>2019-05-04T12:03:34.000</td>\n",
       "      <td>2019-05-04T13:21:38.500</td>\n",
       "      <td>120</td>\n",
       "      <td>PT4684.500S</td>\n",
       "      <td>STRENGTH_TRAINING</td>\n",
       "      <td>373.00</td>\n",
       "      <td>{'min': 71, 'avg': 99, 'max': 138}</td>\n",
       "      <td>98.65</td>\n",
       "      <td>12.51</td>\n",
       "      <td>74.00</td>\n",
       "      <td>91.00</td>\n",
       "      <td>97.00</td>\n",
       "      <td>106.00</td>\n",
       "      <td>126.00</td>\n",
       "      <td>nan</td>\n",
       "      <td>NaN</td>\n",
       "    </tr>\n",
       "    <tr>\n",
       "      <th>2</th>\n",
       "      <td>2019-04-12T12:48:57.000</td>\n",
       "      <td>2019-04-12T12:59:10.750</td>\n",
       "      <td>120</td>\n",
       "      <td>PT613.750S</td>\n",
       "      <td>TREADMILL_RUNNING</td>\n",
       "      <td>62.00</td>\n",
       "      <td>{'min': 71, 'avg': 97, 'max': 107}</td>\n",
       "      <td>97.07</td>\n",
       "      <td>8.00</td>\n",
       "      <td>72.00</td>\n",
       "      <td>94.00</td>\n",
       "      <td>97.00</td>\n",
       "      <td>104.00</td>\n",
       "      <td>107.00</td>\n",
       "      <td>nan</td>\n",
       "      <td>NaN</td>\n",
       "    </tr>\n",
       "    <tr>\n",
       "      <th>3</th>\n",
       "      <td>2019-06-12T13:13:09.000</td>\n",
       "      <td>2019-06-12T13:23:15.500</td>\n",
       "      <td>120</td>\n",
       "      <td>PT606.500S</td>\n",
       "      <td>TREADMILL_RUNNING</td>\n",
       "      <td>71.00</td>\n",
       "      <td>{'min': 67, 'avg': 105, 'max': 121}</td>\n",
       "      <td>105.24</td>\n",
       "      <td>11.25</td>\n",
       "      <td>67.96</td>\n",
       "      <td>98.00</td>\n",
       "      <td>104.00</td>\n",
       "      <td>118.00</td>\n",
       "      <td>121.00</td>\n",
       "      <td>nan</td>\n",
       "      <td>NaN</td>\n",
       "    </tr>\n",
       "    <tr>\n",
       "      <th>4</th>\n",
       "      <td>2019-05-24T14:59:06.000</td>\n",
       "      <td>2019-05-24T15:29:08.750</td>\n",
       "      <td>120</td>\n",
       "      <td>PT1802.750S</td>\n",
       "      <td>TREADMILL_RUNNING</td>\n",
       "      <td>416.00</td>\n",
       "      <td>{'min': 84, 'avg': 144, 'max': 170}</td>\n",
       "      <td>143.85</td>\n",
       "      <td>18.47</td>\n",
       "      <td>87.00</td>\n",
       "      <td>133.00</td>\n",
       "      <td>146.00</td>\n",
       "      <td>158.00</td>\n",
       "      <td>169.00</td>\n",
       "      <td>nan</td>\n",
       "      <td>NaN</td>\n",
       "    </tr>\n",
       "  </tbody>\n",
       "</table>\n",
       "</div>"
      ],
      "text/plain": [
       "                 startTime                 stopTime  timezoneOffset  \\\n",
       "0  2019-05-24T13:18:14.000  2019-05-24T14:58:44.125             120   \n",
       "1  2019-05-04T12:03:34.000  2019-05-04T13:21:38.500             120   \n",
       "2  2019-04-12T12:48:57.000  2019-04-12T12:59:10.750             120   \n",
       "3  2019-06-12T13:13:09.000  2019-06-12T13:23:15.500             120   \n",
       "4  2019-05-24T14:59:06.000  2019-05-24T15:29:08.750             120   \n",
       "\n",
       "      duration              sport  kiloCalories  \\\n",
       "0  PT6030.125S  STRENGTH_TRAINING        658.00   \n",
       "1  PT4684.500S  STRENGTH_TRAINING        373.00   \n",
       "2   PT613.750S  TREADMILL_RUNNING         62.00   \n",
       "3   PT606.500S  TREADMILL_RUNNING         71.00   \n",
       "4  PT1802.750S  TREADMILL_RUNNING        416.00   \n",
       "\n",
       "                             heartRate  heartRateAvg2  heartRateStd  \\\n",
       "0  {'min': 72, 'avg': 105, 'max': 136}         104.77         11.28   \n",
       "1   {'min': 71, 'avg': 99, 'max': 138}          98.65         12.51   \n",
       "2   {'min': 71, 'avg': 97, 'max': 107}          97.07          8.00   \n",
       "3  {'min': 67, 'avg': 105, 'max': 121}         105.24         11.25   \n",
       "4  {'min': 84, 'avg': 144, 'max': 170}         143.85         18.47   \n",
       "\n",
       "   heartRateQ1  heartRateQ25  heartRateQ50  heartRateQ75  heartRateQ99  \\\n",
       "0        77.00         99.00        105.00        111.00        132.00   \n",
       "1        74.00         91.00         97.00        106.00        126.00   \n",
       "2        72.00         94.00         97.00        104.00        107.00   \n",
       "3        67.96         98.00        104.00        118.00        121.00   \n",
       "4        87.00        133.00        146.00        158.00        169.00   \n",
       "\n",
       "   distance speed  \n",
       "0       nan   NaN  \n",
       "1       nan   NaN  \n",
       "2       nan   NaN  \n",
       "3       nan   NaN  \n",
       "4       nan   NaN  "
      ]
     },
     "execution_count": 15,
     "metadata": {},
     "output_type": "execute_result"
    }
   ],
   "source": [
    "df.head()"
   ]
  },
  {
   "cell_type": "markdown",
   "metadata": {},
   "source": [
    "# Missing Values"
   ]
  },
  {
   "cell_type": "markdown",
   "metadata": {},
   "source": [
    "The watch tracks different information for different workouts. For example when walking it tracks location but when walking on a treadmill it doesn't, hence there is quite a lot of missing data."
   ]
  },
  {
   "cell_type": "code",
   "execution_count": 16,
   "metadata": {},
   "outputs": [
    {
     "data": {
      "text/html": [
       "<div>\n",
       "<style scoped>\n",
       "    .dataframe tbody tr th:only-of-type {\n",
       "        vertical-align: middle;\n",
       "    }\n",
       "\n",
       "    .dataframe tbody tr th {\n",
       "        vertical-align: top;\n",
       "    }\n",
       "\n",
       "    .dataframe thead th {\n",
       "        text-align: right;\n",
       "    }\n",
       "</style>\n",
       "<table border=\"1\" class=\"dataframe\">\n",
       "  <thead>\n",
       "    <tr style=\"text-align: right;\">\n",
       "      <th></th>\n",
       "      <th>Feature</th>\n",
       "      <th>Percent missing</th>\n",
       "    </tr>\n",
       "  </thead>\n",
       "  <tbody>\n",
       "    <tr>\n",
       "      <th>0</th>\n",
       "      <td>distance</td>\n",
       "      <td>54.23</td>\n",
       "    </tr>\n",
       "    <tr>\n",
       "      <th>1</th>\n",
       "      <td>speed</td>\n",
       "      <td>54.23</td>\n",
       "    </tr>\n",
       "    <tr>\n",
       "      <th>2</th>\n",
       "      <td>kiloCalories</td>\n",
       "      <td>0.35</td>\n",
       "    </tr>\n",
       "    <tr>\n",
       "      <th>3</th>\n",
       "      <td>heartRate</td>\n",
       "      <td>0.35</td>\n",
       "    </tr>\n",
       "    <tr>\n",
       "      <th>4</th>\n",
       "      <td>heartRateAvg2</td>\n",
       "      <td>0.35</td>\n",
       "    </tr>\n",
       "    <tr>\n",
       "      <th>5</th>\n",
       "      <td>heartRateStd</td>\n",
       "      <td>0.35</td>\n",
       "    </tr>\n",
       "    <tr>\n",
       "      <th>6</th>\n",
       "      <td>heartRateQ1</td>\n",
       "      <td>0.35</td>\n",
       "    </tr>\n",
       "    <tr>\n",
       "      <th>7</th>\n",
       "      <td>heartRateQ25</td>\n",
       "      <td>0.35</td>\n",
       "    </tr>\n",
       "    <tr>\n",
       "      <th>8</th>\n",
       "      <td>heartRateQ50</td>\n",
       "      <td>0.35</td>\n",
       "    </tr>\n",
       "    <tr>\n",
       "      <th>9</th>\n",
       "      <td>heartRateQ75</td>\n",
       "      <td>0.35</td>\n",
       "    </tr>\n",
       "    <tr>\n",
       "      <th>10</th>\n",
       "      <td>heartRateQ99</td>\n",
       "      <td>0.35</td>\n",
       "    </tr>\n",
       "  </tbody>\n",
       "</table>\n",
       "</div>"
      ],
      "text/plain": [
       "          Feature  Percent missing\n",
       "0        distance            54.23\n",
       "1           speed            54.23\n",
       "2    kiloCalories             0.35\n",
       "3       heartRate             0.35\n",
       "4   heartRateAvg2             0.35\n",
       "5    heartRateStd             0.35\n",
       "6     heartRateQ1             0.35\n",
       "7    heartRateQ25             0.35\n",
       "8    heartRateQ50             0.35\n",
       "9    heartRateQ75             0.35\n",
       "10   heartRateQ99             0.35"
      ]
     },
     "execution_count": 16,
     "metadata": {},
     "output_type": "execute_result"
    }
   ],
   "source": [
    "missing = (df.isna().sum() / df.shape[0] * 100)\n",
    "missing.name = 'Percent missing'\n",
    "missing = missing.to_frame()\n",
    "missing = missing.sort_values('Percent missing', ascending=False)\n",
    "missing = missing[missing['Percent missing'] > 0]\n",
    "missing = missing.reset_index()\n",
    "missing = missing.rename(columns={'index': 'Feature'})\n",
    "np.round(missing, 2)"
   ]
  },
  {
   "cell_type": "markdown",
   "metadata": {},
   "source": [
    "# Transforms"
   ]
  },
  {
   "cell_type": "markdown",
   "metadata": {},
   "source": [
    "We apply certain transforms to make the data easier to work with. First we convert strings to datetimes."
   ]
  },
  {
   "cell_type": "code",
   "execution_count": 17,
   "metadata": {},
   "outputs": [],
   "source": [
    "df['startTime'] = pd.to_datetime(df['startTime'])\n",
    "df['stopTime'] = pd.to_datetime(df['stopTime'])"
   ]
  },
  {
   "cell_type": "markdown",
   "metadata": {},
   "source": [
    "We calculate the total duration of each individual workout in minutes."
   ]
  },
  {
   "cell_type": "code",
   "execution_count": 18,
   "metadata": {
    "scrolled": false
   },
   "outputs": [],
   "source": [
    "df['totalTime'] = (df['stopTime'] - df['startTime'])\n",
    "df['totalTime'] = df['totalTime'].apply(lambda x: round(x.seconds / 60, 2))\n",
    "df.drop('duration', axis=1, inplace=True)"
   ]
  },
  {
   "cell_type": "markdown",
   "metadata": {},
   "source": [
    "We extract maximum, average and minimum heart rate values from the `heartRate` column."
   ]
  },
  {
   "cell_type": "code",
   "execution_count": 19,
   "metadata": {},
   "outputs": [],
   "source": [
    "df['heartRateMax'] = df['heartRate'].apply(lambda x: x['max'] if isinstance(x, dict) else np.nan)\n",
    "df['heartRateAvg'] = df['heartRate'].apply(lambda x: x['avg'] if isinstance(x, dict) else np.nan)\n",
    "df['heartRateMin'] = df['heartRate'].apply(lambda x: x['min'] if isinstance(x, dict) else np.nan)\n",
    "df.drop('heartRate', axis=1, inplace=True)"
   ]
  },
  {
   "cell_type": "markdown",
   "metadata": {},
   "source": [
    "We assume that if there is no `distance` then the workout was indoors:"
   ]
  },
  {
   "cell_type": "code",
   "execution_count": 20,
   "metadata": {},
   "outputs": [],
   "source": [
    "df['isInside'] = df['distance'].apply(lambda x: True if pd.isnull(x) else False)\n",
    "df = df.drop(['distance', 'speed'], axis=1)"
   ]
  },
  {
   "cell_type": "markdown",
   "metadata": {},
   "source": [
    "We are going to map sports to different `activityType`'s. We will map strength training to `1` and cardiovascular work to `0`."
   ]
  },
  {
   "cell_type": "code",
   "execution_count": 21,
   "metadata": {},
   "outputs": [],
   "source": [
    "def sport_to_activity_type(x):\n",
    "    if 'strength' in x.lower():\n",
    "        return True\n",
    "    else:\n",
    "        return False"
   ]
  },
  {
   "cell_type": "code",
   "execution_count": 22,
   "metadata": {},
   "outputs": [],
   "source": [
    "df['isStrength'] = df['sport'].apply(sport_to_activity_type)"
   ]
  },
  {
   "cell_type": "code",
   "execution_count": 23,
   "metadata": {},
   "outputs": [],
   "source": [
    "df['sport'] = df['sport'].apply(lambda x: x.lower())\n",
    "df['sport'] = pd.Categorical(df['sport'])"
   ]
  },
  {
   "cell_type": "markdown",
   "metadata": {},
   "source": [
    "We extract a list of unique `sport` values:"
   ]
  },
  {
   "cell_type": "code",
   "execution_count": 24,
   "metadata": {},
   "outputs": [],
   "source": [
    "sports = sorted(list(df['sport'].unique()))"
   ]
  },
  {
   "cell_type": "markdown",
   "metadata": {},
   "source": [
    "We reorder the alphabetically"
   ]
  },
  {
   "cell_type": "code",
   "execution_count": 25,
   "metadata": {},
   "outputs": [],
   "source": [
    "order = sorted(df.columns.to_list())"
   ]
  },
  {
   "cell_type": "code",
   "execution_count": 26,
   "metadata": {},
   "outputs": [],
   "source": [
    "df = df[order]"
   ]
  },
  {
   "cell_type": "markdown",
   "metadata": {},
   "source": [
    "We check if there are any more `NaN`'s in the data."
   ]
  },
  {
   "cell_type": "code",
   "execution_count": 27,
   "metadata": {},
   "outputs": [
    {
     "data": {
      "text/plain": [
       "heartRateAvg      1\n",
       "heartRateAvg2     1\n",
       "heartRateMax      1\n",
       "heartRateMin      1\n",
       "heartRateQ1       1\n",
       "heartRateQ25      1\n",
       "heartRateQ50      1\n",
       "heartRateQ75      1\n",
       "heartRateQ99      1\n",
       "heartRateStd      1\n",
       "isInside          0\n",
       "isStrength        0\n",
       "kiloCalories      1\n",
       "sport             0\n",
       "startTime         0\n",
       "stopTime          0\n",
       "timezoneOffset    0\n",
       "totalTime         0\n",
       "dtype: int64"
      ]
     },
     "execution_count": 27,
     "metadata": {},
     "output_type": "execute_result"
    }
   ],
   "source": [
    "df.isna().sum()"
   ]
  },
  {
   "cell_type": "markdown",
   "metadata": {},
   "source": [
    "There is one row with `NaN`'s. This might due to my watch having little battery left to make the measurements."
   ]
  },
  {
   "cell_type": "code",
   "execution_count": 28,
   "metadata": {},
   "outputs": [],
   "source": [
    "df = df.dropna()"
   ]
  },
  {
   "cell_type": "markdown",
   "metadata": {},
   "source": [
    "We proceed to sort the data with the latest workouts at the top of the dataframe."
   ]
  },
  {
   "cell_type": "code",
   "execution_count": 29,
   "metadata": {},
   "outputs": [],
   "source": [
    "sort_cols = ['startTime','startTime']\n",
    "df = df.sort_values(sort_cols, ascending=False)\n",
    "df = df.reset_index(drop=True)"
   ]
  },
  {
   "cell_type": "markdown",
   "metadata": {},
   "source": [
    "We verify that the datatypes are correct."
   ]
  },
  {
   "cell_type": "code",
   "execution_count": 30,
   "metadata": {},
   "outputs": [
    {
     "name": "stdout",
     "output_type": "stream",
     "text": [
      "<class 'pandas.core.frame.DataFrame'>\n",
      "RangeIndex: 283 entries, 0 to 282\n",
      "Data columns (total 18 columns):\n",
      " #   Column          Non-Null Count  Dtype         \n",
      "---  ------          --------------  -----         \n",
      " 0   heartRateAvg    283 non-null    float64       \n",
      " 1   heartRateAvg2   283 non-null    float64       \n",
      " 2   heartRateMax    283 non-null    float64       \n",
      " 3   heartRateMin    283 non-null    float64       \n",
      " 4   heartRateQ1     283 non-null    float64       \n",
      " 5   heartRateQ25    283 non-null    float64       \n",
      " 6   heartRateQ50    283 non-null    float64       \n",
      " 7   heartRateQ75    283 non-null    float64       \n",
      " 8   heartRateQ99    283 non-null    float64       \n",
      " 9   heartRateStd    283 non-null    float64       \n",
      " 10  isInside        283 non-null    bool          \n",
      " 11  isStrength      283 non-null    bool          \n",
      " 12  kiloCalories    283 non-null    float64       \n",
      " 13  sport           283 non-null    category      \n",
      " 14  startTime       283 non-null    datetime64[ns]\n",
      " 15  stopTime        283 non-null    datetime64[ns]\n",
      " 16  timezoneOffset  283 non-null    int64         \n",
      " 17  totalTime       283 non-null    float64       \n",
      "dtypes: bool(2), category(1), datetime64[ns](2), float64(12), int64(1)\n",
      "memory usage: 34.3 KB\n"
     ]
    }
   ],
   "source": [
    "df.info()"
   ]
  },
  {
   "cell_type": "code",
   "execution_count": 31,
   "metadata": {},
   "outputs": [
    {
     "data": {
      "text/html": [
       "<div>\n",
       "<style scoped>\n",
       "    .dataframe tbody tr th:only-of-type {\n",
       "        vertical-align: middle;\n",
       "    }\n",
       "\n",
       "    .dataframe tbody tr th {\n",
       "        vertical-align: top;\n",
       "    }\n",
       "\n",
       "    .dataframe thead th {\n",
       "        text-align: right;\n",
       "    }\n",
       "</style>\n",
       "<table border=\"1\" class=\"dataframe\">\n",
       "  <thead>\n",
       "    <tr style=\"text-align: right;\">\n",
       "      <th></th>\n",
       "      <th>heartRateAvg</th>\n",
       "      <th>heartRateAvg2</th>\n",
       "      <th>heartRateMax</th>\n",
       "      <th>heartRateMin</th>\n",
       "      <th>heartRateQ1</th>\n",
       "      <th>heartRateQ25</th>\n",
       "      <th>heartRateQ50</th>\n",
       "      <th>heartRateQ75</th>\n",
       "      <th>heartRateQ99</th>\n",
       "      <th>heartRateStd</th>\n",
       "      <th>isInside</th>\n",
       "      <th>isStrength</th>\n",
       "      <th>kiloCalories</th>\n",
       "      <th>sport</th>\n",
       "      <th>startTime</th>\n",
       "      <th>stopTime</th>\n",
       "      <th>timezoneOffset</th>\n",
       "      <th>totalTime</th>\n",
       "    </tr>\n",
       "  </thead>\n",
       "  <tbody>\n",
       "    <tr>\n",
       "      <th>0</th>\n",
       "      <td>102.00</td>\n",
       "      <td>102.03</td>\n",
       "      <td>116.00</td>\n",
       "      <td>69.00</td>\n",
       "      <td>73.00</td>\n",
       "      <td>96.00</td>\n",
       "      <td>103.00</td>\n",
       "      <td>109.00</td>\n",
       "      <td>115.00</td>\n",
       "      <td>9.02</td>\n",
       "      <td>False</td>\n",
       "      <td>False</td>\n",
       "      <td>245.00</td>\n",
       "      <td>walking</td>\n",
       "      <td>2020-03-29 21:50:21</td>\n",
       "      <td>2020-03-29 22:23:41.750</td>\n",
       "      <td>120</td>\n",
       "      <td>33.33</td>\n",
       "    </tr>\n",
       "    <tr>\n",
       "      <th>1</th>\n",
       "      <td>104.00</td>\n",
       "      <td>104.14</td>\n",
       "      <td>132.00</td>\n",
       "      <td>70.00</td>\n",
       "      <td>73.81</td>\n",
       "      <td>86.00</td>\n",
       "      <td>110.50</td>\n",
       "      <td>118.00</td>\n",
       "      <td>131.00</td>\n",
       "      <td>16.67</td>\n",
       "      <td>False</td>\n",
       "      <td>False</td>\n",
       "      <td>401.00</td>\n",
       "      <td>walking</td>\n",
       "      <td>2020-03-27 20:38:32</td>\n",
       "      <td>2020-03-27 21:25:03.750</td>\n",
       "      <td>60</td>\n",
       "      <td>46.52</td>\n",
       "    </tr>\n",
       "    <tr>\n",
       "      <th>2</th>\n",
       "      <td>103.00</td>\n",
       "      <td>103.10</td>\n",
       "      <td>122.00</td>\n",
       "      <td>87.00</td>\n",
       "      <td>91.00</td>\n",
       "      <td>96.00</td>\n",
       "      <td>101.00</td>\n",
       "      <td>110.00</td>\n",
       "      <td>120.00</td>\n",
       "      <td>7.94</td>\n",
       "      <td>False</td>\n",
       "      <td>False</td>\n",
       "      <td>336.00</td>\n",
       "      <td>walking</td>\n",
       "      <td>2020-03-26 21:07:46</td>\n",
       "      <td>2020-03-26 21:52:55.625</td>\n",
       "      <td>60</td>\n",
       "      <td>45.15</td>\n",
       "    </tr>\n",
       "    <tr>\n",
       "      <th>3</th>\n",
       "      <td>108.00</td>\n",
       "      <td>107.97</td>\n",
       "      <td>125.00</td>\n",
       "      <td>87.00</td>\n",
       "      <td>91.00</td>\n",
       "      <td>103.00</td>\n",
       "      <td>108.00</td>\n",
       "      <td>114.00</td>\n",
       "      <td>124.00</td>\n",
       "      <td>7.46</td>\n",
       "      <td>False</td>\n",
       "      <td>False</td>\n",
       "      <td>380.00</td>\n",
       "      <td>walking</td>\n",
       "      <td>2020-03-25 19:22:38</td>\n",
       "      <td>2020-03-25 20:10:17.875</td>\n",
       "      <td>60</td>\n",
       "      <td>47.65</td>\n",
       "    </tr>\n",
       "    <tr>\n",
       "      <th>4</th>\n",
       "      <td>117.00</td>\n",
       "      <td>117.08</td>\n",
       "      <td>141.00</td>\n",
       "      <td>90.00</td>\n",
       "      <td>92.00</td>\n",
       "      <td>103.00</td>\n",
       "      <td>120.00</td>\n",
       "      <td>128.00</td>\n",
       "      <td>141.00</td>\n",
       "      <td>13.76</td>\n",
       "      <td>False</td>\n",
       "      <td>False</td>\n",
       "      <td>358.00</td>\n",
       "      <td>walking</td>\n",
       "      <td>2020-03-24 13:09:06</td>\n",
       "      <td>2020-03-24 13:48:46.750</td>\n",
       "      <td>60</td>\n",
       "      <td>39.67</td>\n",
       "    </tr>\n",
       "  </tbody>\n",
       "</table>\n",
       "</div>"
      ],
      "text/plain": [
       "   heartRateAvg  heartRateAvg2  heartRateMax  heartRateMin  heartRateQ1  \\\n",
       "0        102.00         102.03        116.00         69.00        73.00   \n",
       "1        104.00         104.14        132.00         70.00        73.81   \n",
       "2        103.00         103.10        122.00         87.00        91.00   \n",
       "3        108.00         107.97        125.00         87.00        91.00   \n",
       "4        117.00         117.08        141.00         90.00        92.00   \n",
       "\n",
       "   heartRateQ25  heartRateQ50  heartRateQ75  heartRateQ99  heartRateStd  \\\n",
       "0         96.00        103.00        109.00        115.00          9.02   \n",
       "1         86.00        110.50        118.00        131.00         16.67   \n",
       "2         96.00        101.00        110.00        120.00          7.94   \n",
       "3        103.00        108.00        114.00        124.00          7.46   \n",
       "4        103.00        120.00        128.00        141.00         13.76   \n",
       "\n",
       "   isInside  isStrength  kiloCalories    sport           startTime  \\\n",
       "0     False       False        245.00  walking 2020-03-29 21:50:21   \n",
       "1     False       False        401.00  walking 2020-03-27 20:38:32   \n",
       "2     False       False        336.00  walking 2020-03-26 21:07:46   \n",
       "3     False       False        380.00  walking 2020-03-25 19:22:38   \n",
       "4     False       False        358.00  walking 2020-03-24 13:09:06   \n",
       "\n",
       "                 stopTime  timezoneOffset  totalTime  \n",
       "0 2020-03-29 22:23:41.750             120      33.33  \n",
       "1 2020-03-27 21:25:03.750              60      46.52  \n",
       "2 2020-03-26 21:52:55.625              60      45.15  \n",
       "3 2020-03-25 20:10:17.875              60      47.65  \n",
       "4 2020-03-24 13:48:46.750              60      39.67  "
      ]
     },
     "execution_count": 31,
     "metadata": {},
     "output_type": "execute_result"
    }
   ],
   "source": [
    "df.head()"
   ]
  },
  {
   "cell_type": "markdown",
   "metadata": {},
   "source": [
    "# Data analysis"
   ]
  },
  {
   "cell_type": "markdown",
   "metadata": {},
   "source": [
    "Given that we have produced a clean dataset we can proceed to analyse a few aspects."
   ]
  },
  {
   "cell_type": "markdown",
   "metadata": {},
   "source": [
    "## Time span"
   ]
  },
  {
   "cell_type": "markdown",
   "metadata": {},
   "source": [
    "The date of the first workout is:"
   ]
  },
  {
   "cell_type": "code",
   "execution_count": 32,
   "metadata": {},
   "outputs": [
    {
     "data": {
      "text/plain": [
       "'2019-02-20 20:46:35'"
      ]
     },
     "execution_count": 32,
     "metadata": {},
     "output_type": "execute_result"
    }
   ],
   "source": [
    "str(df['startTime'].min())"
   ]
  },
  {
   "cell_type": "markdown",
   "metadata": {},
   "source": [
    "The date of the last workout is:"
   ]
  },
  {
   "cell_type": "code",
   "execution_count": 33,
   "metadata": {},
   "outputs": [
    {
     "data": {
      "text/plain": [
       "'2020-03-29 21:50:21'"
      ]
     },
     "execution_count": 33,
     "metadata": {},
     "output_type": "execute_result"
    }
   ],
   "source": [
    "str(df['startTime'].max())"
   ]
  },
  {
   "cell_type": "markdown",
   "metadata": {},
   "source": [
    "Workouts measured:"
   ]
  },
  {
   "cell_type": "code",
   "execution_count": 34,
   "metadata": {},
   "outputs": [
    {
     "data": {
      "text/plain": [
       "283"
      ]
     },
     "execution_count": 34,
     "metadata": {},
     "output_type": "execute_result"
    }
   ],
   "source": [
    "len(df)"
   ]
  },
  {
   "cell_type": "markdown",
   "metadata": {},
   "source": [
    "## Descriptive statistics"
   ]
  },
  {
   "cell_type": "code",
   "execution_count": 35,
   "metadata": {},
   "outputs": [
    {
     "data": {
      "text/html": [
       "<div>\n",
       "<style scoped>\n",
       "    .dataframe tbody tr th:only-of-type {\n",
       "        vertical-align: middle;\n",
       "    }\n",
       "\n",
       "    .dataframe tbody tr th {\n",
       "        vertical-align: top;\n",
       "    }\n",
       "\n",
       "    .dataframe thead th {\n",
       "        text-align: right;\n",
       "    }\n",
       "</style>\n",
       "<table border=\"1\" class=\"dataframe\">\n",
       "  <thead>\n",
       "    <tr style=\"text-align: right;\">\n",
       "      <th></th>\n",
       "      <th>heartRateAvg</th>\n",
       "      <th>heartRateAvg2</th>\n",
       "      <th>heartRateMax</th>\n",
       "      <th>heartRateMin</th>\n",
       "      <th>heartRateQ1</th>\n",
       "      <th>heartRateQ25</th>\n",
       "      <th>heartRateQ50</th>\n",
       "      <th>heartRateQ75</th>\n",
       "      <th>heartRateQ99</th>\n",
       "      <th>heartRateStd</th>\n",
       "      <th>kiloCalories</th>\n",
       "      <th>totalTime</th>\n",
       "    </tr>\n",
       "  </thead>\n",
       "  <tbody>\n",
       "    <tr>\n",
       "      <th>count</th>\n",
       "      <td>283.00</td>\n",
       "      <td>283.00</td>\n",
       "      <td>283.00</td>\n",
       "      <td>283.00</td>\n",
       "      <td>283.00</td>\n",
       "      <td>283.00</td>\n",
       "      <td>283.00</td>\n",
       "      <td>283.00</td>\n",
       "      <td>283.00</td>\n",
       "      <td>283.00</td>\n",
       "      <td>283.00</td>\n",
       "      <td>283.00</td>\n",
       "    </tr>\n",
       "    <tr>\n",
       "      <th>mean</th>\n",
       "      <td>105.19</td>\n",
       "      <td>105.24</td>\n",
       "      <td>128.34</td>\n",
       "      <td>76.74</td>\n",
       "      <td>80.61</td>\n",
       "      <td>98.24</td>\n",
       "      <td>105.55</td>\n",
       "      <td>112.64</td>\n",
       "      <td>125.84</td>\n",
       "      <td>10.52</td>\n",
       "      <td>315.98</td>\n",
       "      <td>42.83</td>\n",
       "    </tr>\n",
       "    <tr>\n",
       "      <th>std</th>\n",
       "      <td>11.87</td>\n",
       "      <td>11.86</td>\n",
       "      <td>18.25</td>\n",
       "      <td>8.99</td>\n",
       "      <td>8.40</td>\n",
       "      <td>10.69</td>\n",
       "      <td>12.26</td>\n",
       "      <td>14.36</td>\n",
       "      <td>18.06</td>\n",
       "      <td>4.46</td>\n",
       "      <td>218.75</td>\n",
       "      <td>29.65</td>\n",
       "    </tr>\n",
       "    <tr>\n",
       "      <th>min</th>\n",
       "      <td>82.00</td>\n",
       "      <td>81.98</td>\n",
       "      <td>93.00</td>\n",
       "      <td>53.00</td>\n",
       "      <td>54.00</td>\n",
       "      <td>77.00</td>\n",
       "      <td>82.00</td>\n",
       "      <td>87.00</td>\n",
       "      <td>92.00</td>\n",
       "      <td>2.96</td>\n",
       "      <td>29.00</td>\n",
       "      <td>5.00</td>\n",
       "    </tr>\n",
       "    <tr>\n",
       "      <th>25%</th>\n",
       "      <td>96.00</td>\n",
       "      <td>96.42</td>\n",
       "      <td>115.00</td>\n",
       "      <td>70.00</td>\n",
       "      <td>75.00</td>\n",
       "      <td>91.00</td>\n",
       "      <td>97.00</td>\n",
       "      <td>102.00</td>\n",
       "      <td>113.00</td>\n",
       "      <td>7.58</td>\n",
       "      <td>121.50</td>\n",
       "      <td>15.92</td>\n",
       "    </tr>\n",
       "    <tr>\n",
       "      <th>50%</th>\n",
       "      <td>103.00</td>\n",
       "      <td>103.42</td>\n",
       "      <td>125.00</td>\n",
       "      <td>77.00</td>\n",
       "      <td>80.00</td>\n",
       "      <td>97.00</td>\n",
       "      <td>104.00</td>\n",
       "      <td>111.00</td>\n",
       "      <td>123.00</td>\n",
       "      <td>10.00</td>\n",
       "      <td>277.00</td>\n",
       "      <td>36.45</td>\n",
       "    </tr>\n",
       "    <tr>\n",
       "      <th>75%</th>\n",
       "      <td>111.00</td>\n",
       "      <td>111.26</td>\n",
       "      <td>138.50</td>\n",
       "      <td>83.00</td>\n",
       "      <td>86.00</td>\n",
       "      <td>103.00</td>\n",
       "      <td>112.00</td>\n",
       "      <td>119.00</td>\n",
       "      <td>135.00</td>\n",
       "      <td>12.25</td>\n",
       "      <td>441.50</td>\n",
       "      <td>65.29</td>\n",
       "    </tr>\n",
       "    <tr>\n",
       "      <th>max</th>\n",
       "      <td>148.00</td>\n",
       "      <td>148.35</td>\n",
       "      <td>178.00</td>\n",
       "      <td>99.00</td>\n",
       "      <td>107.00</td>\n",
       "      <td>146.00</td>\n",
       "      <td>151.00</td>\n",
       "      <td>160.00</td>\n",
       "      <td>177.00</td>\n",
       "      <td>27.10</td>\n",
       "      <td>1,067.00</td>\n",
       "      <td>172.73</td>\n",
       "    </tr>\n",
       "  </tbody>\n",
       "</table>\n",
       "</div>"
      ],
      "text/plain": [
       "       heartRateAvg  heartRateAvg2  heartRateMax  heartRateMin  heartRateQ1  \\\n",
       "count        283.00         283.00        283.00        283.00       283.00   \n",
       "mean         105.19         105.24        128.34         76.74        80.61   \n",
       "std           11.87          11.86         18.25          8.99         8.40   \n",
       "min           82.00          81.98         93.00         53.00        54.00   \n",
       "25%           96.00          96.42        115.00         70.00        75.00   \n",
       "50%          103.00         103.42        125.00         77.00        80.00   \n",
       "75%          111.00         111.26        138.50         83.00        86.00   \n",
       "max          148.00         148.35        178.00         99.00       107.00   \n",
       "\n",
       "       heartRateQ25  heartRateQ50  heartRateQ75  heartRateQ99  heartRateStd  \\\n",
       "count        283.00        283.00        283.00        283.00        283.00   \n",
       "mean          98.24        105.55        112.64        125.84         10.52   \n",
       "std           10.69         12.26         14.36         18.06          4.46   \n",
       "min           77.00         82.00         87.00         92.00          2.96   \n",
       "25%           91.00         97.00        102.00        113.00          7.58   \n",
       "50%           97.00        104.00        111.00        123.00         10.00   \n",
       "75%          103.00        112.00        119.00        135.00         12.25   \n",
       "max          146.00        151.00        160.00        177.00         27.10   \n",
       "\n",
       "       kiloCalories  totalTime  \n",
       "count        283.00     283.00  \n",
       "mean         315.98      42.83  \n",
       "std          218.75      29.65  \n",
       "min           29.00       5.00  \n",
       "25%          121.50      15.92  \n",
       "50%          277.00      36.45  \n",
       "75%          441.50      65.29  \n",
       "max        1,067.00     172.73  "
      ]
     },
     "execution_count": 35,
     "metadata": {},
     "output_type": "execute_result"
    }
   ],
   "source": [
    "df.drop('timezoneOffset', axis=1).describe()"
   ]
  },
  {
   "cell_type": "markdown",
   "metadata": {},
   "source": [
    "## Kilocalories burned in total"
   ]
  },
  {
   "cell_type": "markdown",
   "metadata": {},
   "source": [
    "First we count the total `kiloCalories` I burned during the period in question."
   ]
  },
  {
   "cell_type": "code",
   "execution_count": 36,
   "metadata": {},
   "outputs": [
    {
     "name": "stdout",
     "output_type": "stream",
     "text": [
      "89421.0\n"
     ]
    }
   ],
   "source": [
    "total_calories = df['kiloCalories'].sum()\n",
    "print(total_calories)"
   ]
  },
  {
   "cell_type": "markdown",
   "metadata": {},
   "source": [
    "We convert this number to kilograms of body fat.\n",
    "According to [this article](https://www.livestrong.com/article/304137-how-many-calories-per-kilogram-of-weight/) it equates to"
   ]
  },
  {
   "cell_type": "code",
   "execution_count": 37,
   "metadata": {},
   "outputs": [],
   "source": [
    "def kcal_to_kg(x):\n",
    "    return round(x / 7700, 2)"
   ]
  },
  {
   "cell_type": "code",
   "execution_count": 38,
   "metadata": {},
   "outputs": [
    {
     "data": {
      "text/plain": [
       "11.61"
      ]
     },
     "execution_count": 38,
     "metadata": {},
     "output_type": "execute_result"
    }
   ],
   "source": [
    "kcal_to_kg(total_calories)"
   ]
  },
  {
   "cell_type": "markdown",
   "metadata": {},
   "source": [
    "## Kilocalories burned by sport"
   ]
  },
  {
   "cell_type": "code",
   "execution_count": 39,
   "metadata": {},
   "outputs": [
    {
     "data": {
      "text/html": [
       "<style  type=\"text/css\" >\n",
       "    #T_c45e04f0_04e2_11eb_b4d2_a101a0f8ffa2row0_col2 {\n",
       "            background-color:  #004529;\n",
       "            color:  #f1f1f1;\n",
       "        }    #T_c45e04f0_04e2_11eb_b4d2_a101a0f8ffa2row1_col2 {\n",
       "            background-color:  #00522e;\n",
       "            color:  #f1f1f1;\n",
       "        }    #T_c45e04f0_04e2_11eb_b4d2_a101a0f8ffa2row2_col2 {\n",
       "            background-color:  #51b365;\n",
       "            color:  #000000;\n",
       "        }    #T_c45e04f0_04e2_11eb_b4d2_a101a0f8ffa2row3_col2 {\n",
       "            background-color:  #f9fdc4;\n",
       "            color:  #000000;\n",
       "        }    #T_c45e04f0_04e2_11eb_b4d2_a101a0f8ffa2row4_col2 {\n",
       "            background-color:  #ffffe5;\n",
       "            color:  #000000;\n",
       "        }</style><table id=\"T_c45e04f0_04e2_11eb_b4d2_a101a0f8ffa2\" ><thead>    <tr>        <th class=\"blank level0\" ></th>        <th class=\"col_heading level0 col0\" >Sport</th>        <th class=\"col_heading level0 col1\" >Total kilocalories</th>        <th class=\"col_heading level0 col2\" >Total kilograms</th>    </tr></thead><tbody>\n",
       "                <tr>\n",
       "                        <th id=\"T_c45e04f0_04e2_11eb_b4d2_a101a0f8ffa2level0_row0\" class=\"row_heading level0 row0\" >4</th>\n",
       "                        <td id=\"T_c45e04f0_04e2_11eb_b4d2_a101a0f8ffa2row0_col0\" class=\"data row0 col0\" >walking</td>\n",
       "                        <td id=\"T_c45e04f0_04e2_11eb_b4d2_a101a0f8ffa2row0_col1\" class=\"data row0 col1\" >33080</td>\n",
       "                        <td id=\"T_c45e04f0_04e2_11eb_b4d2_a101a0f8ffa2row0_col2\" class=\"data row0 col2\" >4.30</td>\n",
       "            </tr>\n",
       "            <tr>\n",
       "                        <th id=\"T_c45e04f0_04e2_11eb_b4d2_a101a0f8ffa2level0_row1\" class=\"row_heading level0 row1\" >2</th>\n",
       "                        <td id=\"T_c45e04f0_04e2_11eb_b4d2_a101a0f8ffa2row1_col0\" class=\"data row1 col0\" >strength_training</td>\n",
       "                        <td id=\"T_c45e04f0_04e2_11eb_b4d2_a101a0f8ffa2row1_col1\" class=\"data row1 col1\" >31547</td>\n",
       "                        <td id=\"T_c45e04f0_04e2_11eb_b4d2_a101a0f8ffa2row1_col2\" class=\"data row1 col2\" >4.10</td>\n",
       "            </tr>\n",
       "            <tr>\n",
       "                        <th id=\"T_c45e04f0_04e2_11eb_b4d2_a101a0f8ffa2level0_row2\" class=\"row_heading level0 row2\" >3</th>\n",
       "                        <td id=\"T_c45e04f0_04e2_11eb_b4d2_a101a0f8ffa2row2_col0\" class=\"data row2 col0\" >treadmill_running</td>\n",
       "                        <td id=\"T_c45e04f0_04e2_11eb_b4d2_a101a0f8ffa2row2_col1\" class=\"data row2 col1\" >19825</td>\n",
       "                        <td id=\"T_c45e04f0_04e2_11eb_b4d2_a101a0f8ffa2row2_col2\" class=\"data row2 col2\" >2.57</td>\n",
       "            </tr>\n",
       "            <tr>\n",
       "                        <th id=\"T_c45e04f0_04e2_11eb_b4d2_a101a0f8ffa2level0_row3\" class=\"row_heading level0 row3\" >0</th>\n",
       "                        <td id=\"T_c45e04f0_04e2_11eb_b4d2_a101a0f8ffa2row3_col0\" class=\"data row3 col0\" >cycling</td>\n",
       "                        <td id=\"T_c45e04f0_04e2_11eb_b4d2_a101a0f8ffa2row3_col1\" class=\"data row3 col1\" >4029</td>\n",
       "                        <td id=\"T_c45e04f0_04e2_11eb_b4d2_a101a0f8ffa2row3_col2\" class=\"data row3 col2\" >0.52</td>\n",
       "            </tr>\n",
       "            <tr>\n",
       "                        <th id=\"T_c45e04f0_04e2_11eb_b4d2_a101a0f8ffa2level0_row4\" class=\"row_heading level0 row4\" >1</th>\n",
       "                        <td id=\"T_c45e04f0_04e2_11eb_b4d2_a101a0f8ffa2row4_col0\" class=\"data row4 col0\" >running</td>\n",
       "                        <td id=\"T_c45e04f0_04e2_11eb_b4d2_a101a0f8ffa2row4_col1\" class=\"data row4 col1\" >940</td>\n",
       "                        <td id=\"T_c45e04f0_04e2_11eb_b4d2_a101a0f8ffa2row4_col2\" class=\"data row4 col2\" >0.12</td>\n",
       "            </tr>\n",
       "    </tbody></table>"
      ],
      "text/plain": [
       "<pandas.io.formats.style.Styler at 0x7f1cea8d0ee0>"
      ]
     },
     "execution_count": 39,
     "metadata": {},
     "output_type": "execute_result"
    }
   ],
   "source": [
    "by_sport = df[['kiloCalories', 'sport']].groupby('sport', as_index=False)\n",
    "by_sport = by_sport.sum()\n",
    "by_sport['sport'] = by_sport['sport'].apply(lambda x: x.lower())\n",
    "by_sport['kiloCalories'] = by_sport['kiloCalories'].astype(int)\n",
    "by_sport = by_sport.rename(columns={'kiloCalories': 'Total kilocalories', 'sport': 'Sport'})\n",
    "by_sport = by_sport.sort_values('Total kilocalories', ascending=False)\n",
    "by_sport['Total kilograms'] = by_sport['Total kilocalories'].apply(kcal_to_kg)\n",
    "\n",
    "by_sport = by_sport.style.background_gradient(cmap='YlGn', subset='Total kilograms')\n",
    "by_sport = by_sport.set_precision(2)\n",
    "\n",
    "by_sport"
   ]
  },
  {
   "cell_type": "markdown",
   "metadata": {},
   "source": [
    "## Kilocalories burned over time"
   ]
  },
  {
   "cell_type": "markdown",
   "metadata": {},
   "source": [
    "Next we produce a plot of `kiloCalories` burned over a two month period in 2019. First we extract the relevant data."
   ]
  },
  {
   "cell_type": "code",
   "execution_count": 40,
   "metadata": {},
   "outputs": [],
   "source": [
    "start = pd.to_datetime('2019-04-1') \n",
    "stop = pd.to_datetime('2019-06-1')\n",
    "\n",
    "daily = df[['startTime', 'kiloCalories']]\n",
    "mask = (daily['startTime'] >= start) & (daily['startTime'] < stop)\n",
    "daily = daily[mask]\n",
    "daily['startTime'] = daily['startTime'].dt.date\n",
    "daily = daily.groupby('startTime', as_index=False)\n",
    "daily = daily.sum()\n",
    "daily = daily.sort_values('startTime', ascending=False)\n",
    "daily['startTime'] = pd.to_datetime(daily['startTime'])\n",
    "daily = daily.reset_index(drop=True)"
   ]
  },
  {
   "cell_type": "markdown",
   "metadata": {},
   "source": [
    "We create a dataframe with all the dates to perform a left join and fill the `NaN`'s with zeroes."
   ]
  },
  {
   "cell_type": "code",
   "execution_count": 41,
   "metadata": {},
   "outputs": [],
   "source": [
    "dates = pd.date_range(start, stop)\n",
    "dates = dates.to_frame()\n",
    "dates = dates.reset_index(drop=True)\n",
    "dates.columns = ['startTime']"
   ]
  },
  {
   "cell_type": "code",
   "execution_count": 42,
   "metadata": {},
   "outputs": [],
   "source": [
    "daily = pd.merge(dates, daily, on='startTime', how='left')\n",
    "daily = daily.fillna(0)"
   ]
  },
  {
   "cell_type": "markdown",
   "metadata": {},
   "source": [
    "Finally we produce the figure:"
   ]
  },
  {
   "cell_type": "code",
   "execution_count": 43,
   "metadata": {},
   "outputs": [
    {
     "data": {
      "image/png": "[encoded data removed]",
      "text/plain": [
       "<Figure size 576x288 with 1 Axes>"
      ]
     },
     "metadata": {
      "needs_background": "light"
     },
     "output_type": "display_data"
    }
   ],
   "source": [
    "width = 800\n",
    "height = 400\n",
    "dpi = 100\n",
    "\n",
    "plt.figure(figsize=(width/dpi, height/dpi))\n",
    "plt.plot(daily['startTime'], daily['kiloCalories'])\n",
    "\n",
    "plt.fill_between(x=daily['startTime'], \n",
    "                 y1=0, \n",
    "                 y2=daily['kiloCalories'], \n",
    "                 alpha=1/2)\n",
    "\n",
    "daily_avg = daily['kiloCalories'].mean()\n",
    "\n",
    "plt.hlines(xmin=daily['startTime'].min(),\n",
    "           xmax=daily['startTime'].max(),\n",
    "           y=daily_avg,\n",
    "           linestyle='dashed',\n",
    "           label=f'Daily average = {round(daily_avg)} kcal',\n",
    "           alpha=1/2)\n",
    "\n",
    "plt.title('Kilocalories over time')\n",
    "plt.xticks(rotation=45, horizontalalignment='center')\n",
    "plt.xlim(daily['startTime'].min(), daily['startTime'].max())\n",
    "plt.ylim(0, daily['kiloCalories'].max() * 1.05)\n",
    "plt.ylabel('Kilocalories')\n",
    "plt.legend(loc='best')\n",
    "plt.tight_layout()\n",
    "plt.savefig('./img/kilocalories_ts.png')\n",
    "plt.show()"
   ]
  },
  {
   "cell_type": "markdown",
   "metadata": {},
   "source": [
    "## Kilocalories by intensity"
   ]
  },
  {
   "cell_type": "code",
   "execution_count": 44,
   "metadata": {},
   "outputs": [
    {
     "data": {
      "image/png": "[encoded data removed]",
      "text/plain": [
       "<Figure size 288x288 with 2 Axes>"
      ]
     },
     "metadata": {
      "needs_background": "light"
     },
     "output_type": "display_data"
    }
   ],
   "source": [
    "plt.scatter(df['heartRateQ1'], df['heartRateQ99'], c=df['kiloCalories'])\n",
    "plt.xlabel('0.01 quantile of heart rate (bpm)')\n",
    "plt.ylabel('0.99 quantile of heart rate (bpm)')\n",
    "\n",
    "cbar = plt.colorbar()\n",
    "cbar.set_label('Kilocalories', rotation=270)\n",
    "plt.savefig('./img/intensity_scatter.png')\n",
    "plt.show()"
   ]
  },
  {
   "cell_type": "markdown",
   "metadata": {},
   "source": [
    "## Workouts by sport"
   ]
  },
  {
   "cell_type": "markdown",
   "metadata": {},
   "source": [
    "We check how many workouts I completed."
   ]
  },
  {
   "cell_type": "code",
   "execution_count": 45,
   "metadata": {},
   "outputs": [
    {
     "data": {
      "text/html": [
       "<style  type=\"text/css\" >\n",
       "    #T_c45e04f1_04e2_11eb_b4d2_a101a0f8ffa2row0_col1 {\n",
       "            background-color:  #004529;\n",
       "            color:  #f1f1f1;\n",
       "        }    #T_c45e04f1_04e2_11eb_b4d2_a101a0f8ffa2row1_col1 {\n",
       "            background-color:  #066d39;\n",
       "            color:  #f1f1f1;\n",
       "        }    #T_c45e04f1_04e2_11eb_b4d2_a101a0f8ffa2row2_col1 {\n",
       "            background-color:  #53b466;\n",
       "            color:  #000000;\n",
       "        }    #T_c45e04f1_04e2_11eb_b4d2_a101a0f8ffa2row3_col1 {\n",
       "            background-color:  #e2f4aa;\n",
       "            color:  #000000;\n",
       "        }    #T_c45e04f1_04e2_11eb_b4d2_a101a0f8ffa2row4_col1 {\n",
       "            background-color:  #ffffe5;\n",
       "            color:  #000000;\n",
       "        }</style><table id=\"T_c45e04f1_04e2_11eb_b4d2_a101a0f8ffa2\" ><thead>    <tr>        <th class=\"blank level0\" ></th>        <th class=\"col_heading level0 col0\" >Sport</th>        <th class=\"col_heading level0 col1\" >Count</th>    </tr></thead><tbody>\n",
       "                <tr>\n",
       "                        <th id=\"T_c45e04f1_04e2_11eb_b4d2_a101a0f8ffa2level0_row0\" class=\"row_heading level0 row0\" >4</th>\n",
       "                        <td id=\"T_c45e04f1_04e2_11eb_b4d2_a101a0f8ffa2row0_col0\" class=\"data row0 col0\" >walking</td>\n",
       "                        <td id=\"T_c45e04f1_04e2_11eb_b4d2_a101a0f8ffa2row0_col1\" class=\"data row0 col1\" >105</td>\n",
       "            </tr>\n",
       "            <tr>\n",
       "                        <th id=\"T_c45e04f1_04e2_11eb_b4d2_a101a0f8ffa2level0_row1\" class=\"row_heading level0 row1\" >3</th>\n",
       "                        <td id=\"T_c45e04f1_04e2_11eb_b4d2_a101a0f8ffa2row1_col0\" class=\"data row1 col0\" >treadmill_running</td>\n",
       "                        <td id=\"T_c45e04f1_04e2_11eb_b4d2_a101a0f8ffa2row1_col1\" class=\"data row1 col1\" >90</td>\n",
       "            </tr>\n",
       "            <tr>\n",
       "                        <th id=\"T_c45e04f1_04e2_11eb_b4d2_a101a0f8ffa2level0_row2\" class=\"row_heading level0 row2\" >2</th>\n",
       "                        <td id=\"T_c45e04f1_04e2_11eb_b4d2_a101a0f8ffa2row2_col0\" class=\"data row2 col0\" >strength_training</td>\n",
       "                        <td id=\"T_c45e04f1_04e2_11eb_b4d2_a101a0f8ffa2row2_col1\" class=\"data row2 col1\" >62</td>\n",
       "            </tr>\n",
       "            <tr>\n",
       "                        <th id=\"T_c45e04f1_04e2_11eb_b4d2_a101a0f8ffa2level0_row3\" class=\"row_heading level0 row3\" >0</th>\n",
       "                        <td id=\"T_c45e04f1_04e2_11eb_b4d2_a101a0f8ffa2row3_col0\" class=\"data row3 col0\" >cycling</td>\n",
       "                        <td id=\"T_c45e04f1_04e2_11eb_b4d2_a101a0f8ffa2row3_col1\" class=\"data row3 col1\" >24</td>\n",
       "            </tr>\n",
       "            <tr>\n",
       "                        <th id=\"T_c45e04f1_04e2_11eb_b4d2_a101a0f8ffa2level0_row4\" class=\"row_heading level0 row4\" >1</th>\n",
       "                        <td id=\"T_c45e04f1_04e2_11eb_b4d2_a101a0f8ffa2row4_col0\" class=\"data row4 col0\" >running</td>\n",
       "                        <td id=\"T_c45e04f1_04e2_11eb_b4d2_a101a0f8ffa2row4_col1\" class=\"data row4 col1\" >2</td>\n",
       "            </tr>\n",
       "    </tbody></table>"
      ],
      "text/plain": [
       "<pandas.io.formats.style.Styler at 0x7f1cea8bf610>"
      ]
     },
     "execution_count": 45,
     "metadata": {},
     "output_type": "execute_result"
    }
   ],
   "source": [
    "stats = df[['sport', 'startTime']]\n",
    "stats = stats.groupby(['sport'], as_index=False)\n",
    "stats = stats.count()\n",
    "stats = stats.rename(columns={'sport': 'Sport', \n",
    "                              'startTime': 'Count'})\n",
    "stats = stats.sort_values('Count', ascending=False)\n",
    "\n",
    "stats = stats.style.background_gradient(cmap='YlGn', subset='Count')\n",
    "stats = stats.set_precision(2)\n",
    "\n",
    "stats"
   ]
  },
  {
   "cell_type": "markdown",
   "metadata": {},
   "source": [
    "## By hour of day"
   ]
  },
  {
   "cell_type": "markdown",
   "metadata": {},
   "source": [
    "We count workouts by hour of day."
   ]
  },
  {
   "cell_type": "code",
   "execution_count": 46,
   "metadata": {},
   "outputs": [],
   "source": [
    "by_hour = df[['startTime', 'sport']].copy()\n",
    "by_hour['startHour'] = by_hour['startTime'].dt.hour\n",
    "by_hour = by_hour.drop('startTime', axis=1)\n",
    "by_hour = by_hour.groupby('startHour', as_index=False)\n",
    "by_hour = by_hour.count()\n",
    "\n",
    "all_hours = pd.DataFrame(range(0, 24), columns=['startHour'])\n",
    "\n",
    "by_hour = pd.merge(all_hours, by_hour, how='left')\n",
    "by_hour = by_hour.fillna(0)\n",
    "by_hour = by_hour.sort_values('startHour')\n",
    "by_hour = by_hour.rename(columns={'startHour': 'Hour of day', \n",
    "                                 'sport': 'Total workouts'})"
   ]
  },
  {
   "cell_type": "code",
   "execution_count": 47,
   "metadata": {},
   "outputs": [
    {
     "data": {
      "image/png": "[encoded data removed]",
      "text/plain": [
       "<Figure size 288x288 with 1 Axes>"
      ]
     },
     "metadata": {
      "needs_background": "light"
     },
     "output_type": "display_data"
    }
   ],
   "source": [
    "plt.bar(by_hour['Hour of day'], by_hour['Total workouts'])\n",
    "plt.ylabel('Number of workouts')\n",
    "plt.xlabel('Hour of day')\n",
    "plt.savefig('./img/workouts_by_hour_of_day.png')\n",
    "plt.show()"
   ]
  },
  {
   "cell_type": "markdown",
   "metadata": {},
   "source": [
    "## By day of week"
   ]
  },
  {
   "cell_type": "markdown",
   "metadata": {},
   "source": [
    "We count workouts by day of week."
   ]
  },
  {
   "cell_type": "code",
   "execution_count": 48,
   "metadata": {
    "scrolled": false
   },
   "outputs": [],
   "source": [
    "by_day = df[['startTime', 'sport']].copy()\n",
    "by_day['Day of week'] = pd.to_datetime(by_day['startTime']).dt.day_name()\n",
    "by_day['Day number'] = pd.to_datetime(by_day['startTime']).dt.dayofweek\n",
    "by_day = by_day.groupby(['Day of week', 'Day number'], as_index=False)\n",
    "by_day = by_day.count()\n",
    "by_day = by_day.drop('startTime', axis=1)\n",
    "by_day = by_day.sort_values('Day number')\n",
    "by_day = by_day.rename(columns={'sport': 'Total Workouts'})"
   ]
  },
  {
   "cell_type": "code",
   "execution_count": 49,
   "metadata": {},
   "outputs": [
    {
     "data": {
      "image/png": "[encoded data removed]",
      "text/plain": [
       "<Figure size 288x288 with 1 Axes>"
      ]
     },
     "metadata": {
      "needs_background": "light"
     },
     "output_type": "display_data"
    }
   ],
   "source": [
    "plt.bar(by_day['Day of week'], by_day['Total Workouts'])\n",
    "plt.xticks(rotation=90)\n",
    "plt.ylabel('Number of workouts')\n",
    "plt.savefig('./img/workouts_by_day_of_week.png')\n",
    "plt.show()"
   ]
  },
  {
   "cell_type": "markdown",
   "metadata": {},
   "source": [
    "## Scatter plot of walks data"
   ]
  },
  {
   "cell_type": "markdown",
   "metadata": {},
   "source": [
    "We plot `totalTime` versus `kiloCalories`. As can be seen their seems to exist a linear relationship between the two."
   ]
  },
  {
   "cell_type": "code",
   "execution_count": 50,
   "metadata": {},
   "outputs": [
    {
     "data": {
      "image/png": "[encoded data removed]",
      "text/plain": [
       "<Figure size 288x288 with 1 Axes>"
      ]
     },
     "metadata": {
      "needs_background": "light"
     },
     "output_type": "display_data"
    }
   ],
   "source": [
    "walking = df[df['sport'] == 'walking']\n",
    "plt.scatter(walking['totalTime'], walking['kiloCalories'], s=2)\n",
    "plt.xlabel('Duration (minutes)')\n",
    "plt.ylabel('Kilocalories')\n",
    "plt.savefig('./img/walks_kilocalories_vs_time.png')\n",
    "plt.show()"
   ]
  },
  {
   "cell_type": "markdown",
   "metadata": {},
   "source": [
    "We plot `heartRateAvg` against `kiloCalories`. Again we see a linear relationship although there are a couple of outliers"
   ]
  },
  {
   "cell_type": "code",
   "execution_count": 51,
   "metadata": {},
   "outputs": [
    {
     "data": {
      "image/png": "[encoded data removed]",
      "text/plain": [
       "<Figure size 288x288 with 1 Axes>"
      ]
     },
     "metadata": {
      "needs_background": "light"
     },
     "output_type": "display_data"
    }
   ],
   "source": [
    "walking = df[df['sport'] == 'walking']\n",
    "plt.scatter(walking['heartRateAvg'], walking['kiloCalories'], s=2)\n",
    "plt.ylabel('Kilocalories')\n",
    "plt.xlabel('Average HR (bpm)')\n",
    "plt.savefig('./img/walks_kilocalories_vs_avg_hr.png')\n",
    "plt.show()"
   ]
  },
  {
   "cell_type": "markdown",
   "metadata": {},
   "source": [
    "# Regression"
   ]
  },
  {
   "cell_type": "markdown",
   "metadata": {},
   "source": [
    "## Data preparation"
   ]
  },
  {
   "cell_type": "markdown",
   "metadata": {},
   "source": [
    "Now we proceed to build a regression model to predict `kiloCalories` burned during a workout. First we create a subset of the original data."
   ]
  },
  {
   "cell_type": "code",
   "execution_count": 52,
   "metadata": {},
   "outputs": [],
   "source": [
    "reg_df = df[['kiloCalories', 'totalTime', \n",
    "             'heartRateQ99', 'isStrength', 'sport']].copy()"
   ]
  },
  {
   "cell_type": "code",
   "execution_count": 53,
   "metadata": {},
   "outputs": [
    {
     "data": {
      "text/html": [
       "<div>\n",
       "<style scoped>\n",
       "    .dataframe tbody tr th:only-of-type {\n",
       "        vertical-align: middle;\n",
       "    }\n",
       "\n",
       "    .dataframe tbody tr th {\n",
       "        vertical-align: top;\n",
       "    }\n",
       "\n",
       "    .dataframe thead th {\n",
       "        text-align: right;\n",
       "    }\n",
       "</style>\n",
       "<table border=\"1\" class=\"dataframe\">\n",
       "  <thead>\n",
       "    <tr style=\"text-align: right;\">\n",
       "      <th></th>\n",
       "      <th>kiloCalories</th>\n",
       "      <th>totalTime</th>\n",
       "      <th>heartRateQ99</th>\n",
       "      <th>isStrength</th>\n",
       "      <th>sport</th>\n",
       "    </tr>\n",
       "  </thead>\n",
       "  <tbody>\n",
       "    <tr>\n",
       "      <th>0</th>\n",
       "      <td>245.00</td>\n",
       "      <td>33.33</td>\n",
       "      <td>115.00</td>\n",
       "      <td>False</td>\n",
       "      <td>walking</td>\n",
       "    </tr>\n",
       "    <tr>\n",
       "      <th>1</th>\n",
       "      <td>401.00</td>\n",
       "      <td>46.52</td>\n",
       "      <td>131.00</td>\n",
       "      <td>False</td>\n",
       "      <td>walking</td>\n",
       "    </tr>\n",
       "    <tr>\n",
       "      <th>2</th>\n",
       "      <td>336.00</td>\n",
       "      <td>45.15</td>\n",
       "      <td>120.00</td>\n",
       "      <td>False</td>\n",
       "      <td>walking</td>\n",
       "    </tr>\n",
       "    <tr>\n",
       "      <th>3</th>\n",
       "      <td>380.00</td>\n",
       "      <td>47.65</td>\n",
       "      <td>124.00</td>\n",
       "      <td>False</td>\n",
       "      <td>walking</td>\n",
       "    </tr>\n",
       "    <tr>\n",
       "      <th>4</th>\n",
       "      <td>358.00</td>\n",
       "      <td>39.67</td>\n",
       "      <td>141.00</td>\n",
       "      <td>False</td>\n",
       "      <td>walking</td>\n",
       "    </tr>\n",
       "  </tbody>\n",
       "</table>\n",
       "</div>"
      ],
      "text/plain": [
       "   kiloCalories  totalTime  heartRateQ99  isStrength    sport\n",
       "0        245.00      33.33        115.00       False  walking\n",
       "1        401.00      46.52        131.00       False  walking\n",
       "2        336.00      45.15        120.00       False  walking\n",
       "3        380.00      47.65        124.00       False  walking\n",
       "4        358.00      39.67        141.00       False  walking"
      ]
     },
     "execution_count": 53,
     "metadata": {},
     "output_type": "execute_result"
    }
   ],
   "source": [
    "reg_df.head()"
   ]
  },
  {
   "cell_type": "markdown",
   "metadata": {},
   "source": [
    "We remove the rows where `sport` is `running` because there were only two workouts recorded during the period in question."
   ]
  },
  {
   "cell_type": "code",
   "execution_count": 54,
   "metadata": {},
   "outputs": [],
   "source": [
    "reg_df = reg_df[reg_df['sport'] != 'running']"
   ]
  },
  {
   "cell_type": "markdown",
   "metadata": {},
   "source": [
    "### Outliers"
   ]
  },
  {
   "cell_type": "markdown",
   "metadata": {},
   "source": [
    "The data is cleansed of outliers using interquartile range."
   ]
  },
  {
   "cell_type": "code",
   "execution_count": 55,
   "metadata": {},
   "outputs": [],
   "source": [
    "def is_outlier_iqr(series, k=1.5):\n",
    "    \"\"\"\n",
    "    Check if value is an outlier\n",
    "    using interquartile range.\n",
    "    \"\"\"\n",
    "    \n",
    "    q1 = series.quantile(0.25)\n",
    "    q3 = series.quantile(0.75)        \n",
    "    iqr = q3 - q1\n",
    "    is_outlier = (series <= q1 - k * iqr) | (q3 + k * iqr <= series)\n",
    "    \n",
    "    return is_outlier"
   ]
  },
  {
   "cell_type": "code",
   "execution_count": 56,
   "metadata": {},
   "outputs": [],
   "source": [
    "time_mask = is_outlier_iqr(series=reg_df['totalTime'])\n",
    "kcal_mask = is_outlier_iqr(series=reg_df['kiloCalories'])\n",
    "hr_mask = is_outlier_iqr(series=reg_df['heartRateQ99'])"
   ]
  },
  {
   "cell_type": "code",
   "execution_count": 57,
   "metadata": {},
   "outputs": [],
   "source": [
    "reg_df = reg_df[~(time_mask | kcal_mask | hr_mask)]"
   ]
  },
  {
   "cell_type": "markdown",
   "metadata": {},
   "source": [
    "## Histograms"
   ]
  },
  {
   "cell_type": "markdown",
   "metadata": {},
   "source": [
    "We proceed to visualize histograms of each of the variables."
   ]
  },
  {
   "cell_type": "code",
   "execution_count": 58,
   "metadata": {},
   "outputs": [
    {
     "data": {
      "image/png": "[encoded data removed]",
      "text/plain": [
       "<Figure size 288x288 with 1 Axes>"
      ]
     },
     "metadata": {
      "needs_background": "light"
     },
     "output_type": "display_data"
    }
   ],
   "source": [
    "plt.hist(reg_df['kiloCalories'], bins=30)\n",
    "plt.xlabel('Kilocalories')\n",
    "plt.ylabel('Frequency')\n",
    "plt.savefig('./img/kilocalories_histogram.png')\n",
    "plt.show()"
   ]
  },
  {
   "cell_type": "code",
   "execution_count": 59,
   "metadata": {},
   "outputs": [
    {
     "data": {
      "image/png": "[encoded data removed]",
      "text/plain": [
       "<Figure size 288x288 with 1 Axes>"
      ]
     },
     "metadata": {
      "needs_background": "light"
     },
     "output_type": "display_data"
    }
   ],
   "source": [
    "plt.hist(reg_df['totalTime'], bins=30)\n",
    "plt.xlabel('Duration (minutes)')\n",
    "plt.ylabel('Frequency')\n",
    "plt.savefig('./img/duration_histogram.png')\n",
    "plt.show()"
   ]
  },
  {
   "cell_type": "code",
   "execution_count": 60,
   "metadata": {},
   "outputs": [
    {
     "data": {
      "image/png": "[encoded data removed]",
      "text/plain": [
       "<Figure size 288x288 with 1 Axes>"
      ]
     },
     "metadata": {
      "needs_background": "light"
     },
     "output_type": "display_data"
    }
   ],
   "source": [
    "plt.hist(reg_df['heartRateQ99'], bins=30)\n",
    "plt.xlabel('0.99 quantile of heart rate (bpm)')\n",
    "plt.ylabel('Frequency')\n",
    "plt.savefig('./img/q99_hr_histogram.png')\n",
    "plt.show()"
   ]
  },
  {
   "cell_type": "markdown",
   "metadata": {},
   "source": [
    "## Scatter plots"
   ]
  },
  {
   "cell_type": "markdown",
   "metadata": {},
   "source": [
    "The plot below gives reason to suspect a linear relationship between `kiloCalories` and `totalTime`."
   ]
  },
  {
   "cell_type": "code",
   "execution_count": 61,
   "metadata": {},
   "outputs": [
    {
     "data": {
      "image/png": "[encoded data removed]",
      "text/plain": [
       "<Figure size 288x288 with 1 Axes>"
      ]
     },
     "metadata": {
      "needs_background": "light"
     },
     "output_type": "display_data"
    }
   ],
   "source": [
    "for val in [False, True]:\n",
    "    tmp = reg_df[reg_df['isStrength'] == val]\n",
    "    plt.scatter(tmp['totalTime'], \n",
    "                tmp['kiloCalories'],\n",
    "                s=3, \n",
    "                label=val)\n",
    "    \n",
    "plt.xlabel('Time (minutes)')    \n",
    "plt.ylabel('Kilocalories')    \n",
    "plt.legend(title='isStrength', loc='best')\n",
    "plt.savefig('./img/time_vs_kilocalories_scatter_by_strength.png')\n",
    "plt.show()"
   ]
  },
  {
   "cell_type": "code",
   "execution_count": 62,
   "metadata": {},
   "outputs": [
    {
     "data": {
      "image/png": "[encoded data removed]",
      "text/plain": [
       "<Figure size 288x288 with 1 Axes>"
      ]
     },
     "metadata": {
      "needs_background": "light"
     },
     "output_type": "display_data"
    }
   ],
   "source": [
    "for val in [False, True]:\n",
    "    tmp = reg_df[reg_df['isStrength'] == val]\n",
    "    plt.scatter(tmp['heartRateQ99'],\n",
    "                tmp['kiloCalories'],\n",
    "                s=3, \n",
    "                label=val)\n",
    "\n",
    "plt.xlabel('0.99 quantile of heart rate (bpm)')    \n",
    "plt.ylabel('Kilocalories')\n",
    "plt.legend(title='isStrength', loc='best')\n",
    "plt.savefig('./img/99q_hr_vs_kilocalories_scatter_by_strength.png')\n",
    "plt.show()"
   ]
  },
  {
   "cell_type": "code",
   "execution_count": 63,
   "metadata": {},
   "outputs": [
    {
     "data": {
      "image/png": "[encoded data removed]",
      "text/plain": [
       "<Figure size 288x288 with 1 Axes>"
      ]
     },
     "metadata": {
      "needs_background": "light"
     },
     "output_type": "display_data"
    }
   ],
   "source": [
    "plt.scatter(reg_df['isStrength'] + np.random.normal(scale=1/20, size=len(reg_df)), \n",
    "            reg_df['kiloCalories'], s=3)\n",
    "\n",
    "plt.ylabel('Kilocalories')\n",
    "plt.xticks(ticks=[0, 1], labels=['Cardio', 'Strength'])\n",
    "plt.savefig('./img/is_strength_vs_kilocalories_jitter.png')\n",
    "plt.show()"
   ]
  },
  {
   "cell_type": "code",
   "execution_count": 64,
   "metadata": {},
   "outputs": [
    {
     "data": {
      "image/png": "[encoded data removed]",
      "text/plain": [
       "<Figure size 288x288 with 1 Axes>"
      ]
     },
     "metadata": {
      "needs_background": "light"
     },
     "output_type": "display_data"
    }
   ],
   "source": [
    "plt.scatter(reg_df['isStrength'] + np.random.normal(scale=1/20, size=len(reg_df)), \n",
    "            reg_df['heartRateQ99'], s=3)\n",
    "\n",
    "plt.ylabel('0.99 quantile of heart rate (bpm)')\n",
    "plt.xticks(ticks=[0, 1], labels=['Cardio', 'Strength'])\n",
    "plt.savefig('./img/is_strength_vs_99q_hr_scatter.png')\n",
    "plt.show()"
   ]
  },
  {
   "cell_type": "code",
   "execution_count": 65,
   "metadata": {},
   "outputs": [
    {
     "data": {
      "image/png": "[encoded data removed]",
      "text/plain": [
       "<Figure size 288x288 with 1 Axes>"
      ]
     },
     "metadata": {
      "needs_background": "light"
     },
     "output_type": "display_data"
    }
   ],
   "source": [
    "plt.scatter(reg_df['isStrength'] + np.random.normal(scale=1/20, size=len(reg_df)), \n",
    "            reg_df['totalTime'], s=3)\n",
    "\n",
    "plt.ylabel('Time (minutes)')\n",
    "plt.xticks(ticks=[0, 1], labels=['Cardio', 'Strength'])\n",
    "plt.savefig('./img/is_strength_vs_time_jitter.png')\n",
    "plt.show()"
   ]
  },
  {
   "cell_type": "markdown",
   "metadata": {},
   "source": [
    "## Correlation"
   ]
  },
  {
   "cell_type": "markdown",
   "metadata": {},
   "source": [
    "We convert binary the feature `isStrength` to integers for the rest of the analysis."
   ]
  },
  {
   "cell_type": "code",
   "execution_count": 66,
   "metadata": {},
   "outputs": [],
   "source": [
    "reg_df['isStrength'] = reg_df['isStrength'].astype(int)"
   ]
  },
  {
   "cell_type": "markdown",
   "metadata": {},
   "source": [
    "We inspect the correlation matrix to check for multicollinearity. It should be noted that the correlation between `kiloCalories` and `totalTime` is quite high and this to be expected."
   ]
  },
  {
   "cell_type": "code",
   "execution_count": 67,
   "metadata": {},
   "outputs": [
    {
     "data": {
      "text/html": [
       "<style  type=\"text/css\" >\n",
       "    #T_c71bbc5a_04e2_11eb_b4d2_a101a0f8ffa2row0_col0 {\n",
       "            background-color:  #004529;\n",
       "            color:  #f1f1f1;\n",
       "        }    #T_c71bbc5a_04e2_11eb_b4d2_a101a0f8ffa2row0_col1 {\n",
       "            background-color:  #006335;\n",
       "            color:  #f1f1f1;\n",
       "        }    #T_c71bbc5a_04e2_11eb_b4d2_a101a0f8ffa2row0_col2 {\n",
       "            background-color:  #b9e294;\n",
       "            color:  #000000;\n",
       "        }    #T_c71bbc5a_04e2_11eb_b4d2_a101a0f8ffa2row0_col3 {\n",
       "            background-color:  #a6da8b;\n",
       "            color:  #000000;\n",
       "        }    #T_c71bbc5a_04e2_11eb_b4d2_a101a0f8ffa2row1_col0 {\n",
       "            background-color:  #0a703a;\n",
       "            color:  #f1f1f1;\n",
       "        }    #T_c71bbc5a_04e2_11eb_b4d2_a101a0f8ffa2row1_col1 {\n",
       "            background-color:  #004529;\n",
       "            color:  #f1f1f1;\n",
       "        }    #T_c71bbc5a_04e2_11eb_b4d2_a101a0f8ffa2row1_col2 {\n",
       "            background-color:  #fdfedb;\n",
       "            color:  #000000;\n",
       "        }    #T_c71bbc5a_04e2_11eb_b4d2_a101a0f8ffa2row1_col3 {\n",
       "            background-color:  #56b568;\n",
       "            color:  #000000;\n",
       "        }    #T_c71bbc5a_04e2_11eb_b4d2_a101a0f8ffa2row2_col0 {\n",
       "            background-color:  #ffffe5;\n",
       "            color:  #000000;\n",
       "        }    #T_c71bbc5a_04e2_11eb_b4d2_a101a0f8ffa2row2_col1 {\n",
       "            background-color:  #ffffe5;\n",
       "            color:  #000000;\n",
       "        }    #T_c71bbc5a_04e2_11eb_b4d2_a101a0f8ffa2row2_col2 {\n",
       "            background-color:  #004529;\n",
       "            color:  #f1f1f1;\n",
       "        }    #T_c71bbc5a_04e2_11eb_b4d2_a101a0f8ffa2row2_col3 {\n",
       "            background-color:  #ffffe5;\n",
       "            color:  #000000;\n",
       "        }    #T_c71bbc5a_04e2_11eb_b4d2_a101a0f8ffa2row3_col0 {\n",
       "            background-color:  #fafdc9;\n",
       "            color:  #000000;\n",
       "        }    #T_c71bbc5a_04e2_11eb_b4d2_a101a0f8ffa2row3_col1 {\n",
       "            background-color:  #5cb86b;\n",
       "            color:  #000000;\n",
       "        }    #T_c71bbc5a_04e2_11eb_b4d2_a101a0f8ffa2row3_col2 {\n",
       "            background-color:  #ffffe5;\n",
       "            color:  #000000;\n",
       "        }    #T_c71bbc5a_04e2_11eb_b4d2_a101a0f8ffa2row3_col3 {\n",
       "            background-color:  #004529;\n",
       "            color:  #f1f1f1;\n",
       "        }</style><table id=\"T_c71bbc5a_04e2_11eb_b4d2_a101a0f8ffa2\" ><thead>    <tr>        <th class=\"blank level0\" ></th>        <th class=\"col_heading level0 col0\" >kiloCalories</th>        <th class=\"col_heading level0 col1\" >totalTime</th>        <th class=\"col_heading level0 col2\" >heartRateQ99</th>        <th class=\"col_heading level0 col3\" >isStrength</th>    </tr></thead><tbody>\n",
       "                <tr>\n",
       "                        <th id=\"T_c71bbc5a_04e2_11eb_b4d2_a101a0f8ffa2level0_row0\" class=\"row_heading level0 row0\" >kiloCalories</th>\n",
       "                        <td id=\"T_c71bbc5a_04e2_11eb_b4d2_a101a0f8ffa2row0_col0\" class=\"data row0 col0\" >1.00</td>\n",
       "                        <td id=\"T_c71bbc5a_04e2_11eb_b4d2_a101a0f8ffa2row0_col1\" class=\"data row0 col1\" >0.92</td>\n",
       "                        <td id=\"T_c71bbc5a_04e2_11eb_b4d2_a101a0f8ffa2row0_col2\" class=\"data row0 col2\" >0.51</td>\n",
       "                        <td id=\"T_c71bbc5a_04e2_11eb_b4d2_a101a0f8ffa2row0_col3\" class=\"data row0 col3\" >0.55</td>\n",
       "            </tr>\n",
       "            <tr>\n",
       "                        <th id=\"T_c71bbc5a_04e2_11eb_b4d2_a101a0f8ffa2level0_row1\" class=\"row_heading level0 row1\" >totalTime</th>\n",
       "                        <td id=\"T_c71bbc5a_04e2_11eb_b4d2_a101a0f8ffa2row1_col0\" class=\"data row1 col0\" >0.92</td>\n",
       "                        <td id=\"T_c71bbc5a_04e2_11eb_b4d2_a101a0f8ffa2row1_col1\" class=\"data row1 col1\" >1.00</td>\n",
       "                        <td id=\"T_c71bbc5a_04e2_11eb_b4d2_a101a0f8ffa2row1_col2\" class=\"data row1 col2\" >0.28</td>\n",
       "                        <td id=\"T_c71bbc5a_04e2_11eb_b4d2_a101a0f8ffa2row1_col3\" class=\"data row1 col3\" >0.69</td>\n",
       "            </tr>\n",
       "            <tr>\n",
       "                        <th id=\"T_c71bbc5a_04e2_11eb_b4d2_a101a0f8ffa2level0_row2\" class=\"row_heading level0 row2\" >heartRateQ99</th>\n",
       "                        <td id=\"T_c71bbc5a_04e2_11eb_b4d2_a101a0f8ffa2row2_col0\" class=\"data row2 col0\" >0.51</td>\n",
       "                        <td id=\"T_c71bbc5a_04e2_11eb_b4d2_a101a0f8ffa2row2_col1\" class=\"data row2 col1\" >0.28</td>\n",
       "                        <td id=\"T_c71bbc5a_04e2_11eb_b4d2_a101a0f8ffa2row2_col2\" class=\"data row2 col2\" >1.00</td>\n",
       "                        <td id=\"T_c71bbc5a_04e2_11eb_b4d2_a101a0f8ffa2row2_col3\" class=\"data row2 col3\" >0.26</td>\n",
       "            </tr>\n",
       "            <tr>\n",
       "                        <th id=\"T_c71bbc5a_04e2_11eb_b4d2_a101a0f8ffa2level0_row3\" class=\"row_heading level0 row3\" >isStrength</th>\n",
       "                        <td id=\"T_c71bbc5a_04e2_11eb_b4d2_a101a0f8ffa2row3_col0\" class=\"data row3 col0\" >0.55</td>\n",
       "                        <td id=\"T_c71bbc5a_04e2_11eb_b4d2_a101a0f8ffa2row3_col1\" class=\"data row3 col1\" >0.69</td>\n",
       "                        <td id=\"T_c71bbc5a_04e2_11eb_b4d2_a101a0f8ffa2row3_col2\" class=\"data row3 col2\" >0.26</td>\n",
       "                        <td id=\"T_c71bbc5a_04e2_11eb_b4d2_a101a0f8ffa2row3_col3\" class=\"data row3 col3\" >1.00</td>\n",
       "            </tr>\n",
       "    </tbody></table>"
      ],
      "text/plain": [
       "<pandas.io.formats.style.Styler at 0x7f1ce7943d90>"
      ]
     },
     "execution_count": 67,
     "metadata": {},
     "output_type": "execute_result"
    }
   ],
   "source": [
    "C = reg_df.corr(method='pearson')\n",
    "C = C.style.background_gradient(cmap='YlGn')\n",
    "C = C.set_precision(2)\n",
    "C"
   ]
  },
  {
   "cell_type": "markdown",
   "metadata": {},
   "source": [
    "## Multicollinearity"
   ]
  },
  {
   "cell_type": "markdown",
   "metadata": {},
   "source": [
    "We inspect the respect variance inflation factors and are happy to see that all are below 10."
   ]
  },
  {
   "cell_type": "code",
   "execution_count": 68,
   "metadata": {},
   "outputs": [
    {
     "data": {
      "text/html": [
       "<style  type=\"text/css\" >\n",
       "    #T_c71bbc5b_04e2_11eb_b4d2_a101a0f8ffa2row0_col1 {\n",
       "            background-color:  #7f0000;\n",
       "            color:  #f1f1f1;\n",
       "        }    #T_c71bbc5b_04e2_11eb_b4d2_a101a0f8ffa2row1_col1 {\n",
       "            background-color:  #fdb881;\n",
       "            color:  #000000;\n",
       "        }    #T_c71bbc5b_04e2_11eb_b4d2_a101a0f8ffa2row2_col1 {\n",
       "            background-color:  #fff7ec;\n",
       "            color:  #000000;\n",
       "        }</style><table id=\"T_c71bbc5b_04e2_11eb_b4d2_a101a0f8ffa2\" ><thead>    <tr>        <th class=\"blank level0\" ></th>        <th class=\"col_heading level0 col0\" >Variable</th>        <th class=\"col_heading level0 col1\" >VIF</th>    </tr></thead><tbody>\n",
       "                <tr>\n",
       "                        <th id=\"T_c71bbc5b_04e2_11eb_b4d2_a101a0f8ffa2level0_row0\" class=\"row_heading level0 row0\" >0</th>\n",
       "                        <td id=\"T_c71bbc5b_04e2_11eb_b4d2_a101a0f8ffa2row0_col0\" class=\"data row0 col0\" >totalTime</td>\n",
       "                        <td id=\"T_c71bbc5b_04e2_11eb_b4d2_a101a0f8ffa2row0_col1\" class=\"data row0 col1\" >6.30</td>\n",
       "            </tr>\n",
       "            <tr>\n",
       "                        <th id=\"T_c71bbc5b_04e2_11eb_b4d2_a101a0f8ffa2level0_row1\" class=\"row_heading level0 row1\" >1</th>\n",
       "                        <td id=\"T_c71bbc5b_04e2_11eb_b4d2_a101a0f8ffa2row1_col0\" class=\"data row1 col0\" >heartRateQ99</td>\n",
       "                        <td id=\"T_c71bbc5b_04e2_11eb_b4d2_a101a0f8ffa2row1_col1\" class=\"data row1 col1\" >3.90</td>\n",
       "            </tr>\n",
       "            <tr>\n",
       "                        <th id=\"T_c71bbc5b_04e2_11eb_b4d2_a101a0f8ffa2level0_row2\" class=\"row_heading level0 row2\" >2</th>\n",
       "                        <td id=\"T_c71bbc5b_04e2_11eb_b4d2_a101a0f8ffa2row2_col0\" class=\"data row2 col0\" >isStrength</td>\n",
       "                        <td id=\"T_c71bbc5b_04e2_11eb_b4d2_a101a0f8ffa2row2_col1\" class=\"data row2 col1\" >2.41</td>\n",
       "            </tr>\n",
       "    </tbody></table>"
      ],
      "text/plain": [
       "<pandas.io.formats.style.Styler at 0x7f1cea938d60>"
      ]
     },
     "execution_count": 68,
     "metadata": {},
     "output_type": "execute_result"
    }
   ],
   "source": [
    "tmp = reg_df.drop(['kiloCalories', 'sport'], axis=1)\n",
    "\n",
    "vifs = []\n",
    "for i in range(tmp.shape[1]):\n",
    "    vif = variance_inflation_factor(tmp.to_numpy(), i)\n",
    "    vifs.append(round(vif, 2))\n",
    "    \n",
    "vifs = pd.DataFrame(vifs, index=tmp.columns, columns=['VIF'])\n",
    "vifs = vifs.sort_values('VIF', ascending=False)\n",
    "vifs = vifs.reset_index()\n",
    "vifs = vifs.rename(columns={'index': 'Variable'})\n",
    "vifs = vifs.style.background_gradient(cmap='OrRd')\n",
    "vifs = vifs.set_precision(2)\n",
    "\n",
    "vifs"
   ]
  },
  {
   "cell_type": "markdown",
   "metadata": {},
   "source": [
    "## Modelling"
   ]
  },
  {
   "cell_type": "markdown",
   "metadata": {},
   "source": [
    "Before the actual modelling we prepare a function to calculate `RMSE` to compare models and extract the true `kiloCalories` into a separate array."
   ]
  },
  {
   "cell_type": "code",
   "execution_count": 69,
   "metadata": {},
   "outputs": [],
   "source": [
    "y_true = reg_df['kiloCalories'].to_numpy()"
   ]
  },
  {
   "cell_type": "code",
   "execution_count": 70,
   "metadata": {},
   "outputs": [],
   "source": [
    "def calc_rmse(y_true, y_pred):\n",
    "    x = np.sqrt(np.mean(np.power(y_true - y_pred, 2)))\n",
    "    return round(x, 4)"
   ]
  },
  {
   "cell_type": "code",
   "execution_count": 71,
   "metadata": {},
   "outputs": [],
   "source": [
    "all_results = []"
   ]
  },
  {
   "cell_type": "markdown",
   "metadata": {},
   "source": [
    "### Time only"
   ]
  },
  {
   "cell_type": "markdown",
   "metadata": {},
   "source": [
    "We start the modelling section of by building the simplest model that comes to mind: predict `kiloCalories` using `totalTime`."
   ]
  },
  {
   "cell_type": "code",
   "execution_count": 72,
   "metadata": {
    "scrolled": false
   },
   "outputs": [
    {
     "data": {
      "text/html": [
       "<table class=\"simpletable\">\n",
       "<tr>\n",
       "        <td>Model:</td>               <td>OLS</td>         <td>Adj. R-squared:</td>     <td>0.849</td>  \n",
       "</tr>\n",
       "<tr>\n",
       "  <td>Dependent Variable:</td>   <td>kiloCalories</td>          <td>AIC:</td>         <td>3070.3883</td>\n",
       "</tr>\n",
       "<tr>\n",
       "         <td>Date:</td>        <td>2020-10-02 21:09</td>        <td>BIC:</td>         <td>3077.5477</td>\n",
       "</tr>\n",
       "<tr>\n",
       "   <td>No. Observations:</td>         <td>265</td>         <td>Log-Likelihood:</td>    <td>-1533.2</td> \n",
       "</tr>\n",
       "<tr>\n",
       "       <td>Df Model:</td>              <td>1</td>           <td>F-statistic:</td>       <td>1483.</td>  \n",
       "</tr>\n",
       "<tr>\n",
       "     <td>Df Residuals:</td>           <td>263</td>       <td>Prob (F-statistic):</td> <td>4.24e-110</td>\n",
       "</tr>\n",
       "<tr>\n",
       "      <td>R-squared:</td>            <td>0.849</td>            <td>Scale:</td>         <td>6254.0</td>  \n",
       "</tr>\n",
       "</table>\n",
       "<table class=\"simpletable\">\n",
       "<tr>\n",
       "      <td></td>       <th>Coef.</th>  <th>Std.Err.</th>    <th>t</th>     <th>P>|t|</th> <th>[0.025</th>  <th>0.975]</th> \n",
       "</tr>\n",
       "<tr>\n",
       "  <th>Intercept</th> <td>17.1713</td>  <td>8.7686</td>  <td>1.9583</td>  <td>0.0513</td> <td>-0.0942</td> <td>34.4369</td>\n",
       "</tr>\n",
       "<tr>\n",
       "  <th>totalTime</th> <td>6.7722</td>   <td>0.1759</td>  <td>38.5076</td> <td>0.0000</td> <td>6.4260</td>  <td>7.1185</td> \n",
       "</tr>\n",
       "</table>\n",
       "<table class=\"simpletable\">\n",
       "<tr>\n",
       "     <td>Omnibus:</td>    <td>35.699</td>  <td>Durbin-Watson:</td>    <td>1.803</td>\n",
       "</tr>\n",
       "<tr>\n",
       "  <td>Prob(Omnibus):</td>  <td>0.000</td> <td>Jarque-Bera (JB):</td> <td>92.425</td>\n",
       "</tr>\n",
       "<tr>\n",
       "       <td>Skew:</td>      <td>0.605</td>     <td>Prob(JB):</td>      <td>0.000</td>\n",
       "</tr>\n",
       "<tr>\n",
       "     <td>Kurtosis:</td>    <td>5.628</td>  <td>Condition No.:</td>     <td>90</td>  \n",
       "</tr>\n",
       "</table>"
      ],
      "text/plain": [
       "<class 'statsmodels.iolib.summary2.Summary'>\n",
       "\"\"\"\n",
       "                 Results: Ordinary least squares\n",
       "==================================================================\n",
       "Model:              OLS              Adj. R-squared:     0.849    \n",
       "Dependent Variable: kiloCalories     AIC:                3070.3883\n",
       "Date:               2020-10-02 21:09 BIC:                3077.5477\n",
       "No. Observations:   265              Log-Likelihood:     -1533.2  \n",
       "Df Model:           1                F-statistic:        1483.    \n",
       "Df Residuals:       263              Prob (F-statistic): 4.24e-110\n",
       "R-squared:          0.849            Scale:              6254.0   \n",
       "-------------------------------------------------------------------\n",
       "                Coef.   Std.Err.     t     P>|t|    [0.025   0.975]\n",
       "-------------------------------------------------------------------\n",
       "Intercept      17.1713    8.7686   1.9583  0.0513  -0.0942  34.4369\n",
       "totalTime       6.7722    0.1759  38.5076  0.0000   6.4260   7.1185\n",
       "------------------------------------------------------------------\n",
       "Omnibus:               35.699       Durbin-Watson:          1.803 \n",
       "Prob(Omnibus):         0.000        Jarque-Bera (JB):       92.425\n",
       "Skew:                  0.605        Prob(JB):               0.000 \n",
       "Kurtosis:              5.628        Condition No.:          90    \n",
       "==================================================================\n",
       "\n",
       "\"\"\""
      ]
     },
     "execution_count": 72,
     "metadata": {},
     "output_type": "execute_result"
    }
   ],
   "source": [
    "formula = 'kiloCalories ~ totalTime'\n",
    "mdl_time = smf.ols(formula=formula, data=reg_df)\n",
    "mdl_time = mdl_time.fit()\n",
    "mdl_time.summary2()"
   ]
  },
  {
   "cell_type": "code",
   "execution_count": 73,
   "metadata": {},
   "outputs": [],
   "source": [
    "y_pred = mdl_time.predict(reg_df)\n",
    "rmse = calc_rmse(y_pred, y_true)\n",
    "all_results.append((rmse, formula))"
   ]
  },
  {
   "cell_type": "code",
   "execution_count": 74,
   "metadata": {},
   "outputs": [
    {
     "name": "stdout",
     "output_type": "stream",
     "text": [
      "78.7832\n"
     ]
    }
   ],
   "source": [
    "print(rmse)"
   ]
  },
  {
   "cell_type": "markdown",
   "metadata": {},
   "source": [
    "### By sport"
   ]
  },
  {
   "cell_type": "markdown",
   "metadata": {},
   "source": [
    "The next regression we are going to do will be univariate regression separately for each sport, this will help us answer the question which sport is the most effective at burning calories during a workout."
   ]
  },
  {
   "cell_type": "code",
   "execution_count": 75,
   "metadata": {},
   "outputs": [
    {
     "data": {
      "text/html": [
       "<style  type=\"text/css\" >\n",
       "    #T_c71bbc5c_04e2_11eb_b4d2_a101a0f8ffa2row0_col3 {\n",
       "            background-color:  #004529;\n",
       "            color:  #f1f1f1;\n",
       "        }    #T_c71bbc5c_04e2_11eb_b4d2_a101a0f8ffa2row1_col3 {\n",
       "            background-color:  #e5f5ac;\n",
       "            color:  #000000;\n",
       "        }    #T_c71bbc5c_04e2_11eb_b4d2_a101a0f8ffa2row2_col3 {\n",
       "            background-color:  #fcfed3;\n",
       "            color:  #000000;\n",
       "        }    #T_c71bbc5c_04e2_11eb_b4d2_a101a0f8ffa2row3_col3 {\n",
       "            background-color:  #ffffe5;\n",
       "            color:  #000000;\n",
       "        }</style><table id=\"T_c71bbc5c_04e2_11eb_b4d2_a101a0f8ffa2\" ><thead>    <tr>        <th class=\"blank level0\" ></th>        <th class=\"col_heading level0 col0\" >Formula</th>        <th class=\"col_heading level0 col1\" >Sport</th>        <th class=\"col_heading level0 col2\" >Intercept</th>        <th class=\"col_heading level0 col3\" >Slope</th>        <th class=\"col_heading level0 col4\" >R squared</th>    </tr></thead><tbody>\n",
       "                <tr>\n",
       "                        <th id=\"T_c71bbc5c_04e2_11eb_b4d2_a101a0f8ffa2level0_row0\" class=\"row_heading level0 row0\" >0</th>\n",
       "                        <td id=\"T_c71bbc5c_04e2_11eb_b4d2_a101a0f8ffa2row0_col0\" class=\"data row0 col0\" >kiloCalories ~ totalTime</td>\n",
       "                        <td id=\"T_c71bbc5c_04e2_11eb_b4d2_a101a0f8ffa2row0_col1\" class=\"data row0 col1\" >treadmill_running</td>\n",
       "                        <td id=\"T_c71bbc5c_04e2_11eb_b4d2_a101a0f8ffa2row0_col2\" class=\"data row0 col2\" >-21.23</td>\n",
       "                        <td id=\"T_c71bbc5c_04e2_11eb_b4d2_a101a0f8ffa2row0_col3\" class=\"data row0 col3\" >10.14</td>\n",
       "                        <td id=\"T_c71bbc5c_04e2_11eb_b4d2_a101a0f8ffa2row0_col4\" class=\"data row0 col4\" >0.96</td>\n",
       "            </tr>\n",
       "            <tr>\n",
       "                        <th id=\"T_c71bbc5c_04e2_11eb_b4d2_a101a0f8ffa2level0_row1\" class=\"row_heading level0 row1\" >1</th>\n",
       "                        <td id=\"T_c71bbc5c_04e2_11eb_b4d2_a101a0f8ffa2row1_col0\" class=\"data row1 col0\" >kiloCalories ~ totalTime</td>\n",
       "                        <td id=\"T_c71bbc5c_04e2_11eb_b4d2_a101a0f8ffa2row1_col1\" class=\"data row1 col1\" >cycling</td>\n",
       "                        <td id=\"T_c71bbc5c_04e2_11eb_b4d2_a101a0f8ffa2row1_col2\" class=\"data row1 col2\" >-9.73</td>\n",
       "                        <td id=\"T_c71bbc5c_04e2_11eb_b4d2_a101a0f8ffa2row1_col3\" class=\"data row1 col3\" >7.44</td>\n",
       "                        <td id=\"T_c71bbc5c_04e2_11eb_b4d2_a101a0f8ffa2row1_col4\" class=\"data row1 col4\" >0.98</td>\n",
       "            </tr>\n",
       "            <tr>\n",
       "                        <th id=\"T_c71bbc5c_04e2_11eb_b4d2_a101a0f8ffa2level0_row2\" class=\"row_heading level0 row2\" >2</th>\n",
       "                        <td id=\"T_c71bbc5c_04e2_11eb_b4d2_a101a0f8ffa2row2_col0\" class=\"data row2 col0\" >kiloCalories ~ totalTime</td>\n",
       "                        <td id=\"T_c71bbc5c_04e2_11eb_b4d2_a101a0f8ffa2row2_col1\" class=\"data row2 col1\" >walking</td>\n",
       "                        <td id=\"T_c71bbc5c_04e2_11eb_b4d2_a101a0f8ffa2row2_col2\" class=\"data row2 col2\" >12.59</td>\n",
       "                        <td id=\"T_c71bbc5c_04e2_11eb_b4d2_a101a0f8ffa2row2_col3\" class=\"data row2 col3\" >6.95</td>\n",
       "                        <td id=\"T_c71bbc5c_04e2_11eb_b4d2_a101a0f8ffa2row2_col4\" class=\"data row2 col4\" >0.82</td>\n",
       "            </tr>\n",
       "            <tr>\n",
       "                        <th id=\"T_c71bbc5c_04e2_11eb_b4d2_a101a0f8ffa2level0_row3\" class=\"row_heading level0 row3\" >3</th>\n",
       "                        <td id=\"T_c71bbc5c_04e2_11eb_b4d2_a101a0f8ffa2row3_col0\" class=\"data row3 col0\" >kiloCalories ~ totalTime</td>\n",
       "                        <td id=\"T_c71bbc5c_04e2_11eb_b4d2_a101a0f8ffa2row3_col1\" class=\"data row3 col1\" >strength_training</td>\n",
       "                        <td id=\"T_c71bbc5c_04e2_11eb_b4d2_a101a0f8ffa2row3_col2\" class=\"data row3 col2\" >-12.73</td>\n",
       "                        <td id=\"T_c71bbc5c_04e2_11eb_b4d2_a101a0f8ffa2row3_col3\" class=\"data row3 col3\" >6.76</td>\n",
       "                        <td id=\"T_c71bbc5c_04e2_11eb_b4d2_a101a0f8ffa2row3_col4\" class=\"data row3 col4\" >0.44</td>\n",
       "            </tr>\n",
       "    </tbody></table>"
      ],
      "text/plain": [
       "<pandas.io.formats.style.Styler at 0x7f1d2c8c7f70>"
      ]
     },
     "execution_count": 75,
     "metadata": {},
     "output_type": "execute_result"
    }
   ],
   "source": [
    "all_sports = sorted(reg_df['sport'].unique())\n",
    "reg_sports_res = []\n",
    "\n",
    "# For all sport do simple linear regression\n",
    "for sport in all_sports:\n",
    "    tmp = reg_df[reg_df['sport'] == sport]\n",
    "    formula = 'kiloCalories ~ totalTime'\n",
    "    mdl_sport = smf.ols(formula=formula, data=tmp)\n",
    "    mdl_sport = mdl_sport.fit()\n",
    "    sport_stats = [formula, sport] + list(mdl_sport.params) + [mdl_sport.rsquared]    \n",
    "    reg_sports_res.append(sport_stats)\n",
    "    \n",
    "cols = ['Formula', 'Sport', 'Intercept', 'Slope', 'R squared']\n",
    "\n",
    "reg_sports_res = pd.DataFrame(reg_sports_res, columns=cols)    \n",
    "reg_sports_res = reg_sports_res.sort_values(['Slope'], ascending=False)\n",
    "reg_sports_res = reg_sports_res.reset_index(drop=True)\n",
    "\n",
    "readme_df = reg_sports_res.copy().round(2)\n",
    "\n",
    "reg_sports_res = reg_sports_res.style.background_gradient(cmap='YlGn', subset='Slope')\n",
    "reg_sports_res = reg_sports_res.set_precision(2)\n",
    "\n",
    "reg_sports_res"
   ]
  },
  {
   "cell_type": "markdown",
   "metadata": {},
   "source": [
    "## Time and heart rate"
   ]
  },
  {
   "cell_type": "markdown",
   "metadata": {},
   "source": [
    "We try to enhance the model by adding `heartRateQ99`."
   ]
  },
  {
   "cell_type": "code",
   "execution_count": 76,
   "metadata": {},
   "outputs": [
    {
     "data": {
      "text/html": [
       "<table class=\"simpletable\">\n",
       "<tr>\n",
       "        <td>Model:</td>               <td>OLS</td>         <td>Adj. R-squared:</td>     <td>0.918</td>  \n",
       "</tr>\n",
       "<tr>\n",
       "  <td>Dependent Variable:</td>   <td>kiloCalories</td>          <td>AIC:</td>         <td>2910.3348</td>\n",
       "</tr>\n",
       "<tr>\n",
       "         <td>Date:</td>        <td>2020-10-02 21:09</td>        <td>BIC:</td>         <td>2921.0740</td>\n",
       "</tr>\n",
       "<tr>\n",
       "   <td>No. Observations:</td>         <td>265</td>         <td>Log-Likelihood:</td>    <td>-1452.2</td> \n",
       "</tr>\n",
       "<tr>\n",
       "       <td>Df Model:</td>              <td>2</td>           <td>F-statistic:</td>       <td>1472.</td>  \n",
       "</tr>\n",
       "<tr>\n",
       "     <td>Df Residuals:</td>           <td>262</td>       <td>Prob (F-statistic):</td> <td>3.32e-143</td>\n",
       "</tr>\n",
       "<tr>\n",
       "      <td>R-squared:</td>            <td>0.918</td>            <td>Scale:</td>         <td>3405.9</td>  \n",
       "</tr>\n",
       "</table>\n",
       "<table class=\"simpletable\">\n",
       "<tr>\n",
       "        <td></td>         <th>Coef.</th>   <th>Std.Err.</th>     <th>t</th>     <th>P>|t|</th>  <th>[0.025</th>    <th>0.975]</th>  \n",
       "</tr>\n",
       "<tr>\n",
       "  <th>Intercept</th>    <td>-420.7741</td>  <td>30.1664</td> <td>-13.9484</td> <td>0.0000</td> <td>-480.1736</td> <td>-361.3746</td>\n",
       "</tr>\n",
       "<tr>\n",
       "  <th>totalTime</th>     <td>6.2025</td>    <td>0.1353</td>   <td>45.8339</td> <td>0.0000</td>  <td>5.9361</td>    <td>6.4690</td>  \n",
       "</tr>\n",
       "<tr>\n",
       "  <th>heartRateQ99</th>  <td>3.7435</td>    <td>0.2519</td>   <td>14.8636</td> <td>0.0000</td>  <td>3.2476</td>    <td>4.2394</td>  \n",
       "</tr>\n",
       "</table>\n",
       "<table class=\"simpletable\">\n",
       "<tr>\n",
       "     <td>Omnibus:</td>    <td>14.259</td>  <td>Durbin-Watson:</td>    <td>1.917</td>\n",
       "</tr>\n",
       "<tr>\n",
       "  <td>Prob(Omnibus):</td>  <td>0.001</td> <td>Jarque-Bera (JB):</td> <td>21.717</td>\n",
       "</tr>\n",
       "<tr>\n",
       "       <td>Skew:</td>     <td>-0.355</td>     <td>Prob(JB):</td>      <td>0.000</td>\n",
       "</tr>\n",
       "<tr>\n",
       "     <td>Kurtosis:</td>    <td>4.210</td>  <td>Condition No.:</td>    <td>1106</td> \n",
       "</tr>\n",
       "</table>"
      ],
      "text/plain": [
       "<class 'statsmodels.iolib.summary2.Summary'>\n",
       "\"\"\"\n",
       "                  Results: Ordinary least squares\n",
       "===================================================================\n",
       "Model:               OLS              Adj. R-squared:     0.918    \n",
       "Dependent Variable:  kiloCalories     AIC:                2910.3348\n",
       "Date:                2020-10-02 21:09 BIC:                2921.0740\n",
       "No. Observations:    265              Log-Likelihood:     -1452.2  \n",
       "Df Model:            2                F-statistic:        1472.    \n",
       "Df Residuals:        262              Prob (F-statistic): 3.32e-143\n",
       "R-squared:           0.918            Scale:              3405.9   \n",
       "-------------------------------------------------------------------\n",
       "               Coef.   Std.Err.    t     P>|t|    [0.025    0.975] \n",
       "-------------------------------------------------------------------\n",
       "Intercept    -420.7741  30.1664 -13.9484 0.0000 -480.1736 -361.3746\n",
       "totalTime       6.2025   0.1353  45.8339 0.0000    5.9361    6.4690\n",
       "heartRateQ99    3.7435   0.2519  14.8636 0.0000    3.2476    4.2394\n",
       "-------------------------------------------------------------------\n",
       "Omnibus:              14.259        Durbin-Watson:           1.917 \n",
       "Prob(Omnibus):        0.001         Jarque-Bera (JB):        21.717\n",
       "Skew:                 -0.355        Prob(JB):                0.000 \n",
       "Kurtosis:             4.210         Condition No.:           1106  \n",
       "===================================================================\n",
       "* The condition number is large (1e+03). This might indicate\n",
       "strong multicollinearity or other numerical problems.\n",
       "\"\"\""
      ]
     },
     "execution_count": 76,
     "metadata": {},
     "output_type": "execute_result"
    }
   ],
   "source": [
    "formula = 'kiloCalories ~ totalTime + heartRateQ99'\n",
    "mdl_time_and_hr = smf.ols(formula=formula, data=reg_df)\n",
    "mdl_time_and_hr = mdl_time_and_hr.fit()\n",
    "mdl_time_and_hr.summary2()"
   ]
  },
  {
   "cell_type": "code",
   "execution_count": 77,
   "metadata": {},
   "outputs": [],
   "source": [
    "y_pred = mdl_time_and_hr.predict(reg_df)\n",
    "rmse = calc_rmse(y_pred, y_true)\n",
    "all_results.append((rmse, formula))"
   ]
  },
  {
   "cell_type": "code",
   "execution_count": 78,
   "metadata": {},
   "outputs": [
    {
     "name": "stdout",
     "output_type": "stream",
     "text": [
      "58.0287\n"
     ]
    }
   ],
   "source": [
    "print(rmse)"
   ]
  },
  {
   "cell_type": "markdown",
   "metadata": {},
   "source": [
    "## Time with random effects by workout type"
   ]
  },
  {
   "cell_type": "code",
   "execution_count": 79,
   "metadata": {
    "scrolled": false
   },
   "outputs": [
    {
     "data": {
      "text/html": [
       "<table class=\"simpletable\">\n",
       "<tr>\n",
       "       <td>Model:</td>       <td>MixedLM</td> <td>Dependent Variable:</td> <td>kiloCalories</td>\n",
       "</tr>\n",
       "<tr>\n",
       "  <td>No. Observations:</td>   <td>265</td>         <td>Method:</td>           <td>REML</td>    \n",
       "</tr>\n",
       "<tr>\n",
       "     <td>No. Groups:</td>       <td>2</td>          <td>Scale:</td>          <td>2570.3031</td> \n",
       "</tr>\n",
       "<tr>\n",
       "  <td>Min. group size:</td>    <td>61</td>      <td>Log-Likelihood:</td>    <td>-1416.8825</td> \n",
       "</tr>\n",
       "<tr>\n",
       "  <td>Max. group size:</td>    <td>204</td>       <td>Converged:</td>           <td>Yes</td>    \n",
       "</tr>\n",
       "<tr>\n",
       "  <td>Mean group size:</td>   <td>132.5</td>           <td></td>                 <td></td>      \n",
       "</tr>\n",
       "</table>\n",
       "<table class=\"simpletable\">\n",
       "<tr>\n",
       "            <td></td>              <th>Coef.</th>  <th>Std.Err.</th>    <th>z</th>   <th>P>|z|</th>  <th>[0.025</th>   <th>0.975]</th> \n",
       "</tr>\n",
       "<tr>\n",
       "  <th>Intercept</th>             <td>-475.991</td>  <td>65.174</td>  <td>-7.303</td> <td>0.000</td> <td>-603.730</td> <td>-348.252</td>\n",
       "</tr>\n",
       "<tr>\n",
       "  <th>totalTime</th>               <td>6.755</td>    <td>0.858</td>   <td>7.874</td> <td>0.000</td>   <td>5.074</td>    <td>8.437</td> \n",
       "</tr>\n",
       "<tr>\n",
       "  <th>heartRateQ99</th>            <td>3.933</td>    <td>0.220</td>  <td>17.868</td> <td>0.000</td>   <td>3.502</td>    <td>4.365</td> \n",
       "</tr>\n",
       "<tr>\n",
       "  <th>Group Var</th>              <td>210.604</td>  <td>51.671</td>     <td></td>      <td></td>        <td></td>         <td></td>    \n",
       "</tr>\n",
       "<tr>\n",
       "  <th>Group x totalTime Cov</th>   <td>9.904</td>    <td>0.550</td>     <td></td>      <td></td>        <td></td>         <td></td>    \n",
       "</tr>\n",
       "<tr>\n",
       "  <th>totalTime Var</th>           <td>0.466</td>    <td>0.036</td>     <td></td>      <td></td>        <td></td>         <td></td>    \n",
       "</tr>\n",
       "</table>"
      ],
      "text/plain": [
       "<class 'statsmodels.iolib.summary2.Summary'>\n",
       "\"\"\"\n",
       "                Mixed Linear Model Regression Results\n",
       "======================================================================\n",
       "Model:                MixedLM     Dependent Variable:     kiloCalories\n",
       "No. Observations:     265         Method:                 REML        \n",
       "No. Groups:           2           Scale:                  2570.3031   \n",
       "Min. group size:      61          Log-Likelihood:         -1416.8825  \n",
       "Max. group size:      204         Converged:              Yes         \n",
       "Mean group size:      132.5                                           \n",
       "----------------------------------------------------------------------\n",
       "                       Coef.   Std.Err.   z    P>|z|  [0.025   0.975] \n",
       "----------------------------------------------------------------------\n",
       "Intercept             -475.991   65.174 -7.303 0.000 -603.730 -348.252\n",
       "totalTime                6.755    0.858  7.874 0.000    5.074    8.437\n",
       "heartRateQ99             3.933    0.220 17.868 0.000    3.502    4.365\n",
       "Group Var              210.604   51.671                               \n",
       "Group x totalTime Cov    9.904    0.550                               \n",
       "totalTime Var            0.466    0.036                               \n",
       "======================================================================\n",
       "\n",
       "\"\"\""
      ]
     },
     "execution_count": 79,
     "metadata": {},
     "output_type": "execute_result"
    }
   ],
   "source": [
    "formula = 'kiloCalories ~ totalTime + heartRateQ99'\n",
    "re_formula = ' ~ totalTime'\n",
    "group = 'isStrength'\n",
    "\n",
    "mdl_time_with_hr_re = smf.mixedlm(formula=formula, \n",
    "                  data=reg_df, \n",
    "                  groups=reg_df[group], \n",
    "                  re_formula=re_formula)\n",
    "\n",
    "mdl_time_with_hr_re = mdl_time_with_hr_re.fit(method='lbfgs')\n",
    "mdl_time_with_hr_re.summary()"
   ]
  },
  {
   "cell_type": "code",
   "execution_count": 80,
   "metadata": {},
   "outputs": [],
   "source": [
    "y_pred = mdl_time_with_hr_re.predict(reg_df)\n",
    "rmse = calc_rmse(y_pred, y_true)\n",
    "all_results.append((rmse, formula, re_formula, group))"
   ]
  },
  {
   "cell_type": "code",
   "execution_count": 81,
   "metadata": {},
   "outputs": [
    {
     "name": "stdout",
     "output_type": "stream",
     "text": [
      "60.9247\n"
     ]
    }
   ],
   "source": [
    "print(rmse)"
   ]
  },
  {
   "cell_type": "markdown",
   "metadata": {},
   "source": [
    "## Model evaluation"
   ]
  },
  {
   "cell_type": "markdown",
   "metadata": {},
   "source": [
    "We compare the linear models created earlier:"
   ]
  },
  {
   "cell_type": "code",
   "execution_count": 82,
   "metadata": {
    "scrolled": true
   },
   "outputs": [
    {
     "data": {
      "text/html": [
       "<style  type=\"text/css\" >\n",
       "    #T_c71bbc5d_04e2_11eb_b4d2_a101a0f8ffa2row0_col0 {\n",
       "            background-color:  #fff7ec;\n",
       "            color:  #000000;\n",
       "        }    #T_c71bbc5d_04e2_11eb_b4d2_a101a0f8ffa2row1_col0 {\n",
       "            background-color:  #fee6c4;\n",
       "            color:  #000000;\n",
       "        }    #T_c71bbc5d_04e2_11eb_b4d2_a101a0f8ffa2row2_col0 {\n",
       "            background-color:  #7f0000;\n",
       "            color:  #f1f1f1;\n",
       "        }</style><table id=\"T_c71bbc5d_04e2_11eb_b4d2_a101a0f8ffa2\" ><thead>    <tr>        <th class=\"blank level0\" ></th>        <th class=\"col_heading level0 col0\" >RMSE</th>        <th class=\"col_heading level0 col1\" >Formula</th>        <th class=\"col_heading level0 col2\" >Random effects</th>        <th class=\"col_heading level0 col3\" >Groups</th>    </tr></thead><tbody>\n",
       "                <tr>\n",
       "                        <th id=\"T_c71bbc5d_04e2_11eb_b4d2_a101a0f8ffa2level0_row0\" class=\"row_heading level0 row0\" >1</th>\n",
       "                        <td id=\"T_c71bbc5d_04e2_11eb_b4d2_a101a0f8ffa2row0_col0\" class=\"data row0 col0\" >58.03</td>\n",
       "                        <td id=\"T_c71bbc5d_04e2_11eb_b4d2_a101a0f8ffa2row0_col1\" class=\"data row0 col1\" >kiloCalories ~ totalTime + heartRateQ99</td>\n",
       "                        <td id=\"T_c71bbc5d_04e2_11eb_b4d2_a101a0f8ffa2row0_col2\" class=\"data row0 col2\" >None</td>\n",
       "                        <td id=\"T_c71bbc5d_04e2_11eb_b4d2_a101a0f8ffa2row0_col3\" class=\"data row0 col3\" >None</td>\n",
       "            </tr>\n",
       "            <tr>\n",
       "                        <th id=\"T_c71bbc5d_04e2_11eb_b4d2_a101a0f8ffa2level0_row1\" class=\"row_heading level0 row1\" >2</th>\n",
       "                        <td id=\"T_c71bbc5d_04e2_11eb_b4d2_a101a0f8ffa2row1_col0\" class=\"data row1 col0\" >60.92</td>\n",
       "                        <td id=\"T_c71bbc5d_04e2_11eb_b4d2_a101a0f8ffa2row1_col1\" class=\"data row1 col1\" >kiloCalories ~ totalTime + heartRateQ99</td>\n",
       "                        <td id=\"T_c71bbc5d_04e2_11eb_b4d2_a101a0f8ffa2row1_col2\" class=\"data row1 col2\" > ~ totalTime</td>\n",
       "                        <td id=\"T_c71bbc5d_04e2_11eb_b4d2_a101a0f8ffa2row1_col3\" class=\"data row1 col3\" >isStrength</td>\n",
       "            </tr>\n",
       "            <tr>\n",
       "                        <th id=\"T_c71bbc5d_04e2_11eb_b4d2_a101a0f8ffa2level0_row2\" class=\"row_heading level0 row2\" >0</th>\n",
       "                        <td id=\"T_c71bbc5d_04e2_11eb_b4d2_a101a0f8ffa2row2_col0\" class=\"data row2 col0\" >78.78</td>\n",
       "                        <td id=\"T_c71bbc5d_04e2_11eb_b4d2_a101a0f8ffa2row2_col1\" class=\"data row2 col1\" >kiloCalories ~ totalTime</td>\n",
       "                        <td id=\"T_c71bbc5d_04e2_11eb_b4d2_a101a0f8ffa2row2_col2\" class=\"data row2 col2\" >None</td>\n",
       "                        <td id=\"T_c71bbc5d_04e2_11eb_b4d2_a101a0f8ffa2row2_col3\" class=\"data row2 col3\" >None</td>\n",
       "            </tr>\n",
       "    </tbody></table>"
      ],
      "text/plain": [
       "<pandas.io.formats.style.Styler at 0x7f1ce7a3ba60>"
      ]
     },
     "execution_count": 82,
     "metadata": {},
     "output_type": "execute_result"
    }
   ],
   "source": [
    "comp_df = pd.DataFrame(all_results, columns=['RMSE', 'Formula', 'Random effects', 'Groups'])\n",
    "comp_df = comp_df.sort_values('RMSE')\n",
    "\n",
    "comp_df = comp_df.style.background_gradient(cmap='OrRd', subset='RMSE')\n",
    "comp_df = comp_df.set_precision(2)\n",
    "\n",
    "comp_df"
   ]
  },
  {
   "cell_type": "markdown",
   "metadata": {},
   "source": [
    "For further evaluation we choose the random effects model."
   ]
  },
  {
   "cell_type": "code",
   "execution_count": 83,
   "metadata": {},
   "outputs": [],
   "source": [
    "mdl = mdl_time_with_hr_re\n",
    "residuals = mdl_time_with_hr_re.resid"
   ]
  },
  {
   "cell_type": "markdown",
   "metadata": {},
   "source": [
    "### Visual inspection"
   ]
  },
  {
   "cell_type": "markdown",
   "metadata": {},
   "source": [
    "We proceed to inspect the residuals of the model. First we view the histogram of the residuals. It can be seen that it looks normal."
   ]
  },
  {
   "cell_type": "code",
   "execution_count": 84,
   "metadata": {},
   "outputs": [
    {
     "data": {
      "image/png": "[encoded data removed]",
      "text/plain": [
       "<Figure size 288x288 with 1 Axes>"
      ]
     },
     "metadata": {
      "needs_background": "light"
     },
     "output_type": "display_data"
    }
   ],
   "source": [
    "plt.hist(residuals)\n",
    "plt.ylabel('Frequency')\n",
    "plt.xlabel('Residuals')\n",
    "plt.savefig('./img/mdl_residuals.png')\n",
    "plt.show()"
   ]
  },
  {
   "cell_type": "markdown",
   "metadata": {},
   "source": [
    "The next plot is a qqplot created to visually inspect the normality of the residuals. We see 3 nasty outliers in the top right corner."
   ]
  },
  {
   "cell_type": "code",
   "execution_count": 85,
   "metadata": {
    "scrolled": false
   },
   "outputs": [
    {
     "data": {
      "image/png": "[encoded data removed]",
      "text/plain": [
       "<Figure size 288x288 with 1 Axes>"
      ]
     },
     "metadata": {
      "needs_background": "light"
     },
     "output_type": "display_data"
    }
   ],
   "source": [
    "plt.figure()\n",
    "ax = plt.gca()\n",
    "\n",
    "qqplot(data=mdl.resid, \n",
    "       ax=ax, \n",
    "       color='#1f77b4', \n",
    "       markersize=3, \n",
    "       line='45', \n",
    "       fit=True, \n",
    "       alpha=1/2)\n",
    "\n",
    "plt.savefig('./img/mdl_qq.png')\n",
    "plt.show()"
   ]
  },
  {
   "cell_type": "markdown",
   "metadata": {},
   "source": [
    "The third plot we make is a plot of the standardized residuals to check for homoskedasticity. Again we see the same outliers as on the plot above."
   ]
  },
  {
   "cell_type": "code",
   "execution_count": 86,
   "metadata": {},
   "outputs": [
    {
     "data": {
      "image/png": "[encoded data removed]",
      "text/plain": [
       "<Figure size 288x288 with 1 Axes>"
      ]
     },
     "metadata": {
      "needs_background": "light"
     },
     "output_type": "display_data"
    }
   ],
   "source": [
    "residuals_std = np.abs((residuals - np.mean(residuals)) / np.std(residuals))\n",
    "plt.plot(residuals_std, 'o', markersize=2)\n",
    "plt.xlabel('Observation')\n",
    "plt.ylabel('Standardized residuals')\n",
    "plt.savefig('./img/mdl_residuals_std.png')\n",
    "plt.show()"
   ]
  },
  {
   "cell_type": "markdown",
   "metadata": {},
   "source": [
    "Finally we compare the predicted `kiloCalories` with the actual values."
   ]
  },
  {
   "cell_type": "code",
   "execution_count": 87,
   "metadata": {},
   "outputs": [
    {
     "data": {
      "image/png": "[encoded data removed]",
      "text/plain": [
       "<Figure size 288x288 with 1 Axes>"
      ]
     },
     "metadata": {
      "needs_background": "light"
     },
     "output_type": "display_data"
    }
   ],
   "source": [
    "y_pred = mdl.predict(reg_df)\n",
    "y_pred = y_pred.to_numpy().reshape(len(y_pred))\n",
    "\n",
    "m = np.min(np.hstack([y_true, y_pred]))\n",
    "M = np.max(np.hstack([y_true, y_pred]))\n",
    "\n",
    "x = np.linspace(m, M, len(y_pred))\n",
    "plt.plot(y_true, y_pred, 'o', markersize=2)\n",
    "plt.plot(x,x, alpha=3/4)\n",
    "plt.ylabel('Predicted')\n",
    "plt.xlabel('Actual')\n",
    "plt.savefig('./img/mdl_predicted_vs_actual.png')\n",
    "plt.show()"
   ]
  },
  {
   "cell_type": "markdown",
   "metadata": {},
   "source": [
    "The next step is to take a look at the data points with the biggest error. As can be seen the model has issues predicting strength training workouts."
   ]
  },
  {
   "cell_type": "code",
   "execution_count": 88,
   "metadata": {},
   "outputs": [
    {
     "data": {
      "text/html": [
       "<style  type=\"text/css\" >\n",
       "    #T_c83c27fa_04e2_11eb_b4d2_a101a0f8ffa2row0_col2 {\n",
       "            background-color:  #7f0000;\n",
       "            color:  #f1f1f1;\n",
       "        }    #T_c83c27fa_04e2_11eb_b4d2_a101a0f8ffa2row1_col2 {\n",
       "            background-color:  #fdce98;\n",
       "            color:  #000000;\n",
       "        }    #T_c83c27fa_04e2_11eb_b4d2_a101a0f8ffa2row2_col2 {\n",
       "            background-color:  #fee4bf;\n",
       "            color:  #000000;\n",
       "        }    #T_c83c27fa_04e2_11eb_b4d2_a101a0f8ffa2row3_col2 {\n",
       "            background-color:  #fee6c4;\n",
       "            color:  #000000;\n",
       "        }    #T_c83c27fa_04e2_11eb_b4d2_a101a0f8ffa2row4_col2 {\n",
       "            background-color:  #fff7ec;\n",
       "            color:  #000000;\n",
       "        }</style><table id=\"T_c83c27fa_04e2_11eb_b4d2_a101a0f8ffa2\" ><thead>    <tr>        <th class=\"blank level0\" ></th>        <th class=\"col_heading level0 col0\" >kiloCaloriesPredicted</th>        <th class=\"col_heading level0 col1\" >kiloCalories</th>        <th class=\"col_heading level0 col2\" >error</th>        <th class=\"col_heading level0 col3\" >totalTime</th>        <th class=\"col_heading level0 col4\" >isStrength</th>    </tr></thead><tbody>\n",
       "                <tr>\n",
       "                        <th id=\"T_c83c27fa_04e2_11eb_b4d2_a101a0f8ffa2level0_row0\" class=\"row_heading level0 row0\" >0</th>\n",
       "                        <td id=\"T_c83c27fa_04e2_11eb_b4d2_a101a0f8ffa2row0_col0\" class=\"data row0 col0\" >573.76</td>\n",
       "                        <td id=\"T_c83c27fa_04e2_11eb_b4d2_a101a0f8ffa2row0_col1\" class=\"data row0 col1\" >338.00</td>\n",
       "                        <td id=\"T_c83c27fa_04e2_11eb_b4d2_a101a0f8ffa2row0_col2\" class=\"data row0 col2\" >235.76</td>\n",
       "                        <td id=\"T_c83c27fa_04e2_11eb_b4d2_a101a0f8ffa2row0_col3\" class=\"data row0 col3\" >91.35</td>\n",
       "                        <td id=\"T_c83c27fa_04e2_11eb_b4d2_a101a0f8ffa2row0_col4\" class=\"data row0 col4\" >1</td>\n",
       "            </tr>\n",
       "            <tr>\n",
       "                        <th id=\"T_c83c27fa_04e2_11eb_b4d2_a101a0f8ffa2level0_row1\" class=\"row_heading level0 row1\" >1</th>\n",
       "                        <td id=\"T_c83c27fa_04e2_11eb_b4d2_a101a0f8ffa2row1_col0\" class=\"data row1 col0\" >546.98</td>\n",
       "                        <td id=\"T_c83c27fa_04e2_11eb_b4d2_a101a0f8ffa2row1_col1\" class=\"data row1 col1\" >373.00</td>\n",
       "                        <td id=\"T_c83c27fa_04e2_11eb_b4d2_a101a0f8ffa2row1_col2\" class=\"data row1 col2\" >173.98</td>\n",
       "                        <td id=\"T_c83c27fa_04e2_11eb_b4d2_a101a0f8ffa2row1_col3\" class=\"data row1 col3\" >78.07</td>\n",
       "                        <td id=\"T_c83c27fa_04e2_11eb_b4d2_a101a0f8ffa2row1_col4\" class=\"data row1 col4\" >1</td>\n",
       "            </tr>\n",
       "            <tr>\n",
       "                        <th id=\"T_c83c27fa_04e2_11eb_b4d2_a101a0f8ffa2level0_row2\" class=\"row_heading level0 row2\" >2</th>\n",
       "                        <td id=\"T_c83c27fa_04e2_11eb_b4d2_a101a0f8ffa2row2_col0\" class=\"data row2 col0\" >631.69</td>\n",
       "                        <td id=\"T_c83c27fa_04e2_11eb_b4d2_a101a0f8ffa2row2_col1\" class=\"data row2 col1\" >795.00</td>\n",
       "                        <td id=\"T_c83c27fa_04e2_11eb_b4d2_a101a0f8ffa2row2_col2\" class=\"data row2 col2\" >163.31</td>\n",
       "                        <td id=\"T_c83c27fa_04e2_11eb_b4d2_a101a0f8ffa2row2_col3\" class=\"data row2 col3\" >69.65</td>\n",
       "                        <td id=\"T_c83c27fa_04e2_11eb_b4d2_a101a0f8ffa2row2_col4\" class=\"data row2 col4\" >0</td>\n",
       "            </tr>\n",
       "            <tr>\n",
       "                        <th id=\"T_c83c27fa_04e2_11eb_b4d2_a101a0f8ffa2level0_row3\" class=\"row_heading level0 row3\" >3</th>\n",
       "                        <td id=\"T_c83c27fa_04e2_11eb_b4d2_a101a0f8ffa2row3_col0\" class=\"data row3 col0\" >562.00</td>\n",
       "                        <td id=\"T_c83c27fa_04e2_11eb_b4d2_a101a0f8ffa2row3_col1\" class=\"data row3 col1\" >400.00</td>\n",
       "                        <td id=\"T_c83c27fa_04e2_11eb_b4d2_a101a0f8ffa2row3_col2\" class=\"data row3 col2\" >162.00</td>\n",
       "                        <td id=\"T_c83c27fa_04e2_11eb_b4d2_a101a0f8ffa2row3_col3\" class=\"data row3 col3\" >76.80</td>\n",
       "                        <td id=\"T_c83c27fa_04e2_11eb_b4d2_a101a0f8ffa2row3_col4\" class=\"data row3 col4\" >1</td>\n",
       "            </tr>\n",
       "            <tr>\n",
       "                        <th id=\"T_c83c27fa_04e2_11eb_b4d2_a101a0f8ffa2level0_row4\" class=\"row_heading level0 row4\" >4</th>\n",
       "                        <td id=\"T_c83c27fa_04e2_11eb_b4d2_a101a0f8ffa2row4_col0\" class=\"data row4 col0\" >412.98</td>\n",
       "                        <td id=\"T_c83c27fa_04e2_11eb_b4d2_a101a0f8ffa2row4_col1\" class=\"data row4 col1\" >263.00</td>\n",
       "                        <td id=\"T_c83c27fa_04e2_11eb_b4d2_a101a0f8ffa2row4_col2\" class=\"data row4 col2\" >149.98</td>\n",
       "                        <td id=\"T_c83c27fa_04e2_11eb_b4d2_a101a0f8ffa2row4_col3\" class=\"data row4 col3\" >67.55</td>\n",
       "                        <td id=\"T_c83c27fa_04e2_11eb_b4d2_a101a0f8ffa2row4_col4\" class=\"data row4 col4\" >1</td>\n",
       "            </tr>\n",
       "    </tbody></table>"
      ],
      "text/plain": [
       "<pandas.io.formats.style.Styler at 0x7f1ce7d41a90>"
      ]
     },
     "execution_count": 88,
     "metadata": {},
     "output_type": "execute_result"
    }
   ],
   "source": [
    "errors = reg_df.copy()\n",
    "errors['kiloCaloriesPredicted'] = mdl.predict(reg_df)\n",
    "\n",
    "errors['error'] = np.abs(errors['kiloCalories'] - errors['kiloCaloriesPredicted'])\n",
    "\n",
    "errors = errors.sort_values('error', ascending=False)\n",
    "errors = errors.reset_index(drop=True)\n",
    "\n",
    "order = ['kiloCaloriesPredicted',\n",
    "         'kiloCalories', \n",
    "         'error',\n",
    "         'totalTime',\n",
    "         'isStrength']\n",
    "\n",
    "errors = errors[order]\n",
    "\n",
    "errors = errors.head(5)\n",
    "\n",
    "errors = errors.style.background_gradient(cmap='OrRd', subset='error')\n",
    "errors = errors.set_precision(2)\n",
    "\n",
    "errors"
   ]
  },
  {
   "cell_type": "markdown",
   "metadata": {},
   "source": [
    "# Summary"
   ]
  },
  {
   "cell_type": "code",
   "execution_count": 89,
   "metadata": {},
   "outputs": [],
   "source": [
    "# Make table for README\n",
    "# print(tabulate.tabulate(readme_df.values, readme_df.columns, tablefmt=\"pipe\"))"
   ]
  },
  {
   "cell_type": "markdown",
   "metadata": {},
   "source": [
    "* I downloaded data generated by my Polar watch that tracks `heart rate` and estimates burned `kilocalories` during workouts.\n",
    "\n",
    "* The data came in the form of `.json` files which were read, transformed and cleaned with `pandas`. \n",
    "\n",
    "* The clean dataset contains `283` workouts over a nearly one year period during which I burned roughly `12kg` of body fat.\n",
    "\n",
    "* After further transforming the data, I find that the `duration` of a workout and `kilocalorie`s burned have a `0.92` correlation. \n",
    "\n",
    "* Several linear regressions were performed. \n",
    "\n",
    "* `kilocalories ~ duration` on the entire dataset achieved `R^2 = 0.85` and `RMSE = 79`.\n",
    "\n",
    "* Regressions were performed on subsets of the data, specifically by sport - the highest slope is 10.14 `kiloCalories` per minute.\n",
    "\n",
    "<!-- <center> -->\n",
    "| Formula                  | Sport             |   Intercept |   Slope |   R squared |\n",
    "|:-------------------------|:------------------|------------:|--------:|------------:|\n",
    "| kiloCalories ~ totalTime | treadmill_running |      -21.23 |   10.14 |        0.96 |\n",
    "| kiloCalories ~ totalTime | cycling           |       -9.73 |    7.44 |        0.98 |\n",
    "| kiloCalories ~ totalTime | walking           |       12.59 |    6.95 |        0.82 |\n",
    "| kiloCalories ~ totalTime | strength_training |      -12.73 |    6.76 |        0.44 |\n",
    "<!-- </center> -->\n",
    "\n",
    "* A `linear mixed model with random effects` was created and validated. It achieved a `RMSE = 61` and normal looking residuals.\n",
    "\n",
    "* The biggest errors made by the mixed model was on strength training data points."
   ]
  }
 ],
 "metadata": {
  "kernelspec": {
   "display_name": "Python 3",
   "language": "python",
   "name": "python3"
  },
  "language_info": {
   "codemirror_mode": {
    "name": "ipython",
    "version": 3
   },
   "file_extension": ".py",
   "mimetype": "text/x-python",
   "name": "python",
   "nbconvert_exporter": "python",
   "pygments_lexer": "ipython3",
   "version": "3.8.2"
  }
 },
 "nbformat": 4,
 "nbformat_minor": 4
}
