{
 "cells": [
  {
   "cell_type": "markdown",
   "metadata": {},
   "source": [
    "# Imports"
   ]
  },
  {
   "cell_type": "code",
   "execution_count": 1,
   "metadata": {},
   "outputs": [],
   "source": [
    "import json\n",
    "from functools import reduce\n",
    "from os import listdir\n",
    "from os.path import isfile, join\n",
    "from pathlib import Path\n",
    "\n",
    "import matplotlib.pyplot as plt\n",
    "import numpy as np\n",
    "import pandas as pd\n",
    "import statsmodels.api as sm\n",
    "from pylab import rcParams\n",
    "from scipy.stats import shapiro\n",
    "from statsmodels.graphics.gofplots import qqplot\n",
    "from statsmodels.stats.diagnostic import het_breuschpagan\n",
    "from statsmodels.stats.outliers_influence import variance_inflation_factor"
   ]
  },
  {
   "cell_type": "markdown",
   "metadata": {},
   "source": [
    "# Setup"
   ]
  },
  {
   "cell_type": "code",
   "execution_count": 2,
   "metadata": {},
   "outputs": [],
   "source": [
    "# Set figure size\n",
    "rcParams['figure.figsize'] = (4, 4)\n",
    "\n",
    "# Folder for images\n",
    "Path('img').mkdir(parents=True, exist_ok=True)\n",
    "\n",
    "# Nice float format\n",
    "pd.options.display.float_format = \"{:,.2f}\".format"
   ]
  },
  {
   "cell_type": "markdown",
   "metadata": {},
   "source": [
    "# Data description\n",
    "\n",
    "Last year I purchased a Polar watch that tracks my vitals during workouts. I used the [Polar Flow](polar.flow.com) website to obtain a copy of my data. For privacy reasons I shall not be sharing the dataset."
   ]
  },
  {
   "cell_type": "code",
   "execution_count": 3,
   "metadata": {},
   "outputs": [],
   "source": [
    "path = './data/'"
   ]
  },
  {
   "cell_type": "markdown",
   "metadata": {},
   "source": [
    "First, we create a list of files in the download."
   ]
  },
  {
   "cell_type": "code",
   "execution_count": 4,
   "metadata": {
    "scrolled": true
   },
   "outputs": [],
   "source": [
    "files = [f for f in listdir(path) if isfile(join(path, f))]"
   ]
  },
  {
   "cell_type": "markdown",
   "metadata": {},
   "source": [
    "We shall only consider files containing the string `'training-session'`."
   ]
  },
  {
   "cell_type": "code",
   "execution_count": 5,
   "metadata": {},
   "outputs": [],
   "source": [
    "files = [f for f in files if 'training-session' in f]"
   ]
  },
  {
   "cell_type": "markdown",
   "metadata": {},
   "source": [
    "The number of files under consideration is:"
   ]
  },
  {
   "cell_type": "code",
   "execution_count": 6,
   "metadata": {},
   "outputs": [
    {
     "data": {
      "text/plain": [
       "284"
      ]
     },
     "execution_count": 6,
     "metadata": {},
     "output_type": "execute_result"
    }
   ],
   "source": [
    "len(files)"
   ]
  },
  {
   "cell_type": "markdown",
   "metadata": {},
   "source": [
    "We loop over each of the files and them to a list."
   ]
  },
  {
   "cell_type": "code",
   "execution_count": 7,
   "metadata": {},
   "outputs": [],
   "source": [
    "data = []\n",
    "\n",
    "for f in files:\n",
    "    with open(join(path, f)) as f:\n",
    "        d = json.load(f)\n",
    "        data.append(d)"
   ]
  },
  {
   "cell_type": "markdown",
   "metadata": {},
   "source": [
    "We define a function to extract statistics about heart rate measured during the workouts."
   ]
  },
  {
   "cell_type": "code",
   "execution_count": 8,
   "metadata": {},
   "outputs": [],
   "source": [
    "quantiles = [0.01, 0.25, 0.5, 0.75, 0.99]"
   ]
  },
  {
   "cell_type": "code",
   "execution_count": 9,
   "metadata": {},
   "outputs": [],
   "source": [
    "def extract_hr_info(workout, quantiles):\n",
    "    \n",
    "    stats = {'heartRateAvg2': np.nan,\n",
    "             'heartRateStd': np.nan}    \n",
    "\n",
    "    for q in quantiles:\n",
    "        stats[f'heartRateQ' + str(int(q * 100))] = np.nan\n",
    "    \n",
    "    # Check if data exists\n",
    "    try:\n",
    "        heart_rates = workout['exercises'][0]['samples']['heartRate']    \n",
    "    except KeyError:\n",
    "        return stats\n",
    "     \n",
    "    # Loop over measurements\n",
    "    hr_data = []\n",
    "    for hr in heart_rates:\n",
    "        \n",
    "        # Check if actually measured hr\n",
    "        if 'value' in hr:\n",
    "            hr_data.append(hr['value'])    \n",
    "\n",
    "    stats['heartRateAvg2'] = np.mean(hr_data)\n",
    "    stats['heartRateStd'] = np.std(hr_data)\n",
    "    \n",
    "    for q in quantiles:\n",
    "        stats[f'heartRateQ' + str(int(q * 100))] = np.quantile(hr_data, q)\n",
    "    \n",
    "    return stats"
   ]
  },
  {
   "cell_type": "markdown",
   "metadata": {},
   "source": [
    "We extract the relevant information from the items in the list."
   ]
  },
  {
   "cell_type": "code",
   "execution_count": 10,
   "metadata": {},
   "outputs": [],
   "source": [
    "workouts = []\n",
    "\n",
    "for d in data:\n",
    "    basic = d['exercises'][0]\n",
    "    hr = extract_hr_info(workout=d, \n",
    "                         quantiles=quantiles)\n",
    "    \n",
    "    workouts.append({**basic, **hr})"
   ]
  },
  {
   "cell_type": "markdown",
   "metadata": {},
   "source": [
    "Finally we create a dataframe containing the workout information."
   ]
  },
  {
   "cell_type": "code",
   "execution_count": 11,
   "metadata": {},
   "outputs": [],
   "source": [
    "df = pd.DataFrame(workouts)"
   ]
  },
  {
   "cell_type": "markdown",
   "metadata": {},
   "source": [
    "# Data structure\n",
    "\n",
    "We find the following columns in the dataframe."
   ]
  },
  {
   "cell_type": "code",
   "execution_count": 12,
   "metadata": {},
   "outputs": [
    {
     "name": "stdout",
     "output_type": "stream",
     "text": [
      "<class 'pandas.core.frame.DataFrame'>\n",
      "RangeIndex: 284 entries, 0 to 283\n",
      "Data columns (total 24 columns):\n",
      " #   Column          Non-Null Count  Dtype  \n",
      "---  ------          --------------  -----  \n",
      " 0   startTime       284 non-null    object \n",
      " 1   stopTime        284 non-null    object \n",
      " 2   timezoneOffset  284 non-null    int64  \n",
      " 3   duration        284 non-null    object \n",
      " 4   sport           284 non-null    object \n",
      " 5   kiloCalories    283 non-null    float64\n",
      " 6   heartRate       283 non-null    object \n",
      " 7   zones           284 non-null    object \n",
      " 8   samples         284 non-null    object \n",
      " 9   heartRateAvg2   283 non-null    float64\n",
      " 10  heartRateStd    283 non-null    float64\n",
      " 11  heartRateQ1     283 non-null    float64\n",
      " 12  heartRateQ25    283 non-null    float64\n",
      " 13  heartRateQ50    283 non-null    float64\n",
      " 14  heartRateQ75    283 non-null    float64\n",
      " 15  heartRateQ99    283 non-null    float64\n",
      " 16  distance        130 non-null    float64\n",
      " 17  latitude        130 non-null    float64\n",
      " 18  longitude       130 non-null    float64\n",
      " 19  ascent          120 non-null    float64\n",
      " 20  descent         121 non-null    float64\n",
      " 21  speed           130 non-null    object \n",
      " 22  autoLaps        102 non-null    object \n",
      " 23  laps            2 non-null      object \n",
      "dtypes: float64(13), int64(1), object(10)\n",
      "memory usage: 53.4+ KB\n"
     ]
    }
   ],
   "source": [
    "df.info()"
   ]
  },
  {
   "cell_type": "markdown",
   "metadata": {},
   "source": [
    "We remove columns that containt data from features I do not use in my training."
   ]
  },
  {
   "cell_type": "markdown",
   "metadata": {},
   "source": [
    "Due to privacy concerns I shan't be extracting longitudinal and latitudinal data."
   ]
  },
  {
   "cell_type": "code",
   "execution_count": 13,
   "metadata": {},
   "outputs": [],
   "source": [
    "df = df.drop(['zones', 'samples', 'autoLaps', \n",
    "              'laps', 'latitude', 'longitude', \n",
    "              'ascent', 'descent'], axis=1)"
   ]
  },
  {
   "cell_type": "code",
   "execution_count": 14,
   "metadata": {
    "scrolled": false
   },
   "outputs": [
    {
     "data": {
      "text/html": [
       "<div>\n",
       "<style scoped>\n",
       "    .dataframe tbody tr th:only-of-type {\n",
       "        vertical-align: middle;\n",
       "    }\n",
       "\n",
       "    .dataframe tbody tr th {\n",
       "        vertical-align: top;\n",
       "    }\n",
       "\n",
       "    .dataframe thead th {\n",
       "        text-align: right;\n",
       "    }\n",
       "</style>\n",
       "<table border=\"1\" class=\"dataframe\">\n",
       "  <thead>\n",
       "    <tr style=\"text-align: right;\">\n",
       "      <th></th>\n",
       "      <th>startTime</th>\n",
       "      <th>stopTime</th>\n",
       "      <th>timezoneOffset</th>\n",
       "      <th>duration</th>\n",
       "      <th>sport</th>\n",
       "      <th>kiloCalories</th>\n",
       "      <th>heartRate</th>\n",
       "      <th>heartRateAvg2</th>\n",
       "      <th>heartRateStd</th>\n",
       "      <th>heartRateQ1</th>\n",
       "      <th>heartRateQ25</th>\n",
       "      <th>heartRateQ50</th>\n",
       "      <th>heartRateQ75</th>\n",
       "      <th>heartRateQ99</th>\n",
       "      <th>distance</th>\n",
       "      <th>speed</th>\n",
       "    </tr>\n",
       "  </thead>\n",
       "  <tbody>\n",
       "    <tr>\n",
       "      <th>0</th>\n",
       "      <td>2019-05-24T13:18:14.000</td>\n",
       "      <td>2019-05-24T14:58:44.125</td>\n",
       "      <td>120</td>\n",
       "      <td>PT6030.125S</td>\n",
       "      <td>STRENGTH_TRAINING</td>\n",
       "      <td>658.00</td>\n",
       "      <td>{'min': 72, 'avg': 105, 'max': 136}</td>\n",
       "      <td>104.77</td>\n",
       "      <td>11.28</td>\n",
       "      <td>77.00</td>\n",
       "      <td>99.00</td>\n",
       "      <td>105.00</td>\n",
       "      <td>111.00</td>\n",
       "      <td>132.00</td>\n",
       "      <td>nan</td>\n",
       "      <td>NaN</td>\n",
       "    </tr>\n",
       "    <tr>\n",
       "      <th>1</th>\n",
       "      <td>2019-05-04T12:03:34.000</td>\n",
       "      <td>2019-05-04T13:21:38.500</td>\n",
       "      <td>120</td>\n",
       "      <td>PT4684.500S</td>\n",
       "      <td>STRENGTH_TRAINING</td>\n",
       "      <td>373.00</td>\n",
       "      <td>{'min': 71, 'avg': 99, 'max': 138}</td>\n",
       "      <td>98.65</td>\n",
       "      <td>12.51</td>\n",
       "      <td>74.00</td>\n",
       "      <td>91.00</td>\n",
       "      <td>97.00</td>\n",
       "      <td>106.00</td>\n",
       "      <td>126.00</td>\n",
       "      <td>nan</td>\n",
       "      <td>NaN</td>\n",
       "    </tr>\n",
       "    <tr>\n",
       "      <th>2</th>\n",
       "      <td>2019-04-12T12:48:57.000</td>\n",
       "      <td>2019-04-12T12:59:10.750</td>\n",
       "      <td>120</td>\n",
       "      <td>PT613.750S</td>\n",
       "      <td>TREADMILL_RUNNING</td>\n",
       "      <td>62.00</td>\n",
       "      <td>{'min': 71, 'avg': 97, 'max': 107}</td>\n",
       "      <td>97.07</td>\n",
       "      <td>8.00</td>\n",
       "      <td>72.00</td>\n",
       "      <td>94.00</td>\n",
       "      <td>97.00</td>\n",
       "      <td>104.00</td>\n",
       "      <td>107.00</td>\n",
       "      <td>nan</td>\n",
       "      <td>NaN</td>\n",
       "    </tr>\n",
       "    <tr>\n",
       "      <th>3</th>\n",
       "      <td>2019-06-12T13:13:09.000</td>\n",
       "      <td>2019-06-12T13:23:15.500</td>\n",
       "      <td>120</td>\n",
       "      <td>PT606.500S</td>\n",
       "      <td>TREADMILL_RUNNING</td>\n",
       "      <td>71.00</td>\n",
       "      <td>{'min': 67, 'avg': 105, 'max': 121}</td>\n",
       "      <td>105.24</td>\n",
       "      <td>11.25</td>\n",
       "      <td>67.96</td>\n",
       "      <td>98.00</td>\n",
       "      <td>104.00</td>\n",
       "      <td>118.00</td>\n",
       "      <td>121.00</td>\n",
       "      <td>nan</td>\n",
       "      <td>NaN</td>\n",
       "    </tr>\n",
       "    <tr>\n",
       "      <th>4</th>\n",
       "      <td>2019-05-24T14:59:06.000</td>\n",
       "      <td>2019-05-24T15:29:08.750</td>\n",
       "      <td>120</td>\n",
       "      <td>PT1802.750S</td>\n",
       "      <td>TREADMILL_RUNNING</td>\n",
       "      <td>416.00</td>\n",
       "      <td>{'min': 84, 'avg': 144, 'max': 170}</td>\n",
       "      <td>143.85</td>\n",
       "      <td>18.47</td>\n",
       "      <td>87.00</td>\n",
       "      <td>133.00</td>\n",
       "      <td>146.00</td>\n",
       "      <td>158.00</td>\n",
       "      <td>169.00</td>\n",
       "      <td>nan</td>\n",
       "      <td>NaN</td>\n",
       "    </tr>\n",
       "  </tbody>\n",
       "</table>\n",
       "</div>"
      ],
      "text/plain": [
       "                 startTime                 stopTime  timezoneOffset  \\\n",
       "0  2019-05-24T13:18:14.000  2019-05-24T14:58:44.125             120   \n",
       "1  2019-05-04T12:03:34.000  2019-05-04T13:21:38.500             120   \n",
       "2  2019-04-12T12:48:57.000  2019-04-12T12:59:10.750             120   \n",
       "3  2019-06-12T13:13:09.000  2019-06-12T13:23:15.500             120   \n",
       "4  2019-05-24T14:59:06.000  2019-05-24T15:29:08.750             120   \n",
       "\n",
       "      duration              sport  kiloCalories  \\\n",
       "0  PT6030.125S  STRENGTH_TRAINING        658.00   \n",
       "1  PT4684.500S  STRENGTH_TRAINING        373.00   \n",
       "2   PT613.750S  TREADMILL_RUNNING         62.00   \n",
       "3   PT606.500S  TREADMILL_RUNNING         71.00   \n",
       "4  PT1802.750S  TREADMILL_RUNNING        416.00   \n",
       "\n",
       "                             heartRate  heartRateAvg2  heartRateStd  \\\n",
       "0  {'min': 72, 'avg': 105, 'max': 136}         104.77         11.28   \n",
       "1   {'min': 71, 'avg': 99, 'max': 138}          98.65         12.51   \n",
       "2   {'min': 71, 'avg': 97, 'max': 107}          97.07          8.00   \n",
       "3  {'min': 67, 'avg': 105, 'max': 121}         105.24         11.25   \n",
       "4  {'min': 84, 'avg': 144, 'max': 170}         143.85         18.47   \n",
       "\n",
       "   heartRateQ1  heartRateQ25  heartRateQ50  heartRateQ75  heartRateQ99  \\\n",
       "0        77.00         99.00        105.00        111.00        132.00   \n",
       "1        74.00         91.00         97.00        106.00        126.00   \n",
       "2        72.00         94.00         97.00        104.00        107.00   \n",
       "3        67.96         98.00        104.00        118.00        121.00   \n",
       "4        87.00        133.00        146.00        158.00        169.00   \n",
       "\n",
       "   distance speed  \n",
       "0       nan   NaN  \n",
       "1       nan   NaN  \n",
       "2       nan   NaN  \n",
       "3       nan   NaN  \n",
       "4       nan   NaN  "
      ]
     },
     "execution_count": 14,
     "metadata": {},
     "output_type": "execute_result"
    }
   ],
   "source": [
    "df.head()"
   ]
  },
  {
   "cell_type": "markdown",
   "metadata": {},
   "source": [
    "# Missing Values"
   ]
  },
  {
   "cell_type": "markdown",
   "metadata": {},
   "source": [
    "The watch tracks different information for different workouts. For example when walking it tracks location but when walking on a treadmill it doesn't, hence there is quite a lot of missing data."
   ]
  },
  {
   "cell_type": "code",
   "execution_count": 15,
   "metadata": {},
   "outputs": [
    {
     "data": {
      "text/html": [
       "<div>\n",
       "<style scoped>\n",
       "    .dataframe tbody tr th:only-of-type {\n",
       "        vertical-align: middle;\n",
       "    }\n",
       "\n",
       "    .dataframe tbody tr th {\n",
       "        vertical-align: top;\n",
       "    }\n",
       "\n",
       "    .dataframe thead th {\n",
       "        text-align: right;\n",
       "    }\n",
       "</style>\n",
       "<table border=\"1\" class=\"dataframe\">\n",
       "  <thead>\n",
       "    <tr style=\"text-align: right;\">\n",
       "      <th></th>\n",
       "      <th>Percent missing</th>\n",
       "    </tr>\n",
       "  </thead>\n",
       "  <tbody>\n",
       "    <tr>\n",
       "      <th>distance</th>\n",
       "      <td>54.23</td>\n",
       "    </tr>\n",
       "    <tr>\n",
       "      <th>speed</th>\n",
       "      <td>54.23</td>\n",
       "    </tr>\n",
       "    <tr>\n",
       "      <th>kiloCalories</th>\n",
       "      <td>0.35</td>\n",
       "    </tr>\n",
       "    <tr>\n",
       "      <th>heartRate</th>\n",
       "      <td>0.35</td>\n",
       "    </tr>\n",
       "    <tr>\n",
       "      <th>heartRateAvg2</th>\n",
       "      <td>0.35</td>\n",
       "    </tr>\n",
       "    <tr>\n",
       "      <th>heartRateStd</th>\n",
       "      <td>0.35</td>\n",
       "    </tr>\n",
       "    <tr>\n",
       "      <th>heartRateQ1</th>\n",
       "      <td>0.35</td>\n",
       "    </tr>\n",
       "    <tr>\n",
       "      <th>heartRateQ25</th>\n",
       "      <td>0.35</td>\n",
       "    </tr>\n",
       "    <tr>\n",
       "      <th>heartRateQ50</th>\n",
       "      <td>0.35</td>\n",
       "    </tr>\n",
       "    <tr>\n",
       "      <th>heartRateQ75</th>\n",
       "      <td>0.35</td>\n",
       "    </tr>\n",
       "    <tr>\n",
       "      <th>heartRateQ99</th>\n",
       "      <td>0.35</td>\n",
       "    </tr>\n",
       "  </tbody>\n",
       "</table>\n",
       "</div>"
      ],
      "text/plain": [
       "               Percent missing\n",
       "distance                 54.23\n",
       "speed                    54.23\n",
       "kiloCalories              0.35\n",
       "heartRate                 0.35\n",
       "heartRateAvg2             0.35\n",
       "heartRateStd              0.35\n",
       "heartRateQ1               0.35\n",
       "heartRateQ25              0.35\n",
       "heartRateQ50              0.35\n",
       "heartRateQ75              0.35\n",
       "heartRateQ99              0.35"
      ]
     },
     "execution_count": 15,
     "metadata": {},
     "output_type": "execute_result"
    }
   ],
   "source": [
    "missing = (df.isna().sum() / df.shape[0] * 100)\n",
    "missing.name = 'Percent missing'\n",
    "missing = missing.to_frame()\n",
    "missing = missing.sort_values('Percent missing', ascending=False)\n",
    "missing = missing[missing['Percent missing'] > 0]\n",
    "np.round(missing, 2)"
   ]
  },
  {
   "cell_type": "markdown",
   "metadata": {},
   "source": [
    "# Transforms"
   ]
  },
  {
   "cell_type": "markdown",
   "metadata": {},
   "source": [
    "We apply certain transforms to make the data easier to work with. First we convert strings to datetimes."
   ]
  },
  {
   "cell_type": "code",
   "execution_count": 16,
   "metadata": {},
   "outputs": [],
   "source": [
    "df['startTime'] = pd.to_datetime(df['startTime'])\n",
    "df['stopTime'] = pd.to_datetime(df['stopTime'])"
   ]
  },
  {
   "cell_type": "markdown",
   "metadata": {},
   "source": [
    "We calculate the total duration of each individual workout in minutes."
   ]
  },
  {
   "cell_type": "code",
   "execution_count": 17,
   "metadata": {
    "scrolled": false
   },
   "outputs": [],
   "source": [
    "df['totalTime'] = (df['stopTime'] - df['startTime'])\n",
    "df['totalTime'] = df['totalTime'].apply(lambda x: round(x.seconds / 60, 2))\n",
    "df.drop('duration', axis=1, inplace=True)"
   ]
  },
  {
   "cell_type": "markdown",
   "metadata": {},
   "source": [
    "We extract maximum, average and minimum heart rate values from the `heartRate` column."
   ]
  },
  {
   "cell_type": "code",
   "execution_count": 18,
   "metadata": {},
   "outputs": [],
   "source": [
    "df['heartRateMax'] = df['heartRate'].apply(lambda x: x['max'] if isinstance(x, dict) else np.nan)\n",
    "df['heartRateAvg'] = df['heartRate'].apply(lambda x: x['avg'] if isinstance(x, dict) else np.nan)\n",
    "df['heartRateMin'] = df['heartRate'].apply(lambda x: x['min'] if isinstance(x, dict) else np.nan)\n",
    "df.drop('heartRate', axis=1, inplace=True)"
   ]
  },
  {
   "cell_type": "markdown",
   "metadata": {},
   "source": [
    "We assume that if there is no `distance` then the workout was indoors:"
   ]
  },
  {
   "cell_type": "code",
   "execution_count": 19,
   "metadata": {},
   "outputs": [],
   "source": [
    "df['indoors'] = df['distance'].apply(lambda x: True if pd.isnull(x) else False)\n",
    "df = df.drop(['distance', 'speed'], axis=1)"
   ]
  },
  {
   "cell_type": "markdown",
   "metadata": {},
   "source": [
    "We extract a list of unique `sport` values:"
   ]
  },
  {
   "cell_type": "code",
   "execution_count": 20,
   "metadata": {},
   "outputs": [],
   "source": [
    "sports = sorted(list(df['sport'].unique()))"
   ]
  },
  {
   "cell_type": "markdown",
   "metadata": {},
   "source": [
    "We reorder the alphabetically"
   ]
  },
  {
   "cell_type": "code",
   "execution_count": 21,
   "metadata": {},
   "outputs": [],
   "source": [
    "order = sorted(df.columns.to_list())"
   ]
  },
  {
   "cell_type": "code",
   "execution_count": 22,
   "metadata": {},
   "outputs": [],
   "source": [
    "df = df[order]"
   ]
  },
  {
   "cell_type": "markdown",
   "metadata": {},
   "source": [
    "We check if there are any more `NaN`'s in the data."
   ]
  },
  {
   "cell_type": "code",
   "execution_count": 23,
   "metadata": {},
   "outputs": [
    {
     "data": {
      "text/plain": [
       "heartRateAvg      1\n",
       "heartRateAvg2     1\n",
       "heartRateMax      1\n",
       "heartRateMin      1\n",
       "heartRateQ1       1\n",
       "heartRateQ25      1\n",
       "heartRateQ50      1\n",
       "heartRateQ75      1\n",
       "heartRateQ99      1\n",
       "heartRateStd      1\n",
       "indoors           0\n",
       "kiloCalories      1\n",
       "sport             0\n",
       "startTime         0\n",
       "stopTime          0\n",
       "timezoneOffset    0\n",
       "totalTime         0\n",
       "dtype: int64"
      ]
     },
     "execution_count": 23,
     "metadata": {},
     "output_type": "execute_result"
    }
   ],
   "source": [
    "df.isna().sum()"
   ]
  },
  {
   "cell_type": "markdown",
   "metadata": {},
   "source": [
    "There is one row with `NaN`'s. This might due to my watch having little battery left to make the measurements."
   ]
  },
  {
   "cell_type": "code",
   "execution_count": 24,
   "metadata": {},
   "outputs": [],
   "source": [
    "df = df.dropna()"
   ]
  },
  {
   "cell_type": "markdown",
   "metadata": {},
   "source": [
    "We proceed to sort the data with the latest workouts at the top of the dataframe."
   ]
  },
  {
   "cell_type": "code",
   "execution_count": 25,
   "metadata": {},
   "outputs": [],
   "source": [
    "sort_cols = ['startTime','startTime']\n",
    "df = df.sort_values(sort_cols, ascending=False)\n",
    "df = df.reset_index(drop=True)"
   ]
  },
  {
   "cell_type": "markdown",
   "metadata": {},
   "source": [
    "We verify that the datatypes are correct."
   ]
  },
  {
   "cell_type": "code",
   "execution_count": 26,
   "metadata": {},
   "outputs": [
    {
     "name": "stdout",
     "output_type": "stream",
     "text": [
      "<class 'pandas.core.frame.DataFrame'>\n",
      "RangeIndex: 283 entries, 0 to 282\n",
      "Data columns (total 17 columns):\n",
      " #   Column          Non-Null Count  Dtype         \n",
      "---  ------          --------------  -----         \n",
      " 0   heartRateAvg    283 non-null    float64       \n",
      " 1   heartRateAvg2   283 non-null    float64       \n",
      " 2   heartRateMax    283 non-null    float64       \n",
      " 3   heartRateMin    283 non-null    float64       \n",
      " 4   heartRateQ1     283 non-null    float64       \n",
      " 5   heartRateQ25    283 non-null    float64       \n",
      " 6   heartRateQ50    283 non-null    float64       \n",
      " 7   heartRateQ75    283 non-null    float64       \n",
      " 8   heartRateQ99    283 non-null    float64       \n",
      " 9   heartRateStd    283 non-null    float64       \n",
      " 10  indoors         283 non-null    bool          \n",
      " 11  kiloCalories    283 non-null    float64       \n",
      " 12  sport           283 non-null    object        \n",
      " 13  startTime       283 non-null    datetime64[ns]\n",
      " 14  stopTime        283 non-null    datetime64[ns]\n",
      " 15  timezoneOffset  283 non-null    int64         \n",
      " 16  totalTime       283 non-null    float64       \n",
      "dtypes: bool(1), datetime64[ns](2), float64(12), int64(1), object(1)\n",
      "memory usage: 35.8+ KB\n"
     ]
    }
   ],
   "source": [
    "df.info()"
   ]
  },
  {
   "cell_type": "markdown",
   "metadata": {},
   "source": [
    "# Analysis"
   ]
  },
  {
   "cell_type": "markdown",
   "metadata": {},
   "source": [
    "Given that we have produced a clean dataset we can proceed to analyse a few aspects."
   ]
  },
  {
   "cell_type": "markdown",
   "metadata": {},
   "source": [
    "## Time span"
   ]
  },
  {
   "cell_type": "markdown",
   "metadata": {},
   "source": [
    "The date of the first workout is:"
   ]
  },
  {
   "cell_type": "code",
   "execution_count": 27,
   "metadata": {},
   "outputs": [
    {
     "data": {
      "text/plain": [
       "'2019-02-20 20:46:35'"
      ]
     },
     "execution_count": 27,
     "metadata": {},
     "output_type": "execute_result"
    }
   ],
   "source": [
    "str(df['startTime'].min())"
   ]
  },
  {
   "cell_type": "markdown",
   "metadata": {},
   "source": [
    "The date of the last workout is:"
   ]
  },
  {
   "cell_type": "code",
   "execution_count": 28,
   "metadata": {},
   "outputs": [
    {
     "data": {
      "text/plain": [
       "'2020-03-29 21:50:21'"
      ]
     },
     "execution_count": 28,
     "metadata": {},
     "output_type": "execute_result"
    }
   ],
   "source": [
    "str(df['startTime'].max())"
   ]
  },
  {
   "cell_type": "markdown",
   "metadata": {},
   "source": [
    "Workouts measured:"
   ]
  },
  {
   "cell_type": "code",
   "execution_count": 29,
   "metadata": {},
   "outputs": [
    {
     "data": {
      "text/plain": [
       "283"
      ]
     },
     "execution_count": 29,
     "metadata": {},
     "output_type": "execute_result"
    }
   ],
   "source": [
    "len(df)"
   ]
  },
  {
   "cell_type": "markdown",
   "metadata": {},
   "source": [
    "## Descriptive statistics"
   ]
  },
  {
   "cell_type": "code",
   "execution_count": 30,
   "metadata": {},
   "outputs": [
    {
     "data": {
      "text/html": [
       "<div>\n",
       "<style scoped>\n",
       "    .dataframe tbody tr th:only-of-type {\n",
       "        vertical-align: middle;\n",
       "    }\n",
       "\n",
       "    .dataframe tbody tr th {\n",
       "        vertical-align: top;\n",
       "    }\n",
       "\n",
       "    .dataframe thead th {\n",
       "        text-align: right;\n",
       "    }\n",
       "</style>\n",
       "<table border=\"1\" class=\"dataframe\">\n",
       "  <thead>\n",
       "    <tr style=\"text-align: right;\">\n",
       "      <th></th>\n",
       "      <th>heartRateAvg</th>\n",
       "      <th>heartRateAvg2</th>\n",
       "      <th>heartRateMax</th>\n",
       "      <th>heartRateMin</th>\n",
       "      <th>heartRateQ1</th>\n",
       "      <th>heartRateQ25</th>\n",
       "      <th>heartRateQ50</th>\n",
       "      <th>heartRateQ75</th>\n",
       "      <th>heartRateQ99</th>\n",
       "      <th>heartRateStd</th>\n",
       "      <th>kiloCalories</th>\n",
       "      <th>totalTime</th>\n",
       "    </tr>\n",
       "  </thead>\n",
       "  <tbody>\n",
       "    <tr>\n",
       "      <th>count</th>\n",
       "      <td>283.00</td>\n",
       "      <td>283.00</td>\n",
       "      <td>283.00</td>\n",
       "      <td>283.00</td>\n",
       "      <td>283.00</td>\n",
       "      <td>283.00</td>\n",
       "      <td>283.00</td>\n",
       "      <td>283.00</td>\n",
       "      <td>283.00</td>\n",
       "      <td>283.00</td>\n",
       "      <td>283.00</td>\n",
       "      <td>283.00</td>\n",
       "    </tr>\n",
       "    <tr>\n",
       "      <th>mean</th>\n",
       "      <td>105.19</td>\n",
       "      <td>105.24</td>\n",
       "      <td>128.34</td>\n",
       "      <td>76.74</td>\n",
       "      <td>80.61</td>\n",
       "      <td>98.24</td>\n",
       "      <td>105.55</td>\n",
       "      <td>112.64</td>\n",
       "      <td>125.84</td>\n",
       "      <td>10.52</td>\n",
       "      <td>315.98</td>\n",
       "      <td>42.83</td>\n",
       "    </tr>\n",
       "    <tr>\n",
       "      <th>std</th>\n",
       "      <td>11.87</td>\n",
       "      <td>11.86</td>\n",
       "      <td>18.25</td>\n",
       "      <td>8.99</td>\n",
       "      <td>8.40</td>\n",
       "      <td>10.69</td>\n",
       "      <td>12.26</td>\n",
       "      <td>14.36</td>\n",
       "      <td>18.06</td>\n",
       "      <td>4.46</td>\n",
       "      <td>218.75</td>\n",
       "      <td>29.65</td>\n",
       "    </tr>\n",
       "    <tr>\n",
       "      <th>min</th>\n",
       "      <td>82.00</td>\n",
       "      <td>81.98</td>\n",
       "      <td>93.00</td>\n",
       "      <td>53.00</td>\n",
       "      <td>54.00</td>\n",
       "      <td>77.00</td>\n",
       "      <td>82.00</td>\n",
       "      <td>87.00</td>\n",
       "      <td>92.00</td>\n",
       "      <td>2.96</td>\n",
       "      <td>29.00</td>\n",
       "      <td>5.00</td>\n",
       "    </tr>\n",
       "    <tr>\n",
       "      <th>25%</th>\n",
       "      <td>96.00</td>\n",
       "      <td>96.42</td>\n",
       "      <td>115.00</td>\n",
       "      <td>70.00</td>\n",
       "      <td>75.00</td>\n",
       "      <td>91.00</td>\n",
       "      <td>97.00</td>\n",
       "      <td>102.00</td>\n",
       "      <td>113.00</td>\n",
       "      <td>7.58</td>\n",
       "      <td>121.50</td>\n",
       "      <td>15.92</td>\n",
       "    </tr>\n",
       "    <tr>\n",
       "      <th>50%</th>\n",
       "      <td>103.00</td>\n",
       "      <td>103.42</td>\n",
       "      <td>125.00</td>\n",
       "      <td>77.00</td>\n",
       "      <td>80.00</td>\n",
       "      <td>97.00</td>\n",
       "      <td>104.00</td>\n",
       "      <td>111.00</td>\n",
       "      <td>123.00</td>\n",
       "      <td>10.00</td>\n",
       "      <td>277.00</td>\n",
       "      <td>36.45</td>\n",
       "    </tr>\n",
       "    <tr>\n",
       "      <th>75%</th>\n",
       "      <td>111.00</td>\n",
       "      <td>111.26</td>\n",
       "      <td>138.50</td>\n",
       "      <td>83.00</td>\n",
       "      <td>86.00</td>\n",
       "      <td>103.00</td>\n",
       "      <td>112.00</td>\n",
       "      <td>119.00</td>\n",
       "      <td>135.00</td>\n",
       "      <td>12.25</td>\n",
       "      <td>441.50</td>\n",
       "      <td>65.29</td>\n",
       "    </tr>\n",
       "    <tr>\n",
       "      <th>max</th>\n",
       "      <td>148.00</td>\n",
       "      <td>148.35</td>\n",
       "      <td>178.00</td>\n",
       "      <td>99.00</td>\n",
       "      <td>107.00</td>\n",
       "      <td>146.00</td>\n",
       "      <td>151.00</td>\n",
       "      <td>160.00</td>\n",
       "      <td>177.00</td>\n",
       "      <td>27.10</td>\n",
       "      <td>1,067.00</td>\n",
       "      <td>172.73</td>\n",
       "    </tr>\n",
       "  </tbody>\n",
       "</table>\n",
       "</div>"
      ],
      "text/plain": [
       "       heartRateAvg  heartRateAvg2  heartRateMax  heartRateMin  heartRateQ1  \\\n",
       "count        283.00         283.00        283.00        283.00       283.00   \n",
       "mean         105.19         105.24        128.34         76.74        80.61   \n",
       "std           11.87          11.86         18.25          8.99         8.40   \n",
       "min           82.00          81.98         93.00         53.00        54.00   \n",
       "25%           96.00          96.42        115.00         70.00        75.00   \n",
       "50%          103.00         103.42        125.00         77.00        80.00   \n",
       "75%          111.00         111.26        138.50         83.00        86.00   \n",
       "max          148.00         148.35        178.00         99.00       107.00   \n",
       "\n",
       "       heartRateQ25  heartRateQ50  heartRateQ75  heartRateQ99  heartRateStd  \\\n",
       "count        283.00        283.00        283.00        283.00        283.00   \n",
       "mean          98.24        105.55        112.64        125.84         10.52   \n",
       "std           10.69         12.26         14.36         18.06          4.46   \n",
       "min           77.00         82.00         87.00         92.00          2.96   \n",
       "25%           91.00         97.00        102.00        113.00          7.58   \n",
       "50%           97.00        104.00        111.00        123.00         10.00   \n",
       "75%          103.00        112.00        119.00        135.00         12.25   \n",
       "max          146.00        151.00        160.00        177.00         27.10   \n",
       "\n",
       "       kiloCalories  totalTime  \n",
       "count        283.00     283.00  \n",
       "mean         315.98      42.83  \n",
       "std          218.75      29.65  \n",
       "min           29.00       5.00  \n",
       "25%          121.50      15.92  \n",
       "50%          277.00      36.45  \n",
       "75%          441.50      65.29  \n",
       "max        1,067.00     172.73  "
      ]
     },
     "execution_count": 30,
     "metadata": {},
     "output_type": "execute_result"
    }
   ],
   "source": [
    "df.drop('timezoneOffset', axis=1).describe()"
   ]
  },
  {
   "cell_type": "markdown",
   "metadata": {},
   "source": [
    "## Kilocalories burned in total"
   ]
  },
  {
   "cell_type": "markdown",
   "metadata": {},
   "source": [
    "First we count the total `kiloCalories` I burned during the period in question."
   ]
  },
  {
   "cell_type": "code",
   "execution_count": 31,
   "metadata": {},
   "outputs": [
    {
     "name": "stdout",
     "output_type": "stream",
     "text": [
      "89421.0\n"
     ]
    }
   ],
   "source": [
    "total_calories = df['kiloCalories'].sum()\n",
    "print(total_calories)"
   ]
  },
  {
   "cell_type": "markdown",
   "metadata": {},
   "source": [
    "We convert this number to kilograms of body fat.\n",
    "According to [this article](https://www.livestrong.com/article/304137-how-many-calories-per-kilogram-of-weight/) it equates to"
   ]
  },
  {
   "cell_type": "code",
   "execution_count": 32,
   "metadata": {},
   "outputs": [
    {
     "data": {
      "text/plain": [
       "11.61"
      ]
     },
     "execution_count": 32,
     "metadata": {},
     "output_type": "execute_result"
    }
   ],
   "source": [
    "round(total_calories / 7700, 2)"
   ]
  },
  {
   "cell_type": "markdown",
   "metadata": {},
   "source": [
    "## Kilocalories burned by sport"
   ]
  },
  {
   "cell_type": "code",
   "execution_count": 33,
   "metadata": {},
   "outputs": [
    {
     "data": {
      "text/html": [
       "<div>\n",
       "<style scoped>\n",
       "    .dataframe tbody tr th:only-of-type {\n",
       "        vertical-align: middle;\n",
       "    }\n",
       "\n",
       "    .dataframe tbody tr th {\n",
       "        vertical-align: top;\n",
       "    }\n",
       "\n",
       "    .dataframe thead th {\n",
       "        text-align: right;\n",
       "    }\n",
       "</style>\n",
       "<table border=\"1\" class=\"dataframe\">\n",
       "  <thead>\n",
       "    <tr style=\"text-align: right;\">\n",
       "      <th></th>\n",
       "      <th>sport</th>\n",
       "      <th>total kilocalories</th>\n",
       "    </tr>\n",
       "  </thead>\n",
       "  <tbody>\n",
       "    <tr>\n",
       "      <th>4</th>\n",
       "      <td>walking</td>\n",
       "      <td>33080</td>\n",
       "    </tr>\n",
       "    <tr>\n",
       "      <th>2</th>\n",
       "      <td>strength_training</td>\n",
       "      <td>31547</td>\n",
       "    </tr>\n",
       "    <tr>\n",
       "      <th>3</th>\n",
       "      <td>treadmill_running</td>\n",
       "      <td>19825</td>\n",
       "    </tr>\n",
       "    <tr>\n",
       "      <th>0</th>\n",
       "      <td>cycling</td>\n",
       "      <td>4029</td>\n",
       "    </tr>\n",
       "    <tr>\n",
       "      <th>1</th>\n",
       "      <td>running</td>\n",
       "      <td>940</td>\n",
       "    </tr>\n",
       "  </tbody>\n",
       "</table>\n",
       "</div>"
      ],
      "text/plain": [
       "               sport  total kilocalories\n",
       "4            walking               33080\n",
       "2  strength_training               31547\n",
       "3  treadmill_running               19825\n",
       "0            cycling                4029\n",
       "1            running                 940"
      ]
     },
     "execution_count": 33,
     "metadata": {},
     "output_type": "execute_result"
    }
   ],
   "source": [
    "by_sport = df[['kiloCalories', 'sport']].groupby('sport', as_index=False)\n",
    "by_sport = by_sport.sum()\n",
    "by_sport['sport'] = by_sport['sport'].apply(lambda x: x.lower())\n",
    "by_sport['kiloCalories'] = by_sport['kiloCalories'].astype(int)\n",
    "by_sport = by_sport.rename(columns={'kiloCalories': 'total kilocalories'})\n",
    "by_sport = by_sport.sort_values('total kilocalories', ascending=False)\n",
    "by_sport"
   ]
  },
  {
   "cell_type": "markdown",
   "metadata": {},
   "source": [
    "## Kilocalories burned over time"
   ]
  },
  {
   "cell_type": "markdown",
   "metadata": {},
   "source": [
    "Next we produce a plot of `kiloCalories` burned over a two month period in 2019. First we extract the relevant data."
   ]
  },
  {
   "cell_type": "code",
   "execution_count": 34,
   "metadata": {},
   "outputs": [],
   "source": [
    "start = pd.to_datetime('2019-04-1') \n",
    "stop = pd.to_datetime('2019-06-1')\n",
    "\n",
    "daily = df[['startTime', 'kiloCalories']]\n",
    "mask = (daily['startTime'] >= start) & (daily['startTime'] < stop)\n",
    "daily = daily[mask]\n",
    "daily['startTime'] = daily['startTime'].dt.date\n",
    "daily = daily.groupby('startTime', as_index=False)\n",
    "daily = daily.sum()\n",
    "daily = daily.sort_values('startTime', ascending=False)\n",
    "daily['startTime'] = pd.to_datetime(daily['startTime'])\n",
    "daily = daily.reset_index(drop=True)"
   ]
  },
  {
   "cell_type": "markdown",
   "metadata": {},
   "source": [
    "We create a dataframe with all the dates to perform a left join and fill the `NaN`'s with zeroes."
   ]
  },
  {
   "cell_type": "code",
   "execution_count": 35,
   "metadata": {},
   "outputs": [],
   "source": [
    "dates = pd.date_range(start, stop)\n",
    "dates = dates.to_frame()\n",
    "dates = dates.reset_index(drop=True)\n",
    "dates.columns = ['startTime']"
   ]
  },
  {
   "cell_type": "code",
   "execution_count": 36,
   "metadata": {},
   "outputs": [],
   "source": [
    "daily = pd.merge(dates, daily, on='startTime', how='left')\n",
    "daily = daily.fillna(0)"
   ]
  },
  {
   "cell_type": "markdown",
   "metadata": {},
   "source": [
    "Finally we produce the figure:"
   ]
  },
  {
   "cell_type": "code",
   "execution_count": 37,
   "metadata": {},
   "outputs": [
    {
     "data": {
      "image/png": "[encoded data removed]",
      "text/plain": [
       "<Figure size 576x288 with 1 Axes>"
      ]
     },
     "metadata": {
      "needs_background": "light"
     },
     "output_type": "display_data"
    }
   ],
   "source": [
    "width = 800\n",
    "height = 400\n",
    "dpi = 100\n",
    "\n",
    "plt.figure(figsize=(width/dpi, height/dpi))\n",
    "plt.plot(daily['startTime'], daily['kiloCalories'])\n",
    "\n",
    "plt.fill_between(x=daily['startTime'], \n",
    "                 y1=0, \n",
    "                 y2=daily['kiloCalories'], \n",
    "                 alpha=1/2)\n",
    "\n",
    "daily_avg = daily['kiloCalories'].mean()\n",
    "\n",
    "plt.hlines(xmin=daily['startTime'].min(),\n",
    "           xmax=daily['startTime'].max(),\n",
    "           y=daily_avg,\n",
    "           linestyle='dashed',\n",
    "           label=f'Daily average = {round(daily_avg)} kcal',\n",
    "           alpha=1/2)\n",
    "\n",
    "plt.title('Kilocalories over time')\n",
    "plt.xticks(rotation=45, horizontalalignment='center')\n",
    "plt.xlim(daily['startTime'].min(), daily['startTime'].max())\n",
    "plt.ylim(0, daily['kiloCalories'].max() * 1.05)\n",
    "plt.ylabel('Kilocalories')\n",
    "plt.legend(loc='best')\n",
    "plt.tight_layout()\n",
    "plt.savefig('./img/kilocalories_ts.png')\n",
    "plt.show()"
   ]
  },
  {
   "cell_type": "markdown",
   "metadata": {},
   "source": [
    "## Workouts by sport"
   ]
  },
  {
   "cell_type": "markdown",
   "metadata": {},
   "source": [
    "We check how many workouts I completed."
   ]
  },
  {
   "cell_type": "code",
   "execution_count": 38,
   "metadata": {},
   "outputs": [
    {
     "data": {
      "text/html": [
       "<div>\n",
       "<style scoped>\n",
       "    .dataframe tbody tr th:only-of-type {\n",
       "        vertical-align: middle;\n",
       "    }\n",
       "\n",
       "    .dataframe tbody tr th {\n",
       "        vertical-align: top;\n",
       "    }\n",
       "\n",
       "    .dataframe thead th {\n",
       "        text-align: right;\n",
       "    }\n",
       "</style>\n",
       "<table border=\"1\" class=\"dataframe\">\n",
       "  <thead>\n",
       "    <tr style=\"text-align: right;\">\n",
       "      <th></th>\n",
       "      <th>Sport</th>\n",
       "      <th>Count</th>\n",
       "    </tr>\n",
       "  </thead>\n",
       "  <tbody>\n",
       "    <tr>\n",
       "      <th>4</th>\n",
       "      <td>WALKING</td>\n",
       "      <td>105</td>\n",
       "    </tr>\n",
       "    <tr>\n",
       "      <th>3</th>\n",
       "      <td>TREADMILL_RUNNING</td>\n",
       "      <td>90</td>\n",
       "    </tr>\n",
       "    <tr>\n",
       "      <th>2</th>\n",
       "      <td>STRENGTH_TRAINING</td>\n",
       "      <td>62</td>\n",
       "    </tr>\n",
       "    <tr>\n",
       "      <th>0</th>\n",
       "      <td>CYCLING</td>\n",
       "      <td>24</td>\n",
       "    </tr>\n",
       "    <tr>\n",
       "      <th>1</th>\n",
       "      <td>RUNNING</td>\n",
       "      <td>2</td>\n",
       "    </tr>\n",
       "  </tbody>\n",
       "</table>\n",
       "</div>"
      ],
      "text/plain": [
       "               Sport  Count\n",
       "4            WALKING    105\n",
       "3  TREADMILL_RUNNING     90\n",
       "2  STRENGTH_TRAINING     62\n",
       "0            CYCLING     24\n",
       "1            RUNNING      2"
      ]
     },
     "execution_count": 38,
     "metadata": {},
     "output_type": "execute_result"
    }
   ],
   "source": [
    "stats = df[['sport', 'startTime']]\n",
    "stats = stats.groupby(['sport'], as_index=False)\n",
    "stats = stats.count()\n",
    "stats = stats.rename(columns={'sport': 'Sport', \n",
    "                              'startTime': 'Count'})\n",
    "stats = stats.sort_values('Count', ascending=False)\n",
    "stats.head()"
   ]
  },
  {
   "cell_type": "markdown",
   "metadata": {},
   "source": [
    "## By hour of day"
   ]
  },
  {
   "cell_type": "markdown",
   "metadata": {},
   "source": [
    "We count workouts by hour of day."
   ]
  },
  {
   "cell_type": "code",
   "execution_count": 39,
   "metadata": {},
   "outputs": [],
   "source": [
    "by_hour = df[['startTime', 'sport']].copy()\n",
    "by_hour['startHour'] = by_hour['startTime'].dt.hour\n",
    "by_hour = by_hour.drop('startTime', axis=1)\n",
    "by_hour = by_hour.groupby('startHour', as_index=False)\n",
    "by_hour = by_hour.count()\n",
    "\n",
    "all_hours = pd.DataFrame(range(0, 24), columns=['startHour'])\n",
    "\n",
    "by_hour = pd.merge(all_hours, by_hour, how='left')\n",
    "by_hour = by_hour.fillna(0)\n",
    "by_hour = by_hour.sort_values('startHour')\n",
    "by_hour = by_hour.rename(columns={'startHour': 'Hour of day', \n",
    "                                 'sport': 'Total workouts'})"
   ]
  },
  {
   "cell_type": "code",
   "execution_count": 40,
   "metadata": {},
   "outputs": [
    {
     "data": {
      "image/png": "[encoded data removed]",
      "text/plain": [
       "<Figure size 288x288 with 1 Axes>"
      ]
     },
     "metadata": {
      "needs_background": "light"
     },
     "output_type": "display_data"
    }
   ],
   "source": [
    "plt.bar(by_hour['Hour of day'], by_hour['Total workouts'])\n",
    "plt.ylabel('Number of workouts')\n",
    "plt.xlabel('Hour of day')\n",
    "plt.savefig('./img/workouts_by_hour_of_day.png')\n",
    "plt.show()"
   ]
  },
  {
   "cell_type": "markdown",
   "metadata": {},
   "source": [
    "## By day of week"
   ]
  },
  {
   "cell_type": "markdown",
   "metadata": {},
   "source": [
    "We count workouts by day of week."
   ]
  },
  {
   "cell_type": "code",
   "execution_count": 41,
   "metadata": {
    "scrolled": false
   },
   "outputs": [],
   "source": [
    "by_day = df[['startTime', 'sport']].copy()\n",
    "by_day['Day of week'] = pd.to_datetime(by_day['startTime']).dt.day_name()\n",
    "by_day['Day number'] = pd.to_datetime(by_day['startTime']).dt.dayofweek\n",
    "by_day = by_day.groupby(['Day of week', 'Day number'], as_index=False)\n",
    "by_day = by_day.count()\n",
    "by_day = by_day.drop('startTime', axis=1)\n",
    "by_day = by_day.sort_values('Day number')\n",
    "by_day = by_day.rename(columns={'sport': 'Total Workouts'})"
   ]
  },
  {
   "cell_type": "code",
   "execution_count": 42,
   "metadata": {},
   "outputs": [
    {
     "data": {
      "image/png": "[encoded data removed]",
      "text/plain": [
       "<Figure size 288x288 with 1 Axes>"
      ]
     },
     "metadata": {
      "needs_background": "light"
     },
     "output_type": "display_data"
    }
   ],
   "source": [
    "plt.bar(by_day['Day of week'], by_day['Total Workouts'])\n",
    "plt.xticks(rotation=90)\n",
    "plt.ylabel('Number of workouts')\n",
    "plt.savefig('./img/workouts_by_day_of_week.png')\n",
    "plt.show()"
   ]
  },
  {
   "cell_type": "markdown",
   "metadata": {},
   "source": [
    "## Scatter plot of walks data"
   ]
  },
  {
   "cell_type": "markdown",
   "metadata": {},
   "source": [
    "We plot `totalTime` versus `kiloCalories`. As can be seen their seems to exist a linear relationship between the two."
   ]
  },
  {
   "cell_type": "code",
   "execution_count": 43,
   "metadata": {},
   "outputs": [
    {
     "data": {
      "image/png": "[encoded data removed]",
      "text/plain": [
       "<Figure size 288x288 with 1 Axes>"
      ]
     },
     "metadata": {
      "needs_background": "light"
     },
     "output_type": "display_data"
    }
   ],
   "source": [
    "walking = df[df['sport'] == 'WALKING']\n",
    "plt.scatter(walking['totalTime'], walking['kiloCalories'], s=2)\n",
    "plt.xlabel('Duration (minutes)')\n",
    "plt.ylabel('Kilocalories')\n",
    "plt.savefig('./img/walks_kilocalories_vs_time.png')\n",
    "plt.show()"
   ]
  },
  {
   "cell_type": "markdown",
   "metadata": {},
   "source": [
    "We plot `heartRateAvg` against `kiloCalories`. Again we see a linear relationship although there are a couple of outliers"
   ]
  },
  {
   "cell_type": "code",
   "execution_count": 44,
   "metadata": {},
   "outputs": [
    {
     "data": {
      "image/png": "[encoded data removed]",
      "text/plain": [
       "<Figure size 288x288 with 1 Axes>"
      ]
     },
     "metadata": {
      "needs_background": "light"
     },
     "output_type": "display_data"
    }
   ],
   "source": [
    "walking = df[df['sport'] == 'WALKING']\n",
    "plt.scatter(walking['heartRateAvg'], walking['kiloCalories'], s=2)\n",
    "plt.ylabel('Kilocalories')\n",
    "plt.xlabel('Average HR (bpm)')\n",
    "plt.savefig('./img/walks_kilocalories_vs_avg_hr.png')\n",
    "plt.show()"
   ]
  },
  {
   "cell_type": "markdown",
   "metadata": {},
   "source": [
    "# Regression"
   ]
  },
  {
   "cell_type": "markdown",
   "metadata": {},
   "source": [
    "## Data preparation"
   ]
  },
  {
   "cell_type": "markdown",
   "metadata": {},
   "source": [
    "Now we proceed to build a regression model to predict `kiloCalories` burned during a workout based on the numeric features `totalTime` and `heartRateAvg` ie the total duration of the workout and the average heart rate. We create a subset of the original data."
   ]
  },
  {
   "cell_type": "code",
   "execution_count": 45,
   "metadata": {},
   "outputs": [],
   "source": [
    "reg_df = df[['kiloCalories', 'totalTime', 'heartRateQ99', 'sport', 'indoors']].copy()\n",
    "reg_df['indoors'] = reg_df['indoors'].astype(int)"
   ]
  },
  {
   "cell_type": "markdown",
   "metadata": {},
   "source": [
    "We remove the rows where `sport` is `RUNNING` because there were only two workout recorded during the period in question."
   ]
  },
  {
   "cell_type": "code",
   "execution_count": 46,
   "metadata": {},
   "outputs": [],
   "source": [
    "reg_df = reg_df[reg_df['sport'] != 'RUNNING']"
   ]
  },
  {
   "cell_type": "markdown",
   "metadata": {},
   "source": [
    "We are going to map sport to differnet `activityType`'s. We will map strength training to $1$ and cardiovascular work to $0$."
   ]
  },
  {
   "cell_type": "code",
   "execution_count": 47,
   "metadata": {},
   "outputs": [],
   "source": [
    "def sport_to_activity_type(x):\n",
    "    if 'strength' in x.lower():\n",
    "        return 1\n",
    "    else:\n",
    "        return 0"
   ]
  },
  {
   "cell_type": "code",
   "execution_count": 48,
   "metadata": {},
   "outputs": [],
   "source": [
    "reg_df['activityType'] = reg_df['sport'].apply(sport_to_activity_type)\n",
    "reg_df = reg_df.drop('sport', axis=1)"
   ]
  },
  {
   "cell_type": "markdown",
   "metadata": {},
   "source": [
    "## Correlation"
   ]
  },
  {
   "cell_type": "markdown",
   "metadata": {},
   "source": [
    "We inspect the correlation matrix to check for multicollinearity. It should be noted that the correlation between `kiloCalories` and `totalTime` is quite high and this to be expected."
   ]
  },
  {
   "cell_type": "code",
   "execution_count": 49,
   "metadata": {},
   "outputs": [
    {
     "data": {
      "text/html": [
       "<style  type=\"text/css\" >\n",
       "    #T_b68d8c6a_030c_11eb_b240_657c198cb215row0_col0 {\n",
       "            background-color:  #b40426;\n",
       "            color:  #f1f1f1;\n",
       "        }    #T_b68d8c6a_030c_11eb_b240_657c198cb215row0_col1 {\n",
       "            background-color:  #d95847;\n",
       "            color:  #000000;\n",
       "        }    #T_b68d8c6a_030c_11eb_b240_657c198cb215row0_col2 {\n",
       "            background-color:  #c1d4f4;\n",
       "            color:  #000000;\n",
       "        }    #T_b68d8c6a_030c_11eb_b240_657c198cb215row0_col3 {\n",
       "            background-color:  #4c66d6;\n",
       "            color:  #000000;\n",
       "        }    #T_b68d8c6a_030c_11eb_b240_657c198cb215row0_col4 {\n",
       "            background-color:  #b6cefa;\n",
       "            color:  #000000;\n",
       "        }    #T_b68d8c6a_030c_11eb_b240_657c198cb215row1_col0 {\n",
       "            background-color:  #da5a49;\n",
       "            color:  #000000;\n",
       "        }    #T_b68d8c6a_030c_11eb_b240_657c198cb215row1_col1 {\n",
       "            background-color:  #b40426;\n",
       "            color:  #f1f1f1;\n",
       "        }    #T_b68d8c6a_030c_11eb_b240_657c198cb215row1_col2 {\n",
       "            background-color:  #4f69d9;\n",
       "            color:  #000000;\n",
       "        }    #T_b68d8c6a_030c_11eb_b240_657c198cb215row1_col3 {\n",
       "            background-color:  #3b4cc0;\n",
       "            color:  #f1f1f1;\n",
       "        }    #T_b68d8c6a_030c_11eb_b240_657c198cb215row1_col4 {\n",
       "            background-color:  #e4d9d2;\n",
       "            color:  #000000;\n",
       "        }    #T_b68d8c6a_030c_11eb_b240_657c198cb215row2_col0 {\n",
       "            background-color:  #cad8ef;\n",
       "            color:  #000000;\n",
       "        }    #T_b68d8c6a_030c_11eb_b240_657c198cb215row2_col1 {\n",
       "            background-color:  #6f92f3;\n",
       "            color:  #000000;\n",
       "        }    #T_b68d8c6a_030c_11eb_b240_657c198cb215row2_col2 {\n",
       "            background-color:  #b40426;\n",
       "            color:  #f1f1f1;\n",
       "        }    #T_b68d8c6a_030c_11eb_b240_657c198cb215row2_col3 {\n",
       "            background-color:  #b7cff9;\n",
       "            color:  #000000;\n",
       "        }    #T_b68d8c6a_030c_11eb_b240_657c198cb215row2_col4 {\n",
       "            background-color:  #3b4cc0;\n",
       "            color:  #f1f1f1;\n",
       "        }    #T_b68d8c6a_030c_11eb_b240_657c198cb215row3_col0 {\n",
       "            background-color:  #3b4cc0;\n",
       "            color:  #f1f1f1;\n",
       "        }    #T_b68d8c6a_030c_11eb_b240_657c198cb215row3_col1 {\n",
       "            background-color:  #3b4cc0;\n",
       "            color:  #f1f1f1;\n",
       "        }    #T_b68d8c6a_030c_11eb_b240_657c198cb215row3_col2 {\n",
       "            background-color:  #9ebeff;\n",
       "            color:  #000000;\n",
       "        }    #T_b68d8c6a_030c_11eb_b240_657c198cb215row3_col3 {\n",
       "            background-color:  #b40426;\n",
       "            color:  #f1f1f1;\n",
       "        }    #T_b68d8c6a_030c_11eb_b240_657c198cb215row3_col4 {\n",
       "            background-color:  #bcd2f7;\n",
       "            color:  #000000;\n",
       "        }    #T_b68d8c6a_030c_11eb_b240_657c198cb215row4_col0 {\n",
       "            background-color:  #c0d4f5;\n",
       "            color:  #000000;\n",
       "        }    #T_b68d8c6a_030c_11eb_b240_657c198cb215row4_col1 {\n",
       "            background-color:  #efcfbf;\n",
       "            color:  #000000;\n",
       "        }    #T_b68d8c6a_030c_11eb_b240_657c198cb215row4_col2 {\n",
       "            background-color:  #3b4cc0;\n",
       "            color:  #f1f1f1;\n",
       "        }    #T_b68d8c6a_030c_11eb_b240_657c198cb215row4_col3 {\n",
       "            background-color:  #cfdaea;\n",
       "            color:  #000000;\n",
       "        }    #T_b68d8c6a_030c_11eb_b240_657c198cb215row4_col4 {\n",
       "            background-color:  #b40426;\n",
       "            color:  #f1f1f1;\n",
       "        }</style><table id=\"T_b68d8c6a_030c_11eb_b240_657c198cb215\" style=\"font-size: 15px\"><thead>    <tr>        <th class=\"blank level0\" ></th>        <th class=\"col_heading level0 col0\" >kiloCalories</th>        <th class=\"col_heading level0 col1\" >totalTime</th>        <th class=\"col_heading level0 col2\" >heartRateQ99</th>        <th class=\"col_heading level0 col3\" >indoors</th>        <th class=\"col_heading level0 col4\" >activityType</th>    </tr></thead><tbody>\n",
       "                <tr>\n",
       "                        <th id=\"T_b68d8c6a_030c_11eb_b240_657c198cb215level0_row0\" class=\"row_heading level0 row0\" >kiloCalories</th>\n",
       "                        <td id=\"T_b68d8c6a_030c_11eb_b240_657c198cb215row0_col0\" class=\"data row0 col0\" >1.00</td>\n",
       "                        <td id=\"T_b68d8c6a_030c_11eb_b240_657c198cb215row0_col1\" class=\"data row0 col1\" >0.90</td>\n",
       "                        <td id=\"T_b68d8c6a_030c_11eb_b240_657c198cb215row0_col2\" class=\"data row0 col2\" >0.50</td>\n",
       "                        <td id=\"T_b68d8c6a_030c_11eb_b240_657c198cb215row0_col3\" class=\"data row0 col3\" >0.12</td>\n",
       "                        <td id=\"T_b68d8c6a_030c_11eb_b240_657c198cb215row0_col4\" class=\"data row0 col4\" >0.47</td>\n",
       "            </tr>\n",
       "            <tr>\n",
       "                        <th id=\"T_b68d8c6a_030c_11eb_b240_657c198cb215level0_row1\" class=\"row_heading level0 row1\" >totalTime</th>\n",
       "                        <td id=\"T_b68d8c6a_030c_11eb_b240_657c198cb215row1_col0\" class=\"data row1 col0\" >0.90</td>\n",
       "                        <td id=\"T_b68d8c6a_030c_11eb_b240_657c198cb215row1_col1\" class=\"data row1 col1\" >1.00</td>\n",
       "                        <td id=\"T_b68d8c6a_030c_11eb_b240_657c198cb215row1_col2\" class=\"data row1 col2\" >0.22</td>\n",
       "                        <td id=\"T_b68d8c6a_030c_11eb_b240_657c198cb215row1_col3\" class=\"data row1 col3\" >0.07</td>\n",
       "                        <td id=\"T_b68d8c6a_030c_11eb_b240_657c198cb215row1_col4\" class=\"data row1 col4\" >0.61</td>\n",
       "            </tr>\n",
       "            <tr>\n",
       "                        <th id=\"T_b68d8c6a_030c_11eb_b240_657c198cb215level0_row2\" class=\"row_heading level0 row2\" >heartRateQ99</th>\n",
       "                        <td id=\"T_b68d8c6a_030c_11eb_b240_657c198cb215row2_col0\" class=\"data row2 col0\" >0.50</td>\n",
       "                        <td id=\"T_b68d8c6a_030c_11eb_b240_657c198cb215row2_col1\" class=\"data row2 col1\" >0.22</td>\n",
       "                        <td id=\"T_b68d8c6a_030c_11eb_b240_657c198cb215row2_col2\" class=\"data row2 col2\" >1.00</td>\n",
       "                        <td id=\"T_b68d8c6a_030c_11eb_b240_657c198cb215row2_col3\" class=\"data row2 col3\" >0.41</td>\n",
       "                        <td id=\"T_b68d8c6a_030c_11eb_b240_657c198cb215row2_col4\" class=\"data row2 col4\" >0.16</td>\n",
       "            </tr>\n",
       "            <tr>\n",
       "                        <th id=\"T_b68d8c6a_030c_11eb_b240_657c198cb215level0_row3\" class=\"row_heading level0 row3\" >indoors</th>\n",
       "                        <td id=\"T_b68d8c6a_030c_11eb_b240_657c198cb215row3_col0\" class=\"data row3 col0\" >0.12</td>\n",
       "                        <td id=\"T_b68d8c6a_030c_11eb_b240_657c198cb215row3_col1\" class=\"data row3 col1\" >0.07</td>\n",
       "                        <td id=\"T_b68d8c6a_030c_11eb_b240_657c198cb215row3_col2\" class=\"data row3 col2\" >0.41</td>\n",
       "                        <td id=\"T_b68d8c6a_030c_11eb_b240_657c198cb215row3_col3\" class=\"data row3 col3\" >1.00</td>\n",
       "                        <td id=\"T_b68d8c6a_030c_11eb_b240_657c198cb215row3_col4\" class=\"data row3 col4\" >0.49</td>\n",
       "            </tr>\n",
       "            <tr>\n",
       "                        <th id=\"T_b68d8c6a_030c_11eb_b240_657c198cb215level0_row4\" class=\"row_heading level0 row4\" >activityType</th>\n",
       "                        <td id=\"T_b68d8c6a_030c_11eb_b240_657c198cb215row4_col0\" class=\"data row4 col0\" >0.47</td>\n",
       "                        <td id=\"T_b68d8c6a_030c_11eb_b240_657c198cb215row4_col1\" class=\"data row4 col1\" >0.61</td>\n",
       "                        <td id=\"T_b68d8c6a_030c_11eb_b240_657c198cb215row4_col2\" class=\"data row4 col2\" >0.16</td>\n",
       "                        <td id=\"T_b68d8c6a_030c_11eb_b240_657c198cb215row4_col3\" class=\"data row4 col3\" >0.49</td>\n",
       "                        <td id=\"T_b68d8c6a_030c_11eb_b240_657c198cb215row4_col4\" class=\"data row4 col4\" >1.00</td>\n",
       "            </tr>\n",
       "    </tbody></table>"
      ],
      "text/plain": [
       "<pandas.io.formats.style.Styler at 0x7f82ac61f310>"
      ]
     },
     "execution_count": 49,
     "metadata": {},
     "output_type": "execute_result"
    }
   ],
   "source": [
    "C = reg_df.corr(method='pearson')\n",
    "C = C.style.background_gradient(cmap='coolwarm')\n",
    "C = C.set_precision(2)\n",
    "C = C.set_table_attributes('style=\"font-size: 15px\"')\n",
    "C"
   ]
  },
  {
   "cell_type": "markdown",
   "metadata": {},
   "source": [
    "## Multicollinearity"
   ]
  },
  {
   "cell_type": "markdown",
   "metadata": {},
   "source": [
    "We inspect the respect variance inflation factors and are happy to see that all are below 10."
   ]
  },
  {
   "cell_type": "code",
   "execution_count": 50,
   "metadata": {},
   "outputs": [
    {
     "data": {
      "text/html": [
       "<style  type=\"text/css\" >\n",
       "    #T_b68d8c6b_030c_11eb_b240_657c198cb215row0_col0 {\n",
       "            background-color:  #b40426;\n",
       "            color:  #f1f1f1;\n",
       "        }    #T_b68d8c6b_030c_11eb_b240_657c198cb215row1_col0 {\n",
       "            background-color:  #f08a6c;\n",
       "            color:  #000000;\n",
       "        }    #T_b68d8c6b_030c_11eb_b240_657c198cb215row2_col0 {\n",
       "            background-color:  #7699f6;\n",
       "            color:  #000000;\n",
       "        }    #T_b68d8c6b_030c_11eb_b240_657c198cb215row3_col0 {\n",
       "            background-color:  #3b4cc0;\n",
       "            color:  #f1f1f1;\n",
       "        }</style><table id=\"T_b68d8c6b_030c_11eb_b240_657c198cb215\" style=\"font-size: 15px\"><thead>    <tr>        <th class=\"blank level0\" ></th>        <th class=\"col_heading level0 col0\" >VIF</th>    </tr></thead><tbody>\n",
       "                <tr>\n",
       "                        <th id=\"T_b68d8c6b_030c_11eb_b240_657c198cb215level0_row0\" class=\"row_heading level0 row0\" >heartRateQ99</th>\n",
       "                        <td id=\"T_b68d8c6b_030c_11eb_b240_657c198cb215row0_col0\" class=\"data row0 col0\" >6.89</td>\n",
       "            </tr>\n",
       "            <tr>\n",
       "                        <th id=\"T_b68d8c6b_030c_11eb_b240_657c198cb215level0_row1\" class=\"row_heading level0 row1\" >totalTime</th>\n",
       "                        <td id=\"T_b68d8c6b_030c_11eb_b240_657c198cb215row1_col0\" class=\"data row1 col0\" >6.10</td>\n",
       "            </tr>\n",
       "            <tr>\n",
       "                        <th id=\"T_b68d8c6b_030c_11eb_b240_657c198cb215level0_row2\" class=\"row_heading level0 row2\" >indoors</th>\n",
       "                        <td id=\"T_b68d8c6b_030c_11eb_b240_657c198cb215row2_col0\" class=\"data row2 col0\" >3.85</td>\n",
       "            </tr>\n",
       "            <tr>\n",
       "                        <th id=\"T_b68d8c6b_030c_11eb_b240_657c198cb215level0_row3\" class=\"row_heading level0 row3\" >activityType</th>\n",
       "                        <td id=\"T_b68d8c6b_030c_11eb_b240_657c198cb215row3_col0\" class=\"data row3 col0\" >3.16</td>\n",
       "            </tr>\n",
       "    </tbody></table>"
      ],
      "text/plain": [
       "<pandas.io.formats.style.Styler at 0x7f82ac6675e0>"
      ]
     },
     "execution_count": 50,
     "metadata": {},
     "output_type": "execute_result"
    }
   ],
   "source": [
    "tmp = reg_df.drop(['kiloCalories'], axis=1)\n",
    "\n",
    "vifs = []\n",
    "for i in range(tmp.shape[1]):\n",
    "    vif = variance_inflation_factor(tmp.to_numpy(), i)\n",
    "    vifs.append(round(vif, 2))\n",
    "    \n",
    "vifs = pd.DataFrame(vifs, index=tmp.columns, columns=['VIF'])\n",
    "vifs = vifs.sort_values('VIF', ascending=False)\n",
    "vifs = vifs.style.background_gradient(cmap='coolwarm')\n",
    "vifs = vifs.set_precision(2)\n",
    "vifs = vifs.set_table_attributes('style=\"font-size: 15px\"')\n",
    "vifs"
   ]
  },
  {
   "cell_type": "markdown",
   "metadata": {},
   "source": [
    "First we visualize histograms of each of the variables."
   ]
  },
  {
   "cell_type": "code",
   "execution_count": 51,
   "metadata": {},
   "outputs": [
    {
     "data": {
      "image/png": "[encoded data removed]",
      "text/plain": [
       "<Figure size 288x288 with 1 Axes>"
      ]
     },
     "metadata": {
      "needs_background": "light"
     },
     "output_type": "display_data"
    }
   ],
   "source": [
    "plt.hist(reg_df['kiloCalories'])\n",
    "plt.savefig('./img/kilocalories_histogram.png')\n",
    "plt.show()"
   ]
  },
  {
   "cell_type": "code",
   "execution_count": 52,
   "metadata": {},
   "outputs": [
    {
     "data": {
      "image/png": "[encoded data removed]",
      "text/plain": [
       "<Figure size 288x288 with 1 Axes>"
      ]
     },
     "metadata": {
      "needs_background": "light"
     },
     "output_type": "display_data"
    }
   ],
   "source": [
    "plt.hist(reg_df['totalTime'])\n",
    "plt.savefig('./img/duration_histogram.png')\n",
    "plt.show()"
   ]
  },
  {
   "cell_type": "code",
   "execution_count": 53,
   "metadata": {},
   "outputs": [
    {
     "data": {
      "image/png": "[encoded data removed]",
      "text/plain": [
       "<Figure size 288x288 with 1 Axes>"
      ]
     },
     "metadata": {
      "needs_background": "light"
     },
     "output_type": "display_data"
    }
   ],
   "source": [
    "plt.hist(reg_df['heartRateQ99'])\n",
    "plt.savefig('./img/average_hr_histogram.png')\n",
    "plt.show()"
   ]
  },
  {
   "cell_type": "code",
   "execution_count": 54,
   "metadata": {},
   "outputs": [],
   "source": [
    "activity = [0, 1]\n",
    "activity_type = ['Cardio', 'Strength']"
   ]
  },
  {
   "cell_type": "code",
   "execution_count": 55,
   "metadata": {},
   "outputs": [
    {
     "data": {
      "image/png": "[encoded data removed]",
      "text/plain": [
       "<Figure size 288x288 with 1 Axes>"
      ]
     },
     "metadata": {
      "needs_background": "light"
     },
     "output_type": "display_data"
    }
   ],
   "source": [
    "for val,name in zip(activity,activity_type):\n",
    "    tmp = reg_df[reg_df['activityType'] == val]\n",
    "    plt.scatter(tmp['heartRateQ99'],\n",
    "                tmp['kiloCalories'],\n",
    "                s=3, \n",
    "                label=name)\n",
    "\n",
    "plt.xlabel('Heart rate (bpm)')    \n",
    "plt.ylabel('Kilocalories')\n",
    "plt.legend(loc='best')\n",
    "plt.savefig('./img/time_vs_kilocalories_scatter.png')\n",
    "plt.show()"
   ]
  },
  {
   "cell_type": "code",
   "execution_count": 56,
   "metadata": {},
   "outputs": [
    {
     "data": {
      "image/png": "[encoded data removed]",
      "text/plain": [
       "<Figure size 288x288 with 1 Axes>"
      ]
     },
     "metadata": {
      "needs_background": "light"
     },
     "output_type": "display_data"
    }
   ],
   "source": [
    "for val,name in zip(activity,activity_type):\n",
    "    tmp = reg_df[reg_df['activityType'] == val]\n",
    "    plt.scatter(tmp['totalTime'], \n",
    "                tmp['kiloCalories'],\n",
    "                s=3, \n",
    "                label=name)\n",
    "    \n",
    "plt.xlabel('Time (minutes)')    \n",
    "plt.ylabel('Kilocalories')    \n",
    "plt.legend(loc='best')\n",
    "plt.savefig('./img/time_vs_kilocalories_scatter.png')\n",
    "plt.show()"
   ]
  },
  {
   "cell_type": "markdown",
   "metadata": {},
   "source": [
    "## Model"
   ]
  },
  {
   "cell_type": "markdown",
   "metadata": {},
   "source": [
    "The model we shall fit is:\n",
    "\n",
    "$c_{i} = \\beta_{0} + \\beta_{1} t_{i} + \\beta_{2} h_{i} + \\beta_{3}s_{i} + \\beta_{4}d_{i}+ \\varepsilon_{i}$"
   ]
  },
  {
   "cell_type": "markdown",
   "metadata": {},
   "source": [
    "Where:\n",
    "* $c_{i}$ - The $i$-th `kiloCalories` value.\n",
    "* $t_{i}$ - The $i$-th `totalTime` value.\n",
    "* $h_{i}$ - The $i$-th `heartRateQ99` value.\n",
    "* $a_{i}$ - The $i$-th `activityType` value.\n",
    "* $d_{i}$ - The $i$-th `indoors` value."
   ]
  },
  {
   "cell_type": "markdown",
   "metadata": {},
   "source": [
    "We create the `X` and `y` dataframes."
   ]
  },
  {
   "cell_type": "code",
   "execution_count": 57,
   "metadata": {},
   "outputs": [],
   "source": [
    "y = reg_df[['kiloCalories']]\n",
    "X = reg_df.drop(['kiloCalories'], axis=1)\n",
    "X = sm.add_constant(X)"
   ]
  },
  {
   "cell_type": "code",
   "execution_count": 58,
   "metadata": {},
   "outputs": [
    {
     "data": {
      "text/html": [
       "<div>\n",
       "<style scoped>\n",
       "    .dataframe tbody tr th:only-of-type {\n",
       "        vertical-align: middle;\n",
       "    }\n",
       "\n",
       "    .dataframe tbody tr th {\n",
       "        vertical-align: top;\n",
       "    }\n",
       "\n",
       "    .dataframe thead th {\n",
       "        text-align: right;\n",
       "    }\n",
       "</style>\n",
       "<table border=\"1\" class=\"dataframe\">\n",
       "  <thead>\n",
       "    <tr style=\"text-align: right;\">\n",
       "      <th></th>\n",
       "      <th>const</th>\n",
       "      <th>totalTime</th>\n",
       "      <th>heartRateQ99</th>\n",
       "      <th>indoors</th>\n",
       "      <th>activityType</th>\n",
       "    </tr>\n",
       "  </thead>\n",
       "  <tbody>\n",
       "    <tr>\n",
       "      <th>0</th>\n",
       "      <td>1.00</td>\n",
       "      <td>33.33</td>\n",
       "      <td>115.00</td>\n",
       "      <td>0</td>\n",
       "      <td>0</td>\n",
       "    </tr>\n",
       "    <tr>\n",
       "      <th>1</th>\n",
       "      <td>1.00</td>\n",
       "      <td>46.52</td>\n",
       "      <td>131.00</td>\n",
       "      <td>0</td>\n",
       "      <td>0</td>\n",
       "    </tr>\n",
       "    <tr>\n",
       "      <th>2</th>\n",
       "      <td>1.00</td>\n",
       "      <td>45.15</td>\n",
       "      <td>120.00</td>\n",
       "      <td>0</td>\n",
       "      <td>0</td>\n",
       "    </tr>\n",
       "    <tr>\n",
       "      <th>3</th>\n",
       "      <td>1.00</td>\n",
       "      <td>47.65</td>\n",
       "      <td>124.00</td>\n",
       "      <td>0</td>\n",
       "      <td>0</td>\n",
       "    </tr>\n",
       "    <tr>\n",
       "      <th>4</th>\n",
       "      <td>1.00</td>\n",
       "      <td>39.67</td>\n",
       "      <td>141.00</td>\n",
       "      <td>0</td>\n",
       "      <td>0</td>\n",
       "    </tr>\n",
       "  </tbody>\n",
       "</table>\n",
       "</div>"
      ],
      "text/plain": [
       "   const  totalTime  heartRateQ99  indoors  activityType\n",
       "0   1.00      33.33        115.00        0             0\n",
       "1   1.00      46.52        131.00        0             0\n",
       "2   1.00      45.15        120.00        0             0\n",
       "3   1.00      47.65        124.00        0             0\n",
       "4   1.00      39.67        141.00        0             0"
      ]
     },
     "execution_count": 58,
     "metadata": {},
     "output_type": "execute_result"
    }
   ],
   "source": [
    "X.head()"
   ]
  },
  {
   "cell_type": "code",
   "execution_count": 59,
   "metadata": {},
   "outputs": [
    {
     "data": {
      "text/html": [
       "<div>\n",
       "<style scoped>\n",
       "    .dataframe tbody tr th:only-of-type {\n",
       "        vertical-align: middle;\n",
       "    }\n",
       "\n",
       "    .dataframe tbody tr th {\n",
       "        vertical-align: top;\n",
       "    }\n",
       "\n",
       "    .dataframe thead th {\n",
       "        text-align: right;\n",
       "    }\n",
       "</style>\n",
       "<table border=\"1\" class=\"dataframe\">\n",
       "  <thead>\n",
       "    <tr style=\"text-align: right;\">\n",
       "      <th></th>\n",
       "      <th>kiloCalories</th>\n",
       "    </tr>\n",
       "  </thead>\n",
       "  <tbody>\n",
       "    <tr>\n",
       "      <th>0</th>\n",
       "      <td>245.00</td>\n",
       "    </tr>\n",
       "    <tr>\n",
       "      <th>1</th>\n",
       "      <td>401.00</td>\n",
       "    </tr>\n",
       "    <tr>\n",
       "      <th>2</th>\n",
       "      <td>336.00</td>\n",
       "    </tr>\n",
       "    <tr>\n",
       "      <th>3</th>\n",
       "      <td>380.00</td>\n",
       "    </tr>\n",
       "    <tr>\n",
       "      <th>4</th>\n",
       "      <td>358.00</td>\n",
       "    </tr>\n",
       "  </tbody>\n",
       "</table>\n",
       "</div>"
      ],
      "text/plain": [
       "   kiloCalories\n",
       "0        245.00\n",
       "1        401.00\n",
       "2        336.00\n",
       "3        380.00\n",
       "4        358.00"
      ]
     },
     "execution_count": 59,
     "metadata": {},
     "output_type": "execute_result"
    }
   ],
   "source": [
    "y.head()"
   ]
  },
  {
   "cell_type": "markdown",
   "metadata": {},
   "source": [
    "We create the base model using on the `totalTime` variable."
   ]
  },
  {
   "cell_type": "code",
   "execution_count": 60,
   "metadata": {},
   "outputs": [
    {
     "name": "stdout",
     "output_type": "stream",
     "text": [
      "                            OLS Regression Results                            \n",
      "==============================================================================\n",
      "Dep. Variable:           kiloCalories   R-squared:                       0.806\n",
      "Model:                            OLS   Adj. R-squared:                  0.805\n",
      "Method:                 Least Squares   F-statistic:                     1157.\n",
      "Date:                Wed, 30 Sep 2020   Prob (F-statistic):          2.86e-101\n",
      "Time:                        13:04:31   Log-Likelihood:                -1682.5\n",
      "No. Observations:                 281   AIC:                             3369.\n",
      "Df Residuals:                     279   BIC:                             3376.\n",
      "Df Model:                           1                                         \n",
      "Covariance Type:            nonrobust                                         \n",
      "==============================================================================\n",
      "                 coef    std err          t      P>|t|      [0.025      0.975]\n",
      "------------------------------------------------------------------------------\n",
      "const         31.2200     10.141      3.078      0.002      11.257      51.183\n",
      "totalTime      6.6130      0.194     34.017      0.000       6.230       6.996\n",
      "==============================================================================\n",
      "Omnibus:                       46.124   Durbin-Watson:                   2.052\n",
      "Prob(Omnibus):                  0.000   Jarque-Bera (JB):              160.903\n",
      "Skew:                           0.648   Prob(JB):                     1.15e-35\n",
      "Kurtosis:                       6.473   Cond. No.                         91.7\n",
      "==============================================================================\n",
      "\n",
      "Warnings:\n",
      "[1] Standard Errors assume that the covariance matrix of the errors is correctly specified.\n"
     ]
    }
   ],
   "source": [
    "mdl = sm.OLS(y, X[['const', 'totalTime']])\n",
    "res = mdl.fit()\n",
    "\n",
    "residuals = res.resid\n",
    "\n",
    "print(res.summary())"
   ]
  },
  {
   "cell_type": "code",
   "execution_count": 61,
   "metadata": {},
   "outputs": [],
   "source": [
    "with open('basic_mdl_results.txt', 'w') as f:\n",
    "    text = res.summary().as_text()\n",
    "    f.write(text)"
   ]
  },
  {
   "cell_type": "markdown",
   "metadata": {},
   "source": [
    "We create the model using all of the prepared variables:"
   ]
  },
  {
   "cell_type": "code",
   "execution_count": 62,
   "metadata": {},
   "outputs": [
    {
     "name": "stdout",
     "output_type": "stream",
     "text": [
      "                            OLS Regression Results                            \n",
      "==============================================================================\n",
      "Dep. Variable:           kiloCalories   R-squared:                       0.913\n",
      "Model:                            OLS   Adj. R-squared:                  0.912\n",
      "Method:                 Least Squares   F-statistic:                     726.3\n",
      "Date:                Wed, 30 Sep 2020   Prob (F-statistic):          3.93e-145\n",
      "Time:                        13:04:32   Log-Likelihood:                -1569.2\n",
      "No. Observations:                 281   AIC:                             3148.\n",
      "Df Residuals:                     276   BIC:                             3167.\n",
      "Df Model:                           4                                         \n",
      "Covariance Type:            nonrobust                                         \n",
      "================================================================================\n",
      "                   coef    std err          t      P>|t|      [0.025      0.975]\n",
      "--------------------------------------------------------------------------------\n",
      "const         -458.4969     28.752    -15.947      0.000    -515.097    -401.896\n",
      "totalTime        6.6135      0.184     35.918      0.000       6.251       6.976\n",
      "heartRateQ99     4.0407      0.253     15.989      0.000       3.543       4.538\n",
      "indoors         -7.3449     10.699     -0.686      0.493     -28.408      13.718\n",
      "activityType   -62.3857     14.729     -4.236      0.000     -91.381     -33.391\n",
      "==============================================================================\n",
      "Omnibus:                       80.772   Durbin-Watson:                   2.122\n",
      "Prob(Omnibus):                  0.000   Jarque-Bera (JB):              800.952\n",
      "Skew:                          -0.830   Prob(JB):                    1.19e-174\n",
      "Kurtosis:                      11.103   Cond. No.                     1.00e+03\n",
      "==============================================================================\n",
      "\n",
      "Warnings:\n",
      "[1] Standard Errors assume that the covariance matrix of the errors is correctly specified.\n",
      "[2] The condition number is large,  1e+03. This might indicate that there are\n",
      "strong multicollinearity or other numerical problems.\n"
     ]
    }
   ],
   "source": [
    "mdl = sm.OLS(y, X)\n",
    "res = mdl.fit()\n",
    "\n",
    "residuals = res.resid\n",
    "\n",
    "print(res.summary())"
   ]
  },
  {
   "cell_type": "code",
   "execution_count": 63,
   "metadata": {},
   "outputs": [],
   "source": [
    "with open('mdl_results.txt', 'w') as f:\n",
    "    text = res.summary().as_text()\n",
    "    f.write(text)"
   ]
  },
  {
   "cell_type": "markdown",
   "metadata": {},
   "source": [
    "## Model evaluation"
   ]
  },
  {
   "cell_type": "markdown",
   "metadata": {},
   "source": [
    "It should be noted that the baseline model achieved `R^2 = 0.8` whilst the actual model achieved `R^2 = 0.91`"
   ]
  },
  {
   "cell_type": "markdown",
   "metadata": {},
   "source": [
    "### Visual inspection"
   ]
  },
  {
   "cell_type": "markdown",
   "metadata": {},
   "source": [
    "We note that the value of the Durbin-Watson test statistic is approximately $2$, as it should be.\n",
    "We proceed to inspect the residuals of the model. First we view the histogram of the residuals."
   ]
  },
  {
   "cell_type": "code",
   "execution_count": 64,
   "metadata": {},
   "outputs": [
    {
     "data": {
      "image/png": "[encoded data removed]",
      "text/plain": [
       "<Figure size 288x288 with 1 Axes>"
      ]
     },
     "metadata": {
      "needs_background": "light"
     },
     "output_type": "display_data"
    }
   ],
   "source": [
    "plt.hist(residuals)\n",
    "plt.ylabel('Frequency')\n",
    "plt.xlabel('Residuals')\n",
    "plt.savefig('./img/mdl_residuals.png')\n",
    "plt.show()"
   ]
  },
  {
   "cell_type": "markdown",
   "metadata": {},
   "source": [
    "The next plot is a qqplot created to visually inspect the normality of the residuals."
   ]
  },
  {
   "cell_type": "code",
   "execution_count": 65,
   "metadata": {
    "scrolled": false
   },
   "outputs": [
    {
     "data": {
      "image/png": "[encoded data removed]",
      "text/plain": [
       "<Figure size 288x288 with 1 Axes>"
      ]
     },
     "metadata": {
      "needs_background": "light"
     },
     "output_type": "display_data"
    }
   ],
   "source": [
    "plt.figure()\n",
    "ax = plt.gca()\n",
    "qqplot(res.resid, ax=ax, color='#1f77b4', markersize=2, line='45', fit=True, alpha=1/2)\n",
    "plt.savefig('./img/mdl_qq.png')\n",
    "plt.show()"
   ]
  },
  {
   "cell_type": "markdown",
   "metadata": {},
   "source": [
    "The third plot we make is a plot of the standardized residuals to check for homoskedasticity."
   ]
  },
  {
   "cell_type": "code",
   "execution_count": 66,
   "metadata": {},
   "outputs": [
    {
     "data": {
      "image/png": "[encoded data removed]",
      "text/plain": [
       "<Figure size 288x288 with 1 Axes>"
      ]
     },
     "metadata": {
      "needs_background": "light"
     },
     "output_type": "display_data"
    }
   ],
   "source": [
    "residuals_std = np.sqrt(np.abs((residuals - np.mean(residuals)) / np.std(residuals)))\n",
    "plt.plot(residuals_std, 'o', markersize=2)\n",
    "plt.xlabel('Observation')\n",
    "plt.ylabel('Standardized residuals')\n",
    "plt.savefig('./img/mdl_residuals_std.png')\n",
    "plt.show()"
   ]
  },
  {
   "cell_type": "markdown",
   "metadata": {},
   "source": [
    "Finally we compare the predicted `kiloCalories` with the actual values."
   ]
  },
  {
   "cell_type": "code",
   "execution_count": 67,
   "metadata": {},
   "outputs": [
    {
     "data": {
      "image/png": "[encoded data removed]",
      "text/plain": [
       "<Figure size 288x288 with 1 Axes>"
      ]
     },
     "metadata": {
      "needs_background": "light"
     },
     "output_type": "display_data"
    }
   ],
   "source": [
    "y_pred = res.predict(X)\n",
    "y_pred = y_pred.to_numpy().reshape(len(y_pred))\n",
    "y_true = y.to_numpy().reshape(len(y),)\n",
    "\n",
    "m = np.min(np.hstack([y_true, y_pred]))\n",
    "M = np.max(np.hstack([y_true, y_pred]))\n",
    "\n",
    "x = np.linspace(m, M, len(y))\n",
    "plt.plot(y_true, y_pred, 'o', markersize=2)\n",
    "plt.plot(x,x, alpha=3/4)\n",
    "plt.ylabel('Predicted')\n",
    "plt.xlabel('Actual')\n",
    "plt.savefig('./img/mdl_predicted_vs_actual.png')\n",
    "plt.show()"
   ]
  },
  {
   "cell_type": "markdown",
   "metadata": {},
   "source": [
    "The next step is to take a look at the datapoints with the biggest error."
   ]
  },
  {
   "cell_type": "code",
   "execution_count": 68,
   "metadata": {},
   "outputs": [],
   "source": [
    "X['totalTime'] = reg_df['totalTime']\n",
    "X['heartRateQ99'] = reg_df['heartRateQ99']\n",
    "X['y_true'] = y\n",
    "X['y_pred'] = y_pred\n",
    "X['e'] = X['y_true'] - X['y_pred']\n",
    "X = X.sort_values('e', ascending=False)"
   ]
  },
  {
   "cell_type": "code",
   "execution_count": 69,
   "metadata": {},
   "outputs": [
    {
     "data": {
      "text/html": [
       "<div>\n",
       "<style scoped>\n",
       "    .dataframe tbody tr th:only-of-type {\n",
       "        vertical-align: middle;\n",
       "    }\n",
       "\n",
       "    .dataframe tbody tr th {\n",
       "        vertical-align: top;\n",
       "    }\n",
       "\n",
       "    .dataframe thead th {\n",
       "        text-align: right;\n",
       "    }\n",
       "</style>\n",
       "<table border=\"1\" class=\"dataframe\">\n",
       "  <thead>\n",
       "    <tr style=\"text-align: right;\">\n",
       "      <th></th>\n",
       "      <th>const</th>\n",
       "      <th>totalTime</th>\n",
       "      <th>heartRateQ99</th>\n",
       "      <th>indoors</th>\n",
       "      <th>activityType</th>\n",
       "      <th>y_true</th>\n",
       "      <th>y_pred</th>\n",
       "      <th>e</th>\n",
       "    </tr>\n",
       "  </thead>\n",
       "  <tbody>\n",
       "    <tr>\n",
       "      <th>154</th>\n",
       "      <td>1.00</td>\n",
       "      <td>102.00</td>\n",
       "      <td>138.00</td>\n",
       "      <td>1</td>\n",
       "      <td>0</td>\n",
       "      <td>1,013.00</td>\n",
       "      <td>766.35</td>\n",
       "      <td>246.65</td>\n",
       "    </tr>\n",
       "    <tr>\n",
       "      <th>93</th>\n",
       "      <td>1.00</td>\n",
       "      <td>96.92</td>\n",
       "      <td>168.00</td>\n",
       "      <td>1</td>\n",
       "      <td>0</td>\n",
       "      <td>1,067.00</td>\n",
       "      <td>853.97</td>\n",
       "      <td>213.03</td>\n",
       "    </tr>\n",
       "    <tr>\n",
       "      <th>217</th>\n",
       "      <td>1.00</td>\n",
       "      <td>79.73</td>\n",
       "      <td>136.00</td>\n",
       "      <td>1</td>\n",
       "      <td>1</td>\n",
       "      <td>736.00</td>\n",
       "      <td>548.60</td>\n",
       "      <td>187.40</td>\n",
       "    </tr>\n",
       "    <tr>\n",
       "      <th>209</th>\n",
       "      <td>1.00</td>\n",
       "      <td>79.25</td>\n",
       "      <td>147.00</td>\n",
       "      <td>1</td>\n",
       "      <td>1</td>\n",
       "      <td>770.00</td>\n",
       "      <td>589.87</td>\n",
       "      <td>180.13</td>\n",
       "    </tr>\n",
       "    <tr>\n",
       "      <th>190</th>\n",
       "      <td>1.00</td>\n",
       "      <td>66.65</td>\n",
       "      <td>147.00</td>\n",
       "      <td>1</td>\n",
       "      <td>1</td>\n",
       "      <td>667.00</td>\n",
       "      <td>506.54</td>\n",
       "      <td>160.46</td>\n",
       "    </tr>\n",
       "  </tbody>\n",
       "</table>\n",
       "</div>"
      ],
      "text/plain": [
       "     const  totalTime  heartRateQ99  indoors  activityType   y_true  y_pred  \\\n",
       "154   1.00     102.00        138.00        1             0 1,013.00  766.35   \n",
       "93    1.00      96.92        168.00        1             0 1,067.00  853.97   \n",
       "217   1.00      79.73        136.00        1             1   736.00  548.60   \n",
       "209   1.00      79.25        147.00        1             1   770.00  589.87   \n",
       "190   1.00      66.65        147.00        1             1   667.00  506.54   \n",
       "\n",
       "         e  \n",
       "154 246.65  \n",
       "93  213.03  \n",
       "217 187.40  \n",
       "209 180.13  \n",
       "190 160.46  "
      ]
     },
     "execution_count": 69,
     "metadata": {},
     "output_type": "execute_result"
    }
   ],
   "source": [
    "X.head()"
   ]
  },
  {
   "cell_type": "markdown",
   "metadata": {},
   "source": [
    "### Statistical tests"
   ]
  },
  {
   "cell_type": "markdown",
   "metadata": {},
   "source": [
    "We now move on to performing statistical tests for normality and homoskedasticity."
   ]
  },
  {
   "cell_type": "code",
   "execution_count": 70,
   "metadata": {},
   "outputs": [],
   "source": [
    "def hypothesis_decision(x, alpha=0.05):\n",
    "    if x < alpha:\n",
    "        return 'Reject null hypothesis'\n",
    "    else:\n",
    "        return 'Fail to reject null hypothesis'"
   ]
  },
  {
   "cell_type": "markdown",
   "metadata": {},
   "source": [
    "First we carry out the Shapiro-Wilks test for normality. The hypotheses are:\n",
    "\n",
    "$H_{0} :$ Data comes from a normal distribution.\n",
    "\n",
    "$H_{1} :$ Data does not come from a normal distribution."
   ]
  },
  {
   "cell_type": "code",
   "execution_count": 71,
   "metadata": {},
   "outputs": [],
   "source": [
    "_,shapiro_pval = shapiro(residuals)"
   ]
  },
  {
   "cell_type": "markdown",
   "metadata": {},
   "source": [
    "The second test we perform is the Breusch-Pagan for homoscedasticity. The hypotheses are:\n",
    "\n",
    "$H_{0} :$ Homoscedasticity.\n",
    "\n",
    "$H_{1} :$ Lack of homoscedasticity / Heteroskedasticity."
   ]
  },
  {
   "cell_type": "code",
   "execution_count": 72,
   "metadata": {},
   "outputs": [],
   "source": [
    "_,_,_,breusch_pval = het_breuschpagan(residuals, X)"
   ]
  },
  {
   "cell_type": "markdown",
   "metadata": {},
   "source": [
    "We summarize the outcomes of the tests in a nice table."
   ]
  },
  {
   "cell_type": "code",
   "execution_count": 73,
   "metadata": {},
   "outputs": [
    {
     "data": {
      "text/html": [
       "<div>\n",
       "<style scoped>\n",
       "    .dataframe tbody tr th:only-of-type {\n",
       "        vertical-align: middle;\n",
       "    }\n",
       "\n",
       "    .dataframe tbody tr th {\n",
       "        vertical-align: top;\n",
       "    }\n",
       "\n",
       "    .dataframe thead th {\n",
       "        text-align: right;\n",
       "    }\n",
       "</style>\n",
       "<table border=\"1\" class=\"dataframe\">\n",
       "  <thead>\n",
       "    <tr style=\"text-align: right;\">\n",
       "      <th></th>\n",
       "      <th>Name</th>\n",
       "      <th>Null Hypothesis</th>\n",
       "      <th>P-value</th>\n",
       "      <th>Decision</th>\n",
       "    </tr>\n",
       "  </thead>\n",
       "  <tbody>\n",
       "    <tr>\n",
       "      <th>0</th>\n",
       "      <td>Shapiro-Wilks</td>\n",
       "      <td>Normality</td>\n",
       "      <td>0.00</td>\n",
       "      <td>Reject null hypothesis</td>\n",
       "    </tr>\n",
       "    <tr>\n",
       "      <th>1</th>\n",
       "      <td>Breusch-Pagan</td>\n",
       "      <td>Heteroskedasticity</td>\n",
       "      <td>0.72</td>\n",
       "      <td>Fail to reject null hypothesis</td>\n",
       "    </tr>\n",
       "  </tbody>\n",
       "</table>\n",
       "</div>"
      ],
      "text/plain": [
       "            Name     Null Hypothesis P-value                        Decision\n",
       "0  Shapiro-Wilks           Normality    0.00          Reject null hypothesis\n",
       "1  Breusch-Pagan  Heteroskedasticity    0.72  Fail to reject null hypothesis"
      ]
     },
     "execution_count": 73,
     "metadata": {},
     "output_type": "execute_result"
    }
   ],
   "source": [
    "pvalues = [shapiro_pval, breusch_pval]\n",
    "name = ['Shapiro-Wilks', 'Breusch-Pagan',]\n",
    "null_hyp = ['Normality', 'Heteroskedasticity']\n",
    "\n",
    "tests = pd.DataFrame([name, null_hyp, pvalues], \n",
    "                     index=['Name', 'Null Hypothesis', 'P-value'])\n",
    "\n",
    "tests = tests.transpose()\n",
    "tests['Decision'] = tests['P-value'].apply(hypothesis_decision)\n",
    "tests"
   ]
  },
  {
   "cell_type": "markdown",
   "metadata": {},
   "source": [
    "# Estimated model"
   ]
  },
  {
   "cell_type": "markdown",
   "metadata": {},
   "source": [
    "The estimated model is:"
   ]
  },
  {
   "cell_type": "markdown",
   "metadata": {},
   "source": [
    "\\begin{equation}\n",
    "c = 6.61t + 4.04h - 7.34d - 62.39a - 458.49\n",
    "\\end{equation}"
   ]
  },
  {
   "cell_type": "markdown",
   "metadata": {},
   "source": [
    "Where:\n",
    "* $c$ denotes `kiloCalories`.\n",
    "* $t$ denotes` totalTime`.\n",
    "* $h$ denotes `heartRateQ99`.\n",
    "* $a$ denotes `activityType`.\n",
    "* $d$ denotes `indoors`."
   ]
  },
  {
   "cell_type": "markdown",
   "metadata": {},
   "source": [
    "# Summary"
   ]
  },
  {
   "cell_type": "markdown",
   "metadata": {},
   "source": [
    "* I downloaded data generated by my Polar watch that tracks heart rate and estimates burned `kilocalories` during workouts.\n",
    "\n",
    "* The data came in the form of `.json` files which were read, transformed and cleaned with `pandas`. \n",
    "\n",
    "* The clean dataset contains `283` workouts over a nearly one year period. \n",
    "\n",
    "* A linear regression model was built using `statsmodels` to predict the total `kilocalorie` expenditure based on the `duration` of the session, the `99 quantile of heart rate`, the `activity` type and whether the workout is `indoors`.\n",
    "\n",
    "* The model achieves an adjusted `R^2` of `0.912`.\n",
    "\n",
    "* The multiple linear regression model outperforms a simple linear regression using only `duration` in terms of `R^2`.\n",
    "\n",
    "* After further transforming the data, the `duration` of a workout and `kilocalorie`s burned have `0.90` correlation. \n",
    "\n",
    "* The estimated formula is: `calories = 6.61 * time + 4.04 * heart_rate - 7.34 * indoors - 62.39 * activity - 458.49`\n",
    "\n",
    "* The `indoors` variable is not statistically significant.\n",
    "\n",
    "* The residuals of the model passed the `Breusch-Pagan` variance test."
   ]
  }
 ],
 "metadata": {
  "kernelspec": {
   "display_name": "Python 3",
   "language": "python",
   "name": "python3"
  },
  "language_info": {
   "codemirror_mode": {
    "name": "ipython",
    "version": 3
   },
   "file_extension": ".py",
   "mimetype": "text/x-python",
   "name": "python",
   "nbconvert_exporter": "python",
   "pygments_lexer": "ipython3",
   "version": "3.8.2"
  }
 },
 "nbformat": 4,
 "nbformat_minor": 4
}
