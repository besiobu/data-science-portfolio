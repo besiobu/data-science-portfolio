{
 "cells": [
  {
   "cell_type": "markdown",
   "metadata": {},
   "source": [
    "# Imports"
   ]
  },
  {
   "cell_type": "code",
   "execution_count": 1,
   "metadata": {},
   "outputs": [],
   "source": [
    "import json\n",
    "from functools import reduce\n",
    "from os import listdir\n",
    "from os.path import isfile, join\n",
    "from pathlib import Path\n",
    "\n",
    "import matplotlib.pyplot as plt\n",
    "import numpy as np\n",
    "import pandas as pd\n",
    "import statsmodels.api as sm\n",
    "from pylab import rcParams\n",
    "from scipy.stats import shapiro\n",
    "from statsmodels.graphics.gofplots import qqplot\n",
    "from statsmodels.stats.diagnostic import het_breuschpagan"
   ]
  },
  {
   "cell_type": "markdown",
   "metadata": {},
   "source": [
    "# Setup"
   ]
  },
  {
   "cell_type": "code",
   "execution_count": 2,
   "metadata": {},
   "outputs": [],
   "source": [
    "# Set figure size\n",
    "rcParams['figure.figsize'] = (4, 4)\n",
    "\n",
    "# Folder for images\n",
    "Path('img').mkdir(parents=True, exist_ok=True)\n",
    "\n",
    "# Nice float format\n",
    "pd.options.display.float_format = \"{:,.6f}\".format"
   ]
  },
  {
   "cell_type": "markdown",
   "metadata": {},
   "source": [
    "# Data description\n",
    "\n",
    "Last year I purchased a Polar watch that tracks my vitals during workouts. I used the [Polar Flow](polar.flow.com) website to obtain a copy of my data. For privacy reasons I shall not be sharing the dataset."
   ]
  },
  {
   "cell_type": "code",
   "execution_count": 3,
   "metadata": {},
   "outputs": [],
   "source": [
    "path = './data/'"
   ]
  },
  {
   "cell_type": "markdown",
   "metadata": {},
   "source": [
    "First, we create a list of files in the download."
   ]
  },
  {
   "cell_type": "code",
   "execution_count": 4,
   "metadata": {
    "scrolled": true
   },
   "outputs": [],
   "source": [
    "files = [f for f in listdir(path) if isfile(join(path, f))]"
   ]
  },
  {
   "cell_type": "markdown",
   "metadata": {},
   "source": [
    "We shall only consider files containing the string `'training-session'`."
   ]
  },
  {
   "cell_type": "code",
   "execution_count": 5,
   "metadata": {},
   "outputs": [],
   "source": [
    "files = [f for f in files if 'training-session' in f]"
   ]
  },
  {
   "cell_type": "markdown",
   "metadata": {},
   "source": [
    "The number of files under consideration is:"
   ]
  },
  {
   "cell_type": "code",
   "execution_count": 6,
   "metadata": {},
   "outputs": [
    {
     "data": {
      "text/plain": [
       "284"
      ]
     },
     "execution_count": 6,
     "metadata": {},
     "output_type": "execute_result"
    }
   ],
   "source": [
    "len(files)"
   ]
  },
  {
   "cell_type": "markdown",
   "metadata": {},
   "source": [
    "We loop over each of the files and them to a list."
   ]
  },
  {
   "cell_type": "code",
   "execution_count": 7,
   "metadata": {},
   "outputs": [],
   "source": [
    "data = []\n",
    "\n",
    "for f in files:\n",
    "    with open(join(path, f)) as f:\n",
    "        d = json.load(f)\n",
    "        data.append(d)"
   ]
  },
  {
   "cell_type": "markdown",
   "metadata": {},
   "source": [
    "We extract the relevant information from the items in the list."
   ]
  },
  {
   "cell_type": "code",
   "execution_count": 8,
   "metadata": {},
   "outputs": [],
   "source": [
    "workouts = []\n",
    "\n",
    "for d in data:\n",
    "    workouts.append(d['exercises'][0])"
   ]
  },
  {
   "cell_type": "markdown",
   "metadata": {},
   "source": [
    "Finally we create a dataframe containing the workout information."
   ]
  },
  {
   "cell_type": "code",
   "execution_count": 9,
   "metadata": {},
   "outputs": [],
   "source": [
    "df = pd.DataFrame(workouts)"
   ]
  },
  {
   "cell_type": "markdown",
   "metadata": {},
   "source": [
    "# Data structure\n",
    "\n",
    "We find the following columns in the dataframe."
   ]
  },
  {
   "cell_type": "code",
   "execution_count": 10,
   "metadata": {},
   "outputs": [
    {
     "name": "stdout",
     "output_type": "stream",
     "text": [
      "<class 'pandas.core.frame.DataFrame'>\n",
      "RangeIndex: 284 entries, 0 to 283\n",
      "Data columns (total 17 columns):\n",
      " #   Column          Non-Null Count  Dtype  \n",
      "---  ------          --------------  -----  \n",
      " 0   startTime       284 non-null    object \n",
      " 1   stopTime        284 non-null    object \n",
      " 2   timezoneOffset  284 non-null    int64  \n",
      " 3   duration        284 non-null    object \n",
      " 4   sport           284 non-null    object \n",
      " 5   kiloCalories    283 non-null    float64\n",
      " 6   heartRate       283 non-null    object \n",
      " 7   zones           284 non-null    object \n",
      " 8   samples         284 non-null    object \n",
      " 9   distance        130 non-null    float64\n",
      " 10  latitude        130 non-null    float64\n",
      " 11  longitude       130 non-null    float64\n",
      " 12  ascent          120 non-null    float64\n",
      " 13  descent         121 non-null    float64\n",
      " 14  speed           130 non-null    object \n",
      " 15  autoLaps        102 non-null    object \n",
      " 16  laps            2 non-null      object \n",
      "dtypes: float64(6), int64(1), object(10)\n",
      "memory usage: 37.8+ KB\n"
     ]
    }
   ],
   "source": [
    "df.info()"
   ]
  },
  {
   "cell_type": "markdown",
   "metadata": {},
   "source": [
    "We remove columns that containt data from features I do not use in my training."
   ]
  },
  {
   "cell_type": "markdown",
   "metadata": {},
   "source": [
    "Due to privacy concerns I shan't be extracting longitudinal and latitudinal data."
   ]
  },
  {
   "cell_type": "code",
   "execution_count": 11,
   "metadata": {},
   "outputs": [],
   "source": [
    "df = df.drop(['zones', 'samples', 'autoLaps', \n",
    "              'laps', 'latitude', 'longitude'], axis=1)"
   ]
  },
  {
   "cell_type": "code",
   "execution_count": 12,
   "metadata": {
    "scrolled": false
   },
   "outputs": [
    {
     "data": {
      "text/html": [
       "<div>\n",
       "<style scoped>\n",
       "    .dataframe tbody tr th:only-of-type {\n",
       "        vertical-align: middle;\n",
       "    }\n",
       "\n",
       "    .dataframe tbody tr th {\n",
       "        vertical-align: top;\n",
       "    }\n",
       "\n",
       "    .dataframe thead th {\n",
       "        text-align: right;\n",
       "    }\n",
       "</style>\n",
       "<table border=\"1\" class=\"dataframe\">\n",
       "  <thead>\n",
       "    <tr style=\"text-align: right;\">\n",
       "      <th></th>\n",
       "      <th>startTime</th>\n",
       "      <th>stopTime</th>\n",
       "      <th>timezoneOffset</th>\n",
       "      <th>duration</th>\n",
       "      <th>sport</th>\n",
       "      <th>kiloCalories</th>\n",
       "      <th>heartRate</th>\n",
       "      <th>distance</th>\n",
       "      <th>ascent</th>\n",
       "      <th>descent</th>\n",
       "      <th>speed</th>\n",
       "    </tr>\n",
       "  </thead>\n",
       "  <tbody>\n",
       "    <tr>\n",
       "      <th>0</th>\n",
       "      <td>2019-05-24T13:18:14.000</td>\n",
       "      <td>2019-05-24T14:58:44.125</td>\n",
       "      <td>120</td>\n",
       "      <td>PT6030.125S</td>\n",
       "      <td>STRENGTH_TRAINING</td>\n",
       "      <td>658.000000</td>\n",
       "      <td>{'min': 72, 'avg': 105, 'max': 136}</td>\n",
       "      <td>nan</td>\n",
       "      <td>nan</td>\n",
       "      <td>nan</td>\n",
       "      <td>NaN</td>\n",
       "    </tr>\n",
       "    <tr>\n",
       "      <th>1</th>\n",
       "      <td>2019-05-04T12:03:34.000</td>\n",
       "      <td>2019-05-04T13:21:38.500</td>\n",
       "      <td>120</td>\n",
       "      <td>PT4684.500S</td>\n",
       "      <td>STRENGTH_TRAINING</td>\n",
       "      <td>373.000000</td>\n",
       "      <td>{'min': 71, 'avg': 99, 'max': 138}</td>\n",
       "      <td>nan</td>\n",
       "      <td>nan</td>\n",
       "      <td>nan</td>\n",
       "      <td>NaN</td>\n",
       "    </tr>\n",
       "    <tr>\n",
       "      <th>2</th>\n",
       "      <td>2019-04-12T12:48:57.000</td>\n",
       "      <td>2019-04-12T12:59:10.750</td>\n",
       "      <td>120</td>\n",
       "      <td>PT613.750S</td>\n",
       "      <td>TREADMILL_RUNNING</td>\n",
       "      <td>62.000000</td>\n",
       "      <td>{'min': 71, 'avg': 97, 'max': 107}</td>\n",
       "      <td>nan</td>\n",
       "      <td>nan</td>\n",
       "      <td>nan</td>\n",
       "      <td>NaN</td>\n",
       "    </tr>\n",
       "    <tr>\n",
       "      <th>3</th>\n",
       "      <td>2019-06-12T13:13:09.000</td>\n",
       "      <td>2019-06-12T13:23:15.500</td>\n",
       "      <td>120</td>\n",
       "      <td>PT606.500S</td>\n",
       "      <td>TREADMILL_RUNNING</td>\n",
       "      <td>71.000000</td>\n",
       "      <td>{'min': 67, 'avg': 105, 'max': 121}</td>\n",
       "      <td>nan</td>\n",
       "      <td>nan</td>\n",
       "      <td>nan</td>\n",
       "      <td>NaN</td>\n",
       "    </tr>\n",
       "    <tr>\n",
       "      <th>4</th>\n",
       "      <td>2019-05-24T14:59:06.000</td>\n",
       "      <td>2019-05-24T15:29:08.750</td>\n",
       "      <td>120</td>\n",
       "      <td>PT1802.750S</td>\n",
       "      <td>TREADMILL_RUNNING</td>\n",
       "      <td>416.000000</td>\n",
       "      <td>{'min': 84, 'avg': 144, 'max': 170}</td>\n",
       "      <td>nan</td>\n",
       "      <td>nan</td>\n",
       "      <td>nan</td>\n",
       "      <td>NaN</td>\n",
       "    </tr>\n",
       "  </tbody>\n",
       "</table>\n",
       "</div>"
      ],
      "text/plain": [
       "                 startTime                 stopTime  timezoneOffset  \\\n",
       "0  2019-05-24T13:18:14.000  2019-05-24T14:58:44.125             120   \n",
       "1  2019-05-04T12:03:34.000  2019-05-04T13:21:38.500             120   \n",
       "2  2019-04-12T12:48:57.000  2019-04-12T12:59:10.750             120   \n",
       "3  2019-06-12T13:13:09.000  2019-06-12T13:23:15.500             120   \n",
       "4  2019-05-24T14:59:06.000  2019-05-24T15:29:08.750             120   \n",
       "\n",
       "      duration              sport  kiloCalories  \\\n",
       "0  PT6030.125S  STRENGTH_TRAINING    658.000000   \n",
       "1  PT4684.500S  STRENGTH_TRAINING    373.000000   \n",
       "2   PT613.750S  TREADMILL_RUNNING     62.000000   \n",
       "3   PT606.500S  TREADMILL_RUNNING     71.000000   \n",
       "4  PT1802.750S  TREADMILL_RUNNING    416.000000   \n",
       "\n",
       "                             heartRate  distance  ascent  descent speed  \n",
       "0  {'min': 72, 'avg': 105, 'max': 136}       nan     nan      nan   NaN  \n",
       "1   {'min': 71, 'avg': 99, 'max': 138}       nan     nan      nan   NaN  \n",
       "2   {'min': 71, 'avg': 97, 'max': 107}       nan     nan      nan   NaN  \n",
       "3  {'min': 67, 'avg': 105, 'max': 121}       nan     nan      nan   NaN  \n",
       "4  {'min': 84, 'avg': 144, 'max': 170}       nan     nan      nan   NaN  "
      ]
     },
     "execution_count": 12,
     "metadata": {},
     "output_type": "execute_result"
    }
   ],
   "source": [
    "df.head()"
   ]
  },
  {
   "cell_type": "markdown",
   "metadata": {},
   "source": [
    "# Missing Values"
   ]
  },
  {
   "cell_type": "markdown",
   "metadata": {},
   "source": [
    "The watch tracks different information for different workouts. For example when walking it tracks location but when walking on a treadmill it doesn't, hence there is quite a lot of missing data."
   ]
  },
  {
   "cell_type": "code",
   "execution_count": 13,
   "metadata": {},
   "outputs": [
    {
     "data": {
      "text/html": [
       "<div>\n",
       "<style scoped>\n",
       "    .dataframe tbody tr th:only-of-type {\n",
       "        vertical-align: middle;\n",
       "    }\n",
       "\n",
       "    .dataframe tbody tr th {\n",
       "        vertical-align: top;\n",
       "    }\n",
       "\n",
       "    .dataframe thead th {\n",
       "        text-align: right;\n",
       "    }\n",
       "</style>\n",
       "<table border=\"1\" class=\"dataframe\">\n",
       "  <thead>\n",
       "    <tr style=\"text-align: right;\">\n",
       "      <th></th>\n",
       "      <th>Missing %</th>\n",
       "    </tr>\n",
       "  </thead>\n",
       "  <tbody>\n",
       "    <tr>\n",
       "      <th>ascent</th>\n",
       "      <td>57.750000</td>\n",
       "    </tr>\n",
       "    <tr>\n",
       "      <th>descent</th>\n",
       "      <td>57.390000</td>\n",
       "    </tr>\n",
       "    <tr>\n",
       "      <th>distance</th>\n",
       "      <td>54.230000</td>\n",
       "    </tr>\n",
       "    <tr>\n",
       "      <th>speed</th>\n",
       "      <td>54.230000</td>\n",
       "    </tr>\n",
       "    <tr>\n",
       "      <th>kiloCalories</th>\n",
       "      <td>0.350000</td>\n",
       "    </tr>\n",
       "    <tr>\n",
       "      <th>heartRate</th>\n",
       "      <td>0.350000</td>\n",
       "    </tr>\n",
       "  </tbody>\n",
       "</table>\n",
       "</div>"
      ],
      "text/plain": [
       "              Missing %\n",
       "ascent        57.750000\n",
       "descent       57.390000\n",
       "distance      54.230000\n",
       "speed         54.230000\n",
       "kiloCalories   0.350000\n",
       "heartRate      0.350000"
      ]
     },
     "execution_count": 13,
     "metadata": {},
     "output_type": "execute_result"
    }
   ],
   "source": [
    "missing = (df.isna().sum() / df.shape[0] * 100)\n",
    "missing.name = 'Missing %'\n",
    "missing = missing.to_frame()\n",
    "missing = missing.sort_values('Missing %', ascending=False)\n",
    "missing = missing[missing['Missing %'] > 0]\n",
    "np.round(missing, 2)"
   ]
  },
  {
   "cell_type": "markdown",
   "metadata": {},
   "source": [
    "# Transforms"
   ]
  },
  {
   "cell_type": "markdown",
   "metadata": {},
   "source": [
    "We apply certain transforms to make the data easier to work with. First we convert strings to datetimes."
   ]
  },
  {
   "cell_type": "code",
   "execution_count": 14,
   "metadata": {},
   "outputs": [],
   "source": [
    "df['startTime'] = pd.to_datetime(df['startTime'])\n",
    "df['stopTime'] = pd.to_datetime(df['stopTime'])"
   ]
  },
  {
   "cell_type": "markdown",
   "metadata": {},
   "source": [
    "We calculate the total duration of each individual workout in minutes."
   ]
  },
  {
   "cell_type": "code",
   "execution_count": 15,
   "metadata": {
    "scrolled": true
   },
   "outputs": [],
   "source": [
    "df['totalTime'] = (df['stopTime'] - df['startTime'])\n",
    "df['totalTime'] = df['totalTime'].apply(lambda x: round(x.seconds / 60, 2))\n",
    "df.drop('duration', axis=1, inplace=True)"
   ]
  },
  {
   "cell_type": "markdown",
   "metadata": {},
   "source": [
    "We split the datetime columns in to date and time."
   ]
  },
  {
   "cell_type": "code",
   "execution_count": 16,
   "metadata": {},
   "outputs": [],
   "source": [
    "df['startDate'] = pd.to_datetime(df['startTime']).dt.date\n",
    "df['stopDate'] = pd.to_datetime(df['stopTime']).dt.date\n",
    "df['startTime'] = pd.to_datetime(df['startTime']).dt.time\n",
    "df['stopTime'] = pd.to_datetime(df['stopTime']).dt.time"
   ]
  },
  {
   "cell_type": "markdown",
   "metadata": {},
   "source": [
    "We extract maximum, average and minimum heart rate values from the `heartRate` column."
   ]
  },
  {
   "cell_type": "code",
   "execution_count": 17,
   "metadata": {},
   "outputs": [],
   "source": [
    "df['heartRateMax'] = df['heartRate'].apply(lambda x: x['max'] if isinstance(x, dict) else np.nan)\n",
    "df['heartRateAvg'] = df['heartRate'].apply(lambda x: x['avg'] if isinstance(x, dict) else np.nan)\n",
    "df['heartRateMin'] = df['heartRate'].apply(lambda x: x['min'] if isinstance(x, dict) else np.nan)\n",
    "df.drop('heartRate', axis=1, inplace=True)"
   ]
  },
  {
   "cell_type": "markdown",
   "metadata": {},
   "source": [
    "In a similar manner we extract the maximum, average and minimum values form the `speed` column."
   ]
  },
  {
   "cell_type": "code",
   "execution_count": 18,
   "metadata": {
    "scrolled": true
   },
   "outputs": [],
   "source": [
    "df['speedAvg'] = df['speed'].apply(lambda x: x['avg'] if isinstance(x, dict) else np.nan)\n",
    "df['speedMax'] = df['speed'].apply(lambda x: x['max'] if isinstance(x, dict) else np.nan)\n",
    "df.drop('speed', axis=1, inplace=True)"
   ]
  },
  {
   "cell_type": "markdown",
   "metadata": {},
   "source": [
    "We reorder the data as follows."
   ]
  },
  {
   "cell_type": "code",
   "execution_count": 19,
   "metadata": {},
   "outputs": [],
   "source": [
    "order = ['startDate',\n",
    "         'stopDate',\n",
    "         'startTime',\n",
    "         'stopTime',\n",
    "         'timezoneOffset',\n",
    "         'totalTime', \n",
    "         'sport',\n",
    "         'kiloCalories',\n",
    "         'heartRateMax',\n",
    "         'heartRateAvg',\n",
    "         'heartRateMin']"
   ]
  },
  {
   "cell_type": "code",
   "execution_count": 20,
   "metadata": {},
   "outputs": [],
   "source": [
    "df = df[order]"
   ]
  },
  {
   "cell_type": "markdown",
   "metadata": {},
   "source": [
    "We check if there are any more `NaN`'s in the data."
   ]
  },
  {
   "cell_type": "code",
   "execution_count": 21,
   "metadata": {},
   "outputs": [
    {
     "data": {
      "text/plain": [
       "startDate         0\n",
       "stopDate          0\n",
       "startTime         0\n",
       "stopTime          0\n",
       "timezoneOffset    0\n",
       "totalTime         0\n",
       "sport             0\n",
       "kiloCalories      1\n",
       "heartRateMax      1\n",
       "heartRateAvg      1\n",
       "heartRateMin      1\n",
       "dtype: int64"
      ]
     },
     "execution_count": 21,
     "metadata": {},
     "output_type": "execute_result"
    }
   ],
   "source": [
    "df.isna().sum()"
   ]
  },
  {
   "cell_type": "markdown",
   "metadata": {},
   "source": [
    "There is one row with `NaN`'s. This might due to my watch having little battery left to make the measurements."
   ]
  },
  {
   "cell_type": "code",
   "execution_count": 22,
   "metadata": {},
   "outputs": [],
   "source": [
    "df = df.dropna()"
   ]
  },
  {
   "cell_type": "markdown",
   "metadata": {},
   "source": [
    "Finally we proceed to sort the data with the latest workouts at the top of the dataframe."
   ]
  },
  {
   "cell_type": "code",
   "execution_count": 23,
   "metadata": {},
   "outputs": [],
   "source": [
    "sort_cols = ['startDate','startTime']\n",
    "df = df.sort_values(sort_cols, ascending=False)\n",
    "df = df.reset_index(drop=True)"
   ]
  },
  {
   "cell_type": "code",
   "execution_count": 24,
   "metadata": {},
   "outputs": [
    {
     "data": {
      "text/html": [
       "<div>\n",
       "<style scoped>\n",
       "    .dataframe tbody tr th:only-of-type {\n",
       "        vertical-align: middle;\n",
       "    }\n",
       "\n",
       "    .dataframe tbody tr th {\n",
       "        vertical-align: top;\n",
       "    }\n",
       "\n",
       "    .dataframe thead th {\n",
       "        text-align: right;\n",
       "    }\n",
       "</style>\n",
       "<table border=\"1\" class=\"dataframe\">\n",
       "  <thead>\n",
       "    <tr style=\"text-align: right;\">\n",
       "      <th></th>\n",
       "      <th>startDate</th>\n",
       "      <th>stopDate</th>\n",
       "      <th>startTime</th>\n",
       "      <th>stopTime</th>\n",
       "      <th>timezoneOffset</th>\n",
       "      <th>totalTime</th>\n",
       "      <th>sport</th>\n",
       "      <th>kiloCalories</th>\n",
       "      <th>heartRateMax</th>\n",
       "      <th>heartRateAvg</th>\n",
       "      <th>heartRateMin</th>\n",
       "    </tr>\n",
       "  </thead>\n",
       "  <tbody>\n",
       "    <tr>\n",
       "      <th>0</th>\n",
       "      <td>2020-03-29</td>\n",
       "      <td>2020-03-29</td>\n",
       "      <td>21:50:21</td>\n",
       "      <td>22:23:41.750000</td>\n",
       "      <td>120</td>\n",
       "      <td>33.330000</td>\n",
       "      <td>WALKING</td>\n",
       "      <td>245.000000</td>\n",
       "      <td>116.000000</td>\n",
       "      <td>102.000000</td>\n",
       "      <td>69.000000</td>\n",
       "    </tr>\n",
       "    <tr>\n",
       "      <th>1</th>\n",
       "      <td>2020-03-27</td>\n",
       "      <td>2020-03-27</td>\n",
       "      <td>20:38:32</td>\n",
       "      <td>21:25:03.750000</td>\n",
       "      <td>60</td>\n",
       "      <td>46.520000</td>\n",
       "      <td>WALKING</td>\n",
       "      <td>401.000000</td>\n",
       "      <td>132.000000</td>\n",
       "      <td>104.000000</td>\n",
       "      <td>70.000000</td>\n",
       "    </tr>\n",
       "    <tr>\n",
       "      <th>2</th>\n",
       "      <td>2020-03-26</td>\n",
       "      <td>2020-03-26</td>\n",
       "      <td>21:07:46</td>\n",
       "      <td>21:52:55.625000</td>\n",
       "      <td>60</td>\n",
       "      <td>45.150000</td>\n",
       "      <td>WALKING</td>\n",
       "      <td>336.000000</td>\n",
       "      <td>122.000000</td>\n",
       "      <td>103.000000</td>\n",
       "      <td>87.000000</td>\n",
       "    </tr>\n",
       "    <tr>\n",
       "      <th>3</th>\n",
       "      <td>2020-03-25</td>\n",
       "      <td>2020-03-25</td>\n",
       "      <td>19:22:38</td>\n",
       "      <td>20:10:17.875000</td>\n",
       "      <td>60</td>\n",
       "      <td>47.650000</td>\n",
       "      <td>WALKING</td>\n",
       "      <td>380.000000</td>\n",
       "      <td>125.000000</td>\n",
       "      <td>108.000000</td>\n",
       "      <td>87.000000</td>\n",
       "    </tr>\n",
       "    <tr>\n",
       "      <th>4</th>\n",
       "      <td>2020-03-24</td>\n",
       "      <td>2020-03-24</td>\n",
       "      <td>13:09:06</td>\n",
       "      <td>13:48:46.750000</td>\n",
       "      <td>60</td>\n",
       "      <td>39.670000</td>\n",
       "      <td>WALKING</td>\n",
       "      <td>358.000000</td>\n",
       "      <td>141.000000</td>\n",
       "      <td>117.000000</td>\n",
       "      <td>90.000000</td>\n",
       "    </tr>\n",
       "  </tbody>\n",
       "</table>\n",
       "</div>"
      ],
      "text/plain": [
       "    startDate    stopDate startTime         stopTime  timezoneOffset  \\\n",
       "0  2020-03-29  2020-03-29  21:50:21  22:23:41.750000             120   \n",
       "1  2020-03-27  2020-03-27  20:38:32  21:25:03.750000              60   \n",
       "2  2020-03-26  2020-03-26  21:07:46  21:52:55.625000              60   \n",
       "3  2020-03-25  2020-03-25  19:22:38  20:10:17.875000              60   \n",
       "4  2020-03-24  2020-03-24  13:09:06  13:48:46.750000              60   \n",
       "\n",
       "   totalTime    sport  kiloCalories  heartRateMax  heartRateAvg  heartRateMin  \n",
       "0  33.330000  WALKING    245.000000    116.000000    102.000000     69.000000  \n",
       "1  46.520000  WALKING    401.000000    132.000000    104.000000     70.000000  \n",
       "2  45.150000  WALKING    336.000000    122.000000    103.000000     87.000000  \n",
       "3  47.650000  WALKING    380.000000    125.000000    108.000000     87.000000  \n",
       "4  39.670000  WALKING    358.000000    141.000000    117.000000     90.000000  "
      ]
     },
     "execution_count": 24,
     "metadata": {},
     "output_type": "execute_result"
    }
   ],
   "source": [
    "df.head()"
   ]
  },
  {
   "cell_type": "code",
   "execution_count": 25,
   "metadata": {},
   "outputs": [
    {
     "name": "stdout",
     "output_type": "stream",
     "text": [
      "<class 'pandas.core.frame.DataFrame'>\n",
      "RangeIndex: 283 entries, 0 to 282\n",
      "Data columns (total 11 columns):\n",
      " #   Column          Non-Null Count  Dtype  \n",
      "---  ------          --------------  -----  \n",
      " 0   startDate       283 non-null    object \n",
      " 1   stopDate        283 non-null    object \n",
      " 2   startTime       283 non-null    object \n",
      " 3   stopTime        283 non-null    object \n",
      " 4   timezoneOffset  283 non-null    int64  \n",
      " 5   totalTime       283 non-null    float64\n",
      " 6   sport           283 non-null    object \n",
      " 7   kiloCalories    283 non-null    float64\n",
      " 8   heartRateMax    283 non-null    float64\n",
      " 9   heartRateAvg    283 non-null    float64\n",
      " 10  heartRateMin    283 non-null    float64\n",
      "dtypes: float64(5), int64(1), object(5)\n",
      "memory usage: 24.4+ KB\n"
     ]
    }
   ],
   "source": [
    "df.info()"
   ]
  },
  {
   "cell_type": "markdown",
   "metadata": {},
   "source": [
    "# Analysis"
   ]
  },
  {
   "cell_type": "markdown",
   "metadata": {},
   "source": [
    "Given that we have produced a clean dataset we can proceed to analyse a few aspects."
   ]
  },
  {
   "cell_type": "markdown",
   "metadata": {},
   "source": [
    "## Time span"
   ]
  },
  {
   "cell_type": "markdown",
   "metadata": {},
   "source": [
    "The date of the first workout is:"
   ]
  },
  {
   "cell_type": "code",
   "execution_count": 26,
   "metadata": {},
   "outputs": [
    {
     "data": {
      "text/plain": [
       "'2019-02-20'"
      ]
     },
     "execution_count": 26,
     "metadata": {},
     "output_type": "execute_result"
    }
   ],
   "source": [
    "str(df['startDate'].min())"
   ]
  },
  {
   "cell_type": "markdown",
   "metadata": {},
   "source": [
    "The date of the last workout is:"
   ]
  },
  {
   "cell_type": "code",
   "execution_count": 27,
   "metadata": {},
   "outputs": [
    {
     "data": {
      "text/plain": [
       "'2020-03-29'"
      ]
     },
     "execution_count": 27,
     "metadata": {},
     "output_type": "execute_result"
    }
   ],
   "source": [
    "str(df['startDate'].max())"
   ]
  },
  {
   "cell_type": "markdown",
   "metadata": {},
   "source": [
    "Workouts measured:"
   ]
  },
  {
   "cell_type": "code",
   "execution_count": 28,
   "metadata": {},
   "outputs": [
    {
     "data": {
      "text/plain": [
       "283"
      ]
     },
     "execution_count": 28,
     "metadata": {},
     "output_type": "execute_result"
    }
   ],
   "source": [
    "len(df)"
   ]
  },
  {
   "cell_type": "markdown",
   "metadata": {},
   "source": [
    "## Descriptive statistics"
   ]
  },
  {
   "cell_type": "code",
   "execution_count": 29,
   "metadata": {},
   "outputs": [
    {
     "data": {
      "text/html": [
       "<div>\n",
       "<style scoped>\n",
       "    .dataframe tbody tr th:only-of-type {\n",
       "        vertical-align: middle;\n",
       "    }\n",
       "\n",
       "    .dataframe tbody tr th {\n",
       "        vertical-align: top;\n",
       "    }\n",
       "\n",
       "    .dataframe thead th {\n",
       "        text-align: right;\n",
       "    }\n",
       "</style>\n",
       "<table border=\"1\" class=\"dataframe\">\n",
       "  <thead>\n",
       "    <tr style=\"text-align: right;\">\n",
       "      <th></th>\n",
       "      <th>totalTime</th>\n",
       "      <th>kiloCalories</th>\n",
       "      <th>heartRateMax</th>\n",
       "      <th>heartRateAvg</th>\n",
       "      <th>heartRateMin</th>\n",
       "    </tr>\n",
       "  </thead>\n",
       "  <tbody>\n",
       "    <tr>\n",
       "      <th>count</th>\n",
       "      <td>283.000000</td>\n",
       "      <td>283.000000</td>\n",
       "      <td>283.000000</td>\n",
       "      <td>283.000000</td>\n",
       "      <td>283.000000</td>\n",
       "    </tr>\n",
       "    <tr>\n",
       "      <th>mean</th>\n",
       "      <td>42.831060</td>\n",
       "      <td>315.975265</td>\n",
       "      <td>128.335689</td>\n",
       "      <td>105.194346</td>\n",
       "      <td>76.738516</td>\n",
       "    </tr>\n",
       "    <tr>\n",
       "      <th>std</th>\n",
       "      <td>29.647283</td>\n",
       "      <td>218.745576</td>\n",
       "      <td>18.254807</td>\n",
       "      <td>11.866621</td>\n",
       "      <td>8.987117</td>\n",
       "    </tr>\n",
       "    <tr>\n",
       "      <th>min</th>\n",
       "      <td>5.000000</td>\n",
       "      <td>29.000000</td>\n",
       "      <td>93.000000</td>\n",
       "      <td>82.000000</td>\n",
       "      <td>53.000000</td>\n",
       "    </tr>\n",
       "    <tr>\n",
       "      <th>25%</th>\n",
       "      <td>15.920000</td>\n",
       "      <td>121.500000</td>\n",
       "      <td>115.000000</td>\n",
       "      <td>96.000000</td>\n",
       "      <td>70.000000</td>\n",
       "    </tr>\n",
       "    <tr>\n",
       "      <th>50%</th>\n",
       "      <td>36.450000</td>\n",
       "      <td>277.000000</td>\n",
       "      <td>125.000000</td>\n",
       "      <td>103.000000</td>\n",
       "      <td>77.000000</td>\n",
       "    </tr>\n",
       "    <tr>\n",
       "      <th>75%</th>\n",
       "      <td>65.290000</td>\n",
       "      <td>441.500000</td>\n",
       "      <td>138.500000</td>\n",
       "      <td>111.000000</td>\n",
       "      <td>83.000000</td>\n",
       "    </tr>\n",
       "    <tr>\n",
       "      <th>max</th>\n",
       "      <td>172.730000</td>\n",
       "      <td>1,067.000000</td>\n",
       "      <td>178.000000</td>\n",
       "      <td>148.000000</td>\n",
       "      <td>99.000000</td>\n",
       "    </tr>\n",
       "  </tbody>\n",
       "</table>\n",
       "</div>"
      ],
      "text/plain": [
       "       totalTime  kiloCalories  heartRateMax  heartRateAvg  heartRateMin\n",
       "count 283.000000    283.000000    283.000000    283.000000    283.000000\n",
       "mean   42.831060    315.975265    128.335689    105.194346     76.738516\n",
       "std    29.647283    218.745576     18.254807     11.866621      8.987117\n",
       "min     5.000000     29.000000     93.000000     82.000000     53.000000\n",
       "25%    15.920000    121.500000    115.000000     96.000000     70.000000\n",
       "50%    36.450000    277.000000    125.000000    103.000000     77.000000\n",
       "75%    65.290000    441.500000    138.500000    111.000000     83.000000\n",
       "max   172.730000  1,067.000000    178.000000    148.000000     99.000000"
      ]
     },
     "execution_count": 29,
     "metadata": {},
     "output_type": "execute_result"
    }
   ],
   "source": [
    "df.drop('timezoneOffset', axis=1).describe()"
   ]
  },
  {
   "cell_type": "markdown",
   "metadata": {},
   "source": [
    "## Kilocalories burned in total"
   ]
  },
  {
   "cell_type": "markdown",
   "metadata": {},
   "source": [
    "First we count the total kilocalories I burned during the period in question."
   ]
  },
  {
   "cell_type": "code",
   "execution_count": 30,
   "metadata": {},
   "outputs": [
    {
     "name": "stdout",
     "output_type": "stream",
     "text": [
      "89421.0\n"
     ]
    }
   ],
   "source": [
    "total_calories = df['kiloCalories'].sum()\n",
    "print(total_calories)"
   ]
  },
  {
   "cell_type": "markdown",
   "metadata": {},
   "source": [
    "We convert this number to kilograms of body fat.\n",
    "According to [this article](https://www.livestrong.com/article/304137-how-many-calories-per-kilogram-of-weight/) it equates to"
   ]
  },
  {
   "cell_type": "code",
   "execution_count": 31,
   "metadata": {},
   "outputs": [
    {
     "data": {
      "text/plain": [
       "11.613116883116883"
      ]
     },
     "execution_count": 31,
     "metadata": {},
     "output_type": "execute_result"
    }
   ],
   "source": [
    "total_calories / 7700"
   ]
  },
  {
   "cell_type": "markdown",
   "metadata": {},
   "source": [
    "## Kilocalories burned by sport"
   ]
  },
  {
   "cell_type": "code",
   "execution_count": 32,
   "metadata": {},
   "outputs": [
    {
     "data": {
      "text/html": [
       "<div>\n",
       "<style scoped>\n",
       "    .dataframe tbody tr th:only-of-type {\n",
       "        vertical-align: middle;\n",
       "    }\n",
       "\n",
       "    .dataframe tbody tr th {\n",
       "        vertical-align: top;\n",
       "    }\n",
       "\n",
       "    .dataframe thead th {\n",
       "        text-align: right;\n",
       "    }\n",
       "</style>\n",
       "<table border=\"1\" class=\"dataframe\">\n",
       "  <thead>\n",
       "    <tr style=\"text-align: right;\">\n",
       "      <th></th>\n",
       "      <th>sport</th>\n",
       "      <th>total kilocalories</th>\n",
       "    </tr>\n",
       "  </thead>\n",
       "  <tbody>\n",
       "    <tr>\n",
       "      <th>4</th>\n",
       "      <td>walking</td>\n",
       "      <td>33080</td>\n",
       "    </tr>\n",
       "    <tr>\n",
       "      <th>2</th>\n",
       "      <td>strength_training</td>\n",
       "      <td>31547</td>\n",
       "    </tr>\n",
       "    <tr>\n",
       "      <th>3</th>\n",
       "      <td>treadmill_running</td>\n",
       "      <td>19825</td>\n",
       "    </tr>\n",
       "    <tr>\n",
       "      <th>0</th>\n",
       "      <td>cycling</td>\n",
       "      <td>4029</td>\n",
       "    </tr>\n",
       "    <tr>\n",
       "      <th>1</th>\n",
       "      <td>running</td>\n",
       "      <td>940</td>\n",
       "    </tr>\n",
       "  </tbody>\n",
       "</table>\n",
       "</div>"
      ],
      "text/plain": [
       "               sport  total kilocalories\n",
       "4            walking               33080\n",
       "2  strength_training               31547\n",
       "3  treadmill_running               19825\n",
       "0            cycling                4029\n",
       "1            running                 940"
      ]
     },
     "execution_count": 32,
     "metadata": {},
     "output_type": "execute_result"
    }
   ],
   "source": [
    "by_sport = df[['kiloCalories', 'sport']].groupby('sport', as_index=False)\n",
    "by_sport = by_sport.sum()\n",
    "by_sport['sport'] = by_sport['sport'].apply(lambda x: x.lower())\n",
    "by_sport['kiloCalories'] = by_sport['kiloCalories'].astype(int)\n",
    "by_sport = by_sport.rename(columns={'kiloCalories': 'total kilocalories'})\n",
    "by_sport = by_sport.sort_values('total kilocalories', ascending=False)\n",
    "by_sport"
   ]
  },
  {
   "cell_type": "markdown",
   "metadata": {},
   "source": [
    "## Kilocalories burned over time"
   ]
  },
  {
   "cell_type": "markdown",
   "metadata": {},
   "source": [
    "Next we produce a plot of kilocalories burned over a two month period in 2019."
   ]
  },
  {
   "cell_type": "code",
   "execution_count": 33,
   "metadata": {},
   "outputs": [
    {
     "data": {
      "image/png": "[encoded data removed]",
      "text/plain": [
       "<Figure size 576x288 with 1 Axes>"
      ]
     },
     "metadata": {
      "needs_background": "light"
     },
     "output_type": "display_data"
    }
   ],
   "source": [
    "width = 800\n",
    "height = 400\n",
    "dpi = 100\n",
    "\n",
    "start = pd.to_datetime('2019-04-1') \n",
    "stop = pd.to_datetime('2019-06-1')\n",
    "\n",
    "daily = df[['startDate', 'kiloCalories']]\n",
    "mask = (daily['startDate'] >= start) & (daily['startDate'] < stop)\n",
    "daily = daily[mask]\n",
    "daily = daily.groupby('startDate', as_index=False)\n",
    "daily = daily.sum()\n",
    "daily = daily.sort_values('startDate', ascending=False)\n",
    "daily = daily.reset_index(drop=True)\n",
    "\n",
    "plt.figure(figsize=(width/dpi, height/dpi))\n",
    "plt.plot(daily['startDate'], daily['kiloCalories'])\n",
    "\n",
    "plt.fill_between(x=daily['startDate'], \n",
    "                 y1=0, \n",
    "                 y2=daily['kiloCalories'], \n",
    "                 alpha=1/2)\n",
    "\n",
    "plt.hlines(xmin=daily['startDate'].min(),\n",
    "           xmax=daily['startDate'].max(),\n",
    "           y=daily['kiloCalories'].mean(),\n",
    "           linestyle='dashed',\n",
    "           label='Daily average',\n",
    "           alpha=1/2)\n",
    "\n",
    "plt.text(x=daily.loc[3, 'startDate'],\n",
    "         y=daily['kiloCalories'].mean() + 75,\n",
    "         s=round(daily['kiloCalories'].mean()),\n",
    "         verticalalignment='center',\n",
    "         horizontalalignment='center',\n",
    "         alpha=1/2,\n",
    "         fontsize=20)\n",
    "\n",
    "plt.title('Kilocalories over time')\n",
    "plt.xticks(rotation=45, horizontalalignment='center')\n",
    "plt.xlim(daily['startDate'].min(), daily['startDate'].max())\n",
    "plt.ylim(0, daily['kiloCalories'].max() * 1.05)\n",
    "plt.ylabel('Kilocalories')\n",
    "plt.legend(loc='best')\n",
    "plt.tight_layout()\n",
    "plt.savefig('./img/kilocalories_ts.png')\n",
    "plt.show()"
   ]
  },
  {
   "cell_type": "markdown",
   "metadata": {},
   "source": [
    "## Workouts by sport"
   ]
  },
  {
   "cell_type": "markdown",
   "metadata": {},
   "source": [
    "We check how many workouts I completed."
   ]
  },
  {
   "cell_type": "code",
   "execution_count": 34,
   "metadata": {},
   "outputs": [
    {
     "data": {
      "text/html": [
       "<div>\n",
       "<style scoped>\n",
       "    .dataframe tbody tr th:only-of-type {\n",
       "        vertical-align: middle;\n",
       "    }\n",
       "\n",
       "    .dataframe tbody tr th {\n",
       "        vertical-align: top;\n",
       "    }\n",
       "\n",
       "    .dataframe thead th {\n",
       "        text-align: right;\n",
       "    }\n",
       "</style>\n",
       "<table border=\"1\" class=\"dataframe\">\n",
       "  <thead>\n",
       "    <tr style=\"text-align: right;\">\n",
       "      <th></th>\n",
       "      <th>Sport</th>\n",
       "      <th>Count</th>\n",
       "    </tr>\n",
       "  </thead>\n",
       "  <tbody>\n",
       "    <tr>\n",
       "      <th>4</th>\n",
       "      <td>WALKING</td>\n",
       "      <td>105</td>\n",
       "    </tr>\n",
       "    <tr>\n",
       "      <th>3</th>\n",
       "      <td>TREADMILL_RUNNING</td>\n",
       "      <td>90</td>\n",
       "    </tr>\n",
       "    <tr>\n",
       "      <th>2</th>\n",
       "      <td>STRENGTH_TRAINING</td>\n",
       "      <td>62</td>\n",
       "    </tr>\n",
       "    <tr>\n",
       "      <th>0</th>\n",
       "      <td>CYCLING</td>\n",
       "      <td>24</td>\n",
       "    </tr>\n",
       "    <tr>\n",
       "      <th>1</th>\n",
       "      <td>RUNNING</td>\n",
       "      <td>2</td>\n",
       "    </tr>\n",
       "  </tbody>\n",
       "</table>\n",
       "</div>"
      ],
      "text/plain": [
       "               Sport  Count\n",
       "4            WALKING    105\n",
       "3  TREADMILL_RUNNING     90\n",
       "2  STRENGTH_TRAINING     62\n",
       "0            CYCLING     24\n",
       "1            RUNNING      2"
      ]
     },
     "execution_count": 34,
     "metadata": {},
     "output_type": "execute_result"
    }
   ],
   "source": [
    "stats = df[['sport', 'startTime']]\n",
    "stats = stats.groupby(['sport'], as_index=False)\n",
    "stats = stats.count()\n",
    "stats = stats.rename(columns={'sport': 'Sport', \n",
    "                              'startTime': 'Count'})\n",
    "stats = stats.sort_values('Count', ascending=False)\n",
    "stats.head()"
   ]
  },
  {
   "cell_type": "markdown",
   "metadata": {},
   "source": [
    "## By hour of day"
   ]
  },
  {
   "cell_type": "markdown",
   "metadata": {},
   "source": [
    "We count workouts by hour of day."
   ]
  },
  {
   "cell_type": "code",
   "execution_count": 35,
   "metadata": {},
   "outputs": [],
   "source": [
    "by_hour = df[['startTime', 'sport']].copy()\n",
    "by_hour['startTime'] = pd.to_datetime(by_hour['startTime'], format='%H:%M:%S')\n",
    "by_hour['startHour'] = by_hour['startTime'].dt.hour\n",
    "by_hour = by_hour.drop('startTime', axis=1)\n",
    "by_hour = by_hour.groupby('startHour', as_index=False)\n",
    "by_hour = by_hour.count()\n",
    "\n",
    "all_hours = pd.DataFrame(range(0, 24), columns=['startHour'])\n",
    "\n",
    "by_hour = pd.merge(all_hours, by_hour, how='left')\n",
    "by_hour = by_hour.fillna(0)\n",
    "by_hour = by_hour.sort_values('startHour')\n",
    "by_hour = by_hour.rename(columns={'startHour': 'Hour of day', \n",
    "                                 'sport': 'Total workouts'})"
   ]
  },
  {
   "cell_type": "code",
   "execution_count": 36,
   "metadata": {},
   "outputs": [
    {
     "data": {
      "image/png": "[encoded data removed]",
      "text/plain": [
       "<Figure size 288x288 with 1 Axes>"
      ]
     },
     "metadata": {
      "needs_background": "light"
     },
     "output_type": "display_data"
    }
   ],
   "source": [
    "plt.bar(by_hour['Hour of day'], by_hour['Total workouts'])\n",
    "plt.ylabel('Number of workouts')\n",
    "plt.xlabel('Hour of day')\n",
    "plt.savefig('./img/workouts_by_hour_of_day.png')\n",
    "plt.show()"
   ]
  },
  {
   "cell_type": "markdown",
   "metadata": {},
   "source": [
    "## By day of week"
   ]
  },
  {
   "cell_type": "markdown",
   "metadata": {},
   "source": [
    "We count workouts by day of week."
   ]
  },
  {
   "cell_type": "code",
   "execution_count": 37,
   "metadata": {
    "scrolled": false
   },
   "outputs": [],
   "source": [
    "by_day = df[['startDate', 'sport']].copy()\n",
    "by_day['Day of week'] = pd.to_datetime(by_day['startDate']).dt.day_name()\n",
    "by_day['Day number'] = pd.to_datetime(by_day['startDate']).dt.dayofweek\n",
    "by_day = by_day.groupby(['Day of week', 'Day number'], as_index=False)\n",
    "by_day = by_day.count()\n",
    "by_day = by_day.drop('startDate', axis=1)\n",
    "by_day = by_day.sort_values('Day number')\n",
    "by_day = by_day.rename(columns={'sport': 'Total Workouts'})"
   ]
  },
  {
   "cell_type": "code",
   "execution_count": 38,
   "metadata": {},
   "outputs": [
    {
     "data": {
      "image/png": "[encoded data removed]",
      "text/plain": [
       "<Figure size 288x288 with 1 Axes>"
      ]
     },
     "metadata": {
      "needs_background": "light"
     },
     "output_type": "display_data"
    }
   ],
   "source": [
    "plt.bar(by_day['Day of week'], by_day['Total Workouts'])\n",
    "plt.xticks(rotation=90)\n",
    "plt.ylabel('Number of workouts')\n",
    "plt.savefig('./img/workouts_by_day_of_week.png')\n",
    "plt.show()"
   ]
  },
  {
   "cell_type": "markdown",
   "metadata": {},
   "source": [
    "## Walks"
   ]
  },
  {
   "cell_type": "markdown",
   "metadata": {},
   "source": [
    "We plot `totalTime` versus `kiloCalories`. As can be seen their seems to exist a linear relationship between the two."
   ]
  },
  {
   "cell_type": "code",
   "execution_count": 39,
   "metadata": {},
   "outputs": [
    {
     "data": {
      "image/png": "[encoded data removed]",
      "text/plain": [
       "<Figure size 288x288 with 1 Axes>"
      ]
     },
     "metadata": {
      "needs_background": "light"
     },
     "output_type": "display_data"
    }
   ],
   "source": [
    "walking = df[df['sport'] == 'WALKING']\n",
    "plt.scatter(walking['totalTime'], walking['kiloCalories'], s=2)\n",
    "plt.xlabel('Duration (minutes)')\n",
    "plt.ylabel('Kilocalories')\n",
    "plt.savefig('./img/kilocalories_vs_time.png')\n",
    "plt.show()"
   ]
  },
  {
   "cell_type": "markdown",
   "metadata": {},
   "source": [
    "We plot `heartRateAvg` against `kiloCalories`. Again we see a linear relationship although there are a couple of outliers"
   ]
  },
  {
   "cell_type": "code",
   "execution_count": 40,
   "metadata": {},
   "outputs": [
    {
     "data": {
      "image/png": "[encoded data removed]",
      "text/plain": [
       "<Figure size 288x288 with 1 Axes>"
      ]
     },
     "metadata": {
      "needs_background": "light"
     },
     "output_type": "display_data"
    }
   ],
   "source": [
    "walking = df[df['sport'] == 'WALKING']\n",
    "plt.scatter(walking['heartRateAvg'], walking['kiloCalories'], s=2)\n",
    "plt.ylabel('Kilocalories')\n",
    "plt.xlabel('Average HR (bpm)')\n",
    "plt.savefig('./img/kilocalories_vs_avg_hr.png')\n",
    "plt.show()"
   ]
  },
  {
   "cell_type": "markdown",
   "metadata": {},
   "source": [
    "# Regression"
   ]
  },
  {
   "cell_type": "markdown",
   "metadata": {},
   "source": [
    "Now we proceed to build a regression model to predict `kiloCalories` burned during a workout based on the numeric features `totalTime` and `heartRateAvg` ie the total duration of the workout and the average heart rate."
   ]
  },
  {
   "cell_type": "code",
   "execution_count": 41,
   "metadata": {},
   "outputs": [],
   "source": [
    "X = df[['kiloCalories', 'totalTime', 'heartRateAvg']].copy()"
   ]
  },
  {
   "cell_type": "markdown",
   "metadata": {},
   "source": [
    "First we visualize histograms of each of the variables."
   ]
  },
  {
   "cell_type": "code",
   "execution_count": 42,
   "metadata": {},
   "outputs": [
    {
     "data": {
      "image/png": "[encoded data removed]",
      "text/plain": [
       "<Figure size 288x288 with 1 Axes>"
      ]
     },
     "metadata": {
      "needs_background": "light"
     },
     "output_type": "display_data"
    }
   ],
   "source": [
    "plt.hist(np.sqrt(X['kiloCalories']))\n",
    "plt.ylabel('Frequency')\n",
    "plt.xlabel('Square root of kiloCalories')\n",
    "plt.savefig('./img/kilocalories_histogram.png')\n",
    "plt.show()"
   ]
  },
  {
   "cell_type": "code",
   "execution_count": 43,
   "metadata": {},
   "outputs": [
    {
     "data": {
      "image/png": "[encoded data removed]",
      "text/plain": [
       "<Figure size 288x288 with 1 Axes>"
      ]
     },
     "metadata": {
      "needs_background": "light"
     },
     "output_type": "display_data"
    }
   ],
   "source": [
    "plt.hist(np.log(X['totalTime']))\n",
    "plt.ylabel('Frequency')\n",
    "plt.xlabel('Log of duration (min)')\n",
    "plt.savefig('./img/duration_histogram.png')\n",
    "plt.show()"
   ]
  },
  {
   "cell_type": "code",
   "execution_count": 44,
   "metadata": {},
   "outputs": [
    {
     "data": {
      "image/png": "[encoded data removed]",
      "text/plain": [
       "<Figure size 288x288 with 1 Axes>"
      ]
     },
     "metadata": {
      "needs_background": "light"
     },
     "output_type": "display_data"
    }
   ],
   "source": [
    "plt.hist(np.log(X['heartRateAvg']))\n",
    "plt.ylabel('Frequency')\n",
    "plt.xlabel('Log of average HR (bpm)')\n",
    "plt.savefig('./img/average_hr_histogram.png')\n",
    "plt.show()"
   ]
  },
  {
   "cell_type": "markdown",
   "metadata": {},
   "source": [
    "The model we shall fit is:\n",
    "\n",
    "$\\sqrt{c_{i}} = \\beta_{1} \\ln{t_{i}} + \\beta_{2} \\ln{h_{i}} + \\varepsilon_{i}$\n",
    "\n",
    "Where:\n",
    "* $c_{i}$ - The $i$-th `kiloCalories` value.\n",
    "* $t_{i}$ - The $i$-th `totalTime` value.\n",
    "* $h_{i}$ - The $i$-th `heartRateAvg` value."
   ]
  },
  {
   "cell_type": "code",
   "execution_count": 45,
   "metadata": {},
   "outputs": [],
   "source": [
    "X['kiloCalories'] = np.sqrt(X['kiloCalories'])\n",
    "X['totalTime'] = np.sqrt(X['totalTime'])\n",
    "X['heartRateAvg'] = np.log(X['heartRateAvg'])"
   ]
  },
  {
   "cell_type": "markdown",
   "metadata": {},
   "source": [
    "We inspect the correlation matrix to check for multicollinearity. It should be noted that the correlation between `kiloCalories` and `totalTime` is quite high and this to be expected."
   ]
  },
  {
   "cell_type": "code",
   "execution_count": 46,
   "metadata": {},
   "outputs": [
    {
     "data": {
      "text/html": [
       "<style  type=\"text/css\" >\n",
       "    #T_207480c6_029e_11eb_ace8_391c0b89a8f5row0_col0 {\n",
       "            background-color:  #b40426;\n",
       "            color:  #f1f1f1;\n",
       "        }    #T_207480c6_029e_11eb_ace8_391c0b89a8f5row0_col1 {\n",
       "            background-color:  #cb3e38;\n",
       "            color:  #f1f1f1;\n",
       "        }    #T_207480c6_029e_11eb_ace8_391c0b89a8f5row0_col2 {\n",
       "            background-color:  #9bbcff;\n",
       "            color:  #000000;\n",
       "        }    #T_207480c6_029e_11eb_ace8_391c0b89a8f5row1_col0 {\n",
       "            background-color:  #d44e41;\n",
       "            color:  #000000;\n",
       "        }    #T_207480c6_029e_11eb_ace8_391c0b89a8f5row1_col1 {\n",
       "            background-color:  #b40426;\n",
       "            color:  #f1f1f1;\n",
       "        }    #T_207480c6_029e_11eb_ace8_391c0b89a8f5row1_col2 {\n",
       "            background-color:  #3b4cc0;\n",
       "            color:  #f1f1f1;\n",
       "        }    #T_207480c6_029e_11eb_ace8_391c0b89a8f5row2_col0 {\n",
       "            background-color:  #3b4cc0;\n",
       "            color:  #f1f1f1;\n",
       "        }    #T_207480c6_029e_11eb_ace8_391c0b89a8f5row2_col1 {\n",
       "            background-color:  #3b4cc0;\n",
       "            color:  #f1f1f1;\n",
       "        }    #T_207480c6_029e_11eb_ace8_391c0b89a8f5row2_col2 {\n",
       "            background-color:  #b40426;\n",
       "            color:  #f1f1f1;\n",
       "        }</style><table id=\"T_207480c6_029e_11eb_ace8_391c0b89a8f5\" style=\"font-size: 15px\"><thead>    <tr>        <th class=\"blank level0\" ></th>        <th class=\"col_heading level0 col0\" >kiloCalories</th>        <th class=\"col_heading level0 col1\" >totalTime</th>        <th class=\"col_heading level0 col2\" >heartRateAvg</th>    </tr></thead><tbody>\n",
       "                <tr>\n",
       "                        <th id=\"T_207480c6_029e_11eb_ace8_391c0b89a8f5level0_row0\" class=\"row_heading level0 row0\" >kiloCalories</th>\n",
       "                        <td id=\"T_207480c6_029e_11eb_ace8_391c0b89a8f5row0_col0\" class=\"data row0 col0\" >1.00</td>\n",
       "                        <td id=\"T_207480c6_029e_11eb_ace8_391c0b89a8f5row0_col1\" class=\"data row0 col1\" >0.93</td>\n",
       "                        <td id=\"T_207480c6_029e_11eb_ace8_391c0b89a8f5row0_col2\" class=\"data row0 col2\" >0.26</td>\n",
       "            </tr>\n",
       "            <tr>\n",
       "                        <th id=\"T_207480c6_029e_11eb_ace8_391c0b89a8f5level0_row1\" class=\"row_heading level0 row1\" >totalTime</th>\n",
       "                        <td id=\"T_207480c6_029e_11eb_ace8_391c0b89a8f5row1_col0\" class=\"data row1 col0\" >0.93</td>\n",
       "                        <td id=\"T_207480c6_029e_11eb_ace8_391c0b89a8f5row1_col1\" class=\"data row1 col1\" >1.00</td>\n",
       "                        <td id=\"T_207480c6_029e_11eb_ace8_391c0b89a8f5row1_col2\" class=\"data row1 col2\" >-0.05</td>\n",
       "            </tr>\n",
       "            <tr>\n",
       "                        <th id=\"T_207480c6_029e_11eb_ace8_391c0b89a8f5level0_row2\" class=\"row_heading level0 row2\" >heartRateAvg</th>\n",
       "                        <td id=\"T_207480c6_029e_11eb_ace8_391c0b89a8f5row2_col0\" class=\"data row2 col0\" >0.26</td>\n",
       "                        <td id=\"T_207480c6_029e_11eb_ace8_391c0b89a8f5row2_col1\" class=\"data row2 col1\" >-0.05</td>\n",
       "                        <td id=\"T_207480c6_029e_11eb_ace8_391c0b89a8f5row2_col2\" class=\"data row2 col2\" >1.00</td>\n",
       "            </tr>\n",
       "    </tbody></table>"
      ],
      "text/plain": [
       "<pandas.io.formats.style.Styler at 0x7f4e6dd2f400>"
      ]
     },
     "execution_count": 46,
     "metadata": {},
     "output_type": "execute_result"
    }
   ],
   "source": [
    "C = X.corr(method='pearson')\n",
    "C = C.style.background_gradient(cmap='coolwarm')\n",
    "C = C.set_precision(2)\n",
    "C = C.set_table_attributes('style=\"font-size: 15px\"')\n",
    "C"
   ]
  },
  {
   "cell_type": "markdown",
   "metadata": {},
   "source": [
    "Next we perform the regression."
   ]
  },
  {
   "cell_type": "code",
   "execution_count": 47,
   "metadata": {},
   "outputs": [
    {
     "name": "stdout",
     "output_type": "stream",
     "text": [
      "                                 OLS Regression Results                                \n",
      "=======================================================================================\n",
      "Dep. Variable:           kiloCalories   R-squared (uncentered):                   0.985\n",
      "Model:                            OLS   Adj. R-squared (uncentered):              0.984\n",
      "Method:                 Least Squares   F-statistic:                              8966.\n",
      "Date:                Tue, 29 Sep 2020   Prob (F-statistic):                   2.87e-255\n",
      "Time:                        23:52:53   Log-Likelihood:                         -625.71\n",
      "No. Observations:                 283   AIC:                                      1255.\n",
      "Df Residuals:                     281   BIC:                                      1263.\n",
      "Df Model:                           2                                                  \n",
      "Covariance Type:            nonrobust                                                  \n",
      "================================================================================\n",
      "                   coef    std err          t      P>|t|      [0.025      0.975]\n",
      "--------------------------------------------------------------------------------\n",
      "totalTime        2.4806      0.058     43.039      0.000       2.367       2.594\n",
      "heartRateAvg     0.3203      0.081      3.950      0.000       0.161       0.480\n",
      "==============================================================================\n",
      "Omnibus:                       25.323   Durbin-Watson:                   1.966\n",
      "Prob(Omnibus):                  0.000   Jarque-Bera (JB):               35.338\n",
      "Skew:                           0.612   Prob(JB):                     2.12e-08\n",
      "Kurtosis:                       4.224   Cond. No.                         5.90\n",
      "==============================================================================\n",
      "\n",
      "Warnings:\n",
      "[1] Standard Errors assume that the covariance matrix of the errors is correctly specified.\n"
     ]
    }
   ],
   "source": [
    "y = X[['kiloCalories']]\n",
    "X = X.drop('kiloCalories', axis=1)\n",
    "\n",
    "mdl = sm.OLS(y, X)\n",
    "res = mdl.fit()\n",
    "\n",
    "residuals = res.resid\n",
    "\n",
    "print(res.summary())"
   ]
  },
  {
   "cell_type": "markdown",
   "metadata": {},
   "source": [
    "We note that the value of the Durbin-Watson test statistic is approximately $2$, as it should be.\n",
    "We proceed to inspect the residuals of the model. First we view the histogram of the residuals."
   ]
  },
  {
   "cell_type": "code",
   "execution_count": 48,
   "metadata": {},
   "outputs": [
    {
     "data": {
      "image/png": "[encoded data removed]",
      "text/plain": [
       "<Figure size 288x288 with 1 Axes>"
      ]
     },
     "metadata": {
      "needs_background": "light"
     },
     "output_type": "display_data"
    }
   ],
   "source": [
    "plt.hist(residuals)\n",
    "plt.ylabel('Frequency')\n",
    "plt.xlabel('Residuals')\n",
    "plt.savefig('./img/mdl_residuals.png')\n",
    "plt.show()"
   ]
  },
  {
   "cell_type": "markdown",
   "metadata": {},
   "source": [
    "The next plot is a qqplot created to visually inspect the normality of the residuals."
   ]
  },
  {
   "cell_type": "code",
   "execution_count": 49,
   "metadata": {
    "scrolled": false
   },
   "outputs": [
    {
     "data": {
      "image/png": "[encoded data removed]",
      "text/plain": [
       "<Figure size 288x288 with 1 Axes>"
      ]
     },
     "metadata": {
      "needs_background": "light"
     },
     "output_type": "display_data"
    }
   ],
   "source": [
    "plt.figure()\n",
    "ax = plt.gca()\n",
    "qqplot(res.resid, ax=ax, color='#1f77b4', markersize=2, line='45', fit=True, alpha=1/2)\n",
    "plt.savefig('./img/mdl_qq.png')\n",
    "plt.show()"
   ]
  },
  {
   "cell_type": "markdown",
   "metadata": {},
   "source": [
    "The 3 plot we make is a plot of the standardized residuals to check for homoskedasticity."
   ]
  },
  {
   "cell_type": "code",
   "execution_count": 50,
   "metadata": {},
   "outputs": [
    {
     "data": {
      "image/png": "[encoded data removed]",
      "text/plain": [
       "<Figure size 288x288 with 1 Axes>"
      ]
     },
     "metadata": {
      "needs_background": "light"
     },
     "output_type": "display_data"
    }
   ],
   "source": [
    "residuals_std = np.sqrt(np.abs((residuals - np.mean(residuals)) / np.std(residuals)))\n",
    "plt.plot(residuals_std, 'o', markersize=2)\n",
    "plt.savefig('./img/mdl_residuals_std.png')\n",
    "plt.show()"
   ]
  },
  {
   "cell_type": "markdown",
   "metadata": {},
   "source": [
    "Finally we compare the predicted `kiloCalories` with the actual values."
   ]
  },
  {
   "cell_type": "code",
   "execution_count": 51,
   "metadata": {},
   "outputs": [
    {
     "data": {
      "image/png": "[encoded data removed]",
      "text/plain": [
       "<Figure size 288x288 with 1 Axes>"
      ]
     },
     "metadata": {
      "needs_background": "light"
     },
     "output_type": "display_data"
    }
   ],
   "source": [
    "y_pred = res.predict(X)\n",
    "y_pred = y_pred.to_numpy().reshape(len(y_pred))\n",
    "y_true = y.to_numpy().reshape(len(y),)\n",
    "\n",
    "m = np.min(np.hstack([y_true, y_pred]))\n",
    "M = np.max(np.hstack([y_true, y_pred]))\n",
    "\n",
    "x = np.linspace(np.power(m, 2), np.power(M, 2), len(y))\n",
    "plt.plot(np.power(y_true, 2), np.power(y_pred,2), 'o', markersize=2)\n",
    "plt.plot(x,x, alpha=3/4)\n",
    "plt.ylabel('Predicted')\n",
    "plt.xlabel('Actual')\n",
    "plt.savefig('./img/mdl_predicted_vs_actual.png')\n",
    "plt.show()"
   ]
  },
  {
   "cell_type": "code",
   "execution_count": 52,
   "metadata": {},
   "outputs": [],
   "source": [
    "X['totalTime'] = np.power(X['totalTime'], 2)\n",
    "X['heartRateAvg'] = np.exp(X['heartRateAvg'])\n",
    "X['y_true'] = np.power(y, 2)\n",
    "X['y_pred'] = np.power(y_pred, 2)\n",
    "X['e'] = X['y_true'] - X['y_pred']\n",
    "X = X.sort_values('e', ascending=False)"
   ]
  },
  {
   "cell_type": "code",
   "execution_count": 53,
   "metadata": {},
   "outputs": [
    {
     "data": {
      "text/html": [
       "<div>\n",
       "<style scoped>\n",
       "    .dataframe tbody tr th:only-of-type {\n",
       "        vertical-align: middle;\n",
       "    }\n",
       "\n",
       "    .dataframe tbody tr th {\n",
       "        vertical-align: top;\n",
       "    }\n",
       "\n",
       "    .dataframe thead th {\n",
       "        text-align: right;\n",
       "    }\n",
       "</style>\n",
       "<table border=\"1\" class=\"dataframe\">\n",
       "  <thead>\n",
       "    <tr style=\"text-align: right;\">\n",
       "      <th></th>\n",
       "      <th>totalTime</th>\n",
       "      <th>heartRateAvg</th>\n",
       "      <th>y_true</th>\n",
       "      <th>y_pred</th>\n",
       "      <th>e</th>\n",
       "    </tr>\n",
       "  </thead>\n",
       "  <tbody>\n",
       "    <tr>\n",
       "      <th>93</th>\n",
       "      <td>96.920000</td>\n",
       "      <td>128.000000</td>\n",
       "      <td>1,067.000000</td>\n",
       "      <td>674.706539</td>\n",
       "      <td>392.293461</td>\n",
       "    </tr>\n",
       "    <tr>\n",
       "      <th>237</th>\n",
       "      <td>75.150000</td>\n",
       "      <td>129.000000</td>\n",
       "      <td>870.000000</td>\n",
       "      <td>531.796222</td>\n",
       "      <td>338.203778</td>\n",
       "    </tr>\n",
       "    <tr>\n",
       "      <th>251</th>\n",
       "      <td>66.620000</td>\n",
       "      <td>130.000000</td>\n",
       "      <td>801.000000</td>\n",
       "      <td>475.501979</td>\n",
       "      <td>325.498021</td>\n",
       "    </tr>\n",
       "    <tr>\n",
       "      <th>154</th>\n",
       "      <td>102.000000</td>\n",
       "      <td>121.000000</td>\n",
       "      <td>1,013.000000</td>\n",
       "      <td>706.971271</td>\n",
       "      <td>306.028729</td>\n",
       "    </tr>\n",
       "    <tr>\n",
       "      <th>173</th>\n",
       "      <td>69.650000</td>\n",
       "      <td>129.000000</td>\n",
       "      <td>795.000000</td>\n",
       "      <td>495.456319</td>\n",
       "      <td>299.543681</td>\n",
       "    </tr>\n",
       "  </tbody>\n",
       "</table>\n",
       "</div>"
      ],
      "text/plain": [
       "     totalTime  heartRateAvg       y_true     y_pred          e\n",
       "93   96.920000    128.000000 1,067.000000 674.706539 392.293461\n",
       "237  75.150000    129.000000   870.000000 531.796222 338.203778\n",
       "251  66.620000    130.000000   801.000000 475.501979 325.498021\n",
       "154 102.000000    121.000000 1,013.000000 706.971271 306.028729\n",
       "173  69.650000    129.000000   795.000000 495.456319 299.543681"
      ]
     },
     "execution_count": 53,
     "metadata": {},
     "output_type": "execute_result"
    }
   ],
   "source": [
    "X.head()"
   ]
  },
  {
   "cell_type": "markdown",
   "metadata": {},
   "source": [
    "We now move on to performing statistical tests for normality and homoskedasticity."
   ]
  },
  {
   "cell_type": "code",
   "execution_count": 54,
   "metadata": {},
   "outputs": [],
   "source": [
    "def hypothesis_decision(x, alpha=0.05):\n",
    "    if x < alpha:\n",
    "        return 'Reject null hypothesis'\n",
    "    else:\n",
    "        return 'Fail to reject hypothesis'"
   ]
  },
  {
   "cell_type": "markdown",
   "metadata": {},
   "source": [
    "First we carry out the Shapiro-Wilks test for normality. The hypotheses are:\n",
    "\n",
    "$H_{0} :$ Data comes from a normal distribution.\n",
    "\n",
    "$H_{1} :$ Data does not come from a normal distribution."
   ]
  },
  {
   "cell_type": "code",
   "execution_count": 55,
   "metadata": {},
   "outputs": [],
   "source": [
    "_,shapiro_pval = shapiro(residuals)"
   ]
  },
  {
   "cell_type": "markdown",
   "metadata": {},
   "source": [
    "The second test we perform is the Breusch-Pagan for homoscedasticity. The hypotheses are:\n",
    "\n",
    "$H_{0} :$ Homoscedasticity.\n",
    "\n",
    "$H_{1} :$ Lack of homoscedasticity / Heteroskedasticity."
   ]
  },
  {
   "cell_type": "code",
   "execution_count": 56,
   "metadata": {},
   "outputs": [],
   "source": [
    "_,_,_,breusch_pval = het_breuschpagan(residuals, X)"
   ]
  },
  {
   "cell_type": "markdown",
   "metadata": {},
   "source": [
    "We summarize the outcomes of the tests in a nice table."
   ]
  },
  {
   "cell_type": "code",
   "execution_count": 57,
   "metadata": {},
   "outputs": [
    {
     "data": {
      "text/html": [
       "<div>\n",
       "<style scoped>\n",
       "    .dataframe tbody tr th:only-of-type {\n",
       "        vertical-align: middle;\n",
       "    }\n",
       "\n",
       "    .dataframe tbody tr th {\n",
       "        vertical-align: top;\n",
       "    }\n",
       "\n",
       "    .dataframe thead th {\n",
       "        text-align: right;\n",
       "    }\n",
       "</style>\n",
       "<table border=\"1\" class=\"dataframe\">\n",
       "  <thead>\n",
       "    <tr style=\"text-align: right;\">\n",
       "      <th></th>\n",
       "      <th>Name</th>\n",
       "      <th>Null Hypothesis</th>\n",
       "      <th>P-value</th>\n",
       "      <th>Decision</th>\n",
       "    </tr>\n",
       "  </thead>\n",
       "  <tbody>\n",
       "    <tr>\n",
       "      <th>0</th>\n",
       "      <td>Shapiro-Wilks</td>\n",
       "      <td>Normality</td>\n",
       "      <td>0.000000</td>\n",
       "      <td>Reject null hypothesis</td>\n",
       "    </tr>\n",
       "    <tr>\n",
       "      <th>1</th>\n",
       "      <td>Breusch-Pagan</td>\n",
       "      <td>Heteroskedasticity</td>\n",
       "      <td>0.000000</td>\n",
       "      <td>Reject null hypothesis</td>\n",
       "    </tr>\n",
       "  </tbody>\n",
       "</table>\n",
       "</div>"
      ],
      "text/plain": [
       "            Name     Null Hypothesis  P-value                Decision\n",
       "0  Shapiro-Wilks           Normality 0.000000  Reject null hypothesis\n",
       "1  Breusch-Pagan  Heteroskedasticity 0.000000  Reject null hypothesis"
      ]
     },
     "execution_count": 57,
     "metadata": {},
     "output_type": "execute_result"
    }
   ],
   "source": [
    "pvalues = [shapiro_pval, breusch_pval]\n",
    "name = ['Shapiro-Wilks', 'Breusch-Pagan',]\n",
    "null_hyp = ['Normality', 'Heteroskedasticity']\n",
    "\n",
    "tests = pd.DataFrame([name, null_hyp, pvalues], \n",
    "                     index=['Name', 'Null Hypothesis', 'P-value'])\n",
    "\n",
    "tests = tests.transpose()\n",
    "tests['Decision'] = tests['P-value'].apply(hypothesis_decision)\n",
    "tests"
   ]
  },
  {
   "cell_type": "markdown",
   "metadata": {},
   "source": [
    "# Model"
   ]
  },
  {
   "cell_type": "markdown",
   "metadata": {},
   "source": [
    "Since we have succesfully obtained estimates for the $\\beta_{i}$ coefficients for `totalTime`:"
   ]
  },
  {
   "cell_type": "code",
   "execution_count": 58,
   "metadata": {},
   "outputs": [
    {
     "data": {
      "text/plain": [
       "2.4806"
      ]
     },
     "execution_count": 58,
     "metadata": {},
     "output_type": "execute_result"
    }
   ],
   "source": [
    "b1 = np.round(res.params['totalTime'], 4)\n",
    "b1"
   ]
  },
  {
   "cell_type": "markdown",
   "metadata": {},
   "source": [
    "and for `heartRateAvg`:"
   ]
  },
  {
   "cell_type": "code",
   "execution_count": 59,
   "metadata": {},
   "outputs": [
    {
     "data": {
      "text/plain": [
       "0.3203"
      ]
     },
     "execution_count": 59,
     "metadata": {},
     "output_type": "execute_result"
    }
   ],
   "source": [
    "b2 = np.round(res.params['heartRateAvg'], 4)\n",
    "b2"
   ]
  },
  {
   "cell_type": "markdown",
   "metadata": {},
   "source": [
    "It's now time for a bit of algebra."
   ]
  },
  {
   "cell_type": "markdown",
   "metadata": {},
   "source": [
    "\\begin{align}\n",
    "\\sqrt{c} &= \\beta_{1} \\sqrt{t} + \\beta_{2} \\ln{h} \\\\\n",
    "c &= \\big( \\beta_{1} \\sqrt{t} + \\beta_{2} \\ln{h} \\big)^{2} \\\\\n",
    "c &= \\big(\\beta_{1} \\sqrt{t} \\big)^{2} + 2\\beta_{1} \\beta_{2} \\sqrt{t}  \\ln(h) + \\big( \\beta_{2} \\ln{h} \\big)^{2} \\\\\n",
    "c &= \\beta_{1}^{2} t + 2\\beta_{1} \\beta_{2} \\sqrt{t} \\ln{h} + \\beta_{2}^{2} \\ln^{2}{h}\n",
    "\\end{align}"
   ]
  },
  {
   "cell_type": "markdown",
   "metadata": {},
   "source": [
    "After these calculations we may state that `kiloCalories` $c$ as a function of `totalTime` $t$ ( in minutes) and `heartRateAvg` $h$ (in bpm) after substituting the $\\beta_{i}$ coefficients is given by:"
   ]
  },
  {
   "cell_type": "markdown",
   "metadata": {},
   "source": [
    "\\begin{equation}\n",
    "c(t,h) = 6.1534 t + 1.5890 \\sqrt{t} \\ln{h} + 0.1026 \\ln^{2}{h}\n",
    "\\end{equation}"
   ]
  },
  {
   "cell_type": "markdown",
   "metadata": {},
   "source": [
    "We restrict the functions domain to values observed in the data:\n",
    "\n",
    "\\begin{align}\n",
    "5 &\\leq  &&t &\\leq 172 \\\\\n",
    "82 &\\leq &&h &\\leq 148 \\\\\n",
    "\\end{align}"
   ]
  },
  {
   "cell_type": "markdown",
   "metadata": {},
   "source": [
    "Next we define a function as described above to make a plot and see how does time and average heart rate impact the predictions."
   ]
  },
  {
   "cell_type": "code",
   "execution_count": 60,
   "metadata": {},
   "outputs": [],
   "source": [
    "def kilocalories(t, h):\n",
    "    res = np.power(b1, 2) * t\n",
    "    res += 2 * b1 * b2 * np.sqrt(t) * np.log(h)\n",
    "    res += np.power(b2, 2) * np.power(np.log(h), 2)\n",
    "    return np.round(res, 2)"
   ]
  },
  {
   "cell_type": "markdown",
   "metadata": {},
   "source": [
    "As can be seen the total duration of the workout has an overwhelming influence on the predictions."
   ]
  },
  {
   "cell_type": "code",
   "execution_count": 61,
   "metadata": {},
   "outputs": [
    {
     "data": {
      "image/png": "[encoded data removed]",
      "text/plain": [
       "<Figure size 288x288 with 2 Axes>"
      ]
     },
     "metadata": {
      "needs_background": "light"
     },
     "output_type": "display_data"
    }
   ],
   "source": [
    "n = 5\n",
    "t = np.linspace(5, 60, 20)\n",
    "h = np.linspace(90, 140, 20)\n",
    "\n",
    "cols = [str(int(x)) for x in list(t)]\n",
    "rows = [str(int(x)) for x in list(h)]\n",
    "\n",
    "t,h = np.meshgrid(t, h)\n",
    "\n",
    "c = kilocalories(t, h)\n",
    "c = pd.DataFrame(c, columns=cols, index=rows)\n",
    "\n",
    "plt.imshow(c)\n",
    "plt.ylabel('Average heart rate (bpm)')\n",
    "plt.xlabel('Time (minutes)')\n",
    "plt.xticks(ticks=range(len(cols))[::n], labels=cols[::n])\n",
    "plt.yticks(ticks=range(len(rows))[::n], labels=rows[::n])\n",
    "cbar = plt.colorbar(fraction=0.046, pad=0.04)\n",
    "cbar.set_label('Kilocalories', rotation=270, labelpad=15)\n",
    "plt.tight_layout()\n",
    "plt.savefig('./img/mdl_grid.png')\n",
    "plt.show()"
   ]
  },
  {
   "cell_type": "markdown",
   "metadata": {},
   "source": [
    "# Summary"
   ]
  },
  {
   "cell_type": "markdown",
   "metadata": {},
   "source": [
    "* I downloaded data generated by my Polar watch that tracks heart rate and estimates burned calories during workouts. \n",
    "* The data came in the form of “.json” files which were read, transformed and cleaned with `pandas`. \n",
    "* The clean dataset contains 283 workouts over a nearly one year period. \n",
    "* A linear regression model was built using `statsmodels` to predict the total `kilocalorie` expenditure based on the `duration` of the session and the `average heart rate`.\n",
    "* After further transforming the data, the duration of a workout and kilocalories burned have 0.93 correlation. \n",
    "* The estimated formula is: `calories ^ (1/2) = 2.4806 * time ^ (1/2) + 0.3203 * log( heart rate )`\n",
    "* Both variables turned out to be statistically significant, although the impact of heart rate is small.\n",
    "* The biggest errors made by the model were on high `duration` workouts."
   ]
  }
 ],
 "metadata": {
  "kernelspec": {
   "display_name": "Python 3",
   "language": "python",
   "name": "python3"
  },
  "language_info": {
   "codemirror_mode": {
    "name": "ipython",
    "version": 3
   },
   "file_extension": ".py",
   "mimetype": "text/x-python",
   "name": "python",
   "nbconvert_exporter": "python",
   "pygments_lexer": "ipython3",
   "version": "3.8.2"
  }
 },
 "nbformat": 4,
 "nbformat_minor": 4
}
