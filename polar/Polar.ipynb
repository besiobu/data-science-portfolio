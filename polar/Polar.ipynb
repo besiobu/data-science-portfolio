{
 "cells": [
  {
   "cell_type": "code",
   "execution_count": 1,
   "metadata": {},
   "outputs": [],
   "source": [
    "import json\n",
    "import pandas as pd\n",
    "import numpy as np\n",
    "import matplotlib.pyplot as plt\n",
    "from pylab import rcParams\n",
    "from os import listdir\n",
    "from os.path import isfile, join\n",
    "from functools import reduce\n",
    "from pathlib import Path"
   ]
  },
  {
   "cell_type": "code",
   "execution_count": 2,
   "metadata": {},
   "outputs": [],
   "source": [
    "# Set figure size\n",
    "rcParams['figure.figsize'] = (4, 4)"
   ]
  },
  {
   "cell_type": "code",
   "execution_count": 3,
   "metadata": {},
   "outputs": [],
   "source": [
    "# Folder for images\n",
    "Path(\"img\").mkdir(parents=True, exist_ok=True)"
   ]
  },
  {
   "cell_type": "markdown",
   "metadata": {},
   "source": [
    "# Data description\n",
    "\n",
    "I have a Polar watch that tracks my vitals during workouts. I used the [Polar Flow](polar.flow.com) website to obtain a copy of my data."
   ]
  },
  {
   "cell_type": "code",
   "execution_count": 4,
   "metadata": {},
   "outputs": [],
   "source": [
    "path = \"/home/dev/Desktop/Polar\""
   ]
  },
  {
   "cell_type": "markdown",
   "metadata": {},
   "source": [
    "We create a list of files in the download."
   ]
  },
  {
   "cell_type": "code",
   "execution_count": 5,
   "metadata": {
    "scrolled": true
   },
   "outputs": [],
   "source": [
    "files = [f for f in listdir(path) if isfile(join(path, f))]"
   ]
  },
  {
   "cell_type": "markdown",
   "metadata": {},
   "source": [
    "We only consider files containing the string `'trainig-session'`."
   ]
  },
  {
   "cell_type": "code",
   "execution_count": 6,
   "metadata": {},
   "outputs": [],
   "source": [
    "files = [f for f in files if 'training-session' in f]"
   ]
  },
  {
   "cell_type": "markdown",
   "metadata": {},
   "source": [
    "The number of files under consideration is:"
   ]
  },
  {
   "cell_type": "code",
   "execution_count": 7,
   "metadata": {},
   "outputs": [
    {
     "data": {
      "text/plain": [
       "284"
      ]
     },
     "execution_count": 7,
     "metadata": {},
     "output_type": "execute_result"
    }
   ],
   "source": [
    "len(files)"
   ]
  },
  {
   "cell_type": "markdown",
   "metadata": {},
   "source": [
    "We loop over each of the files and them to a list."
   ]
  },
  {
   "cell_type": "code",
   "execution_count": 8,
   "metadata": {},
   "outputs": [],
   "source": [
    "data = []\n",
    "\n",
    "for f in files:\n",
    "    with open(join(path, f)) as f:\n",
    "        d = json.load(f)\n",
    "        data.append(d)"
   ]
  },
  {
   "cell_type": "markdown",
   "metadata": {},
   "source": [
    "We extract the relevant information from the items in the list."
   ]
  },
  {
   "cell_type": "code",
   "execution_count": 9,
   "metadata": {},
   "outputs": [],
   "source": [
    "workouts = []\n",
    "\n",
    "for d in data:\n",
    "    workouts.append(d['exercises'][0])"
   ]
  },
  {
   "cell_type": "markdown",
   "metadata": {},
   "source": [
    "Finally we create a dataframe containing the workout information."
   ]
  },
  {
   "cell_type": "code",
   "execution_count": 10,
   "metadata": {},
   "outputs": [],
   "source": [
    "df = pd.DataFrame(workouts)"
   ]
  },
  {
   "cell_type": "markdown",
   "metadata": {},
   "source": [
    "# Data structure\n",
    "\n",
    "We find the following columns in the dataframe."
   ]
  },
  {
   "cell_type": "code",
   "execution_count": 11,
   "metadata": {},
   "outputs": [
    {
     "name": "stdout",
     "output_type": "stream",
     "text": [
      "<class 'pandas.core.frame.DataFrame'>\n",
      "RangeIndex: 284 entries, 0 to 283\n",
      "Data columns (total 17 columns):\n",
      " #   Column          Non-Null Count  Dtype  \n",
      "---  ------          --------------  -----  \n",
      " 0   startTime       284 non-null    object \n",
      " 1   stopTime        284 non-null    object \n",
      " 2   timezoneOffset  284 non-null    int64  \n",
      " 3   duration        284 non-null    object \n",
      " 4   sport           284 non-null    object \n",
      " 5   kiloCalories    283 non-null    float64\n",
      " 6   heartRate       283 non-null    object \n",
      " 7   zones           284 non-null    object \n",
      " 8   samples         284 non-null    object \n",
      " 9   distance        130 non-null    float64\n",
      " 10  latitude        130 non-null    float64\n",
      " 11  longitude       130 non-null    float64\n",
      " 12  ascent          120 non-null    float64\n",
      " 13  descent         121 non-null    float64\n",
      " 14  speed           130 non-null    object \n",
      " 15  autoLaps        102 non-null    object \n",
      " 16  laps            2 non-null      object \n",
      "dtypes: float64(6), int64(1), object(10)\n",
      "memory usage: 37.8+ KB\n"
     ]
    }
   ],
   "source": [
    "df.info()"
   ]
  },
  {
   "cell_type": "markdown",
   "metadata": {},
   "source": [
    "We remove columns that containt data from features I do not use in my training."
   ]
  },
  {
   "cell_type": "markdown",
   "metadata": {},
   "source": [
    "Due to privacy concerns I shan't be extracting longitudinal and latitudinal data."
   ]
  },
  {
   "cell_type": "code",
   "execution_count": 12,
   "metadata": {},
   "outputs": [],
   "source": [
    "df = df.drop(['zones', 'samples', 'autoLaps', \n",
    "              'laps', 'latitude', 'longitude'], axis=1)"
   ]
  },
  {
   "cell_type": "code",
   "execution_count": 13,
   "metadata": {
    "scrolled": false
   },
   "outputs": [
    {
     "data": {
      "text/html": [
       "<div>\n",
       "<style scoped>\n",
       "    .dataframe tbody tr th:only-of-type {\n",
       "        vertical-align: middle;\n",
       "    }\n",
       "\n",
       "    .dataframe tbody tr th {\n",
       "        vertical-align: top;\n",
       "    }\n",
       "\n",
       "    .dataframe thead th {\n",
       "        text-align: right;\n",
       "    }\n",
       "</style>\n",
       "<table border=\"1\" class=\"dataframe\">\n",
       "  <thead>\n",
       "    <tr style=\"text-align: right;\">\n",
       "      <th></th>\n",
       "      <th>startTime</th>\n",
       "      <th>stopTime</th>\n",
       "      <th>timezoneOffset</th>\n",
       "      <th>duration</th>\n",
       "      <th>sport</th>\n",
       "      <th>kiloCalories</th>\n",
       "      <th>heartRate</th>\n",
       "      <th>distance</th>\n",
       "      <th>ascent</th>\n",
       "      <th>descent</th>\n",
       "      <th>speed</th>\n",
       "    </tr>\n",
       "  </thead>\n",
       "  <tbody>\n",
       "    <tr>\n",
       "      <th>0</th>\n",
       "      <td>2019-05-24T13:18:14.000</td>\n",
       "      <td>2019-05-24T14:58:44.125</td>\n",
       "      <td>120</td>\n",
       "      <td>PT6030.125S</td>\n",
       "      <td>STRENGTH_TRAINING</td>\n",
       "      <td>658.0</td>\n",
       "      <td>{'min': 72, 'avg': 105, 'max': 136}</td>\n",
       "      <td>NaN</td>\n",
       "      <td>NaN</td>\n",
       "      <td>NaN</td>\n",
       "      <td>NaN</td>\n",
       "    </tr>\n",
       "    <tr>\n",
       "      <th>1</th>\n",
       "      <td>2019-05-04T12:03:34.000</td>\n",
       "      <td>2019-05-04T13:21:38.500</td>\n",
       "      <td>120</td>\n",
       "      <td>PT4684.500S</td>\n",
       "      <td>STRENGTH_TRAINING</td>\n",
       "      <td>373.0</td>\n",
       "      <td>{'min': 71, 'avg': 99, 'max': 138}</td>\n",
       "      <td>NaN</td>\n",
       "      <td>NaN</td>\n",
       "      <td>NaN</td>\n",
       "      <td>NaN</td>\n",
       "    </tr>\n",
       "    <tr>\n",
       "      <th>2</th>\n",
       "      <td>2019-04-12T12:48:57.000</td>\n",
       "      <td>2019-04-12T12:59:10.750</td>\n",
       "      <td>120</td>\n",
       "      <td>PT613.750S</td>\n",
       "      <td>TREADMILL_RUNNING</td>\n",
       "      <td>62.0</td>\n",
       "      <td>{'min': 71, 'avg': 97, 'max': 107}</td>\n",
       "      <td>NaN</td>\n",
       "      <td>NaN</td>\n",
       "      <td>NaN</td>\n",
       "      <td>NaN</td>\n",
       "    </tr>\n",
       "    <tr>\n",
       "      <th>3</th>\n",
       "      <td>2019-06-12T13:13:09.000</td>\n",
       "      <td>2019-06-12T13:23:15.500</td>\n",
       "      <td>120</td>\n",
       "      <td>PT606.500S</td>\n",
       "      <td>TREADMILL_RUNNING</td>\n",
       "      <td>71.0</td>\n",
       "      <td>{'min': 67, 'avg': 105, 'max': 121}</td>\n",
       "      <td>NaN</td>\n",
       "      <td>NaN</td>\n",
       "      <td>NaN</td>\n",
       "      <td>NaN</td>\n",
       "    </tr>\n",
       "    <tr>\n",
       "      <th>4</th>\n",
       "      <td>2019-05-24T14:59:06.000</td>\n",
       "      <td>2019-05-24T15:29:08.750</td>\n",
       "      <td>120</td>\n",
       "      <td>PT1802.750S</td>\n",
       "      <td>TREADMILL_RUNNING</td>\n",
       "      <td>416.0</td>\n",
       "      <td>{'min': 84, 'avg': 144, 'max': 170}</td>\n",
       "      <td>NaN</td>\n",
       "      <td>NaN</td>\n",
       "      <td>NaN</td>\n",
       "      <td>NaN</td>\n",
       "    </tr>\n",
       "  </tbody>\n",
       "</table>\n",
       "</div>"
      ],
      "text/plain": [
       "                 startTime                 stopTime  timezoneOffset  \\\n",
       "0  2019-05-24T13:18:14.000  2019-05-24T14:58:44.125             120   \n",
       "1  2019-05-04T12:03:34.000  2019-05-04T13:21:38.500             120   \n",
       "2  2019-04-12T12:48:57.000  2019-04-12T12:59:10.750             120   \n",
       "3  2019-06-12T13:13:09.000  2019-06-12T13:23:15.500             120   \n",
       "4  2019-05-24T14:59:06.000  2019-05-24T15:29:08.750             120   \n",
       "\n",
       "      duration              sport  kiloCalories  \\\n",
       "0  PT6030.125S  STRENGTH_TRAINING         658.0   \n",
       "1  PT4684.500S  STRENGTH_TRAINING         373.0   \n",
       "2   PT613.750S  TREADMILL_RUNNING          62.0   \n",
       "3   PT606.500S  TREADMILL_RUNNING          71.0   \n",
       "4  PT1802.750S  TREADMILL_RUNNING         416.0   \n",
       "\n",
       "                             heartRate  distance  ascent  descent speed  \n",
       "0  {'min': 72, 'avg': 105, 'max': 136}       NaN     NaN      NaN   NaN  \n",
       "1   {'min': 71, 'avg': 99, 'max': 138}       NaN     NaN      NaN   NaN  \n",
       "2   {'min': 71, 'avg': 97, 'max': 107}       NaN     NaN      NaN   NaN  \n",
       "3  {'min': 67, 'avg': 105, 'max': 121}       NaN     NaN      NaN   NaN  \n",
       "4  {'min': 84, 'avg': 144, 'max': 170}       NaN     NaN      NaN   NaN  "
      ]
     },
     "execution_count": 13,
     "metadata": {},
     "output_type": "execute_result"
    }
   ],
   "source": [
    "df.head()"
   ]
  },
  {
   "cell_type": "markdown",
   "metadata": {},
   "source": [
    "# Missing Values"
   ]
  },
  {
   "cell_type": "code",
   "execution_count": 14,
   "metadata": {},
   "outputs": [
    {
     "data": {
      "text/html": [
       "<div>\n",
       "<style scoped>\n",
       "    .dataframe tbody tr th:only-of-type {\n",
       "        vertical-align: middle;\n",
       "    }\n",
       "\n",
       "    .dataframe tbody tr th {\n",
       "        vertical-align: top;\n",
       "    }\n",
       "\n",
       "    .dataframe thead th {\n",
       "        text-align: right;\n",
       "    }\n",
       "</style>\n",
       "<table border=\"1\" class=\"dataframe\">\n",
       "  <thead>\n",
       "    <tr style=\"text-align: right;\">\n",
       "      <th></th>\n",
       "      <th>Missing %</th>\n",
       "    </tr>\n",
       "  </thead>\n",
       "  <tbody>\n",
       "    <tr>\n",
       "      <th>ascent</th>\n",
       "      <td>57.75</td>\n",
       "    </tr>\n",
       "    <tr>\n",
       "      <th>descent</th>\n",
       "      <td>57.39</td>\n",
       "    </tr>\n",
       "    <tr>\n",
       "      <th>distance</th>\n",
       "      <td>54.23</td>\n",
       "    </tr>\n",
       "    <tr>\n",
       "      <th>speed</th>\n",
       "      <td>54.23</td>\n",
       "    </tr>\n",
       "    <tr>\n",
       "      <th>kiloCalories</th>\n",
       "      <td>0.35</td>\n",
       "    </tr>\n",
       "    <tr>\n",
       "      <th>heartRate</th>\n",
       "      <td>0.35</td>\n",
       "    </tr>\n",
       "  </tbody>\n",
       "</table>\n",
       "</div>"
      ],
      "text/plain": [
       "              Missing %\n",
       "ascent            57.75\n",
       "descent           57.39\n",
       "distance          54.23\n",
       "speed             54.23\n",
       "kiloCalories       0.35\n",
       "heartRate          0.35"
      ]
     },
     "execution_count": 14,
     "metadata": {},
     "output_type": "execute_result"
    }
   ],
   "source": [
    "missing = (df.isna().sum() / df.shape[0] * 100)\n",
    "missing.name = 'Missing %'\n",
    "missing = missing.to_frame()\n",
    "missing = missing.sort_values('Missing %', ascending=False)\n",
    "missing = missing[missing['Missing %'] > 0]\n",
    "np.round(missing, 2)"
   ]
  },
  {
   "cell_type": "markdown",
   "metadata": {},
   "source": [
    "# Transforms"
   ]
  },
  {
   "cell_type": "markdown",
   "metadata": {},
   "source": [
    "We apply certain transforms to make the data easier to work with. First we convert string to datetimes."
   ]
  },
  {
   "cell_type": "code",
   "execution_count": 15,
   "metadata": {},
   "outputs": [],
   "source": [
    "df['startTime'] = pd.to_datetime(df['startTime'])\n",
    "df['stopTime'] = pd.to_datetime(df['stopTime'])"
   ]
  },
  {
   "cell_type": "markdown",
   "metadata": {},
   "source": [
    "We calculate the total duration of each individual workout in minutes."
   ]
  },
  {
   "cell_type": "code",
   "execution_count": 16,
   "metadata": {
    "scrolled": true
   },
   "outputs": [],
   "source": [
    "df['totalTime'] = (df['stopTime'] - df['startTime'])\n",
    "df['totalTime'] = df['totalTime'].apply(lambda x: round(x.seconds / 60, 2))\n",
    "df.drop('duration', axis=1, inplace=True)"
   ]
  },
  {
   "cell_type": "markdown",
   "metadata": {},
   "source": [
    "We split the datetime columns in to date and time."
   ]
  },
  {
   "cell_type": "code",
   "execution_count": 17,
   "metadata": {},
   "outputs": [],
   "source": [
    "df['startDate'] = pd.to_datetime(df['startTime']).dt.date\n",
    "df['stopDate'] = pd.to_datetime(df['stopTime']).dt.date\n",
    "df['startTime'] = pd.to_datetime(df['startTime']).dt.time\n",
    "df['stopTime'] = pd.to_datetime(df['stopTime']).dt.time"
   ]
  },
  {
   "cell_type": "markdown",
   "metadata": {},
   "source": [
    "We extract maximum, average and minimum heart rate values from the `heartRate` column."
   ]
  },
  {
   "cell_type": "code",
   "execution_count": 18,
   "metadata": {},
   "outputs": [],
   "source": [
    "df['heartRateMax'] = df['heartRate'].apply(lambda x: x['max'] if isinstance(x, dict) else np.nan)\n",
    "df['heartRateAvg'] = df['heartRate'].apply(lambda x: x['avg'] if isinstance(x, dict) else np.nan)\n",
    "df['heartRateMin'] = df['heartRate'].apply(lambda x: x['min'] if isinstance(x, dict) else np.nan)\n",
    "df.drop('heartRate', axis=1, inplace=True)"
   ]
  },
  {
   "cell_type": "markdown",
   "metadata": {},
   "source": [
    "In a similar manner we extract the maximum, average and minimum values form the `speed` column."
   ]
  },
  {
   "cell_type": "code",
   "execution_count": 19,
   "metadata": {
    "scrolled": true
   },
   "outputs": [],
   "source": [
    "df['speedAvg'] = df['speed'].apply(lambda x: x['avg'] if isinstance(x, dict) else np.nan)\n",
    "df['speedMax'] = df['speed'].apply(lambda x: x['max'] if isinstance(x, dict) else np.nan)\n",
    "df.drop('speed', axis=1, inplace=True)"
   ]
  },
  {
   "cell_type": "markdown",
   "metadata": {},
   "source": [
    "We reorder the data as follows."
   ]
  },
  {
   "cell_type": "code",
   "execution_count": 20,
   "metadata": {},
   "outputs": [],
   "source": [
    "order = ['startDate',\n",
    "         'stopDate',\n",
    "         'startTime',\n",
    "         'stopTime',\n",
    "         'timezoneOffset',\n",
    "         'totalTime', \n",
    "         'sport',\n",
    "         'kiloCalories',\n",
    "         'heartRateMax',\n",
    "         'heartRateAvg',\n",
    "         'heartRateMin']"
   ]
  },
  {
   "cell_type": "code",
   "execution_count": 21,
   "metadata": {},
   "outputs": [],
   "source": [
    "df = df[order]"
   ]
  },
  {
   "cell_type": "markdown",
   "metadata": {},
   "source": [
    "We check if there are any more `NaN`'s in the data."
   ]
  },
  {
   "cell_type": "code",
   "execution_count": 22,
   "metadata": {},
   "outputs": [
    {
     "data": {
      "text/plain": [
       "startDate         0\n",
       "stopDate          0\n",
       "startTime         0\n",
       "stopTime          0\n",
       "timezoneOffset    0\n",
       "totalTime         0\n",
       "sport             0\n",
       "kiloCalories      1\n",
       "heartRateMax      1\n",
       "heartRateAvg      1\n",
       "heartRateMin      1\n",
       "dtype: int64"
      ]
     },
     "execution_count": 22,
     "metadata": {},
     "output_type": "execute_result"
    }
   ],
   "source": [
    "df.isna().sum()"
   ]
  },
  {
   "cell_type": "markdown",
   "metadata": {},
   "source": [
    "There is one row with `NaN`'s. This might due to my watch having little battery left to make the measurements."
   ]
  },
  {
   "cell_type": "code",
   "execution_count": 23,
   "metadata": {},
   "outputs": [],
   "source": [
    "df = df.dropna()"
   ]
  },
  {
   "cell_type": "markdown",
   "metadata": {},
   "source": [
    "Finally we proceed to sort the data with the latest workouts at the top of the dataframe."
   ]
  },
  {
   "cell_type": "code",
   "execution_count": 24,
   "metadata": {},
   "outputs": [],
   "source": [
    "sort_cols = ['startDate','startTime']\n",
    "df = df.sort_values(sort_cols, ascending=False)\n",
    "df = df.reset_index(drop=True)"
   ]
  },
  {
   "cell_type": "code",
   "execution_count": 25,
   "metadata": {},
   "outputs": [
    {
     "data": {
      "text/html": [
       "<div>\n",
       "<style scoped>\n",
       "    .dataframe tbody tr th:only-of-type {\n",
       "        vertical-align: middle;\n",
       "    }\n",
       "\n",
       "    .dataframe tbody tr th {\n",
       "        vertical-align: top;\n",
       "    }\n",
       "\n",
       "    .dataframe thead th {\n",
       "        text-align: right;\n",
       "    }\n",
       "</style>\n",
       "<table border=\"1\" class=\"dataframe\">\n",
       "  <thead>\n",
       "    <tr style=\"text-align: right;\">\n",
       "      <th></th>\n",
       "      <th>startDate</th>\n",
       "      <th>stopDate</th>\n",
       "      <th>startTime</th>\n",
       "      <th>stopTime</th>\n",
       "      <th>timezoneOffset</th>\n",
       "      <th>totalTime</th>\n",
       "      <th>sport</th>\n",
       "      <th>kiloCalories</th>\n",
       "      <th>heartRateMax</th>\n",
       "      <th>heartRateAvg</th>\n",
       "      <th>heartRateMin</th>\n",
       "    </tr>\n",
       "  </thead>\n",
       "  <tbody>\n",
       "    <tr>\n",
       "      <th>0</th>\n",
       "      <td>2020-03-29</td>\n",
       "      <td>2020-03-29</td>\n",
       "      <td>21:50:21</td>\n",
       "      <td>22:23:41.750000</td>\n",
       "      <td>120</td>\n",
       "      <td>33.33</td>\n",
       "      <td>WALKING</td>\n",
       "      <td>245.0</td>\n",
       "      <td>116.0</td>\n",
       "      <td>102.0</td>\n",
       "      <td>69.0</td>\n",
       "    </tr>\n",
       "    <tr>\n",
       "      <th>1</th>\n",
       "      <td>2020-03-27</td>\n",
       "      <td>2020-03-27</td>\n",
       "      <td>20:38:32</td>\n",
       "      <td>21:25:03.750000</td>\n",
       "      <td>60</td>\n",
       "      <td>46.52</td>\n",
       "      <td>WALKING</td>\n",
       "      <td>401.0</td>\n",
       "      <td>132.0</td>\n",
       "      <td>104.0</td>\n",
       "      <td>70.0</td>\n",
       "    </tr>\n",
       "    <tr>\n",
       "      <th>2</th>\n",
       "      <td>2020-03-26</td>\n",
       "      <td>2020-03-26</td>\n",
       "      <td>21:07:46</td>\n",
       "      <td>21:52:55.625000</td>\n",
       "      <td>60</td>\n",
       "      <td>45.15</td>\n",
       "      <td>WALKING</td>\n",
       "      <td>336.0</td>\n",
       "      <td>122.0</td>\n",
       "      <td>103.0</td>\n",
       "      <td>87.0</td>\n",
       "    </tr>\n",
       "    <tr>\n",
       "      <th>3</th>\n",
       "      <td>2020-03-25</td>\n",
       "      <td>2020-03-25</td>\n",
       "      <td>19:22:38</td>\n",
       "      <td>20:10:17.875000</td>\n",
       "      <td>60</td>\n",
       "      <td>47.65</td>\n",
       "      <td>WALKING</td>\n",
       "      <td>380.0</td>\n",
       "      <td>125.0</td>\n",
       "      <td>108.0</td>\n",
       "      <td>87.0</td>\n",
       "    </tr>\n",
       "    <tr>\n",
       "      <th>4</th>\n",
       "      <td>2020-03-24</td>\n",
       "      <td>2020-03-24</td>\n",
       "      <td>13:09:06</td>\n",
       "      <td>13:48:46.750000</td>\n",
       "      <td>60</td>\n",
       "      <td>39.67</td>\n",
       "      <td>WALKING</td>\n",
       "      <td>358.0</td>\n",
       "      <td>141.0</td>\n",
       "      <td>117.0</td>\n",
       "      <td>90.0</td>\n",
       "    </tr>\n",
       "  </tbody>\n",
       "</table>\n",
       "</div>"
      ],
      "text/plain": [
       "    startDate    stopDate startTime         stopTime  timezoneOffset  \\\n",
       "0  2020-03-29  2020-03-29  21:50:21  22:23:41.750000             120   \n",
       "1  2020-03-27  2020-03-27  20:38:32  21:25:03.750000              60   \n",
       "2  2020-03-26  2020-03-26  21:07:46  21:52:55.625000              60   \n",
       "3  2020-03-25  2020-03-25  19:22:38  20:10:17.875000              60   \n",
       "4  2020-03-24  2020-03-24  13:09:06  13:48:46.750000              60   \n",
       "\n",
       "   totalTime    sport  kiloCalories  heartRateMax  heartRateAvg  heartRateMin  \n",
       "0      33.33  WALKING         245.0         116.0         102.0          69.0  \n",
       "1      46.52  WALKING         401.0         132.0         104.0          70.0  \n",
       "2      45.15  WALKING         336.0         122.0         103.0          87.0  \n",
       "3      47.65  WALKING         380.0         125.0         108.0          87.0  \n",
       "4      39.67  WALKING         358.0         141.0         117.0          90.0  "
      ]
     },
     "execution_count": 25,
     "metadata": {},
     "output_type": "execute_result"
    }
   ],
   "source": [
    "df.head()"
   ]
  },
  {
   "cell_type": "markdown",
   "metadata": {},
   "source": [
    "# Basic analysis\n",
    "\n",
    "Given that we have produced a clean dataset we can proceed to visualize a few aspect."
   ]
  },
  {
   "cell_type": "markdown",
   "metadata": {},
   "source": [
    "## Total kilocalories\n",
    "First we count the total kilocalories I burned during the period in question."
   ]
  },
  {
   "cell_type": "code",
   "execution_count": 26,
   "metadata": {},
   "outputs": [
    {
     "name": "stdout",
     "output_type": "stream",
     "text": [
      "89421.0\n"
     ]
    }
   ],
   "source": [
    "total_calories = df['kiloCalories'].sum()\n",
    "print(total_calories)"
   ]
  },
  {
   "cell_type": "markdown",
   "metadata": {},
   "source": [
    "## Daily burned kilocalories\n",
    "Next we produce a plot of kilocalories burned over time."
   ]
  },
  {
   "cell_type": "code",
   "execution_count": 27,
   "metadata": {},
   "outputs": [
    {
     "data": {
      "image/png": "[encoded data removed]",
      "text/plain": [
       "<Figure size 576x288 with 1 Axes>"
      ]
     },
     "metadata": {
      "needs_background": "light"
     },
     "output_type": "display_data"
    }
   ],
   "source": [
    "width = 800\n",
    "height = 400\n",
    "dpi = 100\n",
    "\n",
    "start = pd.to_datetime('2019-04-1') \n",
    "stop = pd.to_datetime('2019-06-1')\n",
    "\n",
    "daily = df[['startDate', 'kiloCalories']]\n",
    "mask = (daily['startDate'] >= start) & (daily['startDate'] < stop)\n",
    "daily = daily[mask]\n",
    "daily = daily.groupby('startDate', as_index=False)\n",
    "daily = daily.sum()\n",
    "daily = daily.sort_values('startDate', ascending=False)\n",
    "daily = daily.reset_index(drop=True)\n",
    "\n",
    "plt.figure(figsize=(width/dpi, height/dpi))\n",
    "plt.plot(daily['startDate'], daily['kiloCalories'])\n",
    "\n",
    "plt.fill_between(x=daily['startDate'], \n",
    "                 y1=0, \n",
    "                 y2=daily['kiloCalories'], \n",
    "                 alpha=1/2)\n",
    "\n",
    "plt.hlines(xmin=daily['startDate'].min(),\n",
    "           xmax=daily['startDate'].max(),\n",
    "           y=daily['kiloCalories'].mean(),\n",
    "           linestyle='dashed',\n",
    "           label='Daily average',\n",
    "           alpha=1/2)\n",
    "\n",
    "plt.text(x=daily.loc[3, 'startDate'],\n",
    "         y=daily['kiloCalories'].mean() + 75,\n",
    "         s=round(daily['kiloCalories'].mean()),\n",
    "         verticalalignment='center',\n",
    "         horizontalalignment='center',\n",
    "         alpha=1/2,\n",
    "         fontsize=20)\n",
    "\n",
    "plt.title('Kilocalories over time')\n",
    "plt.xticks(rotation=45, horizontalalignment='center')\n",
    "plt.xlim(daily['startDate'].min(), daily['startDate'].max())\n",
    "plt.ylim(0, daily['kiloCalories'].max() * 1.05)\n",
    "plt.ylabel('Kilocalories')\n",
    "plt.legend(loc='best')\n",
    "plt.tight_layout()\n",
    "plt.savefig('./img/kilocalories_ts.png')\n",
    "plt.show()"
   ]
  },
  {
   "cell_type": "code",
   "execution_count": null,
   "metadata": {},
   "outputs": [],
   "source": []
  },
  {
   "cell_type": "markdown",
   "metadata": {},
   "source": [
    "## Activity counts\n",
    "\n",
    "We can check how many workouts I completed."
   ]
  },
  {
   "cell_type": "code",
   "execution_count": 28,
   "metadata": {},
   "outputs": [
    {
     "data": {
      "text/html": [
       "<div>\n",
       "<style scoped>\n",
       "    .dataframe tbody tr th:only-of-type {\n",
       "        vertical-align: middle;\n",
       "    }\n",
       "\n",
       "    .dataframe tbody tr th {\n",
       "        vertical-align: top;\n",
       "    }\n",
       "\n",
       "    .dataframe thead th {\n",
       "        text-align: right;\n",
       "    }\n",
       "</style>\n",
       "<table border=\"1\" class=\"dataframe\">\n",
       "  <thead>\n",
       "    <tr style=\"text-align: right;\">\n",
       "      <th></th>\n",
       "      <th>Sport</th>\n",
       "      <th>Count</th>\n",
       "    </tr>\n",
       "  </thead>\n",
       "  <tbody>\n",
       "    <tr>\n",
       "      <th>4</th>\n",
       "      <td>WALKING</td>\n",
       "      <td>105</td>\n",
       "    </tr>\n",
       "    <tr>\n",
       "      <th>3</th>\n",
       "      <td>TREADMILL_RUNNING</td>\n",
       "      <td>90</td>\n",
       "    </tr>\n",
       "    <tr>\n",
       "      <th>2</th>\n",
       "      <td>STRENGTH_TRAINING</td>\n",
       "      <td>62</td>\n",
       "    </tr>\n",
       "    <tr>\n",
       "      <th>0</th>\n",
       "      <td>CYCLING</td>\n",
       "      <td>24</td>\n",
       "    </tr>\n",
       "    <tr>\n",
       "      <th>1</th>\n",
       "      <td>RUNNING</td>\n",
       "      <td>2</td>\n",
       "    </tr>\n",
       "  </tbody>\n",
       "</table>\n",
       "</div>"
      ],
      "text/plain": [
       "               Sport  Count\n",
       "4            WALKING    105\n",
       "3  TREADMILL_RUNNING     90\n",
       "2  STRENGTH_TRAINING     62\n",
       "0            CYCLING     24\n",
       "1            RUNNING      2"
      ]
     },
     "execution_count": 28,
     "metadata": {},
     "output_type": "execute_result"
    }
   ],
   "source": [
    "stats = df[['sport', 'startTime']]\n",
    "stats = stats.groupby(['sport'], as_index=False)\n",
    "stats = stats.count()\n",
    "stats = stats.rename(columns={'sport': 'Sport', \n",
    "                              'startTime': 'Count'})\n",
    "stats = stats.sort_values('Count', ascending=False)\n",
    "stats.head()"
   ]
  },
  {
   "cell_type": "markdown",
   "metadata": {},
   "source": [
    "## Walk plots\n",
    "\n",
    "We plot `totalTime` versus `kiloCalories`. As can be seen their seems to exist a linear relationship between the two."
   ]
  },
  {
   "cell_type": "code",
   "execution_count": 29,
   "metadata": {},
   "outputs": [
    {
     "data": {
      "image/png": "[encoded data removed]",
      "text/plain": [
       "<Figure size 288x288 with 1 Axes>"
      ]
     },
     "metadata": {
      "needs_background": "light"
     },
     "output_type": "display_data"
    }
   ],
   "source": [
    "walking = df[df['sport'] == 'WALKING']\n",
    "plt.scatter(walking['totalTime'], walking['kiloCalories'], s=2)\n",
    "plt.xlabel('Duration (minutes)')\n",
    "plt.ylabel('Kilocalories')\n",
    "plt.savefig('./img/kilocalories_vs_time.png')\n",
    "plt.show()"
   ]
  },
  {
   "cell_type": "markdown",
   "metadata": {},
   "source": [
    "We plot `heartRateAvg` against `kiloCalories`. Again we see a linear relationship although there are a couple of outliers"
   ]
  },
  {
   "cell_type": "code",
   "execution_count": 30,
   "metadata": {},
   "outputs": [
    {
     "data": {
      "image/png": "[encoded data removed]",
      "text/plain": [
       "<Figure size 288x288 with 1 Axes>"
      ]
     },
     "metadata": {
      "needs_background": "light"
     },
     "output_type": "display_data"
    }
   ],
   "source": [
    "walking = df[df['sport'] == 'WALKING']\n",
    "plt.scatter(walking['heartRateAvg'], walking['kiloCalories'], s=2)\n",
    "plt.ylabel('Kilocalories')\n",
    "plt.xlabel('Average HR (bpm)')\n",
    "plt.savefig('./img/kilocalories_vs_avg_hr.png')\n",
    "plt.show()"
   ]
  }
 ],
 "metadata": {
  "kernelspec": {
   "display_name": "Python 3",
   "language": "python",
   "name": "python3"
  },
  "language_info": {
   "codemirror_mode": {
    "name": "ipython",
    "version": 3
   },
   "file_extension": ".py",
   "mimetype": "text/x-python",
   "name": "python",
   "nbconvert_exporter": "python",
   "pygments_lexer": "ipython3",
   "version": "3.8.2"
  }
 },
 "nbformat": 4,
 "nbformat_minor": 4
}
