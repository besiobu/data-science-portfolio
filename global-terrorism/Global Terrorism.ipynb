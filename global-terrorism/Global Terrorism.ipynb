{
 "cells": [
  {
   "cell_type": "markdown",
   "metadata": {},
   "source": [
    "# Data Science Template Notebook"
   ]
  },
  {
   "cell_type": "markdown",
   "metadata": {},
   "source": [
    "# Imports"
   ]
  },
  {
   "cell_type": "code",
   "execution_count": 1,
   "metadata": {},
   "outputs": [
    {
     "name": "stderr",
     "output_type": "stream",
     "text": [
      "── \u001b[1mAttaching packages\u001b[22m ─────────────────────────────────────── tidyverse 1.3.0 ──\n",
      "\n",
      "\u001b[32m✔\u001b[39m \u001b[34mggplot2\u001b[39m 3.3.2     \u001b[32m✔\u001b[39m \u001b[34mpurrr  \u001b[39m 0.3.4\n",
      "\u001b[32m✔\u001b[39m \u001b[34mtibble \u001b[39m 3.0.1     \u001b[32m✔\u001b[39m \u001b[34mdplyr  \u001b[39m 1.0.0\n",
      "\u001b[32m✔\u001b[39m \u001b[34mtidyr  \u001b[39m 1.1.0     \u001b[32m✔\u001b[39m \u001b[34mstringr\u001b[39m 1.4.0\n",
      "\u001b[32m✔\u001b[39m \u001b[34mreadr  \u001b[39m 1.3.1     \u001b[32m✔\u001b[39m \u001b[34mforcats\u001b[39m 0.5.0\n",
      "\n",
      "── \u001b[1mConflicts\u001b[22m ────────────────────────────────────────── tidyverse_conflicts() ──\n",
      "\u001b[31m✖\u001b[39m \u001b[34mdplyr\u001b[39m::\u001b[32mfilter()\u001b[39m masks \u001b[34mstats\u001b[39m::filter()\n",
      "\u001b[31m✖\u001b[39m \u001b[34mdplyr\u001b[39m::\u001b[32mlag()\u001b[39m    masks \u001b[34mstats\u001b[39m::lag()\n",
      "\n",
      "Registered S3 method overwritten by 'GGally':\n",
      "  method from   \n",
      "  +.gg   ggplot2\n",
      "\n",
      "Loading required package: sp\n",
      "\n",
      "### Welcome to rworldmap ###\n",
      "\n",
      "For a short introduction type : \t vignette('rworldmap')\n",
      "\n",
      "Loading required package: maps\n",
      "\n",
      "\n",
      "Attaching package: ‘maps’\n",
      "\n",
      "\n",
      "The following object is masked from ‘package:purrr’:\n",
      "\n",
      "    map\n",
      "\n",
      "\n"
     ]
    }
   ],
   "source": [
    "library(tidyverse)\n",
    "library(GGally)\n",
    "library(rworldmap)\n",
    "library(ggrepel)\n",
    "library(mapproj)"
   ]
  },
  {
   "cell_type": "markdown",
   "metadata": {},
   "source": [
    "# Setup"
   ]
  },
  {
   "cell_type": "code",
   "execution_count": 2,
   "metadata": {},
   "outputs": [],
   "source": [
    "# Plot size\n",
    "dpi <- 150\n",
    "width <- 1000 / dpi\n",
    "height <- 1000 / dpi\n",
    "\n",
    "options(repr.plot.width = width, repr.plot.height = height)\n",
    "\n",
    "# Theme for plots\n",
    "theme_custom <- function(){\n",
    "    theme_minimal() %+replace%\n",
    "    theme(aspect.ratio = height / width,\n",
    "    plot.title = element_text(size = 24),\n",
    "    axis.title = element_text(size = 20),\n",
    "    axis.text = element_text(size = 16),\n",
    "    legend.title = element_text(size = 16),\n",
    "    legend.text = element_text(size = 14))\n",
    "}\n",
    "\n",
    "# Theme for time series plots\n",
    "theme_custom_ts <- function(){\n",
    "    theme_minimal() %+replace%\n",
    "    theme(aspect.ratio = 12/24,\n",
    "          plot.margin = grid::unit(c(1,1,1,1), \"mm\"),\n",
    "          text = element_text(size = 18))\n",
    "}\n",
    "\n",
    "# Theme for tile plots\n",
    "theme_custom_tiles <- function(){\n",
    "    theme_minimal() %+replace%    \n",
    "    theme(text = element_text(size = 18),\n",
    "          axis.text.x = element_text(angle = 90, \n",
    "                                     hjust = 0.95, \n",
    "                                     vjust = 0.25),\n",
    "          axis.title.x = element_blank(),\n",
    "          axis.title.y = element_blank(),\n",
    "          plot.background = element_blank(),\n",
    "          panel.border = element_blank(), \n",
    "          panel.grid.major = element_blank(),\n",
    "          panel.grid.minor = element_blank()        \n",
    "    )\n",
    "    \n",
    "}"
   ]
  },
  {
   "cell_type": "markdown",
   "metadata": {},
   "source": [
    "# Goal"
   ]
  },
  {
   "cell_type": "markdown",
   "metadata": {},
   "source": [
    "The goal is to visualize the `Global Terrorism Database`."
   ]
  },
  {
   "cell_type": "markdown",
   "metadata": {},
   "source": [
    "# Data Sources"
   ]
  },
  {
   "cell_type": "markdown",
   "metadata": {},
   "source": [
    "The data comes from:\n",
    "[Global Terrorism Database](http://start.umd.edu/gtd/)\n",
    "\n",
    "And along with it comes detailed documentation:\n",
    "[Global Terrorism Database Codebook](http://start.umd.edu/gtd/downloads/Codebook.pdf)\n",
    "\n",
    "The set itself was downloaded from:\n",
    "[Global Terrorism Dataset on kaggle](https://www.kaggle.com/START-UMD/gtd)"
   ]
  },
  {
   "cell_type": "markdown",
   "metadata": {},
   "source": [
    "# Data Loading"
   ]
  },
  {
   "cell_type": "code",
   "execution_count": null,
   "metadata": {},
   "outputs": [],
   "source": [
    "df <- read.csv(\"./data/globalterrorismdb_0718dist.csv\")"
   ]
  },
  {
   "cell_type": "code",
   "execution_count": null,
   "metadata": {},
   "outputs": [],
   "source": [
    "dim(df)"
   ]
  },
  {
   "cell_type": "markdown",
   "metadata": {},
   "source": [
    "# Data Cleaning"
   ]
  },
  {
   "cell_type": "code",
   "execution_count": null,
   "metadata": {},
   "outputs": [],
   "source": [
    "## Preview columns"
   ]
  },
  {
   "cell_type": "code",
   "execution_count": null,
   "metadata": {},
   "outputs": [],
   "source": [
    "# colnames(df)"
   ]
  },
  {
   "cell_type": "markdown",
   "metadata": {},
   "source": [
    "## Subetting"
   ]
  },
  {
   "cell_type": "code",
   "execution_count": null,
   "metadata": {},
   "outputs": [],
   "source": [
    "data <- df %>%\n",
    "    dplyr::select(\n",
    "        \n",
    "        # Time\n",
    "        iyear,           # Year\n",
    "        imonth,          # Month\n",
    "        iday,            # Day\n",
    "             \n",
    "        # Geospatial\n",
    "        latitude,        # Geo coordinate\n",
    "        longitude,       # Geo coordinate\n",
    "             \n",
    "        # Numerical\n",
    "        nperps,          # Number of perpetrators\n",
    "        nkill,           # Death toll\n",
    "        nwound,          # No of casualties\n",
    "        nkillter,        # Death toll - terrorist only\n",
    "        propextent,      # Amount of damage done                  \n",
    "        ransomamt,       # Any ransom demanded ?         \n",
    "             \n",
    "        # Binary\n",
    "        doubtterr,       # Was an act of terror ?\n",
    "        vicinity,        # Did event occur in city ?\n",
    "        ishostkid,       # Hostages\n",
    "        extended,        # Duration above 24hrs ?\n",
    "        \n",
    "        # Categorical\n",
    "        city,            # City        \n",
    "        country,         # Country id\n",
    "        region,          # Region id        \n",
    "        country_txt,     # Desc country\n",
    "        region_txt,      # Desc region  \n",
    "        attacktype1_txt, # Desc attack type\n",
    "        weaptype1_txt,   # Desc weapon type\n",
    "        targtype1_txt,   # Desc target type\n",
    "\n",
    "            \n",
    "        # Text\n",
    "        #  summary,      # Motive text variable\n",
    "        gname            # Name of organization\n",
    "    )"
   ]
  },
  {
   "cell_type": "markdown",
   "metadata": {},
   "source": [
    "## Renaming"
   ]
  },
  {
   "cell_type": "code",
   "execution_count": null,
   "metadata": {},
   "outputs": [],
   "source": [
    "data <- data %>%\n",
    "    dplyr::rename(year = iyear,\n",
    "                  month = imonth,\n",
    "                  day = iday,\n",
    "                  damage = propextent,\n",
    "                  lat = latitude,\n",
    "                  long = longitude) %>%\n",
    "    dplyr::mutate(country = country_txt,\n",
    "                  region = region_txt,\n",
    "                  attack = attacktype1_txt,\n",
    "                  weapon = weaptype1_txt,\n",
    "                  target = targtype1_txt) %>%\n",
    "    dplyr::select(-country_txt, \n",
    "                  -region_txt, \n",
    "                  -attacktype1_txt, \n",
    "                  -weaptype1_txt, \n",
    "                  -targtype1_txt)"
   ]
  },
  {
   "cell_type": "code",
   "execution_count": null,
   "metadata": {},
   "outputs": [],
   "source": [
    "data <- data %>%\n",
    "    dplyr::mutate(attack = as.character(attack)) %>%\n",
    "    dplyr::mutate(attack = ifelse(attack == 'Facility/Infrastructure Attack', 'Infrastructure Attack', attack),\n",
    "                  attack = ifelse(attack == 'Bombing/Explosion', 'Explosion', attack),\n",
    "                  attack = ifelse(attack == 'Hostage Taking (Barricade Incident)', 'Hostage (Barricade)', attack),\n",
    "                  attack = ifelse(attack == 'Hostage Taking (Kidnapping)', 'Hostage (Kidnapping)', attack)) %>%\n",
    "    dplyr::mutate(attack = as.factor(attack))"
   ]
  },
  {
   "cell_type": "code",
   "execution_count": null,
   "metadata": {},
   "outputs": [],
   "source": [
    "data <- data %>%\n",
    "    dplyr::mutate(weapon = as.character(weapon)) %>%\n",
    "    dplyr::mutate(weapon = ifelse(weapon == 'Vehicle (not to include vehicle-borne explosives, i.e., car or truck bombs)', 'Vehicle', weapon)) %>%\n",
    "    dplyr::mutate(weapon = as.factor(weapon))"
   ]
  },
  {
   "cell_type": "code",
   "execution_count": null,
   "metadata": {},
   "outputs": [],
   "source": [
    "data <- data %>%\n",
    "    dplyr::mutate(target = as.character(target)) %>%\n",
    "    dplyr::mutate(target = ifelse(target == 'Government (General)', 'Government', target)) %>%\n",
    "    dplyr::mutate(target = ifelse(target == 'Private Citizens & Property', 'Private', target)) %>%\n",
    "    dplyr::mutate(target = as.factor(target))"
   ]
  },
  {
   "cell_type": "code",
   "execution_count": null,
   "metadata": {},
   "outputs": [],
   "source": [
    "data <- data %>%\n",
    "    dplyr::mutate(country = as.character(country)) %>%\n",
    "    dplyr::mutate(country = ifelse(country == 'Democratic Republic of the Congo', 'Congo', country)) %>%\n",
    "    dplyr::mutate(country = as.factor(country))"
   ]
  },
  {
   "cell_type": "code",
   "execution_count": null,
   "metadata": {},
   "outputs": [],
   "source": [
    "data <- data %>%\n",
    "    dplyr::mutate(gname = as.character(gname)) %>%\n",
    "    dplyr::mutate(gname = ifelse(gname == 'Islamic State of Iraq and the Levant (ISIL)', 'ISIL', gname),\n",
    "                  gname = ifelse(gname == 'Al-Qaida in Iraq', 'Al-Qaida', gname),\n",
    "                  gname = ifelse(gname == 'Al-Nusrah Front', 'Al-Nusrah', gname),                                    \n",
    "                  gname = ifelse(gname == 'Fulani extremists', 'Fulani', gname),                  \n",
    "                  gname = ifelse(gname == 'Houthi extremists (Ansar Allah)', 'Ansar Allah', gname),                                    \n",
    "                  gname = ifelse(gname == 'Communist Party of India - Maoist (CPI-Maoist)', 'CPI - Maoist', gname),                                    \n",
    "                  gname = ifelse(gname == 'Tehrik-i-Taliban Pakistan (TTP)', 'TTP', gname)) %>%\n",
    "    dplyr::mutate(gname = as.factor(gname))"
   ]
  },
  {
   "cell_type": "code",
   "execution_count": null,
   "metadata": {},
   "outputs": [],
   "source": [
    "dim(data)"
   ]
  },
  {
   "cell_type": "markdown",
   "metadata": {},
   "source": [
    "## Filtering"
   ]
  },
  {
   "cell_type": "code",
   "execution_count": null,
   "metadata": {},
   "outputs": [],
   "source": [
    "data <- data %>%\n",
    "    dplyr::filter(2007 <= year & \n",
    "                  year <= 2017 &\n",
    "                  doubtterr == 0)"
   ]
  },
  {
   "cell_type": "code",
   "execution_count": null,
   "metadata": {},
   "outputs": [],
   "source": [
    "dim(data)"
   ]
  },
  {
   "cell_type": "markdown",
   "metadata": {},
   "source": [
    "## Missing values"
   ]
  },
  {
   "cell_type": "code",
   "execution_count": null,
   "metadata": {},
   "outputs": [],
   "source": [
    "data <- data %>%\n",
    "    dplyr::mutate(doubtterr = ifelse(doubtterr < 0, 0, doubtterr),\n",
    "                  vicinity = ifelse(vicinity < 0, 0, vicinity), \n",
    "                  extended = ifelse(extended < 0, 0, extended),\n",
    "                  ishostkid = ifelse(ishostkid < 0, 0, ishostkid))"
   ]
  },
  {
   "cell_type": "code",
   "execution_count": null,
   "metadata": {},
   "outputs": [],
   "source": [
    "data <- data %>%\n",
    "    dplyr::mutate(nperps = ifelse(nperps <= 0, 1, nperps),\n",
    "                  nkill = ifelse(nkill < 0, 0, nkill),\n",
    "                  nwound = ifelse(nwound < 0, 0, nkill),\n",
    "                  nkillter = ifelse(nkillter < 0, 0, nkillter),\n",
    "                  ransomamt = ifelse(ransomamt < 0, 0, ransomamt),\n",
    "                  damage = ifelse(damage < 0, 0, damage))"
   ]
  },
  {
   "cell_type": "code",
   "execution_count": null,
   "metadata": {},
   "outputs": [],
   "source": [
    "data <- data %>% \n",
    "    tidyr::replace_na(list('doubtterr' = 0,\n",
    "                           'vicinity' = 0,\n",
    "                           'extended' = 0,\n",
    "                           'ishostkid' = 0,\n",
    "                           'nperps' = 1, \n",
    "                           'nkill' = 0, \n",
    "                           'nwound' = 0, \n",
    "                           'nkillter' = 0, \n",
    "                           'ransomamt' = 0, \n",
    "                           'damage' = 0))"
   ]
  },
  {
   "cell_type": "markdown",
   "metadata": {},
   "source": [
    "## Types & formats"
   ]
  },
  {
   "cell_type": "code",
   "execution_count": null,
   "metadata": {},
   "outputs": [],
   "source": [
    "data <- data %>%\n",
    "    dplyr::mutate(nwound = as.integer(nwound),\n",
    "                  doubtterr = as.logical(doubtterr), \n",
    "                  vicinity = as.logical(vicinity),\n",
    "                  extended = as.logical(extended),\n",
    "                  ishostkid = as.logical(ishostkid))"
   ]
  },
  {
   "cell_type": "code",
   "execution_count": null,
   "metadata": {},
   "outputs": [],
   "source": [
    "glimpse(data)"
   ]
  },
  {
   "cell_type": "markdown",
   "metadata": {},
   "source": [
    "## Derived measures"
   ]
  },
  {
   "cell_type": "code",
   "execution_count": null,
   "metadata": {},
   "outputs": [],
   "source": [
    "data <- data %>%\n",
    "    dplyr::mutate(month = ifelse(month == 0, 6, month),\n",
    "                  day = ifelse(day == 0, 15, day),\n",
    "                  date = lubridate::make_date(year, month, day)) %>%\n",
    "    dplyr::filter(!is.na(date))"
   ]
  },
  {
   "cell_type": "code",
   "execution_count": null,
   "metadata": {},
   "outputs": [],
   "source": [
    "dim(data)"
   ]
  },
  {
   "cell_type": "markdown",
   "metadata": {},
   "source": [
    "## Encoding"
   ]
  },
  {
   "cell_type": "code",
   "execution_count": null,
   "metadata": {},
   "outputs": [],
   "source": [
    "data <- data %>%\n",
    "    dplyr::mutate(damage = ifelse(damage == 0, \"Unknown\", damage),\n",
    "                  damage = ifelse(damage == 4, \"Unknown\", damage),\n",
    "                  damage = ifelse(damage == 3, \"Low\", damage),\n",
    "                  damage = ifelse(damage == 2, \"Medium\", damage),\n",
    "                  damage = ifelse(damage == 1, \"High\", damage),\n",
    "                  damage = as.factor(damage))"
   ]
  },
  {
   "cell_type": "markdown",
   "metadata": {},
   "source": [
    "# Data Exploration"
   ]
  },
  {
   "cell_type": "markdown",
   "metadata": {},
   "source": [
    "## Dates & timestamps"
   ]
  },
  {
   "cell_type": "code",
   "execution_count": null,
   "metadata": {},
   "outputs": [],
   "source": [
    "min(data$date)"
   ]
  },
  {
   "cell_type": "code",
   "execution_count": null,
   "metadata": {},
   "outputs": [],
   "source": [
    "max(data$date)"
   ]
  },
  {
   "cell_type": "markdown",
   "metadata": {},
   "source": [
    "## Categorical variables"
   ]
  },
  {
   "cell_type": "code",
   "execution_count": null,
   "metadata": {
    "scrolled": false
   },
   "outputs": [],
   "source": [
    "by_city <- data %>%\n",
    "    dplyr::filter(city != '') %>%\n",
    "    dplyr::group_by(city) %>%\n",
    "    dplyr::summarise(nkill = sum(nkill), .groups = 'drop') %>%\n",
    "    dplyr::arrange(-nkill) %>%\n",
    "    dplyr::top_n(nkill, n = 10)\n",
    "  \n",
    "ggplot(data = by_city, aes(x = reorder(city, nkill), y = nkill)) + \n",
    "    geom_bar(stat = 'identity') +\n",
    "    coord_flip() +\n",
    "    theme_custom() "
   ]
  },
  {
   "cell_type": "code",
   "execution_count": null,
   "metadata": {},
   "outputs": [],
   "source": [
    "by_country <- data %>%\n",
    "    dplyr::group_by(country) %>%\n",
    "    dplyr::summarise(nkill = sum(nkill), .groups = 'drop') %>%\n",
    "    dplyr::arrange(-nkill) %>%\n",
    "    dplyr::top_n(nkill, n = 10)\n",
    "\n",
    "ggplot(data = by_country, aes(x = reorder(country, nkill), y = nkill)) + \n",
    "    geom_bar(stat = 'identity') +\n",
    "    coord_flip() +\n",
    "    theme_custom() "
   ]
  },
  {
   "cell_type": "code",
   "execution_count": null,
   "metadata": {},
   "outputs": [],
   "source": [
    "by_region <- data %>%\n",
    "    dplyr::group_by(region) %>%\n",
    "    dplyr::summarise(nkill = sum(nkill), .groups='drop') %>%\n",
    "    dplyr::arrange(-nkill) %>%\n",
    "    dplyr::top_n(nkill, n = 5)\n",
    "    \n",
    "ggplot(data = by_region, aes(x = reorder(region, nkill), y = nkill / 10 ^ 3)) + \n",
    "    geom_bar(stat = 'identity') +\n",
    "    coord_flip() +\n",
    "    scale_y_continuous(labels = scales::unit_format(unit = \"K\")) +\n",
    "    theme_custom() "
   ]
  },
  {
   "cell_type": "code",
   "execution_count": null,
   "metadata": {},
   "outputs": [],
   "source": [
    "by_damage <- data %>%\n",
    "    dplyr::group_by(damage) %>%\n",
    "    dplyr::summarise(nkill = sum(nkill), .groups = 'drop') %>%\n",
    "    dplyr::arrange(-nkill)\n",
    "\n",
    "ggplot(data = by_damage, aes(x = reorder(damage, nkill), y = nkill / 10 ** 3)) +\n",
    "    geom_bar(stat = 'identity') +\n",
    "    scale_y_continuous(labels = scales::unit_format(unit = \"K\")) +\n",
    "    coord_flip() +\n",
    "    theme_custom() "
   ]
  },
  {
   "cell_type": "code",
   "execution_count": null,
   "metadata": {},
   "outputs": [],
   "source": [
    "by_attack <- data %>%\n",
    "    dplyr::group_by(attack) %>%\n",
    "    dplyr::summarise(nkill = sum(nkill), .groups = 'drop') %>%\n",
    "    dplyr::arrange(-nkill) %>%\n",
    "    dplyr::top_n(nkill, n = 5)\n",
    "  \n",
    "ggplot(data = by_attack, aes(x = reorder(attack, nkill), y = nkill)) +\n",
    "    geom_bar(stat = 'identity') +\n",
    "    coord_flip() +\n",
    "    theme_custom() "
   ]
  },
  {
   "cell_type": "code",
   "execution_count": null,
   "metadata": {},
   "outputs": [],
   "source": [
    "by_weapon <- data %>%\n",
    "    dplyr::select(weapon, nkill) %>%\n",
    "    dplyr::filter(weapon != 'Unknown' & weapon != 'Other') %>%\n",
    "    dplyr::group_by(weapon) %>%\n",
    "    dplyr::summarize(nkill = sum(nkill), .groups = 'drop') %>%\n",
    "    dplyr::arrange(-nkill) %>%\n",
    "    dplyr::top_n(nkill, n = 5)\n",
    "\n",
    "ggplot(data = by_weapon, aes(x = reorder(weapon, nkill), y = nkill / 10 ^ 3)) +\n",
    "    geom_bar(stat = 'identity') +\n",
    "    scale_y_continuous(labels = scales::unit_format(unit = \"K\")) +\n",
    "    coord_flip() +\n",
    "    theme_custom() "
   ]
  },
  {
   "cell_type": "code",
   "execution_count": null,
   "metadata": {},
   "outputs": [],
   "source": [
    "by_target <- data %>%\n",
    "    dplyr::select(target, nkill) %>%\n",
    "    dplyr::filter(target != 'Unknown') %>%\n",
    "    dplyr::group_by(target) %>%\n",
    "    dplyr::summarize(nkill = sum(nkill), .groups = 'drop') %>%\n",
    "    dplyr::arrange(-nkill) %>%\n",
    "    dplyr::top_n(nkill, n = 5)\n",
    "\n",
    "ggplot(data = by_target, aes(x = reorder(target, nkill), y = nkill / 10 ^ 3)) +\n",
    "    geom_bar(stat = 'identity') +\n",
    "    scale_y_continuous(labels = scales::unit_format(unit = \"K\")) +\n",
    "    coord_flip() +\n",
    "    theme_custom() "
   ]
  },
  {
   "cell_type": "code",
   "execution_count": null,
   "metadata": {},
   "outputs": [],
   "source": [
    "by_gname <- data %>%\n",
    "    dplyr::select(gname, nkill) %>%\n",
    "    dplyr::group_by(gname) %>%\n",
    "    dplyr::summarize(nkill = sum(nkill), .groups = 'drop') %>%\n",
    "    dplyr::filter(nkill > 0 & gname != 'Unknown') %>%\n",
    "    dplyr::arrange(-nkill) %>%\n",
    "    dplyr::top_n(nkill, n = 10)\n",
    "\n",
    "ggplot(data = by_gname, aes(x = reorder(gname, nkill), y = nkill / 10 ^ 3)) +\n",
    "    geom_bar(stat = 'identity') +\n",
    "    scale_y_continuous(labels = scales::unit_format(unit = \"K\")) +\n",
    "    coord_flip() +\n",
    "    theme_custom() "
   ]
  },
  {
   "cell_type": "markdown",
   "metadata": {},
   "source": [
    "## Numerical variables"
   ]
  },
  {
   "cell_type": "markdown",
   "metadata": {},
   "source": [
    "### Descriptive statistics"
   ]
  },
  {
   "cell_type": "code",
   "execution_count": null,
   "metadata": {},
   "outputs": [],
   "source": [
    "numerical <- c(\"nperps\",\n",
    "               \"nkill\",\n",
    "               \"nwound\",\n",
    "               \"nkillter\",\n",
    "               \"ransomamt\")"
   ]
  },
  {
   "cell_type": "code",
   "execution_count": null,
   "metadata": {},
   "outputs": [],
   "source": [
    "summary(dplyr::select_at(data, numerical))"
   ]
  },
  {
   "cell_type": "markdown",
   "metadata": {},
   "source": [
    "### Plots over time"
   ]
  },
  {
   "cell_type": "code",
   "execution_count": null,
   "metadata": {
    "scrolled": false
   },
   "outputs": [],
   "source": [
    "nkill_daily <- data %>%\n",
    "    dplyr::select(date, nkill) %>% \n",
    "    tidyr::fill(nkill, 0) %>%\n",
    "    dplyr::mutate(nkill = ifelse(nkill < 0, 0, nkill))\n",
    "\n",
    "ggplot(data = nkill_daily, aes(x = date, y = nkill)) +\n",
    "    geom_line() + \n",
    "    theme_custom()"
   ]
  },
  {
   "cell_type": "code",
   "execution_count": null,
   "metadata": {},
   "outputs": [],
   "source": [
    "nkill_monthly <- data %>%\n",
    "    dplyr::select(year, month, nkill) %>% \n",
    "    tidyr::fill(nkill, 0) %>%\n",
    "    dplyr::mutate(nkill = ifelse(nkill < 0, 0, nkill)) %>%\n",
    "    dplyr::group_by(year, month) %>%\n",
    "    dplyr::summarise(nkill = sum(nkill), .groups = 'drop') %>%\n",
    "    dplyr::mutate(date = lubridate::make_date(year, month, 1),\n",
    "                  nkill = base::cumsum(nkill)) %>%\n",
    "    dplyr::select(-year, -month)\n",
    "\n",
    "ggplot(data = nkill_monthly, aes(x = date, y = nkill)) +\n",
    "    geom_line() + \n",
    "    theme_custom()"
   ]
  },
  {
   "cell_type": "code",
   "execution_count": null,
   "metadata": {},
   "outputs": [],
   "source": [
    "by_month <- data %>%\n",
    "    dplyr::select(month, nkill) %>%\n",
    "    dplyr::group_by(month) %>%\n",
    "    dplyr::summarize(nkill = sum(nkill), .groups = 'drop') %>%\n",
    "    dplyr::mutate(monthname = month.abb[month])\n",
    "\n",
    "ggplot(by_month, aes(x = reorder(monthname, month), y = nkill)) +\n",
    "    geom_bar(stat = 'identity') +\n",
    "    theme_custom() + \n",
    "    theme(axis.title.x = element_blank())"
   ]
  },
  {
   "cell_type": "code",
   "execution_count": null,
   "metadata": {
    "scrolled": false
   },
   "outputs": [],
   "source": [
    "options(repr.plot.width = 8, repr.plot.height = 16)\n",
    "\n",
    "nkill_by_weapon_monthly <- data %>%\n",
    "    dplyr::select(year, month, nkill, weapon) %>% \n",
    "    dplyr::filter(weapon %in% by_weapon$weapon) %>%\n",
    "    dplyr::group_by(year, month, weapon) %>%\n",
    "    dplyr::summarise(nkill = sum(nkill), .groups = \"drop\") %>%\n",
    "    dplyr::mutate(date = lubridate::make_date(year, month, 1)) %>%\n",
    "    dplyr::select(-year, -month)\n",
    "\n",
    "plot_weapon_ts <- ggplot(nkill_by_weapon_monthly, aes(x = date, y = nkill)) +\n",
    "    ggtitle(\"Deaths by type of weapon over time\") +\n",
    "    ylab(\"Deaths\") +\n",
    "    xlab(\"Time\") +\n",
    "    geom_point() +\n",
    "    geom_smooth(method = \"loess\", formula = \" y ~ x\") + \n",
    "    facet_wrap(~ weapon, ncol = 1, scales = \"free\") +\n",
    "    theme_custom_ts()\n",
    "\n",
    "plot_weapon_ts\n",
    "\n",
    "ggsave(\"img/deaths_by_weapon_over_time.png\", \n",
    "       plot = plot_weapon_ts, width = 12, height = 16, dpi = 75)\n",
    "\n",
    "options(repr.plot.width = width, repr.plot.height = height)"
   ]
  },
  {
   "cell_type": "code",
   "execution_count": null,
   "metadata": {},
   "outputs": [],
   "source": [
    "options(repr.plot.width = 8, repr.plot.height = 16)\n",
    "\n",
    "nkill_by_target_monthly <- data %>%\n",
    "    dplyr::select(year, month, nkill, target) %>% \n",
    "    dplyr::filter(target %in% by_target$target) %>%\n",
    "    dplyr::group_by(year, month, target) %>%\n",
    "    dplyr::summarise(nkill = sum(nkill), .groups = \"drop\") %>%\n",
    "    dplyr::mutate(date = lubridate::make_date(year, month, 1)) %>%\n",
    "    dplyr::select(-year, -month)\n",
    "\n",
    "plot_target_ts <- ggplot(nkill_by_target_monthly, aes(x=date, y=nkill)) +\n",
    "    ggtitle(\"Deaths by type of target over time\") +\n",
    "    ylab(\"Deaths\") +\n",
    "    xlab(\"Time\") +\n",
    "    geom_point() +\n",
    "    geom_smooth(method = \"loess\", formula = \" y ~ x\") + \n",
    "    facet_wrap(~ target, ncol = 1, scales = \"free\") +\n",
    "    theme_custom_ts()\n",
    "\n",
    "plot_target_ts\n",
    "\n",
    "ggsave(\"img/deaths_by_target_over_time.png\", \n",
    "       plot = plot_target_ts, width = 12, height = 16, dpi = 75)\n",
    "\n",
    "options(repr.plot.width = width, repr.plot.height = height)"
   ]
  },
  {
   "cell_type": "code",
   "execution_count": null,
   "metadata": {},
   "outputs": [],
   "source": [
    "options(repr.plot.width = 8, repr.plot.height = 16)\n",
    "\n",
    "nkill_by_attack_monthly <- data %>%\n",
    "    dplyr::select(year, month, nkill, attack) %>% \n",
    "    dplyr::filter(attack %in% by_attack$attack) %>%\n",
    "    dplyr::group_by(year, month, attack) %>%\n",
    "    dplyr::summarise(nkill = sum(nkill), .groups = \"drop\") %>%\n",
    "    dplyr::mutate(date = lubridate::make_date(year, month, 1)) %>%\n",
    "    dplyr::select(-year, -month)\n",
    "\n",
    "plot_attack_ts <- ggplot(nkill_by_attack_monthly, aes(x=date, y=nkill)) +\n",
    "    ggtitle(\"Deaths by type of attack over time\") +\n",
    "    ylab(\"Deaths\") +\n",
    "    xlab(\"Time\") +\n",
    "    geom_point() +\n",
    "    geom_smooth(method = \"loess\", formula = \" y ~ x\") + \n",
    "    facet_wrap(~ attack, ncol = 1, scales = \"free\") +\n",
    "    theme_custom_ts()\n",
    "\n",
    "plot_attack_ts\n",
    "\n",
    "ggsave(\"img/deaths_by_attack_over_time.png\", \n",
    "       plot = plot_attack_ts, width = 12, height = 16, dpi = 75)\n",
    "\n",
    "options(repr.plot.width = width, repr.plot.height = height)"
   ]
  },
  {
   "cell_type": "markdown",
   "metadata": {},
   "source": [
    "### Histograms"
   ]
  },
  {
   "cell_type": "code",
   "execution_count": null,
   "metadata": {},
   "outputs": [],
   "source": [
    "ggplot(data = data, aes(x=log(1 + nkill))) +\n",
    "    geom_histogram(bins = 30) +\n",
    "    theme_custom()"
   ]
  },
  {
   "cell_type": "code",
   "execution_count": null,
   "metadata": {},
   "outputs": [],
   "source": [
    "ggplot(data = data, aes(x = log(1 + nkillter))) +\n",
    "    geom_histogram(bins = 30) +\n",
    "    theme_custom()"
   ]
  },
  {
   "cell_type": "code",
   "execution_count": null,
   "metadata": {},
   "outputs": [],
   "source": [
    "ggplot(data = data, aes(x = log(1 + nperps))) +\n",
    "    geom_histogram(bins = 20) +\n",
    "    theme_custom()"
   ]
  },
  {
   "cell_type": "code",
   "execution_count": null,
   "metadata": {},
   "outputs": [],
   "source": [
    "ggplot(data = data, aes(x=log(1 + ransomamt))) +\n",
    "    geom_histogram(bins=20) +\n",
    "    theme_custom()"
   ]
  },
  {
   "cell_type": "markdown",
   "metadata": {},
   "source": [
    "### Correlation"
   ]
  },
  {
   "cell_type": "code",
   "execution_count": null,
   "metadata": {},
   "outputs": [],
   "source": [
    "C <- data %>%\n",
    "    dplyr::select(nkill, nkillter, nperps, nwound) %>%\n",
    "    dplyr::filter(complete.cases(.)) %>% \n",
    "    cor(.)\n",
    "\n",
    "ggcorr(C, nbreaks = 4, label = TRUE, palette = \"RdGy\", \n",
    "       size = 5, label_color = \"white\", label_size = 5, \n",
    "       legend.size = 10)"
   ]
  },
  {
   "cell_type": "markdown",
   "metadata": {},
   "source": [
    "## Binary columns"
   ]
  },
  {
   "cell_type": "markdown",
   "metadata": {},
   "source": [
    "Count values in boolean columns."
   ]
  },
  {
   "cell_type": "code",
   "execution_count": null,
   "metadata": {},
   "outputs": [],
   "source": [
    "by_extended <- data %>%\n",
    "    dplyr::select(extended, nkill) %>%\n",
    "    dplyr::group_by(extended) %>%\n",
    "    dplyr::summarize(nkill = sum(nkill), .groups=\"drop\")\n",
    "\n",
    "ggplot(by_extended, aes(x = extended, y = nkill)) +\n",
    "    geom_bar(stat = \"identity\") +\n",
    "    theme_custom()"
   ]
  },
  {
   "cell_type": "code",
   "execution_count": null,
   "metadata": {},
   "outputs": [],
   "source": [
    "by_ishostkid <- data %>%\n",
    "    dplyr::select(ishostkid, nkill) %>%\n",
    "    dplyr::group_by(ishostkid) %>%\n",
    "    dplyr::summarize(nkill = sum(nkill), .groups = \"drop\")\n",
    "\n",
    "ggplot(by_ishostkid, aes(x = ishostkid, y = nkill)) +\n",
    "    geom_bar(stat = \"identity\") +\n",
    "    theme_custom()"
   ]
  },
  {
   "cell_type": "code",
   "execution_count": null,
   "metadata": {},
   "outputs": [],
   "source": [
    "by_vicinity <- data %>%\n",
    "    dplyr::select(vicinity, nkill) %>%\n",
    "    dplyr::group_by(vicinity) %>%\n",
    "    dplyr::summarize(nkill = sum(nkill), .groups = \"drop\")\n",
    "\n",
    "ggplot(by_vicinity, aes(x = vicinity, y = nkill)) +\n",
    "    geom_bar(stat = \"identity\") +\n",
    "    theme_custom()"
   ]
  },
  {
   "cell_type": "markdown",
   "metadata": {},
   "source": [
    "## Geospatial variables"
   ]
  },
  {
   "cell_type": "code",
   "execution_count": null,
   "metadata": {},
   "outputs": [],
   "source": [
    "most_active <- as.character(by_gname$gname)[1:5]\n",
    "\n",
    "attacks <- data %>%\n",
    "    dplyr::filter(gname %in% most_active) %>%\n",
    "    dplyr::select(year, month, day, lat, long, gname, country, nkill) %>%\n",
    "    dplyr::filter(!is.na(lat) & !is.na(long))"
   ]
  },
  {
   "cell_type": "code",
   "execution_count": null,
   "metadata": {},
   "outputs": [],
   "source": [
    "location <- attacks %>%\n",
    "    dplyr::group_by(gname, country) %>%\n",
    "    dplyr::summarize(nkill = sum(nkill),\n",
    "                     lat = mean(lat),                \n",
    "                     long = mean(long), .groups = \"drop\") %>%\n",
    "    dplyr::group_by(gname) %>%\n",
    "    dplyr::arrange(dplyr::desc(nkill)) %>%\n",
    "    dplyr::summarise(nkill = first(nkill),\n",
    "                     country = first(country), \n",
    "                     lat = first(lat),\n",
    "                     long = first(long),\n",
    "                     .groups = \"drop\") %>%\n",
    "    dplyr::mutate(full_gname = gname) %>%\n",
    "    dplyr::mutate(full_gname = ifelse(full_gname == \"ISIL\", \"Islamic State of Iraq and the Levant\", as.character(full_gname))) %>%\n",
    "    dplyr::mutate(full_gname = ifelse(full_gname == \"TTP\", \"Tehrik-i-Taliban Pakistan\", full_gname)) %>%\n",
    "    dplyr::mutate(full_gname_ctry = paste(full_gname, \", \", country, sep = \"\"))"
   ]
  },
  {
   "cell_type": "code",
   "execution_count": null,
   "metadata": {},
   "outputs": [],
   "source": [
    "options(repr.plot.width = 12, repr.plot.height = 8)\n",
    "\n",
    "world.map <- rworldmap::getMap()\n",
    "\n",
    "plot_map_annotated <- ggplot() + \n",
    "    ggtitle(\"Attack locations of the five most active groups\") +\n",
    "    geom_polygon(data = world.map, aes(x = long, y = lat, group = group), fill = \"#FDF5E3\", color = \"black\") +\n",
    "    geom_label_repel(data = location, aes(x = long, y = lat, label = full_gname_ctry, color = gname), \n",
    "                     size = 6, segment.size = 1, force = 30, nudge_y = 10, nudge_x = -10) + \n",
    "    geom_point(data = attacks, aes(x = long, y = lat, color = gname), size = 1/4, alpha = 2/3) +\n",
    "    scale_color_manual(values = c('#e41a1c','#377eb8','#4daf4a','#984ea3','#ff7f00')) +\n",
    "    guides(color = FALSE) +\n",
    "    coord_map(xlim = c(-15, 80), ylim = c(-10, 45)) +\n",
    "    theme(panel.background = element_rect(fill = \"#D6F1FF\"),\n",
    "          plot.margin = grid::unit(c(1/2, 0, 1/2, 0), \"mm\"),\n",
    "          plot.title = element_text(size = 20),\n",
    "          panel.grid.major = element_blank(),\n",
    "          panel.grid.minor = element_blank(),                 \n",
    "          axis.title.x = element_blank(),\n",
    "          axis.ticks.x = element_blank(),\n",
    "          axis.text.x = element_blank(),          \n",
    "          axis.title.y = element_blank(),\n",
    "          axis.ticks.y = element_blank(),\n",
    "          axis.text.y = element_blank(),\n",
    "          legend.position = \"bottom\",          \n",
    "          legend.title = element_text(size = 14),\n",
    "          legend.text = element_text(size = 14))          \n",
    "\n",
    "ggsave(\"img/group_attack_annotated_blue_sea.png\", \n",
    "       plot = plot_map_annotated, width = 12, height = 8, dpi = 75)\n",
    "\n",
    "plot_map_annotated\n",
    "\n",
    "options(repr.plot.width = width, repr.plot.height = height)"
   ]
  },
  {
   "cell_type": "code",
   "execution_count": null,
   "metadata": {},
   "outputs": [],
   "source": [
    "by_region_and_weapon <- data %>% \n",
    "    dplyr::filter(weapon != \"Fake Weapons\" & weapon != \"Biological\" & weapon != \"Radiological\") %>%\n",
    "    dplyr::group_by(region, weapon) %>%\n",
    "    dplyr::summarize(count = n(), .groups='drop') %>%\n",
    "    dplyr::mutate(logcount = log(count, exp(1)),\n",
    "                  label = ifelse(count > 1000, paste(round(count / 1000, 2), \"K\", sep = \"\"), count))"
   ]
  },
  {
   "cell_type": "code",
   "execution_count": null,
   "metadata": {
    "scrolled": false
   },
   "outputs": [],
   "source": [
    "options(repr.plot.width = 12, repr.plot.height = 12)\n",
    "\n",
    "plot_weapon_tile <- ggplot(data=by_region_and_weapon, aes(x = reorder(region, -count), \n",
    "                                                          y = reorder(weapon, count), \n",
    "                                                          fill=logcount, \n",
    "                                                          label=label)) +\n",
    "    ggtitle(\"Number of attacks by weapon\") +\n",
    "    coord_fixed(1) + \n",
    "    geom_tile(color = \"white\", size = 0.1) +\n",
    "    geom_text(size = 6) +\n",
    "    scale_y_discrete(expand = c(0,0)) +\n",
    "    scale_x_discrete(expand = c(0,0)) + \n",
    "    scale_fill_continuous(low = \"white\", high = \"darkred\", na.value = \"black\") + \n",
    "    guides(fill = FALSE) +\n",
    "    theme_custom_tiles()\n",
    "\n",
    "plot_weapon_tile\n",
    "\n",
    "ggsave(\"img/attacks_by_weapon.png\", \n",
    "       plot = plot_weapon_tile, width = 12, height = 12, dpi = 75)\n",
    "\n",
    "options(repr.plot.width = width, repr.plot.height = height)"
   ]
  },
  {
   "cell_type": "markdown",
   "metadata": {},
   "source": [
    "# Fancy plot for readme"
   ]
  },
  {
   "cell_type": "code",
   "execution_count": null,
   "metadata": {},
   "outputs": [],
   "source": [
    "date <- seq.Date(as.Date('2007-01-01'), \n",
    "                 as.Date('2017-12-31'), \n",
    "                 by = 'month')\n",
    "\n",
    "date <- dplyr::as_tibble(date) %>% \n",
    "        dplyr::rename(date = value)\n",
    "\n",
    "most_active <- as.character(by_gname$gname)[1:5]\n",
    "\n",
    "groups <- dplyr::as_tibble(most_active) %>% \n",
    "          dplyr::rename(gname = value)\n",
    "\n",
    "date <- tidyr::crossing(date, groups)\n",
    "\n",
    "nkill_total <- data %>%\n",
    "    dplyr::filter(gname %in% most_active) %>%\n",
    "    dplyr::select(year, month, gname, nkill) %>%\n",
    "    dplyr::mutate(date = lubridate::make_date(year, month, 1)) %>%\n",
    "    dplyr::group_by(date) %>%\n",
    "    dplyr::summarize(nkill.total = sum(nkill), .groups='drop') %>%\n",
    "    dplyr::right_join(date, by=\"date\")\n",
    "\n",
    "# nkill_total %>% dplyr::filter(is.na(nkill.total))\n",
    "\n",
    "nkill_group <- data %>%\n",
    "    dplyr::filter(gname %in% most_active) %>%\n",
    "    dplyr::select(year, month, gname, nkill) %>%\n",
    "    dplyr::mutate(date = lubridate::make_date(year, month, 1)) %>%\n",
    "    dplyr::group_by(date, gname) %>%\n",
    "    dplyr::summarize(nkill.group = sum(nkill), .groups='drop')\n",
    "\n",
    "# nkill_group %>% dplyr::filter(is.na(nkill.group))\n",
    "\n",
    "nkill_over_time <- dplyr::left_join(x = nkill_total, \n",
    "                                    y = nkill_group, \n",
    "                                    by = c(\"date\" = \"date\", \"gname\" = \"gname\")) %>%\n",
    "                   dplyr::mutate(nkill.group = tidyr::replace_na(nkill.group, 0)) %>%\n",
    "                   dplyr::mutate(pct = nkill.group / nkill.total * 10 ** 4,\n",
    "                                 pct = as.integer(pct),\n",
    "                                 pct = round(x = pct / 10 ** 2, digits = 2))\n",
    "\n",
    "plot_fancy_ts <- ggplot(data=nkill_over_time, aes(x = date, \n",
    "                                      y = pct)) +\n",
    "    ggtitle('Fatality distribution among the five most active groups') +\n",
    "    geom_area(position = 'stack', aes(fill = gname)) +\n",
    "    geom_line(aes(group = gname), position = \"stack\", size = 1/10, alpha = 1/2) +\n",
    "    ylab('Deaths (%)') +\n",
    "    ylim(c(0, 100)) +\n",
    "    labs(fill = 'Group') +\n",
    "    scale_fill_brewer(palette = \"Dark2\") +\n",
    "    guides(color = FALSE) +\n",
    "    theme_minimal() +\n",
    "    theme(plot.margin = grid::unit(c(1/2, 0, 1/2, 0), \"mm\"),\n",
    "          plot.title = element_text(size = 8),\n",
    "          panel.grid.major = element_blank(),\n",
    "          panel.grid.minor = element_blank(),          \n",
    "          aspect.ratio = 1/2.75,\n",
    "          axis.title.x = element_blank(),\n",
    "          axis.title = element_text(size = 6),\n",
    "          axis.text = element_text(size = 6),\n",
    "          legend.position = \"bottom\",          \n",
    "          legend.title = element_text(size = 6),\n",
    "          legend.text = element_text(size = 6),\n",
    "          legend.key.size = unit(1/3,\"line\"))\n",
    "\n",
    "ggsave(\"img/top_five_groups_percent_ts.png\", \n",
    "       plot = plot_fancy_ts, width = 4, height = 2, dpi = 150)\n",
    "\n",
    "options(repr.plot.width = width, repr.plot.height = height)"
   ]
  },
  {
   "cell_type": "code",
   "execution_count": null,
   "metadata": {},
   "outputs": [],
   "source": [
    "# options(repr.plot.width = 12, repr.plot.height = 12)\n",
    "# p <- p + \n",
    "#     theme(plot.margin = grid::unit(c(1/2,0,1/2,0), \"mm\"),\n",
    "#           plot.title = element_text(size=20),\n",
    "#           legend.position=\"bottom\",       \n",
    "#           axis.title = element_text(size = 14),          \n",
    "#           axis.text = element_text(size = 14),          \n",
    "#           legend.title = element_text(size = 14),\n",
    "#           legend.text = element_text(size = 14),\n",
    "#           legend.key.size = unit(1/3,\"line\"))\n",
    "\n",
    "# p\n",
    "\n",
    "# options(repr.plot.width = width, repr.plot.height = height)"
   ]
  }
 ],
 "metadata": {
  "kernelspec": {
   "display_name": "R",
   "language": "R",
   "name": "ir"
  },
  "language_info": {
   "codemirror_mode": "r",
   "file_extension": ".r",
   "mimetype": "text/x-r-source",
   "name": "R",
   "pygments_lexer": "r",
   "version": "3.6.3"
  }
 },
 "nbformat": 4,
 "nbformat_minor": 4
}
