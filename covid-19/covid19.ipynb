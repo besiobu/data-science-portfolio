{
 "cells": [
  {
   "cell_type": "code",
   "execution_count": 1,
   "metadata": {},
   "outputs": [],
   "source": [
    "import pandas as pd\n",
    "import matplotlib as mpl\n",
    "import matplotlib.pyplot as plt\n",
    "import numpy as np\n",
    "\n",
    "from functools import reduce"
   ]
  },
  {
   "cell_type": "code",
   "execution_count": 2,
   "metadata": {},
   "outputs": [],
   "source": [
    "mpl.rcParams['figure.figsize'] = (9, 5)"
   ]
  },
  {
   "cell_type": "markdown",
   "metadata": {},
   "source": [
    "# Goal\n",
    "My goal is to visualize various aspect of the `COVID-19` pandemic."
   ]
  },
  {
   "cell_type": "markdown",
   "metadata": {},
   "source": [
    "# Data sources\n",
    "\n",
    "In this project I use data from the following sources:\n",
    "- https://github.com/CSSEGISandData/COVID-19 - JHU CSSE COVID-19 Data.\n",
    "- [GDP per capita PPP](https://data.worldbank.org/indicator/NY.GDP.PCAP.PP.CD) - The World Bank.\n",
    "- [Population](https://data.worldbank.org/indicator/SP.POP.TOTL) - The World Bank.\n",
    "- [Urban Population](https://data.worldbank.org/indicator/SP.URB.TOTL.IN.ZS) - The World Bank.\n",
    "- [Population living in slums](https://data.worldbank.org/indicator/EN.POP.SLUM.UR.ZS) - The World Bank.\n",
    "- [Rural population](https://data.worldbank.org/indicator/SP.RUR.TOTL.ZS) - The World Bank.\n",
    "- [Life expectancy at birth](https://data.worldbank.org/indicator/SP.DYN.LE00.IN) - The World Bank.\n",
    "- [Current healthcare expenditure](https://data.worldbank.org/indicator/SH.XPD.CHEX.GD.ZS) - The World Bank.\n",
    "- https://datahub.io/JohnSnowLabs/country-and-continent-codes-list - country codes and continents."
   ]
  },
  {
   "cell_type": "markdown",
   "metadata": {},
   "source": [
    "# Data preparation\n",
    "\n",
    "## COVID-19 data\n",
    "To  obtain a copy of the data clone the repository: <br>\n",
    "`git clone https://github.com/CSSEGISandData/COVID-19`"
   ]
  },
  {
   "cell_type": "code",
   "execution_count": 3,
   "metadata": {},
   "outputs": [],
   "source": [
    "path = './data/COVID-19/csse_covid_19_data/csse_covid_19_time_series/'"
   ]
  },
  {
   "cell_type": "code",
   "execution_count": 4,
   "metadata": {},
   "outputs": [],
   "source": [
    "conf = pd.read_csv(f'{path}/time_series_covid19_confirmed_global.csv')\n",
    "recov = pd.read_csv(f'{path}/time_series_covid19_recovered_global.csv')\n",
    "dead = pd.read_csv(f'{path}/time_series_covid19_deaths_global.csv')"
   ]
  },
  {
   "cell_type": "code",
   "execution_count": 5,
   "metadata": {},
   "outputs": [],
   "source": [
    "def rename_countries(df):\n",
    "    \n",
    "    # Fix country names.\n",
    "    # This also helps with grouping (eg. Congo)\n",
    "    df['Country'] = df['Country'].apply(lambda x: \"Taiwan\" if x == \"Taiwan*\" else x)\n",
    "    df['Country'] = df['Country'].apply(lambda x: \"Korea\" if x == \"Korea, South\" else x)\n",
    "    df['Country'] = df['Country'].apply(lambda x: \"Macedonia\"  if x == \"North Macedonia\" else x)\n",
    "    df['Country'] = df['Country'].apply(lambda x: \"Cape Verde\" if x == \"Cabo Verde\" else x)\n",
    "    df['Country'] = df['Country'].apply(lambda x: \"Congo\" if x == \"Congo (Brazzaville)\"  else x)\n",
    "    df['Country'] = df['Country'].apply(lambda x: \"Congo\" if x == \"Congo (Kinshasa)\" else x)\n",
    "    \n",
    "    return df"
   ]
  },
  {
   "cell_type": "code",
   "execution_count": 6,
   "metadata": {},
   "outputs": [],
   "source": [
    "def process_data(df):\n",
    "    \"\"\"\n",
    "    \n",
    "    Convert data from columns to rows.\n",
    "    \n",
    "    \"\"\"\n",
    "    \n",
    "    # Drop columns\n",
    "    df = df.drop(['Lat', 'Long', 'Province/State'], axis=1)\n",
    "    df = df.rename(columns={\"Country/Region\": \"Country\"})    \n",
    "    \n",
    "    # Rename countries\n",
    "    df = rename_countries(df=df)\n",
    "    \n",
    "    # Enforce countries are unique\n",
    "    df = df.groupby('Country', as_index=False).sum()        \n",
    "    \n",
    "    # Switch to colum format\n",
    "    df = df.transpose()\n",
    "    \n",
    "    # Copy headers from first row\n",
    "    df.columns = df.iloc[0, :].to_list()\n",
    "    df['Date'] = df.index\n",
    "    df = df[1:]    \n",
    "    \n",
    "    # Convert dates\n",
    "    df['Date'] = pd.to_datetime(df['Date'])\n",
    "    \n",
    "    # Convert to ints\n",
    "    cols = df.columns.to_list()\n",
    "    cols.remove('Date')\n",
    "    for col in cols:\n",
    "        df[col] = df[col].astype(int)\n",
    "    \n",
    "    # Reorder & Sort    \n",
    "    cols = ['Date'] + sorted(cols)\n",
    "    df = df[cols]\n",
    "    \n",
    "    # Reset index\n",
    "    df = df.reset_index(drop=True)\n",
    "    df.head()    \n",
    "    \n",
    "    return df"
   ]
  },
  {
   "cell_type": "code",
   "execution_count": 7,
   "metadata": {
    "scrolled": true
   },
   "outputs": [
    {
     "data": {
      "text/html": [
       "<div>\n",
       "<style scoped>\n",
       "    .dataframe tbody tr th:only-of-type {\n",
       "        vertical-align: middle;\n",
       "    }\n",
       "\n",
       "    .dataframe tbody tr th {\n",
       "        vertical-align: top;\n",
       "    }\n",
       "\n",
       "    .dataframe thead th {\n",
       "        text-align: right;\n",
       "    }\n",
       "</style>\n",
       "<table border=\"1\" class=\"dataframe\">\n",
       "  <thead>\n",
       "    <tr style=\"text-align: right;\">\n",
       "      <th></th>\n",
       "      <th>Date</th>\n",
       "      <th>Afghanistan</th>\n",
       "      <th>Albania</th>\n",
       "      <th>Algeria</th>\n",
       "      <th>Andorra</th>\n",
       "      <th>Angola</th>\n",
       "      <th>Antigua and Barbuda</th>\n",
       "      <th>Argentina</th>\n",
       "      <th>Armenia</th>\n",
       "      <th>Australia</th>\n",
       "      <th>...</th>\n",
       "      <th>United Kingdom</th>\n",
       "      <th>Uruguay</th>\n",
       "      <th>Uzbekistan</th>\n",
       "      <th>Venezuela</th>\n",
       "      <th>Vietnam</th>\n",
       "      <th>West Bank and Gaza</th>\n",
       "      <th>Western Sahara</th>\n",
       "      <th>Yemen</th>\n",
       "      <th>Zambia</th>\n",
       "      <th>Zimbabwe</th>\n",
       "    </tr>\n",
       "  </thead>\n",
       "  <tbody>\n",
       "    <tr>\n",
       "      <th>225</th>\n",
       "      <td>2020-09-03</td>\n",
       "      <td>38288</td>\n",
       "      <td>9844</td>\n",
       "      <td>45469</td>\n",
       "      <td>1199</td>\n",
       "      <td>2805</td>\n",
       "      <td>95</td>\n",
       "      <td>451198</td>\n",
       "      <td>44271</td>\n",
       "      <td>26136</td>\n",
       "      <td>...</td>\n",
       "      <td>342708</td>\n",
       "      <td>1636</td>\n",
       "      <td>42688</td>\n",
       "      <td>49877</td>\n",
       "      <td>1046</td>\n",
       "      <td>24471</td>\n",
       "      <td>10</td>\n",
       "      <td>1979</td>\n",
       "      <td>12523</td>\n",
       "      <td>6678</td>\n",
       "    </tr>\n",
       "    <tr>\n",
       "      <th>226</th>\n",
       "      <td>2020-09-04</td>\n",
       "      <td>38304</td>\n",
       "      <td>9967</td>\n",
       "      <td>45773</td>\n",
       "      <td>1215</td>\n",
       "      <td>2876</td>\n",
       "      <td>95</td>\n",
       "      <td>461882</td>\n",
       "      <td>44461</td>\n",
       "      <td>26207</td>\n",
       "      <td>...</td>\n",
       "      <td>344686</td>\n",
       "      <td>1653</td>\n",
       "      <td>42998</td>\n",
       "      <td>50973</td>\n",
       "      <td>1049</td>\n",
       "      <td>25142</td>\n",
       "      <td>10</td>\n",
       "      <td>1983</td>\n",
       "      <td>12639</td>\n",
       "      <td>6837</td>\n",
       "    </tr>\n",
       "    <tr>\n",
       "      <th>227</th>\n",
       "      <td>2020-09-05</td>\n",
       "      <td>38324</td>\n",
       "      <td>10102</td>\n",
       "      <td>46071</td>\n",
       "      <td>1215</td>\n",
       "      <td>2935</td>\n",
       "      <td>95</td>\n",
       "      <td>471806</td>\n",
       "      <td>44649</td>\n",
       "      <td>26278</td>\n",
       "      <td>...</td>\n",
       "      <td>346513</td>\n",
       "      <td>1669</td>\n",
       "      <td>43293</td>\n",
       "      <td>52165</td>\n",
       "      <td>1049</td>\n",
       "      <td>25575</td>\n",
       "      <td>10</td>\n",
       "      <td>1983</td>\n",
       "      <td>12709</td>\n",
       "      <td>6837</td>\n",
       "    </tr>\n",
       "    <tr>\n",
       "      <th>228</th>\n",
       "      <td>2020-09-06</td>\n",
       "      <td>38398</td>\n",
       "      <td>10255</td>\n",
       "      <td>46364</td>\n",
       "      <td>1215</td>\n",
       "      <td>2965</td>\n",
       "      <td>95</td>\n",
       "      <td>478792</td>\n",
       "      <td>44783</td>\n",
       "      <td>26321</td>\n",
       "      <td>...</td>\n",
       "      <td>349500</td>\n",
       "      <td>1679</td>\n",
       "      <td>43587</td>\n",
       "      <td>53289</td>\n",
       "      <td>1049</td>\n",
       "      <td>26127</td>\n",
       "      <td>10</td>\n",
       "      <td>1987</td>\n",
       "      <td>12776</td>\n",
       "      <td>6837</td>\n",
       "    </tr>\n",
       "    <tr>\n",
       "      <th>229</th>\n",
       "      <td>2020-09-07</td>\n",
       "      <td>38494</td>\n",
       "      <td>10406</td>\n",
       "      <td>46653</td>\n",
       "      <td>1261</td>\n",
       "      <td>2981</td>\n",
       "      <td>95</td>\n",
       "      <td>488007</td>\n",
       "      <td>44845</td>\n",
       "      <td>26373</td>\n",
       "      <td>...</td>\n",
       "      <td>352451</td>\n",
       "      <td>1693</td>\n",
       "      <td>43893</td>\n",
       "      <td>54350</td>\n",
       "      <td>1049</td>\n",
       "      <td>26779</td>\n",
       "      <td>10</td>\n",
       "      <td>1989</td>\n",
       "      <td>12836</td>\n",
       "      <td>7298</td>\n",
       "    </tr>\n",
       "  </tbody>\n",
       "</table>\n",
       "<p>5 rows × 188 columns</p>\n",
       "</div>"
      ],
      "text/plain": [
       "          Date  Afghanistan  Albania  Algeria  Andorra  Angola  \\\n",
       "225 2020-09-03        38288     9844    45469     1199    2805   \n",
       "226 2020-09-04        38304     9967    45773     1215    2876   \n",
       "227 2020-09-05        38324    10102    46071     1215    2935   \n",
       "228 2020-09-06        38398    10255    46364     1215    2965   \n",
       "229 2020-09-07        38494    10406    46653     1261    2981   \n",
       "\n",
       "     Antigua and Barbuda  Argentina  Armenia  Australia  ...  United Kingdom  \\\n",
       "225                   95     451198    44271      26136  ...          342708   \n",
       "226                   95     461882    44461      26207  ...          344686   \n",
       "227                   95     471806    44649      26278  ...          346513   \n",
       "228                   95     478792    44783      26321  ...          349500   \n",
       "229                   95     488007    44845      26373  ...          352451   \n",
       "\n",
       "     Uruguay  Uzbekistan  Venezuela  Vietnam  West Bank and Gaza  \\\n",
       "225     1636       42688      49877     1046               24471   \n",
       "226     1653       42998      50973     1049               25142   \n",
       "227     1669       43293      52165     1049               25575   \n",
       "228     1679       43587      53289     1049               26127   \n",
       "229     1693       43893      54350     1049               26779   \n",
       "\n",
       "     Western Sahara  Yemen  Zambia  Zimbabwe  \n",
       "225              10   1979   12523      6678  \n",
       "226              10   1983   12639      6837  \n",
       "227              10   1983   12709      6837  \n",
       "228              10   1987   12776      6837  \n",
       "229              10   1989   12836      7298  \n",
       "\n",
       "[5 rows x 188 columns]"
      ]
     },
     "execution_count": 7,
     "metadata": {},
     "output_type": "execute_result"
    }
   ],
   "source": [
    "conf = process_data(df=conf)\n",
    "recov = process_data(df=recov)\n",
    "dead = process_data(df=dead)\n",
    "conf.tail()"
   ]
  },
  {
   "cell_type": "code",
   "execution_count": 8,
   "metadata": {},
   "outputs": [],
   "source": [
    "boats = ['Diamond Princess', 'MS Zaandam']\n",
    "conf = conf.drop(boats, axis=1)\n",
    "recov = recov.drop(boats, axis=1)\n",
    "dead = dead.drop(boats, axis=1)\n",
    "\n",
    "active = conf.drop(['Date'], axis=1) - recov.drop(['Date'], axis=1) - dead.drop(['Date'], axis=1)\n",
    "active['Date'] = conf['Date']"
   ]
  },
  {
   "cell_type": "markdown",
   "metadata": {},
   "source": [
    "## Helper functions"
   ]
  },
  {
   "cell_type": "code",
   "execution_count": 9,
   "metadata": {},
   "outputs": [],
   "source": [
    "dataframes = [conf, recov, dead]\n",
    "names = ['Confirmed', 'Recovered', 'Deaths']"
   ]
  },
  {
   "cell_type": "code",
   "execution_count": 10,
   "metadata": {},
   "outputs": [
    {
     "data": {
      "text/html": [
       "<div>\n",
       "<style scoped>\n",
       "    .dataframe tbody tr th:only-of-type {\n",
       "        vertical-align: middle;\n",
       "    }\n",
       "\n",
       "    .dataframe tbody tr th {\n",
       "        vertical-align: top;\n",
       "    }\n",
       "\n",
       "    .dataframe thead th {\n",
       "        text-align: right;\n",
       "    }\n",
       "</style>\n",
       "<table border=\"1\" class=\"dataframe\">\n",
       "  <thead>\n",
       "    <tr style=\"text-align: right;\">\n",
       "      <th></th>\n",
       "      <th>Date</th>\n",
       "      <th>Confirmed</th>\n",
       "      <th>Recovered</th>\n",
       "      <th>Deaths</th>\n",
       "    </tr>\n",
       "  </thead>\n",
       "  <tbody>\n",
       "    <tr>\n",
       "      <th>225</th>\n",
       "      <td>2020-09-03</td>\n",
       "      <td>69129</td>\n",
       "      <td>48593</td>\n",
       "      <td>2092</td>\n",
       "    </tr>\n",
       "    <tr>\n",
       "      <th>226</th>\n",
       "      <td>2020-09-04</td>\n",
       "      <td>69820</td>\n",
       "      <td>49820</td>\n",
       "      <td>2100</td>\n",
       "    </tr>\n",
       "    <tr>\n",
       "      <th>227</th>\n",
       "      <td>2020-09-05</td>\n",
       "      <td>70387</td>\n",
       "      <td>52346</td>\n",
       "      <td>2113</td>\n",
       "    </tr>\n",
       "    <tr>\n",
       "      <th>228</th>\n",
       "      <td>2020-09-06</td>\n",
       "      <td>70824</td>\n",
       "      <td>54256</td>\n",
       "      <td>2120</td>\n",
       "    </tr>\n",
       "    <tr>\n",
       "      <th>229</th>\n",
       "      <td>2020-09-07</td>\n",
       "      <td>71126</td>\n",
       "      <td>55113</td>\n",
       "      <td>2124</td>\n",
       "    </tr>\n",
       "  </tbody>\n",
       "</table>\n",
       "</div>"
      ],
      "text/plain": [
       "          Date  Confirmed  Recovered  Deaths\n",
       "225 2020-09-03      69129      48593    2092\n",
       "226 2020-09-04      69820      49820    2100\n",
       "227 2020-09-05      70387      52346    2113\n",
       "228 2020-09-06      70824      54256    2120\n",
       "229 2020-09-07      71126      55113    2124"
      ]
     },
     "execution_count": 10,
     "metadata": {},
     "output_type": "execute_result"
    }
   ],
   "source": [
    "def get_country_ts(country, dataframes, columns):\n",
    "    \"\"\"\n",
    "    \n",
    "    Extract data for specific country.\n",
    "    \n",
    "    Notes\n",
    "    -----\n",
    "    Apply backfill to NaN's.\n",
    "    \n",
    "    \"\"\"\n",
    "    \n",
    "    cols = ['Date'] + columns\n",
    "    ctry = list()\n",
    "    for df in dataframes:\n",
    "        tmp = df.loc[:, ['Date', country]]\n",
    "        ctry.append(tmp)        \n",
    "    ctry = reduce(lambda x, y: pd.merge(x, y, on='Date', how='outer'), ctry)    \n",
    "    ctry.columns = cols\n",
    "    ctry = ctry.fillna(method='bfill')\n",
    "    \n",
    "    return ctry\n",
    "\n",
    "get_country_ts(country='Poland', \n",
    "               dataframes=dataframes, \n",
    "               columns=names).tail()"
   ]
  },
  {
   "cell_type": "code",
   "execution_count": 11,
   "metadata": {},
   "outputs": [
    {
     "data": {
      "text/html": [
       "<div>\n",
       "<style scoped>\n",
       "    .dataframe tbody tr th:only-of-type {\n",
       "        vertical-align: middle;\n",
       "    }\n",
       "\n",
       "    .dataframe tbody tr th {\n",
       "        vertical-align: top;\n",
       "    }\n",
       "\n",
       "    .dataframe thead th {\n",
       "        text-align: right;\n",
       "    }\n",
       "</style>\n",
       "<table border=\"1\" class=\"dataframe\">\n",
       "  <thead>\n",
       "    <tr style=\"text-align: right;\">\n",
       "      <th></th>\n",
       "      <th>Country</th>\n",
       "      <th>Confirmed</th>\n",
       "      <th>Recovered</th>\n",
       "      <th>Deaths</th>\n",
       "    </tr>\n",
       "  </thead>\n",
       "  <tbody>\n",
       "    <tr>\n",
       "      <th>0</th>\n",
       "      <td>Afghanistan</td>\n",
       "      <td>38494</td>\n",
       "      <td>30557</td>\n",
       "      <td>1415</td>\n",
       "    </tr>\n",
       "    <tr>\n",
       "      <th>1</th>\n",
       "      <td>Albania</td>\n",
       "      <td>10406</td>\n",
       "      <td>6186</td>\n",
       "      <td>319</td>\n",
       "    </tr>\n",
       "    <tr>\n",
       "      <th>2</th>\n",
       "      <td>Algeria</td>\n",
       "      <td>46653</td>\n",
       "      <td>32985</td>\n",
       "      <td>1562</td>\n",
       "    </tr>\n",
       "    <tr>\n",
       "      <th>3</th>\n",
       "      <td>Andorra</td>\n",
       "      <td>1261</td>\n",
       "      <td>934</td>\n",
       "      <td>53</td>\n",
       "    </tr>\n",
       "    <tr>\n",
       "      <th>4</th>\n",
       "      <td>Angola</td>\n",
       "      <td>2981</td>\n",
       "      <td>1215</td>\n",
       "      <td>120</td>\n",
       "    </tr>\n",
       "  </tbody>\n",
       "</table>\n",
       "</div>"
      ],
      "text/plain": [
       "       Country  Confirmed  Recovered  Deaths\n",
       "0  Afghanistan      38494      30557    1415\n",
       "1      Albania      10406       6186     319\n",
       "2      Algeria      46653      32985    1562\n",
       "3      Andorra       1261        934      53\n",
       "4       Angola       2981       1215     120"
      ]
     },
     "execution_count": 11,
     "metadata": {},
     "output_type": "execute_result"
    }
   ],
   "source": [
    "def get_country_stats(dataframes, names):\n",
    "    \"\"\"\n",
    "    \n",
    "    Create dataframe with cases summarize\n",
    "    by country.\n",
    "    \n",
    "    \"\"\"\n",
    "    \n",
    "    stats = []\n",
    "    for df,name in zip(dataframes, names):\n",
    "        tmp = df.tail(1).drop('Date', axis=1)\n",
    "        tmp = tmp.transpose()\n",
    "        tmp = tmp.reset_index()\n",
    "        tmp.columns = ['Country', name]\n",
    "        stats.append(tmp)\n",
    "    stats = reduce(lambda x, y: pd.merge(x, y, on='Country', how='outer'), stats)    \n",
    "    \n",
    "    return stats\n",
    "\n",
    "get_country_stats(dataframes, names).head()"
   ]
  },
  {
   "cell_type": "markdown",
   "metadata": {},
   "source": [
    "## Extract mortality rate"
   ]
  },
  {
   "cell_type": "code",
   "execution_count": 12,
   "metadata": {
    "scrolled": false
   },
   "outputs": [
    {
     "data": {
      "text/html": [
       "<div>\n",
       "<style scoped>\n",
       "    .dataframe tbody tr th:only-of-type {\n",
       "        vertical-align: middle;\n",
       "    }\n",
       "\n",
       "    .dataframe tbody tr th {\n",
       "        vertical-align: top;\n",
       "    }\n",
       "\n",
       "    .dataframe thead th {\n",
       "        text-align: right;\n",
       "    }\n",
       "</style>\n",
       "<table border=\"1\" class=\"dataframe\">\n",
       "  <thead>\n",
       "    <tr style=\"text-align: right;\">\n",
       "      <th></th>\n",
       "      <th>Date</th>\n",
       "      <th>Poland</th>\n",
       "    </tr>\n",
       "  </thead>\n",
       "  <tbody>\n",
       "    <tr>\n",
       "      <th>225</th>\n",
       "      <td>2020-09-03</td>\n",
       "      <td>3.03</td>\n",
       "    </tr>\n",
       "    <tr>\n",
       "      <th>226</th>\n",
       "      <td>2020-09-04</td>\n",
       "      <td>3.01</td>\n",
       "    </tr>\n",
       "    <tr>\n",
       "      <th>227</th>\n",
       "      <td>2020-09-05</td>\n",
       "      <td>3.00</td>\n",
       "    </tr>\n",
       "    <tr>\n",
       "      <th>228</th>\n",
       "      <td>2020-09-06</td>\n",
       "      <td>2.99</td>\n",
       "    </tr>\n",
       "    <tr>\n",
       "      <th>229</th>\n",
       "      <td>2020-09-07</td>\n",
       "      <td>2.99</td>\n",
       "    </tr>\n",
       "  </tbody>\n",
       "</table>\n",
       "</div>"
      ],
      "text/plain": [
       "          Date  Poland\n",
       "225 2020-09-03    3.03\n",
       "226 2020-09-04    3.01\n",
       "227 2020-09-05    3.00\n",
       "228 2020-09-06    2.99\n",
       "229 2020-09-07    2.99"
      ]
     },
     "execution_count": 12,
     "metadata": {},
     "output_type": "execute_result"
    }
   ],
   "source": [
    "def extract_mortality(country):\n",
    "    \"\"\"\n",
    "    \n",
    "    Calculate mortality rate over time\n",
    "    for specific country.\n",
    "    \n",
    "    \"\"\"\n",
    "    \n",
    "    df = get_country_ts(country=country, \n",
    "                        dataframes=[conf, dead], \n",
    "                        columns=['Confirmed', 'Deaths'])\n",
    "    df = df[df['Confirmed'] > 0]\n",
    "    df['Mortality'] = df['Deaths'] / df['Confirmed']\n",
    "    df['Mortality'] = df['Mortality'] * 100\n",
    "    df['Mortality'] = np.round(df['Mortality'], 2)\n",
    "    df = df[['Date', 'Mortality']]\n",
    "    df.columns = ['Date', country]\n",
    "    \n",
    "    return df\n",
    "\n",
    "extract_mortality('Poland').tail()"
   ]
  },
  {
   "cell_type": "code",
   "execution_count": 13,
   "metadata": {},
   "outputs": [
    {
     "data": {
      "text/html": [
       "<div>\n",
       "<style scoped>\n",
       "    .dataframe tbody tr th:only-of-type {\n",
       "        vertical-align: middle;\n",
       "    }\n",
       "\n",
       "    .dataframe tbody tr th {\n",
       "        vertical-align: top;\n",
       "    }\n",
       "\n",
       "    .dataframe thead th {\n",
       "        text-align: right;\n",
       "    }\n",
       "</style>\n",
       "<table border=\"1\" class=\"dataframe\">\n",
       "  <thead>\n",
       "    <tr style=\"text-align: right;\">\n",
       "      <th></th>\n",
       "      <th>Date</th>\n",
       "      <th>Afghanistan</th>\n",
       "      <th>Albania</th>\n",
       "      <th>Algeria</th>\n",
       "      <th>Andorra</th>\n",
       "      <th>Angola</th>\n",
       "      <th>Antigua and Barbuda</th>\n",
       "      <th>Argentina</th>\n",
       "      <th>Armenia</th>\n",
       "      <th>Australia</th>\n",
       "      <th>...</th>\n",
       "      <th>United Kingdom</th>\n",
       "      <th>Uruguay</th>\n",
       "      <th>Uzbekistan</th>\n",
       "      <th>Venezuela</th>\n",
       "      <th>Vietnam</th>\n",
       "      <th>West Bank and Gaza</th>\n",
       "      <th>Western Sahara</th>\n",
       "      <th>Yemen</th>\n",
       "      <th>Zambia</th>\n",
       "      <th>Zimbabwe</th>\n",
       "    </tr>\n",
       "  </thead>\n",
       "  <tbody>\n",
       "    <tr>\n",
       "      <th>113</th>\n",
       "      <td>2020-09-03</td>\n",
       "      <td>3.68</td>\n",
       "      <td>3.06</td>\n",
       "      <td>3.36</td>\n",
       "      <td>4.42</td>\n",
       "      <td>4.03</td>\n",
       "      <td>3.16</td>\n",
       "      <td>2.07</td>\n",
       "      <td>2.00</td>\n",
       "      <td>2.82</td>\n",
       "      <td>...</td>\n",
       "      <td>12.14</td>\n",
       "      <td>2.69</td>\n",
       "      <td>0.78</td>\n",
       "      <td>0.81</td>\n",
       "      <td>3.35</td>\n",
       "      <td>0.68</td>\n",
       "      <td>10.0</td>\n",
       "      <td>28.85</td>\n",
       "      <td>2.33</td>\n",
       "      <td>3.08</td>\n",
       "    </tr>\n",
       "    <tr>\n",
       "      <th>114</th>\n",
       "      <td>2020-09-04</td>\n",
       "      <td>3.68</td>\n",
       "      <td>3.07</td>\n",
       "      <td>3.36</td>\n",
       "      <td>4.36</td>\n",
       "      <td>4.00</td>\n",
       "      <td>3.16</td>\n",
       "      <td>2.08</td>\n",
       "      <td>2.00</td>\n",
       "      <td>2.85</td>\n",
       "      <td>...</td>\n",
       "      <td>12.08</td>\n",
       "      <td>2.72</td>\n",
       "      <td>0.79</td>\n",
       "      <td>0.81</td>\n",
       "      <td>3.34</td>\n",
       "      <td>0.68</td>\n",
       "      <td>10.0</td>\n",
       "      <td>28.85</td>\n",
       "      <td>2.31</td>\n",
       "      <td>3.01</td>\n",
       "    </tr>\n",
       "    <tr>\n",
       "      <th>115</th>\n",
       "      <td>2020-09-05</td>\n",
       "      <td>3.68</td>\n",
       "      <td>3.09</td>\n",
       "      <td>3.36</td>\n",
       "      <td>4.36</td>\n",
       "      <td>3.99</td>\n",
       "      <td>3.16</td>\n",
       "      <td>2.06</td>\n",
       "      <td>2.00</td>\n",
       "      <td>2.87</td>\n",
       "      <td>...</td>\n",
       "      <td>12.02</td>\n",
       "      <td>2.70</td>\n",
       "      <td>0.79</td>\n",
       "      <td>0.81</td>\n",
       "      <td>3.34</td>\n",
       "      <td>0.69</td>\n",
       "      <td>10.0</td>\n",
       "      <td>28.85</td>\n",
       "      <td>2.30</td>\n",
       "      <td>3.01</td>\n",
       "    </tr>\n",
       "    <tr>\n",
       "      <th>116</th>\n",
       "      <td>2020-09-06</td>\n",
       "      <td>3.68</td>\n",
       "      <td>3.08</td>\n",
       "      <td>3.36</td>\n",
       "      <td>4.36</td>\n",
       "      <td>3.95</td>\n",
       "      <td>3.16</td>\n",
       "      <td>2.06</td>\n",
       "      <td>2.00</td>\n",
       "      <td>2.90</td>\n",
       "      <td>...</td>\n",
       "      <td>11.91</td>\n",
       "      <td>2.68</td>\n",
       "      <td>0.80</td>\n",
       "      <td>0.80</td>\n",
       "      <td>3.34</td>\n",
       "      <td>0.69</td>\n",
       "      <td>10.0</td>\n",
       "      <td>28.79</td>\n",
       "      <td>2.31</td>\n",
       "      <td>3.01</td>\n",
       "    </tr>\n",
       "    <tr>\n",
       "      <th>117</th>\n",
       "      <td>2020-09-07</td>\n",
       "      <td>3.68</td>\n",
       "      <td>3.07</td>\n",
       "      <td>3.35</td>\n",
       "      <td>4.20</td>\n",
       "      <td>4.03</td>\n",
       "      <td>3.16</td>\n",
       "      <td>2.08</td>\n",
       "      <td>2.01</td>\n",
       "      <td>2.92</td>\n",
       "      <td>...</td>\n",
       "      <td>11.82</td>\n",
       "      <td>2.66</td>\n",
       "      <td>0.80</td>\n",
       "      <td>0.80</td>\n",
       "      <td>3.34</td>\n",
       "      <td>0.69</td>\n",
       "      <td>10.0</td>\n",
       "      <td>28.81</td>\n",
       "      <td>2.30</td>\n",
       "      <td>2.88</td>\n",
       "    </tr>\n",
       "  </tbody>\n",
       "</table>\n",
       "<p>5 rows × 186 columns</p>\n",
       "</div>"
      ],
      "text/plain": [
       "          Date  Afghanistan  Albania  Algeria  Andorra  Angola  \\\n",
       "113 2020-09-03         3.68     3.06     3.36     4.42    4.03   \n",
       "114 2020-09-04         3.68     3.07     3.36     4.36    4.00   \n",
       "115 2020-09-05         3.68     3.09     3.36     4.36    3.99   \n",
       "116 2020-09-06         3.68     3.08     3.36     4.36    3.95   \n",
       "117 2020-09-07         3.68     3.07     3.35     4.20    4.03   \n",
       "\n",
       "     Antigua and Barbuda  Argentina  Armenia  Australia  ...  United Kingdom  \\\n",
       "113                 3.16       2.07     2.00       2.82  ...           12.14   \n",
       "114                 3.16       2.08     2.00       2.85  ...           12.08   \n",
       "115                 3.16       2.06     2.00       2.87  ...           12.02   \n",
       "116                 3.16       2.06     2.00       2.90  ...           11.91   \n",
       "117                 3.16       2.08     2.01       2.92  ...           11.82   \n",
       "\n",
       "     Uruguay  Uzbekistan  Venezuela  Vietnam  West Bank and Gaza  \\\n",
       "113     2.69        0.78       0.81     3.35                0.68   \n",
       "114     2.72        0.79       0.81     3.34                0.68   \n",
       "115     2.70        0.79       0.81     3.34                0.69   \n",
       "116     2.68        0.80       0.80     3.34                0.69   \n",
       "117     2.66        0.80       0.80     3.34                0.69   \n",
       "\n",
       "     Western Sahara  Yemen  Zambia  Zimbabwe  \n",
       "113            10.0  28.85    2.33      3.08  \n",
       "114            10.0  28.85    2.31      3.01  \n",
       "115            10.0  28.85    2.30      3.01  \n",
       "116            10.0  28.79    2.31      3.01  \n",
       "117            10.0  28.81    2.30      2.88  \n",
       "\n",
       "[5 rows x 186 columns]"
      ]
     },
     "execution_count": 13,
     "metadata": {},
     "output_type": "execute_result"
    }
   ],
   "source": [
    "all_countries = sorted(set(conf.drop('Date', axis=1).columns))\n",
    "mort = list()\n",
    "for c in all_countries:\n",
    "    tmp = extract_mortality(country=c)\n",
    "    mort.append(tmp)\n",
    "    \n",
    "mort = reduce(lambda x, y: pd.merge(x, y, on='Date'), mort)    \n",
    "\n",
    "mort.tail()"
   ]
  },
  {
   "cell_type": "code",
   "execution_count": 14,
   "metadata": {},
   "outputs": [
    {
     "name": "stdout",
     "output_type": "stream",
     "text": [
      "(230, 186)\n",
      "(230, 186)\n",
      "(230, 186)\n",
      "(230, 186)\n",
      "(118, 186)\n"
     ]
    }
   ],
   "source": [
    "print(conf.shape)\n",
    "print(recov.shape)\n",
    "print(dead.shape)\n",
    "print(active.shape)\n",
    "print(mort.shape)"
   ]
  },
  {
   "cell_type": "code",
   "execution_count": 15,
   "metadata": {},
   "outputs": [],
   "source": [
    "def count_na(df):\n",
    "    df = df.drop('Date', axis=1).isna().sum(axis=0)\n",
    "    df.name = 'Missing'\n",
    "    df = df.to_frame()\n",
    "    df.sort_values('Missing', ascending=False)\n",
    "    return df"
   ]
  },
  {
   "cell_type": "code",
   "execution_count": 16,
   "metadata": {},
   "outputs": [
    {
     "data": {
      "text/html": [
       "<div>\n",
       "<style scoped>\n",
       "    .dataframe tbody tr th:only-of-type {\n",
       "        vertical-align: middle;\n",
       "    }\n",
       "\n",
       "    .dataframe tbody tr th {\n",
       "        vertical-align: top;\n",
       "    }\n",
       "\n",
       "    .dataframe thead th {\n",
       "        text-align: right;\n",
       "    }\n",
       "</style>\n",
       "<table border=\"1\" class=\"dataframe\">\n",
       "  <thead>\n",
       "    <tr style=\"text-align: right;\">\n",
       "      <th></th>\n",
       "      <th>Missing</th>\n",
       "    </tr>\n",
       "  </thead>\n",
       "  <tbody>\n",
       "    <tr>\n",
       "      <th>Afghanistan</th>\n",
       "      <td>0</td>\n",
       "    </tr>\n",
       "    <tr>\n",
       "      <th>Albania</th>\n",
       "      <td>0</td>\n",
       "    </tr>\n",
       "    <tr>\n",
       "      <th>Algeria</th>\n",
       "      <td>0</td>\n",
       "    </tr>\n",
       "    <tr>\n",
       "      <th>Andorra</th>\n",
       "      <td>0</td>\n",
       "    </tr>\n",
       "    <tr>\n",
       "      <th>Angola</th>\n",
       "      <td>0</td>\n",
       "    </tr>\n",
       "  </tbody>\n",
       "</table>\n",
       "</div>"
      ],
      "text/plain": [
       "             Missing\n",
       "Afghanistan        0\n",
       "Albania            0\n",
       "Algeria            0\n",
       "Andorra            0\n",
       "Angola             0"
      ]
     },
     "execution_count": 16,
     "metadata": {},
     "output_type": "execute_result"
    }
   ],
   "source": [
    "count_na(conf).head()"
   ]
  },
  {
   "cell_type": "code",
   "execution_count": 17,
   "metadata": {},
   "outputs": [
    {
     "data": {
      "text/html": [
       "<div>\n",
       "<style scoped>\n",
       "    .dataframe tbody tr th:only-of-type {\n",
       "        vertical-align: middle;\n",
       "    }\n",
       "\n",
       "    .dataframe tbody tr th {\n",
       "        vertical-align: top;\n",
       "    }\n",
       "\n",
       "    .dataframe thead th {\n",
       "        text-align: right;\n",
       "    }\n",
       "</style>\n",
       "<table border=\"1\" class=\"dataframe\">\n",
       "  <thead>\n",
       "    <tr style=\"text-align: right;\">\n",
       "      <th></th>\n",
       "      <th>Missing</th>\n",
       "    </tr>\n",
       "  </thead>\n",
       "  <tbody>\n",
       "    <tr>\n",
       "      <th>Afghanistan</th>\n",
       "      <td>0</td>\n",
       "    </tr>\n",
       "    <tr>\n",
       "      <th>Albania</th>\n",
       "      <td>0</td>\n",
       "    </tr>\n",
       "    <tr>\n",
       "      <th>Algeria</th>\n",
       "      <td>0</td>\n",
       "    </tr>\n",
       "    <tr>\n",
       "      <th>Andorra</th>\n",
       "      <td>0</td>\n",
       "    </tr>\n",
       "    <tr>\n",
       "      <th>Angola</th>\n",
       "      <td>0</td>\n",
       "    </tr>\n",
       "  </tbody>\n",
       "</table>\n",
       "</div>"
      ],
      "text/plain": [
       "             Missing\n",
       "Afghanistan        0\n",
       "Albania            0\n",
       "Algeria            0\n",
       "Andorra            0\n",
       "Angola             0"
      ]
     },
     "execution_count": 17,
     "metadata": {},
     "output_type": "execute_result"
    }
   ],
   "source": [
    "count_na(recov).head()"
   ]
  },
  {
   "cell_type": "code",
   "execution_count": 18,
   "metadata": {},
   "outputs": [
    {
     "data": {
      "text/html": [
       "<div>\n",
       "<style scoped>\n",
       "    .dataframe tbody tr th:only-of-type {\n",
       "        vertical-align: middle;\n",
       "    }\n",
       "\n",
       "    .dataframe tbody tr th {\n",
       "        vertical-align: top;\n",
       "    }\n",
       "\n",
       "    .dataframe thead th {\n",
       "        text-align: right;\n",
       "    }\n",
       "</style>\n",
       "<table border=\"1\" class=\"dataframe\">\n",
       "  <thead>\n",
       "    <tr style=\"text-align: right;\">\n",
       "      <th></th>\n",
       "      <th>Missing</th>\n",
       "    </tr>\n",
       "  </thead>\n",
       "  <tbody>\n",
       "    <tr>\n",
       "      <th>Afghanistan</th>\n",
       "      <td>0</td>\n",
       "    </tr>\n",
       "    <tr>\n",
       "      <th>Albania</th>\n",
       "      <td>0</td>\n",
       "    </tr>\n",
       "    <tr>\n",
       "      <th>Algeria</th>\n",
       "      <td>0</td>\n",
       "    </tr>\n",
       "    <tr>\n",
       "      <th>Andorra</th>\n",
       "      <td>0</td>\n",
       "    </tr>\n",
       "    <tr>\n",
       "      <th>Angola</th>\n",
       "      <td>0</td>\n",
       "    </tr>\n",
       "  </tbody>\n",
       "</table>\n",
       "</div>"
      ],
      "text/plain": [
       "             Missing\n",
       "Afghanistan        0\n",
       "Albania            0\n",
       "Algeria            0\n",
       "Andorra            0\n",
       "Angola             0"
      ]
     },
     "execution_count": 18,
     "metadata": {},
     "output_type": "execute_result"
    }
   ],
   "source": [
    "count_na(dead).head()"
   ]
  },
  {
   "cell_type": "code",
   "execution_count": 19,
   "metadata": {},
   "outputs": [
    {
     "data": {
      "text/html": [
       "<div>\n",
       "<style scoped>\n",
       "    .dataframe tbody tr th:only-of-type {\n",
       "        vertical-align: middle;\n",
       "    }\n",
       "\n",
       "    .dataframe tbody tr th {\n",
       "        vertical-align: top;\n",
       "    }\n",
       "\n",
       "    .dataframe thead th {\n",
       "        text-align: right;\n",
       "    }\n",
       "</style>\n",
       "<table border=\"1\" class=\"dataframe\">\n",
       "  <thead>\n",
       "    <tr style=\"text-align: right;\">\n",
       "      <th></th>\n",
       "      <th>Missing</th>\n",
       "    </tr>\n",
       "  </thead>\n",
       "  <tbody>\n",
       "    <tr>\n",
       "      <th>Afghanistan</th>\n",
       "      <td>0</td>\n",
       "    </tr>\n",
       "    <tr>\n",
       "      <th>Albania</th>\n",
       "      <td>0</td>\n",
       "    </tr>\n",
       "    <tr>\n",
       "      <th>Algeria</th>\n",
       "      <td>0</td>\n",
       "    </tr>\n",
       "    <tr>\n",
       "      <th>Andorra</th>\n",
       "      <td>0</td>\n",
       "    </tr>\n",
       "    <tr>\n",
       "      <th>Angola</th>\n",
       "      <td>0</td>\n",
       "    </tr>\n",
       "  </tbody>\n",
       "</table>\n",
       "</div>"
      ],
      "text/plain": [
       "             Missing\n",
       "Afghanistan        0\n",
       "Albania            0\n",
       "Algeria            0\n",
       "Andorra            0\n",
       "Angola             0"
      ]
     },
     "execution_count": 19,
     "metadata": {},
     "output_type": "execute_result"
    }
   ],
   "source": [
    "count_na(active).head()"
   ]
  },
  {
   "cell_type": "code",
   "execution_count": 20,
   "metadata": {},
   "outputs": [
    {
     "data": {
      "text/html": [
       "<div>\n",
       "<style scoped>\n",
       "    .dataframe tbody tr th:only-of-type {\n",
       "        vertical-align: middle;\n",
       "    }\n",
       "\n",
       "    .dataframe tbody tr th {\n",
       "        vertical-align: top;\n",
       "    }\n",
       "\n",
       "    .dataframe thead th {\n",
       "        text-align: right;\n",
       "    }\n",
       "</style>\n",
       "<table border=\"1\" class=\"dataframe\">\n",
       "  <thead>\n",
       "    <tr style=\"text-align: right;\">\n",
       "      <th></th>\n",
       "      <th>Missing</th>\n",
       "    </tr>\n",
       "  </thead>\n",
       "  <tbody>\n",
       "    <tr>\n",
       "      <th>Afghanistan</th>\n",
       "      <td>0</td>\n",
       "    </tr>\n",
       "    <tr>\n",
       "      <th>Albania</th>\n",
       "      <td>0</td>\n",
       "    </tr>\n",
       "    <tr>\n",
       "      <th>Algeria</th>\n",
       "      <td>0</td>\n",
       "    </tr>\n",
       "    <tr>\n",
       "      <th>Andorra</th>\n",
       "      <td>0</td>\n",
       "    </tr>\n",
       "    <tr>\n",
       "      <th>Angola</th>\n",
       "      <td>0</td>\n",
       "    </tr>\n",
       "  </tbody>\n",
       "</table>\n",
       "</div>"
      ],
      "text/plain": [
       "             Missing\n",
       "Afghanistan        0\n",
       "Albania            0\n",
       "Algeria            0\n",
       "Andorra            0\n",
       "Angola             0"
      ]
     },
     "execution_count": 20,
     "metadata": {},
     "output_type": "execute_result"
    }
   ],
   "source": [
    "count_na(mort).head()"
   ]
  },
  {
   "cell_type": "code",
   "execution_count": 21,
   "metadata": {},
   "outputs": [
    {
     "data": {
      "text/html": [
       "<div>\n",
       "<style scoped>\n",
       "    .dataframe tbody tr th:only-of-type {\n",
       "        vertical-align: middle;\n",
       "    }\n",
       "\n",
       "    .dataframe tbody tr th {\n",
       "        vertical-align: top;\n",
       "    }\n",
       "\n",
       "    .dataframe thead th {\n",
       "        text-align: right;\n",
       "    }\n",
       "</style>\n",
       "<table border=\"1\" class=\"dataframe\">\n",
       "  <thead>\n",
       "    <tr style=\"text-align: right;\">\n",
       "      <th></th>\n",
       "      <th>Country</th>\n",
       "      <th>Confirmed</th>\n",
       "      <th>Recovered</th>\n",
       "      <th>Deaths</th>\n",
       "      <th>Active</th>\n",
       "      <th>Mortality</th>\n",
       "    </tr>\n",
       "  </thead>\n",
       "  <tbody>\n",
       "    <tr>\n",
       "      <th>0</th>\n",
       "      <td>Afghanistan</td>\n",
       "      <td>38494</td>\n",
       "      <td>30557</td>\n",
       "      <td>1415</td>\n",
       "      <td>6522</td>\n",
       "      <td>3.68</td>\n",
       "    </tr>\n",
       "    <tr>\n",
       "      <th>1</th>\n",
       "      <td>Albania</td>\n",
       "      <td>10406</td>\n",
       "      <td>6186</td>\n",
       "      <td>319</td>\n",
       "      <td>3901</td>\n",
       "      <td>3.07</td>\n",
       "    </tr>\n",
       "    <tr>\n",
       "      <th>2</th>\n",
       "      <td>Algeria</td>\n",
       "      <td>46653</td>\n",
       "      <td>32985</td>\n",
       "      <td>1562</td>\n",
       "      <td>12106</td>\n",
       "      <td>3.35</td>\n",
       "    </tr>\n",
       "    <tr>\n",
       "      <th>3</th>\n",
       "      <td>Andorra</td>\n",
       "      <td>1261</td>\n",
       "      <td>934</td>\n",
       "      <td>53</td>\n",
       "      <td>274</td>\n",
       "      <td>4.20</td>\n",
       "    </tr>\n",
       "    <tr>\n",
       "      <th>4</th>\n",
       "      <td>Angola</td>\n",
       "      <td>2981</td>\n",
       "      <td>1215</td>\n",
       "      <td>120</td>\n",
       "      <td>1646</td>\n",
       "      <td>4.03</td>\n",
       "    </tr>\n",
       "  </tbody>\n",
       "</table>\n",
       "</div>"
      ],
      "text/plain": [
       "       Country  Confirmed  Recovered  Deaths  Active  Mortality\n",
       "0  Afghanistan      38494      30557    1415    6522       3.68\n",
       "1      Albania      10406       6186     319    3901       3.07\n",
       "2      Algeria      46653      32985    1562   12106       3.35\n",
       "3      Andorra       1261        934      53     274       4.20\n",
       "4       Angola       2981       1215     120    1646       4.03"
      ]
     },
     "execution_count": 21,
     "metadata": {},
     "output_type": "execute_result"
    }
   ],
   "source": [
    "dataframes = [conf, recov, dead, active, mort]\n",
    "names = ['Confirmed', 'Recovered', 'Deaths', 'Active', 'Mortality']\n",
    "country_stats = get_country_stats(dataframes, names)\n",
    "country_stats.head()"
   ]
  },
  {
   "cell_type": "code",
   "execution_count": 22,
   "metadata": {},
   "outputs": [
    {
     "data": {
      "text/plain": [
       "Country      0\n",
       "Confirmed    0\n",
       "Recovered    0\n",
       "Deaths       0\n",
       "Active       0\n",
       "Mortality    0\n",
       "dtype: int64"
      ]
     },
     "execution_count": 22,
     "metadata": {},
     "output_type": "execute_result"
    }
   ],
   "source": [
    "country_stats.isna().sum(axis=0)"
   ]
  },
  {
   "cell_type": "markdown",
   "metadata": {},
   "source": [
    "## First order differences"
   ]
  },
  {
   "cell_type": "code",
   "execution_count": 23,
   "metadata": {},
   "outputs": [],
   "source": [
    "def get_daily_changes(df):   \n",
    "    \"\"\"\n",
    "    \n",
    "    Calculate daily change in case\n",
    "    data, ie apply difference operator.\n",
    "    \n",
    "    \"\"\"\n",
    "    diff = df.drop(['Date'], axis=1) - df.drop(['Date'], axis=1).shift(1)\n",
    "    diff['Date'] = df['Date']\n",
    "    diff.dropna(inplace=True)\n",
    "    diff.tail()\n",
    "    return diff"
   ]
  },
  {
   "cell_type": "code",
   "execution_count": 24,
   "metadata": {},
   "outputs": [
    {
     "data": {
      "text/html": [
       "<div>\n",
       "<style scoped>\n",
       "    .dataframe tbody tr th:only-of-type {\n",
       "        vertical-align: middle;\n",
       "    }\n",
       "\n",
       "    .dataframe tbody tr th {\n",
       "        vertical-align: top;\n",
       "    }\n",
       "\n",
       "    .dataframe thead th {\n",
       "        text-align: right;\n",
       "    }\n",
       "</style>\n",
       "<table border=\"1\" class=\"dataframe\">\n",
       "  <thead>\n",
       "    <tr style=\"text-align: right;\">\n",
       "      <th></th>\n",
       "      <th>Afghanistan</th>\n",
       "      <th>Albania</th>\n",
       "      <th>Algeria</th>\n",
       "      <th>Andorra</th>\n",
       "      <th>Angola</th>\n",
       "      <th>Antigua and Barbuda</th>\n",
       "      <th>Argentina</th>\n",
       "      <th>Armenia</th>\n",
       "      <th>Australia</th>\n",
       "      <th>Austria</th>\n",
       "      <th>...</th>\n",
       "      <th>Uruguay</th>\n",
       "      <th>Uzbekistan</th>\n",
       "      <th>Venezuela</th>\n",
       "      <th>Vietnam</th>\n",
       "      <th>West Bank and Gaza</th>\n",
       "      <th>Western Sahara</th>\n",
       "      <th>Yemen</th>\n",
       "      <th>Zambia</th>\n",
       "      <th>Zimbabwe</th>\n",
       "      <th>Date</th>\n",
       "    </tr>\n",
       "  </thead>\n",
       "  <tbody>\n",
       "    <tr>\n",
       "      <th>225</th>\n",
       "      <td>45.0</td>\n",
       "      <td>116.0</td>\n",
       "      <td>311.0</td>\n",
       "      <td>0.0</td>\n",
       "      <td>28.0</td>\n",
       "      <td>1.0</td>\n",
       "      <td>12026.0</td>\n",
       "      <td>196.0</td>\n",
       "      <td>87.0</td>\n",
       "      <td>403.0</td>\n",
       "      <td>...</td>\n",
       "      <td>10.0</td>\n",
       "      <td>251.0</td>\n",
       "      <td>994.0</td>\n",
       "      <td>0.0</td>\n",
       "      <td>596.0</td>\n",
       "      <td>0.0</td>\n",
       "      <td>3.0</td>\n",
       "      <td>108.0</td>\n",
       "      <td>40.0</td>\n",
       "      <td>2020-09-03</td>\n",
       "    </tr>\n",
       "    <tr>\n",
       "      <th>226</th>\n",
       "      <td>16.0</td>\n",
       "      <td>123.0</td>\n",
       "      <td>304.0</td>\n",
       "      <td>16.0</td>\n",
       "      <td>71.0</td>\n",
       "      <td>0.0</td>\n",
       "      <td>10684.0</td>\n",
       "      <td>190.0</td>\n",
       "      <td>71.0</td>\n",
       "      <td>357.0</td>\n",
       "      <td>...</td>\n",
       "      <td>17.0</td>\n",
       "      <td>310.0</td>\n",
       "      <td>1096.0</td>\n",
       "      <td>3.0</td>\n",
       "      <td>671.0</td>\n",
       "      <td>0.0</td>\n",
       "      <td>4.0</td>\n",
       "      <td>116.0</td>\n",
       "      <td>159.0</td>\n",
       "      <td>2020-09-04</td>\n",
       "    </tr>\n",
       "    <tr>\n",
       "      <th>227</th>\n",
       "      <td>20.0</td>\n",
       "      <td>135.0</td>\n",
       "      <td>298.0</td>\n",
       "      <td>0.0</td>\n",
       "      <td>59.0</td>\n",
       "      <td>0.0</td>\n",
       "      <td>9924.0</td>\n",
       "      <td>188.0</td>\n",
       "      <td>71.0</td>\n",
       "      <td>358.0</td>\n",
       "      <td>...</td>\n",
       "      <td>16.0</td>\n",
       "      <td>295.0</td>\n",
       "      <td>1192.0</td>\n",
       "      <td>0.0</td>\n",
       "      <td>433.0</td>\n",
       "      <td>0.0</td>\n",
       "      <td>0.0</td>\n",
       "      <td>70.0</td>\n",
       "      <td>0.0</td>\n",
       "      <td>2020-09-05</td>\n",
       "    </tr>\n",
       "    <tr>\n",
       "      <th>228</th>\n",
       "      <td>74.0</td>\n",
       "      <td>153.0</td>\n",
       "      <td>293.0</td>\n",
       "      <td>0.0</td>\n",
       "      <td>30.0</td>\n",
       "      <td>0.0</td>\n",
       "      <td>6986.0</td>\n",
       "      <td>134.0</td>\n",
       "      <td>43.0</td>\n",
       "      <td>184.0</td>\n",
       "      <td>...</td>\n",
       "      <td>10.0</td>\n",
       "      <td>294.0</td>\n",
       "      <td>1124.0</td>\n",
       "      <td>0.0</td>\n",
       "      <td>552.0</td>\n",
       "      <td>0.0</td>\n",
       "      <td>4.0</td>\n",
       "      <td>67.0</td>\n",
       "      <td>0.0</td>\n",
       "      <td>2020-09-06</td>\n",
       "    </tr>\n",
       "    <tr>\n",
       "      <th>229</th>\n",
       "      <td>96.0</td>\n",
       "      <td>151.0</td>\n",
       "      <td>289.0</td>\n",
       "      <td>46.0</td>\n",
       "      <td>16.0</td>\n",
       "      <td>0.0</td>\n",
       "      <td>9215.0</td>\n",
       "      <td>62.0</td>\n",
       "      <td>52.0</td>\n",
       "      <td>290.0</td>\n",
       "      <td>...</td>\n",
       "      <td>14.0</td>\n",
       "      <td>306.0</td>\n",
       "      <td>1061.0</td>\n",
       "      <td>0.0</td>\n",
       "      <td>652.0</td>\n",
       "      <td>0.0</td>\n",
       "      <td>2.0</td>\n",
       "      <td>60.0</td>\n",
       "      <td>461.0</td>\n",
       "      <td>2020-09-07</td>\n",
       "    </tr>\n",
       "  </tbody>\n",
       "</table>\n",
       "<p>5 rows × 186 columns</p>\n",
       "</div>"
      ],
      "text/plain": [
       "     Afghanistan  Albania  Algeria  Andorra  Angola  Antigua and Barbuda  \\\n",
       "225         45.0    116.0    311.0      0.0    28.0                  1.0   \n",
       "226         16.0    123.0    304.0     16.0    71.0                  0.0   \n",
       "227         20.0    135.0    298.0      0.0    59.0                  0.0   \n",
       "228         74.0    153.0    293.0      0.0    30.0                  0.0   \n",
       "229         96.0    151.0    289.0     46.0    16.0                  0.0   \n",
       "\n",
       "     Argentina  Armenia  Australia  Austria  ...  Uruguay  Uzbekistan  \\\n",
       "225    12026.0    196.0       87.0    403.0  ...     10.0       251.0   \n",
       "226    10684.0    190.0       71.0    357.0  ...     17.0       310.0   \n",
       "227     9924.0    188.0       71.0    358.0  ...     16.0       295.0   \n",
       "228     6986.0    134.0       43.0    184.0  ...     10.0       294.0   \n",
       "229     9215.0     62.0       52.0    290.0  ...     14.0       306.0   \n",
       "\n",
       "     Venezuela  Vietnam  West Bank and Gaza  Western Sahara  Yemen  Zambia  \\\n",
       "225      994.0      0.0               596.0             0.0    3.0   108.0   \n",
       "226     1096.0      3.0               671.0             0.0    4.0   116.0   \n",
       "227     1192.0      0.0               433.0             0.0    0.0    70.0   \n",
       "228     1124.0      0.0               552.0             0.0    4.0    67.0   \n",
       "229     1061.0      0.0               652.0             0.0    2.0    60.0   \n",
       "\n",
       "     Zimbabwe       Date  \n",
       "225      40.0 2020-09-03  \n",
       "226     159.0 2020-09-04  \n",
       "227       0.0 2020-09-05  \n",
       "228       0.0 2020-09-06  \n",
       "229     461.0 2020-09-07  \n",
       "\n",
       "[5 rows x 186 columns]"
      ]
     },
     "execution_count": 24,
     "metadata": {},
     "output_type": "execute_result"
    }
   ],
   "source": [
    "conf_diff = get_daily_changes(df=conf)\n",
    "recov_diff = get_daily_changes(df=recov)\n",
    "dead_diff = get_daily_changes(df=dead)\n",
    "active_diff = get_daily_changes(df=active)\n",
    "conf_diff.tail()"
   ]
  },
  {
   "cell_type": "markdown",
   "metadata": {},
   "source": [
    "## Coordinate data"
   ]
  },
  {
   "cell_type": "code",
   "execution_count": 25,
   "metadata": {},
   "outputs": [
    {
     "data": {
      "text/html": [
       "<div>\n",
       "<style scoped>\n",
       "    .dataframe tbody tr th:only-of-type {\n",
       "        vertical-align: middle;\n",
       "    }\n",
       "\n",
       "    .dataframe tbody tr th {\n",
       "        vertical-align: top;\n",
       "    }\n",
       "\n",
       "    .dataframe thead th {\n",
       "        text-align: right;\n",
       "    }\n",
       "</style>\n",
       "<table border=\"1\" class=\"dataframe\">\n",
       "  <thead>\n",
       "    <tr style=\"text-align: right;\">\n",
       "      <th></th>\n",
       "      <th>Country</th>\n",
       "      <th>Lat</th>\n",
       "      <th>Long</th>\n",
       "    </tr>\n",
       "  </thead>\n",
       "  <tbody>\n",
       "    <tr>\n",
       "      <th>0</th>\n",
       "      <td>Afghanistan</td>\n",
       "      <td>33.93911</td>\n",
       "      <td>67.709953</td>\n",
       "    </tr>\n",
       "    <tr>\n",
       "      <th>1</th>\n",
       "      <td>Albania</td>\n",
       "      <td>41.15330</td>\n",
       "      <td>20.168300</td>\n",
       "    </tr>\n",
       "    <tr>\n",
       "      <th>2</th>\n",
       "      <td>Algeria</td>\n",
       "      <td>28.03390</td>\n",
       "      <td>1.659600</td>\n",
       "    </tr>\n",
       "    <tr>\n",
       "      <th>3</th>\n",
       "      <td>Andorra</td>\n",
       "      <td>42.50630</td>\n",
       "      <td>1.521800</td>\n",
       "    </tr>\n",
       "    <tr>\n",
       "      <th>4</th>\n",
       "      <td>Angola</td>\n",
       "      <td>-11.20270</td>\n",
       "      <td>17.873900</td>\n",
       "    </tr>\n",
       "  </tbody>\n",
       "</table>\n",
       "</div>"
      ],
      "text/plain": [
       "       Country       Lat       Long\n",
       "0  Afghanistan  33.93911  67.709953\n",
       "1      Albania  41.15330  20.168300\n",
       "2      Algeria  28.03390   1.659600\n",
       "3      Andorra  42.50630   1.521800\n",
       "4       Angola -11.20270  17.873900"
      ]
     },
     "execution_count": 25,
     "metadata": {},
     "output_type": "execute_result"
    }
   ],
   "source": [
    "coords = pd.read_csv(f'{path}/time_series_covid19_confirmed_global.csv')\n",
    "coords = coords.rename(columns={\"Country/Region\": \"Country\"})   \n",
    "coords = coords.loc[~coords['Country'].isin(boats)]\n",
    "coords = rename_countries(df=coords)\n",
    "coords = coords[['Country', 'Lat', 'Long']]\n",
    "coords = coords.groupby('Country', as_index=False).mean()\n",
    "coords = coords.sort_values('Country')\n",
    "coords = coords.reset_index(drop=True)\n",
    "coords.head()"
   ]
  },
  {
   "cell_type": "markdown",
   "metadata": {},
   "source": [
    "## Continent data"
   ]
  },
  {
   "cell_type": "code",
   "execution_count": 26,
   "metadata": {},
   "outputs": [
    {
     "data": {
      "text/html": [
       "<div>\n",
       "<style scoped>\n",
       "    .dataframe tbody tr th:only-of-type {\n",
       "        vertical-align: middle;\n",
       "    }\n",
       "\n",
       "    .dataframe tbody tr th {\n",
       "        vertical-align: top;\n",
       "    }\n",
       "\n",
       "    .dataframe thead th {\n",
       "        text-align: right;\n",
       "    }\n",
       "</style>\n",
       "<table border=\"1\" class=\"dataframe\">\n",
       "  <thead>\n",
       "    <tr style=\"text-align: right;\">\n",
       "      <th></th>\n",
       "      <th>Continent</th>\n",
       "      <th>Country Code</th>\n",
       "      <th>Country</th>\n",
       "    </tr>\n",
       "  </thead>\n",
       "  <tbody>\n",
       "    <tr>\n",
       "      <th>0</th>\n",
       "      <td>Asia</td>\n",
       "      <td>AFG</td>\n",
       "      <td>Afghanistan</td>\n",
       "    </tr>\n",
       "    <tr>\n",
       "      <th>1</th>\n",
       "      <td>Europe</td>\n",
       "      <td>ALB</td>\n",
       "      <td>Albania</td>\n",
       "    </tr>\n",
       "    <tr>\n",
       "      <th>2</th>\n",
       "      <td>Antarctica</td>\n",
       "      <td>ATA</td>\n",
       "      <td>Antarctica (the territory South of 60 deg S)</td>\n",
       "    </tr>\n",
       "    <tr>\n",
       "      <th>3</th>\n",
       "      <td>Africa</td>\n",
       "      <td>DZA</td>\n",
       "      <td>Algeria</td>\n",
       "    </tr>\n",
       "    <tr>\n",
       "      <th>4</th>\n",
       "      <td>Oceania</td>\n",
       "      <td>ASM</td>\n",
       "      <td>American Samoa</td>\n",
       "    </tr>\n",
       "  </tbody>\n",
       "</table>\n",
       "</div>"
      ],
      "text/plain": [
       "    Continent Country Code                                       Country\n",
       "0        Asia          AFG                                   Afghanistan\n",
       "1      Europe          ALB                                       Albania\n",
       "2  Antarctica          ATA  Antarctica (the territory South of 60 deg S)\n",
       "3      Africa          DZA                                       Algeria\n",
       "4     Oceania          ASM                                American Samoa"
      ]
     },
     "execution_count": 26,
     "metadata": {},
     "output_type": "execute_result"
    }
   ],
   "source": [
    "cont_path = './data/datahub/countries.csv'\n",
    "cont_map = pd.read_csv(cont_path)\n",
    "\n",
    "cont_map = cont_map.drop(['Continent_Code', \n",
    "                          'Two_Letter_Country_Code', \n",
    "                          'Country_Number'], axis=1)\n",
    "\n",
    "cont_map['Country'] = cont_map['Country_Name'].apply(lambda x: x.split(\", \")[0])\n",
    "cont_map = cont_map.rename(columns={\"Continent_Name\": \"Continent\", 'Three_Letter_Country_Code': 'Country Code'})\n",
    "cont_map = cont_map.drop(['Country_Name'], axis=1)\n",
    "cont_map = cont_map.drop_duplicates(subset=['Country'])\n",
    "\n",
    "cont_map.head()"
   ]
  },
  {
   "cell_type": "code",
   "execution_count": 27,
   "metadata": {},
   "outputs": [],
   "source": [
    "countries_covid = set(coords['Country'])"
   ]
  },
  {
   "cell_type": "code",
   "execution_count": 28,
   "metadata": {},
   "outputs": [],
   "source": [
    "# Change values in countries.csv to match covid data.\n",
    "to_swap = [('Russian Federation', 'Russia'),\n",
    "           ('Slovakia (Slovak Republic)', 'Slovakia'),\n",
    "           ('Kyrgyz Republic', 'Kyrgyzstan'),\n",
    "           ('Syrian Arab Republic', 'Syria'),\n",
    "           ('Libyan Arab Jamahiriya', 'Libya'),\n",
    "           ('Korea, South', 'Korea'),\n",
    "           ('Brunei Darussalam', 'Brunei'),\n",
    "           ('Cabo Verde', 'Cape Verde'),\n",
    "           ('Holy See (Vatican City State)', 'Holy See'),\n",
    "           ('United States of America', 'US'),\n",
    "           ('United Kingdom of Great Britain & Northern Ireland', 'United Kingdom'),\n",
    "           (\"Lao People's Democratic Republic\", 'Laos'),\n",
    "           ('Myanmar', 'Burma'),\n",
    "           ('Czech Republic', 'Czechia'),\n",
    "           ('Swaziland',  'Eswatini')]\n",
    "\n",
    "for x in to_swap:\n",
    "    cont_map.loc[cont_map['Country'] == x[0], 'Country'] = x[1]    "
   ]
  },
  {
   "cell_type": "code",
   "execution_count": 29,
   "metadata": {},
   "outputs": [],
   "source": [
    "countries_cont_map = set(cont_map['Country'])"
   ]
  },
  {
   "cell_type": "code",
   "execution_count": 30,
   "metadata": {},
   "outputs": [
    {
     "data": {
      "text/plain": [
       "{'Kosovo', 'West Bank and Gaza'}"
      ]
     },
     "execution_count": 30,
     "metadata": {},
     "output_type": "execute_result"
    }
   ],
   "source": [
    "countries_covid.difference(countries_cont_map)"
   ]
  },
  {
   "cell_type": "code",
   "execution_count": 31,
   "metadata": {},
   "outputs": [
    {
     "data": {
      "text/html": [
       "<div>\n",
       "<style scoped>\n",
       "    .dataframe tbody tr th:only-of-type {\n",
       "        vertical-align: middle;\n",
       "    }\n",
       "\n",
       "    .dataframe tbody tr th {\n",
       "        vertical-align: top;\n",
       "    }\n",
       "\n",
       "    .dataframe thead th {\n",
       "        text-align: right;\n",
       "    }\n",
       "</style>\n",
       "<table border=\"1\" class=\"dataframe\">\n",
       "  <thead>\n",
       "    <tr style=\"text-align: right;\">\n",
       "      <th></th>\n",
       "      <th>Country</th>\n",
       "      <th>Lat</th>\n",
       "      <th>Long</th>\n",
       "      <th>Continent</th>\n",
       "      <th>Country Code</th>\n",
       "    </tr>\n",
       "  </thead>\n",
       "  <tbody>\n",
       "    <tr>\n",
       "      <th>0</th>\n",
       "      <td>Afghanistan</td>\n",
       "      <td>33.93911</td>\n",
       "      <td>67.709953</td>\n",
       "      <td>Asia</td>\n",
       "      <td>AFG</td>\n",
       "    </tr>\n",
       "    <tr>\n",
       "      <th>1</th>\n",
       "      <td>Albania</td>\n",
       "      <td>41.15330</td>\n",
       "      <td>20.168300</td>\n",
       "      <td>Europe</td>\n",
       "      <td>ALB</td>\n",
       "    </tr>\n",
       "    <tr>\n",
       "      <th>2</th>\n",
       "      <td>Algeria</td>\n",
       "      <td>28.03390</td>\n",
       "      <td>1.659600</td>\n",
       "      <td>Africa</td>\n",
       "      <td>DZA</td>\n",
       "    </tr>\n",
       "    <tr>\n",
       "      <th>3</th>\n",
       "      <td>Andorra</td>\n",
       "      <td>42.50630</td>\n",
       "      <td>1.521800</td>\n",
       "      <td>Europe</td>\n",
       "      <td>AND</td>\n",
       "    </tr>\n",
       "    <tr>\n",
       "      <th>4</th>\n",
       "      <td>Angola</td>\n",
       "      <td>-11.20270</td>\n",
       "      <td>17.873900</td>\n",
       "      <td>Africa</td>\n",
       "      <td>AGO</td>\n",
       "    </tr>\n",
       "  </tbody>\n",
       "</table>\n",
       "</div>"
      ],
      "text/plain": [
       "       Country       Lat       Long Continent Country Code\n",
       "0  Afghanistan  33.93911  67.709953      Asia          AFG\n",
       "1      Albania  41.15330  20.168300    Europe          ALB\n",
       "2      Algeria  28.03390   1.659600    Africa          DZA\n",
       "3      Andorra  42.50630   1.521800    Europe          AND\n",
       "4       Angola -11.20270  17.873900    Africa          AGO"
      ]
     },
     "execution_count": 31,
     "metadata": {},
     "output_type": "execute_result"
    }
   ],
   "source": [
    "ctry_to_cont = pd.merge(coords, cont_map, how='left', on='Country')\n",
    "ctry_to_cont = ctry_to_cont.dropna()\n",
    "ctry_to_cont.head()"
   ]
  },
  {
   "cell_type": "code",
   "execution_count": 32,
   "metadata": {},
   "outputs": [
    {
     "name": "stdout",
     "output_type": "stream",
     "text": [
      "(183, 5)\n"
     ]
    }
   ],
   "source": [
    "print(ctry_to_cont.shape)"
   ]
  },
  {
   "cell_type": "markdown",
   "metadata": {},
   "source": [
    "## World Bank data"
   ]
  },
  {
   "cell_type": "code",
   "execution_count": 33,
   "metadata": {},
   "outputs": [],
   "source": [
    "wb_path = './data/world_bank/'"
   ]
  },
  {
   "cell_type": "code",
   "execution_count": 34,
   "metadata": {},
   "outputs": [],
   "source": [
    "def get_world_bank_data(path, desc):\n",
    "    \"\"\"\n",
    "    \n",
    "    Get World Bank data into usable format.\n",
    "    \n",
    "    Notes\n",
    "    -----\n",
    "    Forward filling is applied rowwise.\n",
    "    \n",
    "    \"\"\"\n",
    "    \n",
    "    df = pd.read_csv(path, skiprows=4)\n",
    "    df = df.rename(columns={'Country Name': 'Country'})\n",
    "    df = df.drop(['Country', 'Indicator Name', 'Indicator Code'], axis=1)    \n",
    "    df = df.ffill(axis=1)\n",
    "    df = df[['Country Code', '2019']]\n",
    "    df = df.rename(columns={'2019': desc})\n",
    "    df = df[~(df[desc].str.isalpha() == True)]\n",
    "    df[desc] = df[desc].astype(float)\n",
    "    df[desc] = df[desc].round(2)\n",
    "    \n",
    "    return df"
   ]
  },
  {
   "cell_type": "code",
   "execution_count": 35,
   "metadata": {},
   "outputs": [
    {
     "data": {
      "text/html": [
       "<div>\n",
       "<style scoped>\n",
       "    .dataframe tbody tr th:only-of-type {\n",
       "        vertical-align: middle;\n",
       "    }\n",
       "\n",
       "    .dataframe tbody tr th {\n",
       "        vertical-align: top;\n",
       "    }\n",
       "\n",
       "    .dataframe thead th {\n",
       "        text-align: right;\n",
       "    }\n",
       "</style>\n",
       "<table border=\"1\" class=\"dataframe\">\n",
       "  <thead>\n",
       "    <tr style=\"text-align: right;\">\n",
       "      <th></th>\n",
       "      <th>Country Code</th>\n",
       "      <th>Life Expectancy</th>\n",
       "    </tr>\n",
       "  </thead>\n",
       "  <tbody>\n",
       "    <tr>\n",
       "      <th>0</th>\n",
       "      <td>ABW</td>\n",
       "      <td>76.15</td>\n",
       "    </tr>\n",
       "    <tr>\n",
       "      <th>1</th>\n",
       "      <td>AFG</td>\n",
       "      <td>64.49</td>\n",
       "    </tr>\n",
       "    <tr>\n",
       "      <th>2</th>\n",
       "      <td>AGO</td>\n",
       "      <td>60.78</td>\n",
       "    </tr>\n",
       "    <tr>\n",
       "      <th>3</th>\n",
       "      <td>ALB</td>\n",
       "      <td>78.46</td>\n",
       "    </tr>\n",
       "    <tr>\n",
       "      <th>5</th>\n",
       "      <td>ARB</td>\n",
       "      <td>71.81</td>\n",
       "    </tr>\n",
       "  </tbody>\n",
       "</table>\n",
       "</div>"
      ],
      "text/plain": [
       "  Country Code  Life Expectancy\n",
       "0          ABW            76.15\n",
       "1          AFG            64.49\n",
       "2          AGO            60.78\n",
       "3          ALB            78.46\n",
       "5          ARB            71.81"
      ]
     },
     "execution_count": 35,
     "metadata": {},
     "output_type": "execute_result"
    }
   ],
   "source": [
    "wb_le = 'API_SP.DYN.LE00.IN_DS2_en_csv_v2_1308162.csv'\n",
    "life_expectancy = get_world_bank_data(path=f'{wb_path}/{wb_le}',\n",
    "                                      desc='Life Expectancy')\n",
    "life_expectancy.head()"
   ]
  },
  {
   "cell_type": "code",
   "execution_count": 36,
   "metadata": {},
   "outputs": [
    {
     "data": {
      "text/html": [
       "<div>\n",
       "<style scoped>\n",
       "    .dataframe tbody tr th:only-of-type {\n",
       "        vertical-align: middle;\n",
       "    }\n",
       "\n",
       "    .dataframe tbody tr th {\n",
       "        vertical-align: top;\n",
       "    }\n",
       "\n",
       "    .dataframe thead th {\n",
       "        text-align: right;\n",
       "    }\n",
       "</style>\n",
       "<table border=\"1\" class=\"dataframe\">\n",
       "  <thead>\n",
       "    <tr style=\"text-align: right;\">\n",
       "      <th></th>\n",
       "      <th>Country Code</th>\n",
       "      <th>GDP Per Capita</th>\n",
       "    </tr>\n",
       "  </thead>\n",
       "  <tbody>\n",
       "    <tr>\n",
       "      <th>0</th>\n",
       "      <td>ABW</td>\n",
       "      <td>38442.41</td>\n",
       "    </tr>\n",
       "    <tr>\n",
       "      <th>1</th>\n",
       "      <td>AFG</td>\n",
       "      <td>2293.55</td>\n",
       "    </tr>\n",
       "    <tr>\n",
       "      <th>2</th>\n",
       "      <td>AGO</td>\n",
       "      <td>6929.68</td>\n",
       "    </tr>\n",
       "    <tr>\n",
       "      <th>3</th>\n",
       "      <td>ALB</td>\n",
       "      <td>14495.08</td>\n",
       "    </tr>\n",
       "    <tr>\n",
       "      <th>5</th>\n",
       "      <td>ARB</td>\n",
       "      <td>15216.54</td>\n",
       "    </tr>\n",
       "  </tbody>\n",
       "</table>\n",
       "</div>"
      ],
      "text/plain": [
       "  Country Code  GDP Per Capita\n",
       "0          ABW        38442.41\n",
       "1          AFG         2293.55\n",
       "2          AGO         6929.68\n",
       "3          ALB        14495.08\n",
       "5          ARB        15216.54"
      ]
     },
     "execution_count": 36,
     "metadata": {},
     "output_type": "execute_result"
    }
   ],
   "source": [
    "wb_gdp = 'API_NY.GDP.PCAP.PP.CD_DS2_en_csv_v2_1217517.csv'\n",
    "gdp_per_capita = get_world_bank_data(path=f'{wb_path}/{wb_gdp}',\n",
    "                                     desc='GDP Per Capita')\n",
    "gdp_per_capita.head()"
   ]
  },
  {
   "cell_type": "code",
   "execution_count": 37,
   "metadata": {},
   "outputs": [
    {
     "data": {
      "text/html": [
       "<div>\n",
       "<style scoped>\n",
       "    .dataframe tbody tr th:only-of-type {\n",
       "        vertical-align: middle;\n",
       "    }\n",
       "\n",
       "    .dataframe tbody tr th {\n",
       "        vertical-align: top;\n",
       "    }\n",
       "\n",
       "    .dataframe thead th {\n",
       "        text-align: right;\n",
       "    }\n",
       "</style>\n",
       "<table border=\"1\" class=\"dataframe\">\n",
       "  <thead>\n",
       "    <tr style=\"text-align: right;\">\n",
       "      <th></th>\n",
       "      <th>Country Code</th>\n",
       "      <th>Population</th>\n",
       "    </tr>\n",
       "  </thead>\n",
       "  <tbody>\n",
       "    <tr>\n",
       "      <th>0</th>\n",
       "      <td>ABW</td>\n",
       "      <td>106314.0</td>\n",
       "    </tr>\n",
       "    <tr>\n",
       "      <th>1</th>\n",
       "      <td>AFG</td>\n",
       "      <td>38041754.0</td>\n",
       "    </tr>\n",
       "    <tr>\n",
       "      <th>2</th>\n",
       "      <td>AGO</td>\n",
       "      <td>31825295.0</td>\n",
       "    </tr>\n",
       "    <tr>\n",
       "      <th>3</th>\n",
       "      <td>ALB</td>\n",
       "      <td>2854191.0</td>\n",
       "    </tr>\n",
       "    <tr>\n",
       "      <th>4</th>\n",
       "      <td>AND</td>\n",
       "      <td>77142.0</td>\n",
       "    </tr>\n",
       "  </tbody>\n",
       "</table>\n",
       "</div>"
      ],
      "text/plain": [
       "  Country Code  Population\n",
       "0          ABW    106314.0\n",
       "1          AFG  38041754.0\n",
       "2          AGO  31825295.0\n",
       "3          ALB   2854191.0\n",
       "4          AND     77142.0"
      ]
     },
     "execution_count": 37,
     "metadata": {},
     "output_type": "execute_result"
    }
   ],
   "source": [
    "wb_pop = 'API_SP.POP.TOTL_DS2_en_csv_v2_1308146.csv'\n",
    "population = get_world_bank_data(path=f'{wb_path}/{wb_pop}',\n",
    "                                     desc='Population')\n",
    "population.head()"
   ]
  },
  {
   "cell_type": "code",
   "execution_count": 38,
   "metadata": {},
   "outputs": [
    {
     "data": {
      "text/html": [
       "<div>\n",
       "<style scoped>\n",
       "    .dataframe tbody tr th:only-of-type {\n",
       "        vertical-align: middle;\n",
       "    }\n",
       "\n",
       "    .dataframe tbody tr th {\n",
       "        vertical-align: top;\n",
       "    }\n",
       "\n",
       "    .dataframe thead th {\n",
       "        text-align: right;\n",
       "    }\n",
       "</style>\n",
       "<table border=\"1\" class=\"dataframe\">\n",
       "  <thead>\n",
       "    <tr style=\"text-align: right;\">\n",
       "      <th></th>\n",
       "      <th>Country Code</th>\n",
       "      <th>Urban Population %</th>\n",
       "    </tr>\n",
       "  </thead>\n",
       "  <tbody>\n",
       "    <tr>\n",
       "      <th>0</th>\n",
       "      <td>ABW</td>\n",
       "      <td>43.55</td>\n",
       "    </tr>\n",
       "    <tr>\n",
       "      <th>1</th>\n",
       "      <td>AFG</td>\n",
       "      <td>25.75</td>\n",
       "    </tr>\n",
       "    <tr>\n",
       "      <th>2</th>\n",
       "      <td>AGO</td>\n",
       "      <td>66.18</td>\n",
       "    </tr>\n",
       "    <tr>\n",
       "      <th>3</th>\n",
       "      <td>ALB</td>\n",
       "      <td>61.23</td>\n",
       "    </tr>\n",
       "    <tr>\n",
       "      <th>4</th>\n",
       "      <td>AND</td>\n",
       "      <td>87.98</td>\n",
       "    </tr>\n",
       "  </tbody>\n",
       "</table>\n",
       "</div>"
      ],
      "text/plain": [
       "  Country Code  Urban Population %\n",
       "0          ABW               43.55\n",
       "1          AFG               25.75\n",
       "2          AGO               66.18\n",
       "3          ALB               61.23\n",
       "4          AND               87.98"
      ]
     },
     "execution_count": 38,
     "metadata": {},
     "output_type": "execute_result"
    }
   ],
   "source": [
    "wb_urb = 'API_SP.URB.TOTL.IN.ZS_DS2_en_csv_v2_1219669.csv'\n",
    "urban_population = get_world_bank_data(path=f'{wb_path}/{wb_urb}',\n",
    "                                     desc='Urban Population %')\n",
    "urban_population.head()"
   ]
  },
  {
   "cell_type": "code",
   "execution_count": 39,
   "metadata": {},
   "outputs": [
    {
     "data": {
      "text/html": [
       "<div>\n",
       "<style scoped>\n",
       "    .dataframe tbody tr th:only-of-type {\n",
       "        vertical-align: middle;\n",
       "    }\n",
       "\n",
       "    .dataframe tbody tr th {\n",
       "        vertical-align: top;\n",
       "    }\n",
       "\n",
       "    .dataframe thead th {\n",
       "        text-align: right;\n",
       "    }\n",
       "</style>\n",
       "<table border=\"1\" class=\"dataframe\">\n",
       "  <thead>\n",
       "    <tr style=\"text-align: right;\">\n",
       "      <th></th>\n",
       "      <th>Country Code</th>\n",
       "      <th>Slum Population %</th>\n",
       "    </tr>\n",
       "  </thead>\n",
       "  <tbody>\n",
       "    <tr>\n",
       "      <th>1</th>\n",
       "      <td>AFG</td>\n",
       "      <td>62.70</td>\n",
       "    </tr>\n",
       "    <tr>\n",
       "      <th>2</th>\n",
       "      <td>AGO</td>\n",
       "      <td>55.50</td>\n",
       "    </tr>\n",
       "    <tr>\n",
       "      <th>5</th>\n",
       "      <td>ARB</td>\n",
       "      <td>32.52</td>\n",
       "    </tr>\n",
       "    <tr>\n",
       "      <th>7</th>\n",
       "      <td>ARG</td>\n",
       "      <td>16.70</td>\n",
       "    </tr>\n",
       "    <tr>\n",
       "      <th>8</th>\n",
       "      <td>ARM</td>\n",
       "      <td>14.40</td>\n",
       "    </tr>\n",
       "  </tbody>\n",
       "</table>\n",
       "</div>"
      ],
      "text/plain": [
       "  Country Code  Slum Population %\n",
       "1          AFG              62.70\n",
       "2          AGO              55.50\n",
       "5          ARB              32.52\n",
       "7          ARG              16.70\n",
       "8          ARM              14.40"
      ]
     },
     "execution_count": 39,
     "metadata": {},
     "output_type": "execute_result"
    }
   ],
   "source": [
    "wb_slum = 'API_EN.POP.SLUM.UR.ZS_DS2_en_csv_v2_1221614.csv'\n",
    "slum_population = get_world_bank_data(path=f'{wb_path}/{wb_slum}',\n",
    "                                     desc='Slum Population %')\n",
    "slum_population.head()"
   ]
  },
  {
   "cell_type": "code",
   "execution_count": 40,
   "metadata": {},
   "outputs": [
    {
     "data": {
      "text/html": [
       "<div>\n",
       "<style scoped>\n",
       "    .dataframe tbody tr th:only-of-type {\n",
       "        vertical-align: middle;\n",
       "    }\n",
       "\n",
       "    .dataframe tbody tr th {\n",
       "        vertical-align: top;\n",
       "    }\n",
       "\n",
       "    .dataframe thead th {\n",
       "        text-align: right;\n",
       "    }\n",
       "</style>\n",
       "<table border=\"1\" class=\"dataframe\">\n",
       "  <thead>\n",
       "    <tr style=\"text-align: right;\">\n",
       "      <th></th>\n",
       "      <th>Country Code</th>\n",
       "      <th>Rural Population %</th>\n",
       "    </tr>\n",
       "  </thead>\n",
       "  <tbody>\n",
       "    <tr>\n",
       "      <th>0</th>\n",
       "      <td>ABW</td>\n",
       "      <td>56.45</td>\n",
       "    </tr>\n",
       "    <tr>\n",
       "      <th>1</th>\n",
       "      <td>AFG</td>\n",
       "      <td>74.25</td>\n",
       "    </tr>\n",
       "    <tr>\n",
       "      <th>2</th>\n",
       "      <td>AGO</td>\n",
       "      <td>33.82</td>\n",
       "    </tr>\n",
       "    <tr>\n",
       "      <th>3</th>\n",
       "      <td>ALB</td>\n",
       "      <td>38.77</td>\n",
       "    </tr>\n",
       "    <tr>\n",
       "      <th>4</th>\n",
       "      <td>AND</td>\n",
       "      <td>12.02</td>\n",
       "    </tr>\n",
       "  </tbody>\n",
       "</table>\n",
       "</div>"
      ],
      "text/plain": [
       "  Country Code  Rural Population %\n",
       "0          ABW               56.45\n",
       "1          AFG               74.25\n",
       "2          AGO               33.82\n",
       "3          ALB               38.77\n",
       "4          AND               12.02"
      ]
     },
     "execution_count": 40,
     "metadata": {},
     "output_type": "execute_result"
    }
   ],
   "source": [
    "wb_rur = 'API_SP.RUR.TOTL.ZS_DS2_en_csv_v2_1222914.csv'\n",
    "rural_population = get_world_bank_data(path=f'{wb_path}/{wb_rur}',\n",
    "                                     desc='Rural Population %')\n",
    "rural_population.head()"
   ]
  },
  {
   "cell_type": "code",
   "execution_count": 41,
   "metadata": {},
   "outputs": [
    {
     "data": {
      "text/html": [
       "<div>\n",
       "<style scoped>\n",
       "    .dataframe tbody tr th:only-of-type {\n",
       "        vertical-align: middle;\n",
       "    }\n",
       "\n",
       "    .dataframe tbody tr th {\n",
       "        vertical-align: top;\n",
       "    }\n",
       "\n",
       "    .dataframe thead th {\n",
       "        text-align: right;\n",
       "    }\n",
       "</style>\n",
       "<table border=\"1\" class=\"dataframe\">\n",
       "  <thead>\n",
       "    <tr style=\"text-align: right;\">\n",
       "      <th></th>\n",
       "      <th>Country Code</th>\n",
       "      <th>GDP Healthcare %</th>\n",
       "    </tr>\n",
       "  </thead>\n",
       "  <tbody>\n",
       "    <tr>\n",
       "      <th>1</th>\n",
       "      <td>AFG</td>\n",
       "      <td>11.78</td>\n",
       "    </tr>\n",
       "    <tr>\n",
       "      <th>2</th>\n",
       "      <td>AGO</td>\n",
       "      <td>2.79</td>\n",
       "    </tr>\n",
       "    <tr>\n",
       "      <th>4</th>\n",
       "      <td>AND</td>\n",
       "      <td>10.32</td>\n",
       "    </tr>\n",
       "    <tr>\n",
       "      <th>5</th>\n",
       "      <td>ARB</td>\n",
       "      <td>4.86</td>\n",
       "    </tr>\n",
       "    <tr>\n",
       "      <th>6</th>\n",
       "      <td>ARE</td>\n",
       "      <td>3.33</td>\n",
       "    </tr>\n",
       "  </tbody>\n",
       "</table>\n",
       "</div>"
      ],
      "text/plain": [
       "  Country Code  GDP Healthcare %\n",
       "1          AFG             11.78\n",
       "2          AGO              2.79\n",
       "4          AND             10.32\n",
       "5          ARB              4.86\n",
       "6          ARE              3.33"
      ]
     },
     "execution_count": 41,
     "metadata": {},
     "output_type": "execute_result"
    }
   ],
   "source": [
    "wb_hc = 'API_SH.XPD.CHEX.GD.ZS_DS2_en_csv_v2_1217782.csv'\n",
    "gdp_healthcare = get_world_bank_data(path=f'{wb_path}/{wb_hc}',\n",
    "                                     desc='GDP Healthcare %')\n",
    "gdp_healthcare.head()"
   ]
  },
  {
   "cell_type": "code",
   "execution_count": 42,
   "metadata": {},
   "outputs": [
    {
     "data": {
      "text/html": [
       "<div>\n",
       "<style scoped>\n",
       "    .dataframe tbody tr th:only-of-type {\n",
       "        vertical-align: middle;\n",
       "    }\n",
       "\n",
       "    .dataframe tbody tr th {\n",
       "        vertical-align: top;\n",
       "    }\n",
       "\n",
       "    .dataframe thead th {\n",
       "        text-align: right;\n",
       "    }\n",
       "</style>\n",
       "<table border=\"1\" class=\"dataframe\">\n",
       "  <thead>\n",
       "    <tr style=\"text-align: right;\">\n",
       "      <th></th>\n",
       "      <th>Country Code</th>\n",
       "      <th>Life Expectancy</th>\n",
       "      <th>GDP Per Capita</th>\n",
       "      <th>Population</th>\n",
       "      <th>Urban Population %</th>\n",
       "      <th>Slum Population %</th>\n",
       "      <th>Rural Population %</th>\n",
       "      <th>GDP Healthcare %</th>\n",
       "    </tr>\n",
       "  </thead>\n",
       "  <tbody>\n",
       "    <tr>\n",
       "      <th>0</th>\n",
       "      <td>ABW</td>\n",
       "      <td>76.15</td>\n",
       "      <td>38442.41</td>\n",
       "      <td>106314.0</td>\n",
       "      <td>43.55</td>\n",
       "      <td>NaN</td>\n",
       "      <td>56.45</td>\n",
       "      <td>NaN</td>\n",
       "    </tr>\n",
       "    <tr>\n",
       "      <th>1</th>\n",
       "      <td>AFG</td>\n",
       "      <td>64.49</td>\n",
       "      <td>2293.55</td>\n",
       "      <td>38041754.0</td>\n",
       "      <td>25.75</td>\n",
       "      <td>62.70</td>\n",
       "      <td>74.25</td>\n",
       "      <td>11.78</td>\n",
       "    </tr>\n",
       "    <tr>\n",
       "      <th>2</th>\n",
       "      <td>AGO</td>\n",
       "      <td>60.78</td>\n",
       "      <td>6929.68</td>\n",
       "      <td>31825295.0</td>\n",
       "      <td>66.18</td>\n",
       "      <td>55.50</td>\n",
       "      <td>33.82</td>\n",
       "      <td>2.79</td>\n",
       "    </tr>\n",
       "    <tr>\n",
       "      <th>3</th>\n",
       "      <td>ALB</td>\n",
       "      <td>78.46</td>\n",
       "      <td>14495.08</td>\n",
       "      <td>2854191.0</td>\n",
       "      <td>61.23</td>\n",
       "      <td>NaN</td>\n",
       "      <td>38.77</td>\n",
       "      <td>NaN</td>\n",
       "    </tr>\n",
       "    <tr>\n",
       "      <th>4</th>\n",
       "      <td>ARB</td>\n",
       "      <td>71.81</td>\n",
       "      <td>15216.54</td>\n",
       "      <td>427870270.0</td>\n",
       "      <td>59.20</td>\n",
       "      <td>32.52</td>\n",
       "      <td>40.80</td>\n",
       "      <td>4.86</td>\n",
       "    </tr>\n",
       "  </tbody>\n",
       "</table>\n",
       "</div>"
      ],
      "text/plain": [
       "  Country Code  Life Expectancy  GDP Per Capita   Population  \\\n",
       "0          ABW            76.15        38442.41     106314.0   \n",
       "1          AFG            64.49         2293.55   38041754.0   \n",
       "2          AGO            60.78         6929.68   31825295.0   \n",
       "3          ALB            78.46        14495.08    2854191.0   \n",
       "4          ARB            71.81        15216.54  427870270.0   \n",
       "\n",
       "   Urban Population %  Slum Population %  Rural Population %  GDP Healthcare %  \n",
       "0               43.55                NaN               56.45               NaN  \n",
       "1               25.75              62.70               74.25             11.78  \n",
       "2               66.18              55.50               33.82              2.79  \n",
       "3               61.23                NaN               38.77               NaN  \n",
       "4               59.20              32.52               40.80              4.86  "
      ]
     },
     "execution_count": 42,
     "metadata": {},
     "output_type": "execute_result"
    }
   ],
   "source": [
    "world_bank = [life_expectancy,\n",
    "              gdp_per_capita,\n",
    "              population,\n",
    "              urban_population,\n",
    "              slum_population,\n",
    "              rural_population,\n",
    "              gdp_healthcare]\n",
    "\n",
    "world_bank = reduce(lambda x, y: pd.merge(x, y, on='Country Code', how='outer'), world_bank)\n",
    "world_bank.head()"
   ]
  },
  {
   "cell_type": "code",
   "execution_count": 43,
   "metadata": {},
   "outputs": [
    {
     "data": {
      "text/plain": [
       "(263, 8)"
      ]
     },
     "execution_count": 43,
     "metadata": {},
     "output_type": "execute_result"
    }
   ],
   "source": [
    "world_bank.shape"
   ]
  },
  {
   "cell_type": "code",
   "execution_count": 44,
   "metadata": {},
   "outputs": [
    {
     "data": {
      "text/html": [
       "<div>\n",
       "<style scoped>\n",
       "    .dataframe tbody tr th:only-of-type {\n",
       "        vertical-align: middle;\n",
       "    }\n",
       "\n",
       "    .dataframe tbody tr th {\n",
       "        vertical-align: top;\n",
       "    }\n",
       "\n",
       "    .dataframe thead th {\n",
       "        text-align: right;\n",
       "    }\n",
       "</style>\n",
       "<table border=\"1\" class=\"dataframe\">\n",
       "  <thead>\n",
       "    <tr style=\"text-align: right;\">\n",
       "      <th></th>\n",
       "      <th>Column</th>\n",
       "      <th>Missing</th>\n",
       "    </tr>\n",
       "  </thead>\n",
       "  <tbody>\n",
       "    <tr>\n",
       "      <th>0</th>\n",
       "      <td>Slum Population %</td>\n",
       "      <td>124</td>\n",
       "    </tr>\n",
       "    <tr>\n",
       "      <th>1</th>\n",
       "      <td>GDP Healthcare %</td>\n",
       "      <td>29</td>\n",
       "    </tr>\n",
       "    <tr>\n",
       "      <th>2</th>\n",
       "      <td>GDP Per Capita</td>\n",
       "      <td>20</td>\n",
       "    </tr>\n",
       "    <tr>\n",
       "      <th>3</th>\n",
       "      <td>Life Expectancy</td>\n",
       "      <td>9</td>\n",
       "    </tr>\n",
       "    <tr>\n",
       "      <th>4</th>\n",
       "      <td>Urban Population %</td>\n",
       "      <td>2</td>\n",
       "    </tr>\n",
       "    <tr>\n",
       "      <th>5</th>\n",
       "      <td>Rural Population %</td>\n",
       "      <td>2</td>\n",
       "    </tr>\n",
       "  </tbody>\n",
       "</table>\n",
       "</div>"
      ],
      "text/plain": [
       "               Column  Missing\n",
       "0   Slum Population %      124\n",
       "1    GDP Healthcare %       29\n",
       "2      GDP Per Capita       20\n",
       "3     Life Expectancy        9\n",
       "4  Urban Population %        2\n",
       "5  Rural Population %        2"
      ]
     },
     "execution_count": 44,
     "metadata": {},
     "output_type": "execute_result"
    }
   ],
   "source": [
    "wb_missing = world_bank.isnull().sum(axis=0)\n",
    "wb_missing.name = 'Missing'\n",
    "wb_missing = wb_missing.to_frame()\n",
    "wb_missing = wb_missing.sort_values('Missing', ascending=False)\n",
    "wb_missing = wb_missing.reset_index()\n",
    "wb_missing = wb_missing.rename(columns={'index': 'Column'})\n",
    "wb_missing = wb_missing[wb_missing['Missing'] > 0]\n",
    "wb_missing"
   ]
  },
  {
   "cell_type": "markdown",
   "metadata": {},
   "source": [
    "## Merge world bank with COVID-19"
   ]
  },
  {
   "cell_type": "code",
   "execution_count": 45,
   "metadata": {},
   "outputs": [
    {
     "data": {
      "text/plain": [
       "['ESH', 'TWN', 'VAT']"
      ]
     },
     "execution_count": 45,
     "metadata": {},
     "output_type": "execute_result"
    }
   ],
   "source": [
    "# Check missing countries\n",
    "S1 = set(ctry_to_cont['Country Code'])\n",
    "S2 = set(world_bank['Country Code'])\n",
    "sorted(S1.difference(S2))"
   ]
  },
  {
   "cell_type": "code",
   "execution_count": 46,
   "metadata": {},
   "outputs": [
    {
     "data": {
      "text/html": [
       "<div>\n",
       "<style scoped>\n",
       "    .dataframe tbody tr th:only-of-type {\n",
       "        vertical-align: middle;\n",
       "    }\n",
       "\n",
       "    .dataframe tbody tr th {\n",
       "        vertical-align: top;\n",
       "    }\n",
       "\n",
       "    .dataframe thead th {\n",
       "        text-align: right;\n",
       "    }\n",
       "</style>\n",
       "<table border=\"1\" class=\"dataframe\">\n",
       "  <thead>\n",
       "    <tr style=\"text-align: right;\">\n",
       "      <th></th>\n",
       "      <th>Country</th>\n",
       "      <th>Lat</th>\n",
       "      <th>Long</th>\n",
       "      <th>Continent</th>\n",
       "      <th>Country Code</th>\n",
       "    </tr>\n",
       "  </thead>\n",
       "  <tbody>\n",
       "    <tr>\n",
       "      <th>181</th>\n",
       "      <td>Western Sahara</td>\n",
       "      <td>24.2155</td>\n",
       "      <td>-12.8858</td>\n",
       "      <td>Africa</td>\n",
       "      <td>ESH</td>\n",
       "    </tr>\n",
       "  </tbody>\n",
       "</table>\n",
       "</div>"
      ],
      "text/plain": [
       "            Country      Lat     Long Continent Country Code\n",
       "181  Western Sahara  24.2155 -12.8858    Africa          ESH"
      ]
     },
     "execution_count": 46,
     "metadata": {},
     "output_type": "execute_result"
    }
   ],
   "source": [
    "ctry_to_cont[ctry_to_cont['Country Code'] == 'ESH']"
   ]
  },
  {
   "cell_type": "code",
   "execution_count": 47,
   "metadata": {},
   "outputs": [
    {
     "data": {
      "text/html": [
       "<div>\n",
       "<style scoped>\n",
       "    .dataframe tbody tr th:only-of-type {\n",
       "        vertical-align: middle;\n",
       "    }\n",
       "\n",
       "    .dataframe tbody tr th {\n",
       "        vertical-align: top;\n",
       "    }\n",
       "\n",
       "    .dataframe thead th {\n",
       "        text-align: right;\n",
       "    }\n",
       "</style>\n",
       "<table border=\"1\" class=\"dataframe\">\n",
       "  <thead>\n",
       "    <tr style=\"text-align: right;\">\n",
       "      <th></th>\n",
       "      <th>Country</th>\n",
       "      <th>Lat</th>\n",
       "      <th>Long</th>\n",
       "      <th>Continent</th>\n",
       "      <th>Country Code</th>\n",
       "    </tr>\n",
       "  </thead>\n",
       "  <tbody>\n",
       "    <tr>\n",
       "      <th>162</th>\n",
       "      <td>Taiwan</td>\n",
       "      <td>23.7</td>\n",
       "      <td>121.0</td>\n",
       "      <td>Asia</td>\n",
       "      <td>TWN</td>\n",
       "    </tr>\n",
       "  </tbody>\n",
       "</table>\n",
       "</div>"
      ],
      "text/plain": [
       "    Country   Lat   Long Continent Country Code\n",
       "162  Taiwan  23.7  121.0      Asia          TWN"
      ]
     },
     "execution_count": 47,
     "metadata": {},
     "output_type": "execute_result"
    }
   ],
   "source": [
    "ctry_to_cont[ctry_to_cont['Country Code'] == 'TWN']"
   ]
  },
  {
   "cell_type": "code",
   "execution_count": 48,
   "metadata": {},
   "outputs": [
    {
     "data": {
      "text/html": [
       "<div>\n",
       "<style scoped>\n",
       "    .dataframe tbody tr th:only-of-type {\n",
       "        vertical-align: middle;\n",
       "    }\n",
       "\n",
       "    .dataframe tbody tr th {\n",
       "        vertical-align: top;\n",
       "    }\n",
       "\n",
       "    .dataframe thead th {\n",
       "        text-align: right;\n",
       "    }\n",
       "</style>\n",
       "<table border=\"1\" class=\"dataframe\">\n",
       "  <thead>\n",
       "    <tr style=\"text-align: right;\">\n",
       "      <th></th>\n",
       "      <th>Country</th>\n",
       "      <th>Lat</th>\n",
       "      <th>Long</th>\n",
       "      <th>Continent</th>\n",
       "      <th>Country Code</th>\n",
       "    </tr>\n",
       "  </thead>\n",
       "  <tbody>\n",
       "    <tr>\n",
       "      <th>73</th>\n",
       "      <td>Holy See</td>\n",
       "      <td>41.9029</td>\n",
       "      <td>12.4534</td>\n",
       "      <td>Europe</td>\n",
       "      <td>VAT</td>\n",
       "    </tr>\n",
       "  </tbody>\n",
       "</table>\n",
       "</div>"
      ],
      "text/plain": [
       "     Country      Lat     Long Continent Country Code\n",
       "73  Holy See  41.9029  12.4534    Europe          VAT"
      ]
     },
     "execution_count": 48,
     "metadata": {},
     "output_type": "execute_result"
    }
   ],
   "source": [
    "ctry_to_cont[ctry_to_cont['Country Code'] == 'VAT']"
   ]
  },
  {
   "cell_type": "code",
   "execution_count": 49,
   "metadata": {},
   "outputs": [
    {
     "data": {
      "text/plain": [
       "(268, 17)"
      ]
     },
     "execution_count": 49,
     "metadata": {},
     "output_type": "execute_result"
    }
   ],
   "source": [
    "merged = pd.merge(ctry_to_cont, country_stats, on='Country', how='outer')\n",
    "merged = pd.merge(merged, world_bank, on='Country Code', how='outer')\n",
    "merged.shape"
   ]
  },
  {
   "cell_type": "markdown",
   "metadata": {},
   "source": [
    "# Data - summary\n",
    "\n",
    "After the lengthy process of preparing the data I feel obliged to summarize in short some of the key datasets.\n",
    "\n",
    "From the original `COVID-19` data we created:\n",
    "- `conf` - Confirmed cases. Timeseries, by country.\n",
    "- `recov` - Recovered cases. Timeseries, by country.\n",
    "- `dead` - Fatal cases. Timeseries, by country.\n",
    "- `active` - Active cases. Calculation: `conf` - `recov` - `dead`. Timeseries, by country.\n",
    "- `coords` - Countries with latitude and longitude data.\n",
    "- `country_stats` - Case data summarized by country.\n",
    "\n",
    "By transforming the above we obtain:\n",
    "- `conf_diff` - Confirmed cases daily change. Calculated using the difference operator. Timeseries, by country.\n",
    "- `active_diff` - Confirmed cases daily change. Calculated using the difference operator. Timeseries, by country.\n",
    "- `recov_diff` - Recovered cases daily change. Calculated using the difference operator. Timeseries, by country.\n",
    "- `dead_diff` - Fatal cases daily change. Calculated using the difference operator. Timeseries, by country.\n",
    "- `mort` - Mortality, expressed by `dead`/`conf`. Timeseries, by country.\n",
    "\n",
    "From X we create:\n",
    "- `ctry_to_cont` - Map each country to continent.\n",
    "\n",
    "Using the data above and data from the World Bank we create:\n",
    "- `world_bank` - Combines all the data from the World Bank.\n",
    "- `merged` - Combines COVID-19 summary statistics, continents, gdp and population data.\n",
    "\n",
    "The `COVID-19` data used in this notebook starts on:"
   ]
  },
  {
   "cell_type": "code",
   "execution_count": 50,
   "metadata": {},
   "outputs": [
    {
     "data": {
      "text/plain": [
       "'2020-01-22'"
      ]
     },
     "execution_count": 50,
     "metadata": {},
     "output_type": "execute_result"
    }
   ],
   "source": [
    "str(conf['Date'].min().date())"
   ]
  },
  {
   "cell_type": "markdown",
   "metadata": {},
   "source": [
    "and ends on:"
   ]
  },
  {
   "cell_type": "code",
   "execution_count": 51,
   "metadata": {},
   "outputs": [
    {
     "data": {
      "text/plain": [
       "'2020-09-07'"
      ]
     },
     "execution_count": 51,
     "metadata": {},
     "output_type": "execute_result"
    }
   ],
   "source": [
    "str(conf['Date'].max().date())"
   ]
  },
  {
   "cell_type": "markdown",
   "metadata": {},
   "source": [
    "# COVID19 - Globally\n",
    "\n",
    "First we plot the total number of cases around the world."
   ]
  },
  {
   "cell_type": "code",
   "execution_count": 52,
   "metadata": {},
   "outputs": [],
   "source": [
    "all_countries = sorted(set(coords['Country']))\n",
    "dataframes = [conf, recov, dead, active]\n",
    "names = ['Confirmed cases',\n",
    "         'Recovered cases',\n",
    "         'Fatal cases',\n",
    "         'Active cases']"
   ]
  },
  {
   "cell_type": "code",
   "execution_count": 53,
   "metadata": {},
   "outputs": [
    {
     "data": {
      "image/png": "[encoded data removed]",
      "text/plain": [
       "<Figure size 648x360 with 1 Axes>"
      ]
     },
     "metadata": {
      "needs_background": "light"
     },
     "output_type": "display_data"
    }
   ],
   "source": [
    "for name,df in zip(names, dataframes):\n",
    "    plt.plot(df['Date'],\n",
    "             np.log(df.drop('Date', axis=1).sum(axis=1)),\n",
    "             label=name)\n",
    "plt.ylabel('Cases, Log scale')\n",
    "plt.legend(loc='best')\n",
    "plt.xticks(rotation=90)\n",
    "plt.tight_layout()\n",
    "plt.show()"
   ]
  },
  {
   "cell_type": "markdown",
   "metadata": {},
   "source": [
    "# COVID19 - By continent\n",
    "\n",
    "We drill down further into the data visualizing cases data at the continent level."
   ]
  },
  {
   "cell_type": "code",
   "execution_count": 54,
   "metadata": {},
   "outputs": [],
   "source": [
    "def continent_plot(df, name):\n",
    "    \"\"\"\n",
    "    \n",
    "    Plot cases over time by continent.\n",
    "    \n",
    "    \"\"\"\n",
    "    \n",
    "    continents = set(ctry_to_cont['Continent'])\n",
    "    for cont in continents:\n",
    "\n",
    "        C = ctry_to_cont[ctry_to_cont['Continent'] == cont]\n",
    "        C = C['Country'].to_list()\n",
    "\n",
    "        plt.plot(df['Date'], df[C].sum(axis=1), label=cont)\n",
    "\n",
    "    plt.legend(loc='best')\n",
    "    plt.title(f'{name}')\n",
    "    plt.ylabel('Cases, log scale')\n",
    "    plt.tight_layout()\n",
    "    plt.show()    "
   ]
  },
  {
   "cell_type": "code",
   "execution_count": 55,
   "metadata": {},
   "outputs": [
    {
     "data": {
      "image/png": "[encoded data removed]",
      "text/plain": [
       "<Figure size 648x360 with 1 Axes>"
      ]
     },
     "metadata": {
      "needs_background": "light"
     },
     "output_type": "display_data"
    }
   ],
   "source": [
    "for name,df in zip(names, dataframes):\n",
    "    continent_plot(df=df, name=name)  \n",
    "    break"
   ]
  },
  {
   "cell_type": "markdown",
   "metadata": {},
   "source": [
    "# COVID - Country level\n",
    "\n",
    "Finally we can take a look at the data on a country level. First we show the countries with the most cases."
   ]
  },
  {
   "cell_type": "code",
   "execution_count": 56,
   "metadata": {},
   "outputs": [],
   "source": [
    "def sorted_bar_plot(df, name, n=10):\n",
    "    \"\"\"\n",
    "    \n",
    "    Bar plot of countries with the most cases\n",
    "    of a certain type.\n",
    "    \n",
    "    \"\"\"\n",
    "        \n",
    "    df = df.sum()\n",
    "    df.name = name\n",
    "    df = df.to_frame()\n",
    "    df = df.sort_values(name, ascending=False)\n",
    "    df = df.reset_index()\n",
    "    df = df.rename(columns={'index': 'Country'})\n",
    "    df = df.head(n)\n",
    "\n",
    "    plt.bar(df['Country'], df[name])\n",
    "    plt.xticks(rotation=90)\n",
    "    plt.title(f'{name}')\n",
    "    plt.ylabel('Cases, log scale')\n",
    "    plt.tight_layout()\n",
    "    plt.show()    "
   ]
  },
  {
   "cell_type": "code",
   "execution_count": 57,
   "metadata": {
    "scrolled": false
   },
   "outputs": [
    {
     "data": {
      "image/png": "[encoded data removed]",
      "text/plain": [
       "<Figure size 648x360 with 1 Axes>"
      ]
     },
     "metadata": {
      "needs_background": "light"
     },
     "output_type": "display_data"
    }
   ],
   "source": [
    "for name,df in zip(names, dataframes):\n",
    "    sorted_bar_plot(df=df, name=name) \n",
    "    break"
   ]
  },
  {
   "cell_type": "markdown",
   "metadata": {},
   "source": [
    "Then we show countries with the highest mortality rate."
   ]
  },
  {
   "cell_type": "code",
   "execution_count": 58,
   "metadata": {},
   "outputs": [
    {
     "data": {
      "image/png": "[encoded data removed]",
      "text/plain": [
       "<Figure size 648x360 with 1 Axes>"
      ]
     },
     "metadata": {
      "needs_background": "light"
     },
     "output_type": "display_data"
    }
   ],
   "source": [
    "high_mort = country_stats[['Country', 'Mortality']]\n",
    "high_mort = high_mort.sort_values('Mortality', ascending=False)\n",
    "high_mort = high_mort.reset_index(drop=True)\n",
    "high_mort.columns = ['Country', 'Mortality Rate']\n",
    "high_mort = high_mort.head(10)\n",
    "\n",
    "plt.bar(high_mort['Country'], height=high_mort['Mortality Rate'])\n",
    "plt.xticks(rotation=90)\n",
    "plt.ylabel('Moratlity rate (%)')\n",
    "plt.title('Countries with highest mortality rate')\n",
    "plt.tight_layout()\n",
    "plt.show()"
   ]
  },
  {
   "cell_type": "code",
   "execution_count": 59,
   "metadata": {},
   "outputs": [],
   "source": [
    "def country_plot_cases(country):\n",
    "    \"\"\"\n",
    "    \n",
    "    Plot country level cases data.\n",
    "    \n",
    "    \"\"\"\n",
    "    \n",
    "    names = ['Confirmed', 'Recovered', 'Fatal', 'Active']\n",
    "    dataframes= [conf, recov, dead, active]    \n",
    "    \n",
    "    df = get_country_ts(country=country,\n",
    "                        dataframes=dataframes,\n",
    "                        columns=names)\n",
    "    \n",
    "    df = df[df['Confirmed'] > 0]\n",
    "    \n",
    "    plt.plot(df['Date'], df['Confirmed'], label=names[0])\n",
    "    plt.plot(df['Date'], df['Recovered'], label=names[1])\n",
    "    plt.plot(df['Date'], df['Fatal'], label=names[2])\n",
    "    plt.plot(df['Date'], df['Active'], label=names[3])    \n",
    "    \n",
    "    plt.title(f'{country}')\n",
    "    plt.ylabel('Cases')\n",
    "    plt.legend(loc='best')\n",
    "    plt.tight_layout()\n",
    "    plt.show()      "
   ]
  },
  {
   "cell_type": "markdown",
   "metadata": {},
   "source": [
    "We can inspect the data for specific countries."
   ]
  },
  {
   "cell_type": "code",
   "execution_count": 60,
   "metadata": {},
   "outputs": [
    {
     "data": {
      "image/png": "[encoded data removed]",
      "text/plain": [
       "<Figure size 648x360 with 1 Axes>"
      ]
     },
     "metadata": {
      "needs_background": "light"
     },
     "output_type": "display_data"
    }
   ],
   "source": [
    "country_plot_cases(country='Germany')"
   ]
  },
  {
   "cell_type": "markdown",
   "metadata": {},
   "source": [
    "We plot the daily increase in cases for specific countries."
   ]
  },
  {
   "cell_type": "code",
   "execution_count": 61,
   "metadata": {},
   "outputs": [],
   "source": [
    "def country_plot_chg(country, n=7):\n",
    "    \"\"\"\n",
    "    \n",
    "    Plot country level change in cases with\n",
    "    n day moving average.\n",
    "    \n",
    "    \"\"\"\n",
    "    names = ['Confirmed Chg']\n",
    "    dataframes= [conf_diff]        \n",
    "    \n",
    "    df = get_country_ts(country=country, dataframes=dataframes, columns=names)\n",
    "    df = df.rename(columns={'Confirmed Chg': 'New cases'})\n",
    "    \n",
    "    plt.plot(df['Date'], df['New cases'],\n",
    "             label='New cases', alpha=1/2)\n",
    "    \n",
    "    plt.fill_between(df['Date'], y1=0, y2=df['New cases'], alpha=1/4)\n",
    "    \n",
    "    plt.plot(df['Date'], df['New cases'].rolling(n).mean(), \n",
    "             label=f'{n} day average', c='black')    \n",
    "    \n",
    "    plt.title(f'{country} - daily new cases')\n",
    "    plt.ylabel('Cases')\n",
    "    plt.legend(loc='best')\n",
    "    plt.tight_layout()\n",
    "    plt.show()  "
   ]
  },
  {
   "cell_type": "code",
   "execution_count": 62,
   "metadata": {},
   "outputs": [
    {
     "data": {
      "image/png": "[encoded data removed]",
      "text/plain": [
       "<Figure size 648x360 with 1 Axes>"
      ]
     },
     "metadata": {
      "needs_background": "light"
     },
     "output_type": "display_data"
    }
   ],
   "source": [
    "country_plot_chg(country='Brazil')        "
   ]
  },
  {
   "cell_type": "markdown",
   "metadata": {},
   "source": [
    "# Exponential growth\n",
    "\n",
    "We proceed to visualize the early days of the pandemic. In most cases the growth was exponential as will be seen.\n",
    "First we create define a function to calculate exponential growth. Secondly we create dataset of timeseries reindexed to begin at the point in time `t0` defined as the first day where a country reported more than a hundred confirmed cases. Then we plot the data."
   ]
  },
  {
   "cell_type": "code",
   "execution_count": 63,
   "metadata": {},
   "outputs": [],
   "source": [
    "def exp_growth(a, b, t, tau):\n",
    "    \"\"\"\n",
    "    \n",
    "    Calculate exponential growth.\n",
    "    \n",
    "    Parameters\n",
    "    ----------\n",
    "    a : int\n",
    "        Initial value.\n",
    "    b : int\n",
    "        Growth factor.\n",
    "    t : int \n",
    "        Time.\n",
    "    tau : int\n",
    "        Time required for increase by factor of b.\n",
    "        \n",
    "    Notes\n",
    "    -----\n",
    "    See https://en.wikipedia.org/wiki/Exponential_growth \n",
    "    for details.\n",
    "    \n",
    "    \"\"\"\n",
    "    \n",
    "    return a * np.power(b, t / tau) "
   ]
  },
  {
   "cell_type": "code",
   "execution_count": 64,
   "metadata": {
    "scrolled": false
   },
   "outputs": [],
   "source": [
    "conf_t0 = list()\n",
    "for country in all_countries:\n",
    "    t0 = get_country_ts(country=country, dataframes=[conf], columns=['Confirmed'])\n",
    "    t0 = t0.loc[t0['Confirmed'] >= 100]\n",
    "    t0 = t0.loc[:, ['Confirmed']]\n",
    "    t0 = t0.reset_index(drop=True)\n",
    "    conf_t0.append(t0)\n",
    "    \n",
    "conf_t0 = reduce(lambda x, y: pd.merge(x, y, left_index=True, \n",
    "                                       right_index=True, how='outer'), \n",
    "                 conf_t0)    \n",
    "conf_t0.columns = all_countries\n",
    "conf_t0 = conf_t0.head(100)\n",
    "max_cases = max(conf_t0.max())"
   ]
  },
  {
   "cell_type": "code",
   "execution_count": 65,
   "metadata": {},
   "outputs": [],
   "source": [
    "def growth_plot(df, countries, periods, steps=50):\n",
    "    \"\"\"\n",
    "    \n",
    "    Plot growth curves, log scale.\n",
    "    \n",
    "    Inputs\n",
    "    ------\n",
    "    df :\n",
    "        `conf_t0` dataframe that contains confirmed\n",
    "        cases reindexed to start with the date a \n",
    "        country had  >= 100 cases.\n",
    "    countries : list\n",
    "        List of countries\n",
    "    periods : list of ints\n",
    "        Doubling periods for growth curves.\n",
    "    steps : int\n",
    "        Number of data points to use.\n",
    "    \n",
    "    \"\"\"\n",
    "    \n",
    "    countries = sorted(countries)\n",
    "    \n",
    "    # Extract mean and use as starting point for \n",
    "    # exponential growth curves.\n",
    "    a = df.mean(axis=1)[0]\n",
    "    b = 2\n",
    "\n",
    "    # List of growth curves\n",
    "    growth = list()\n",
    "    for period in periods:\n",
    "        g = exp_growth(a=a, \n",
    "                       b=b, \n",
    "                       t=np.arange(steps), \n",
    "                       tau=period)\n",
    "        g = np.log(g)\n",
    "        growth.append(list(g))\n",
    "\n",
    "    for g,p in zip(growth, periods):\n",
    "\n",
    "        # Draw growth curves\n",
    "        plt.plot(range(steps), g, \n",
    "                 c='black', \n",
    "                 linestyle='dashed', \n",
    "                 alpha=1/2)\n",
    "\n",
    "        if p == 1:\n",
    "            s = f'Double every day'\n",
    "        else:\n",
    "            s = f'Double every {str(p)} days'       \n",
    "\n",
    "        # Draw text outside\n",
    "        plt.text(x=steps,\n",
    "                 y=g[steps - 1],\n",
    "                 s=s, \n",
    "                 alpha=3/4, \n",
    "                 horizontalalignment='left',\n",
    "                 verticalalignment='center',\n",
    "                 rotation_mode='anchor')\n",
    "\n",
    "    # Draw country level data\n",
    "    plot_df = conf_t0[countries].head(steps)\n",
    "    for c in countries:\n",
    "        plt.plot(range(len(plot_df)), np.log(plot_df[c]), label=c)\n",
    "\n",
    "    plt.xlim(0, steps-1)\n",
    "    plt.legend(loc='best')\n",
    "    plt.ylabel('Confirmed cases, log scale')\n",
    "    plt.xlabel('Days since 100 cases')\n",
    "    plt.tight_layout()\n",
    "    plt.show()"
   ]
  },
  {
   "cell_type": "code",
   "execution_count": 66,
   "metadata": {},
   "outputs": [
    {
     "data": {
      "image/png": "[encoded data removed]",
      "text/plain": [
       "<Figure size 648x360 with 1 Axes>"
      ]
     },
     "metadata": {
      "needs_background": "light"
     },
     "output_type": "display_data"
    }
   ],
   "source": [
    "growth_plot(df=conf_t0, \n",
    "            countries=['US', 'Russia', 'Germany', 'France'], \n",
    "            periods=[2, 4, 8], \n",
    "            steps=50)"
   ]
  },
  {
   "cell_type": "markdown",
   "metadata": {},
   "source": [
    "# Economic data\n",
    "\n",
    "We proceed to visually inspect the relationship between the `COVID-19` dataset and data downloaded from the World Bank. Given that the `Population` column varies wildy we choose a different metric to make comparisons."
   ]
  },
  {
   "cell_type": "code",
   "execution_count": 67,
   "metadata": {},
   "outputs": [],
   "source": [
    "figsize = (5, 5)"
   ]
  },
  {
   "cell_type": "code",
   "execution_count": 68,
   "metadata": {},
   "outputs": [
    {
     "data": {
      "text/html": [
       "<div>\n",
       "<style scoped>\n",
       "    .dataframe tbody tr th:only-of-type {\n",
       "        vertical-align: middle;\n",
       "    }\n",
       "\n",
       "    .dataframe tbody tr th {\n",
       "        vertical-align: top;\n",
       "    }\n",
       "\n",
       "    .dataframe thead th {\n",
       "        text-align: right;\n",
       "    }\n",
       "</style>\n",
       "<table border=\"1\" class=\"dataframe\">\n",
       "  <thead>\n",
       "    <tr style=\"text-align: right;\">\n",
       "      <th></th>\n",
       "      <th>Country</th>\n",
       "      <th>Confirmed</th>\n",
       "      <th>Recovered</th>\n",
       "      <th>Deaths</th>\n",
       "      <th>Active</th>\n",
       "      <th>Mortality</th>\n",
       "      <th>Life Expectancy</th>\n",
       "      <th>GDP Per Capita</th>\n",
       "      <th>Population</th>\n",
       "      <th>Urban Population %</th>\n",
       "      <th>Slum Population %</th>\n",
       "      <th>Rural Population %</th>\n",
       "      <th>GDP Healthcare %</th>\n",
       "      <th>Cases Per Milion</th>\n",
       "      <th>Deaths Per Milion</th>\n",
       "    </tr>\n",
       "  </thead>\n",
       "  <tbody>\n",
       "    <tr>\n",
       "      <th>0</th>\n",
       "      <td>Afghanistan</td>\n",
       "      <td>38494.0</td>\n",
       "      <td>30557.0</td>\n",
       "      <td>1415.0</td>\n",
       "      <td>6522.0</td>\n",
       "      <td>3.68</td>\n",
       "      <td>64.49</td>\n",
       "      <td>2293.55</td>\n",
       "      <td>38041754.0</td>\n",
       "      <td>25.75</td>\n",
       "      <td>62.7</td>\n",
       "      <td>74.25</td>\n",
       "      <td>11.78</td>\n",
       "      <td>1011.89</td>\n",
       "      <td>37.20</td>\n",
       "    </tr>\n",
       "    <tr>\n",
       "      <th>1</th>\n",
       "      <td>Albania</td>\n",
       "      <td>10406.0</td>\n",
       "      <td>6186.0</td>\n",
       "      <td>319.0</td>\n",
       "      <td>3901.0</td>\n",
       "      <td>3.07</td>\n",
       "      <td>78.46</td>\n",
       "      <td>14495.08</td>\n",
       "      <td>2854191.0</td>\n",
       "      <td>61.23</td>\n",
       "      <td>NaN</td>\n",
       "      <td>38.77</td>\n",
       "      <td>NaN</td>\n",
       "      <td>3645.87</td>\n",
       "      <td>111.77</td>\n",
       "    </tr>\n",
       "    <tr>\n",
       "      <th>2</th>\n",
       "      <td>Algeria</td>\n",
       "      <td>46653.0</td>\n",
       "      <td>32985.0</td>\n",
       "      <td>1562.0</td>\n",
       "      <td>12106.0</td>\n",
       "      <td>3.35</td>\n",
       "      <td>76.69</td>\n",
       "      <td>11820.09</td>\n",
       "      <td>43053054.0</td>\n",
       "      <td>73.19</td>\n",
       "      <td>11.8</td>\n",
       "      <td>26.81</td>\n",
       "      <td>6.37</td>\n",
       "      <td>1083.62</td>\n",
       "      <td>36.28</td>\n",
       "    </tr>\n",
       "    <tr>\n",
       "      <th>3</th>\n",
       "      <td>Andorra</td>\n",
       "      <td>1261.0</td>\n",
       "      <td>934.0</td>\n",
       "      <td>53.0</td>\n",
       "      <td>274.0</td>\n",
       "      <td>4.20</td>\n",
       "      <td>NaN</td>\n",
       "      <td>NaN</td>\n",
       "      <td>77142.0</td>\n",
       "      <td>87.98</td>\n",
       "      <td>NaN</td>\n",
       "      <td>12.02</td>\n",
       "      <td>10.32</td>\n",
       "      <td>16346.48</td>\n",
       "      <td>687.04</td>\n",
       "    </tr>\n",
       "    <tr>\n",
       "      <th>4</th>\n",
       "      <td>Angola</td>\n",
       "      <td>2981.0</td>\n",
       "      <td>1215.0</td>\n",
       "      <td>120.0</td>\n",
       "      <td>1646.0</td>\n",
       "      <td>4.03</td>\n",
       "      <td>60.78</td>\n",
       "      <td>6929.68</td>\n",
       "      <td>31825295.0</td>\n",
       "      <td>66.18</td>\n",
       "      <td>55.5</td>\n",
       "      <td>33.82</td>\n",
       "      <td>2.79</td>\n",
       "      <td>93.67</td>\n",
       "      <td>3.77</td>\n",
       "    </tr>\n",
       "  </tbody>\n",
       "</table>\n",
       "</div>"
      ],
      "text/plain": [
       "       Country  Confirmed  Recovered  Deaths   Active  Mortality  \\\n",
       "0  Afghanistan    38494.0    30557.0  1415.0   6522.0       3.68   \n",
       "1      Albania    10406.0     6186.0   319.0   3901.0       3.07   \n",
       "2      Algeria    46653.0    32985.0  1562.0  12106.0       3.35   \n",
       "3      Andorra     1261.0      934.0    53.0    274.0       4.20   \n",
       "4       Angola     2981.0     1215.0   120.0   1646.0       4.03   \n",
       "\n",
       "   Life Expectancy  GDP Per Capita  Population  Urban Population %  \\\n",
       "0            64.49         2293.55  38041754.0               25.75   \n",
       "1            78.46        14495.08   2854191.0               61.23   \n",
       "2            76.69        11820.09  43053054.0               73.19   \n",
       "3              NaN             NaN     77142.0               87.98   \n",
       "4            60.78         6929.68  31825295.0               66.18   \n",
       "\n",
       "   Slum Population %  Rural Population %  GDP Healthcare %  Cases Per Milion  \\\n",
       "0               62.7               74.25             11.78           1011.89   \n",
       "1                NaN               38.77               NaN           3645.87   \n",
       "2               11.8               26.81              6.37           1083.62   \n",
       "3                NaN               12.02             10.32          16346.48   \n",
       "4               55.5               33.82              2.79             93.67   \n",
       "\n",
       "   Deaths Per Milion  \n",
       "0              37.20  \n",
       "1             111.77  \n",
       "2              36.28  \n",
       "3             687.04  \n",
       "4               3.77  "
      ]
     },
     "execution_count": 68,
     "metadata": {},
     "output_type": "execute_result"
    }
   ],
   "source": [
    "economic = merged.copy()\n",
    "\n",
    "economic['Cases Per Milion'] = economic['Confirmed'] / (economic['Population'] /  10**6)\n",
    "economic['Cases Per Milion'] = economic['Cases Per Milion'].round(2)\n",
    "\n",
    "economic['Deaths Per Milion'] = economic['Deaths'] / (economic['Population'] /  10**6)\n",
    "economic['Deaths Per Milion'] = economic['Deaths Per Milion'].round(2)\n",
    "\n",
    "economic = economic.drop(['Lat', 'Long', 'Country Code', 'Continent'], axis=1)\n",
    "economic.head()"
   ]
  },
  {
   "cell_type": "code",
   "execution_count": 69,
   "metadata": {},
   "outputs": [
    {
     "data": {
      "text/html": [
       "<div>\n",
       "<style scoped>\n",
       "    .dataframe tbody tr th:only-of-type {\n",
       "        vertical-align: middle;\n",
       "    }\n",
       "\n",
       "    .dataframe tbody tr th {\n",
       "        vertical-align: top;\n",
       "    }\n",
       "\n",
       "    .dataframe thead th {\n",
       "        text-align: right;\n",
       "    }\n",
       "</style>\n",
       "<table border=\"1\" class=\"dataframe\">\n",
       "  <thead>\n",
       "    <tr style=\"text-align: right;\">\n",
       "      <th></th>\n",
       "      <th>Country</th>\n",
       "      <th>Confirmed</th>\n",
       "      <th>Recovered</th>\n",
       "      <th>Deaths</th>\n",
       "      <th>Active</th>\n",
       "      <th>Mortality</th>\n",
       "      <th>Life Expectancy</th>\n",
       "      <th>GDP Per Capita</th>\n",
       "      <th>Population</th>\n",
       "      <th>Urban Population %</th>\n",
       "      <th>Slum Population %</th>\n",
       "      <th>Rural Population %</th>\n",
       "      <th>GDP Healthcare %</th>\n",
       "      <th>Cases Per Milion</th>\n",
       "      <th>Deaths Per Milion</th>\n",
       "    </tr>\n",
       "  </thead>\n",
       "  <tbody>\n",
       "    <tr>\n",
       "      <th>180</th>\n",
       "      <td>Yemen</td>\n",
       "      <td>1989.0</td>\n",
       "      <td>1201.0</td>\n",
       "      <td>573.0</td>\n",
       "      <td>215.0</td>\n",
       "      <td>28.81</td>\n",
       "      <td>66.10</td>\n",
       "      <td>3688.52</td>\n",
       "      <td>29161922.0</td>\n",
       "      <td>37.27</td>\n",
       "      <td>60.8</td>\n",
       "      <td>62.73</td>\n",
       "      <td>4.23</td>\n",
       "      <td>68.21</td>\n",
       "      <td>19.65</td>\n",
       "    </tr>\n",
       "    <tr>\n",
       "      <th>83</th>\n",
       "      <td>Italy</td>\n",
       "      <td>278784.0</td>\n",
       "      <td>210238.0</td>\n",
       "      <td>35553.0</td>\n",
       "      <td>32993.0</td>\n",
       "      <td>12.75</td>\n",
       "      <td>83.35</td>\n",
       "      <td>44196.69</td>\n",
       "      <td>60297396.0</td>\n",
       "      <td>70.74</td>\n",
       "      <td>NaN</td>\n",
       "      <td>29.26</td>\n",
       "      <td>8.84</td>\n",
       "      <td>4623.48</td>\n",
       "      <td>589.63</td>\n",
       "    </tr>\n",
       "    <tr>\n",
       "      <th>174</th>\n",
       "      <td>United Kingdom</td>\n",
       "      <td>352451.0</td>\n",
       "      <td>1824.0</td>\n",
       "      <td>41643.0</td>\n",
       "      <td>308984.0</td>\n",
       "      <td>11.82</td>\n",
       "      <td>81.26</td>\n",
       "      <td>48709.70</td>\n",
       "      <td>66834405.0</td>\n",
       "      <td>83.65</td>\n",
       "      <td>NaN</td>\n",
       "      <td>16.35</td>\n",
       "      <td>9.63</td>\n",
       "      <td>5273.50</td>\n",
       "      <td>623.08</td>\n",
       "    </tr>\n",
       "    <tr>\n",
       "      <th>16</th>\n",
       "      <td>Belgium</td>\n",
       "      <td>88769.0</td>\n",
       "      <td>18576.0</td>\n",
       "      <td>9909.0</td>\n",
       "      <td>60284.0</td>\n",
       "      <td>11.16</td>\n",
       "      <td>81.60</td>\n",
       "      <td>54545.15</td>\n",
       "      <td>11484055.0</td>\n",
       "      <td>98.04</td>\n",
       "      <td>NaN</td>\n",
       "      <td>1.96</td>\n",
       "      <td>10.34</td>\n",
       "      <td>7729.76</td>\n",
       "      <td>862.85</td>\n",
       "    </tr>\n",
       "    <tr>\n",
       "      <th>110</th>\n",
       "      <td>Mexico</td>\n",
       "      <td>637509.0</td>\n",
       "      <td>531334.0</td>\n",
       "      <td>67781.0</td>\n",
       "      <td>38394.0</td>\n",
       "      <td>10.63</td>\n",
       "      <td>74.99</td>\n",
       "      <td>20410.71</td>\n",
       "      <td>127575529.0</td>\n",
       "      <td>80.44</td>\n",
       "      <td>11.1</td>\n",
       "      <td>19.56</td>\n",
       "      <td>5.52</td>\n",
       "      <td>4997.11</td>\n",
       "      <td>531.30</td>\n",
       "    </tr>\n",
       "  </tbody>\n",
       "</table>\n",
       "</div>"
      ],
      "text/plain": [
       "            Country  Confirmed  Recovered   Deaths    Active  Mortality  \\\n",
       "180           Yemen     1989.0     1201.0    573.0     215.0      28.81   \n",
       "83            Italy   278784.0   210238.0  35553.0   32993.0      12.75   \n",
       "174  United Kingdom   352451.0     1824.0  41643.0  308984.0      11.82   \n",
       "16          Belgium    88769.0    18576.0   9909.0   60284.0      11.16   \n",
       "110          Mexico   637509.0   531334.0  67781.0   38394.0      10.63   \n",
       "\n",
       "     Life Expectancy  GDP Per Capita   Population  Urban Population %  \\\n",
       "180            66.10         3688.52   29161922.0               37.27   \n",
       "83             83.35        44196.69   60297396.0               70.74   \n",
       "174            81.26        48709.70   66834405.0               83.65   \n",
       "16             81.60        54545.15   11484055.0               98.04   \n",
       "110            74.99        20410.71  127575529.0               80.44   \n",
       "\n",
       "     Slum Population %  Rural Population %  GDP Healthcare %  \\\n",
       "180               60.8               62.73              4.23   \n",
       "83                 NaN               29.26              8.84   \n",
       "174                NaN               16.35              9.63   \n",
       "16                 NaN                1.96             10.34   \n",
       "110               11.1               19.56              5.52   \n",
       "\n",
       "     Cases Per Milion  Deaths Per Milion  \n",
       "180             68.21              19.65  \n",
       "83            4623.48             589.63  \n",
       "174           5273.50             623.08  \n",
       "16            7729.76             862.85  \n",
       "110           4997.11             531.30  "
      ]
     },
     "execution_count": 69,
     "metadata": {},
     "output_type": "execute_result"
    }
   ],
   "source": [
    "economic.sort_values('Mortality', ascending=False).head()"
   ]
  },
  {
   "cell_type": "markdown",
   "metadata": {},
   "source": [
    "## GDP Healthcare\n",
    "We compare the percentage of gdp spent on healthcare with cases per milion."
   ]
  },
  {
   "cell_type": "code",
   "execution_count": 70,
   "metadata": {},
   "outputs": [
    {
     "data": {
      "image/png": "[encoded data removed]",
      "text/plain": [
       "<Figure size 360x360 with 1 Axes>"
      ]
     },
     "metadata": {
      "needs_background": "light"
     },
     "output_type": "display_data"
    }
   ],
   "source": [
    "cols = ['Cases Per Milion', 'Deaths Per Milion']\n",
    "\n",
    "for col in cols:\n",
    "    plt.figure(figsize=figsize)\n",
    "    plt.scatter(economic['GDP Healthcare %'], economic[col], s=2)\n",
    "    plt.xlabel('GDP Healthcare %')\n",
    "    plt.ylabel(f'{col}')\n",
    "    plt.tight_layout()\n",
    "    plt.show()\n",
    "    break"
   ]
  },
  {
   "cell_type": "markdown",
   "metadata": {},
   "source": [
    "## Population\n",
    "\n",
    "We compare the proportion of people living in different areas to the mortality rate."
   ]
  },
  {
   "cell_type": "code",
   "execution_count": 71,
   "metadata": {
    "scrolled": false
   },
   "outputs": [
    {
     "data": {
      "image/png": "[encoded data removed]",
      "text/plain": [
       "<Figure size 360x360 with 1 Axes>"
      ]
     },
     "metadata": {
      "needs_background": "light"
     },
     "output_type": "display_data"
    }
   ],
   "source": [
    "cols = ['Urban Population %', \n",
    "        'Rural Population %', \n",
    "        'Slum Population %']\n",
    "\n",
    "for col in cols:\n",
    "    plt.figure(figsize=figsize)\n",
    "    plt.scatter(economic[col], economic['Mortality'], s=2)\n",
    "    plt.ylabel('Mortality %')\n",
    "    plt.xlabel(f'{col}')\n",
    "    plt.tight_layout()\n",
    "    plt.show()\n",
    "    break    "
   ]
  },
  {
   "cell_type": "markdown",
   "metadata": {},
   "source": [
    "## GDP & Healthcare\n",
    "We compare life expectancy, healthcare spending and gdp per capita to the mortality rate."
   ]
  },
  {
   "cell_type": "code",
   "execution_count": 72,
   "metadata": {},
   "outputs": [
    {
     "data": {
      "image/png": "[encoded data removed]",
      "text/plain": [
       "<Figure size 360x360 with 1 Axes>"
      ]
     },
     "metadata": {
      "needs_background": "light"
     },
     "output_type": "display_data"
    }
   ],
   "source": [
    "cols = ['Life Expectancy', 'GDP Healthcare %', 'GDP Per Capita']\n",
    "\n",
    "for col in cols:\n",
    "    plt.figure(figsize=figsize)\n",
    "    plt.scatter(economic[col], economic['Mortality'], s=2)\n",
    "    plt.ylabel('Mortality %')\n",
    "    plt.xlabel(f'{col}')\n",
    "    plt.tight_layout()\n",
    "    plt.show()\n",
    "    break    "
   ]
  },
  {
   "cell_type": "markdown",
   "metadata": {},
   "source": [
    "# Fancy plot\n",
    "\n",
    "Visual for repo readme."
   ]
  },
  {
   "cell_type": "code",
   "execution_count": 84,
   "metadata": {},
   "outputs": [],
   "source": [
    "X = pd.to_datetime('2010-10-30').date()"
   ]
  },
  {
   "cell_type": "code",
   "execution_count": 91,
   "metadata": {},
   "outputs": [
    {
     "data": {
      "text/plain": [
       "'2010-10'"
      ]
     },
     "execution_count": 91,
     "metadata": {},
     "output_type": "execute_result"
    }
   ],
   "source": []
  },
  {
   "cell_type": "code",
   "execution_count": 92,
   "metadata": {},
   "outputs": [
    {
     "data": {
      "image/png": "[encoded data removed]",
      "text/plain": [
       "<Figure size 576x288 with 2 Axes>"
      ]
     },
     "metadata": {
      "needs_background": "light"
     },
     "output_type": "display_data"
    }
   ],
   "source": [
    "countries = ['Germany', \n",
    "             'France', \n",
    "             'Italy', \n",
    "             'Spain', \n",
    "             'United Kingdom', \n",
    "             'Russia', \n",
    "             'India', \n",
    "             'Brazil',\n",
    "             'US', \n",
    "             'Poland', \n",
    "             'Mexico']\n",
    "\n",
    "width = 1600\n",
    "height = width / 2\n",
    "dpi = 200\n",
    "period = 7\n",
    "step = 30\n",
    "label_size = 12\n",
    "n_clabels = 6\n",
    "\n",
    "countries = sorted(countries)\n",
    "\n",
    "plot_df = conf_diff[countries]\n",
    "plot_df = plot_df.rename(columns={'United Kingdom': 'UK'})\n",
    "countries = plot_df.columns.to_list()\n",
    "plot_df = plot_df.rolling(period)\n",
    "plot_df = plot_df.mean()\n",
    "plot_df = plot_df.dropna()\n",
    "plot_df = plot_df.to_numpy()\n",
    "plot_df = plot_df.astype(float)\n",
    "plot_df = plot_df.transpose()\n",
    "plot_df = np.sqrt(plot_df)\n",
    "\n",
    "xticks = range(plot_df.shape[1])[::step]\n",
    "xlabels = list(conf_diff['Date'])[period:]\n",
    "xlabels = [x.strftime(format='%Y-%m') for x in xlabels]\n",
    "# xlabels = [x.date() for x in xlabels]\n",
    "xlabels = xlabels[::step]\n",
    "\n",
    "yticks = range(len(countries))\n",
    "ylabels = countries\n",
    "\n",
    "cticks = np.round(np.linspace(0, np.max(plot_df), 6), -1)\n",
    "cticks = cticks.astype(np.int)\n",
    "clabels = np.power(cticks, 2)\n",
    "cticks = sorted(set(cticks))\n",
    "clabels = np.power(cticks, 2)\n",
    "clabels = [int((round(x, -3))/1000) for x in clabels]\n",
    "clabels = [str(x)+'k' for x in clabels]\n",
    "# clabels = list(map(str, clabels))\n",
    "\n",
    "plt.figure(figsize=(width / dpi, height / dpi))\n",
    "plt.imshow(plot_df, aspect='auto', interpolation='nearest')\n",
    "plt.set_cmap('hot')\n",
    "\n",
    "plt.yticks(ticks=yticks,\n",
    "           labels=ylabels, \n",
    "           fontsize=label_size, \n",
    "           verticalalignment='center')\n",
    "\n",
    "plt.xticks(ticks=xticks,\n",
    "           labels=xlabels,\n",
    "           rotation=45, \n",
    "           fontsize=label_size, \n",
    "           horizontalalignment='center')\n",
    "\n",
    "cbar = plt.colorbar()\n",
    "cbar.set_ticks(cticks)\n",
    "cbar.set_ticklabels(clabels)\n",
    "cbar.ax.tick_params(labelsize=label_size) \n",
    "\n",
    "plt.title('New COVID-19 cases', fontsize=20)\n",
    "\n",
    "plt.tight_layout()\n",
    "plt.savefig('img/covid_tiles.png')\n",
    "\n",
    "plt.show()"
   ]
  }
 ],
 "metadata": {
  "kernelspec": {
   "display_name": "Python 3",
   "language": "python",
   "name": "python3"
  },
  "language_info": {
   "codemirror_mode": {
    "name": "ipython",
    "version": 3
   },
   "file_extension": ".py",
   "mimetype": "text/x-python",
   "name": "python",
   "nbconvert_exporter": "python",
   "pygments_lexer": "ipython3",
   "version": "3.8.2"
  }
 },
 "nbformat": 4,
 "nbformat_minor": 2
}
