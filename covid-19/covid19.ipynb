{
 "cells": [
  {
   "cell_type": "code",
   "execution_count": null,
   "metadata": {},
   "outputs": [],
   "source": [
    "import pandas as pd\n",
    "import matplotlib as mpl\n",
    "import matplotlib.pyplot as plt\n",
    "import numpy as np\n",
    "\n",
    "from functools import reduce"
   ]
  },
  {
   "cell_type": "code",
   "execution_count": null,
   "metadata": {},
   "outputs": [],
   "source": [
    "mpl.rcParams['figure.figsize'] = (9, 5)"
   ]
  },
  {
   "cell_type": "markdown",
   "metadata": {},
   "source": [
    "# Goal\n",
    "My goal is to visualize various aspect of the `COVID-19` pandemic."
   ]
  },
  {
   "cell_type": "markdown",
   "metadata": {},
   "source": [
    "# Data sources\n",
    "\n",
    "In this project I use data from the following sources:\n",
    "- https://github.com/CSSEGISandData/COVID-19 - JHU CSSE COVID-19 Data.\n",
    "- [GDP per capita PPP](https://data.worldbank.org/indicator/NY.GDP.PCAP.PP.CD) - The World Bank.\n",
    "- [Population](https://data.worldbank.org/indicator/SP.POP.TOTL) - The World Bank.\n",
    "- [Urban Population](https://data.worldbank.org/indicator/SP.URB.TOTL.IN.ZS) - The World Bank.\n",
    "- [Population living in slums](https://data.worldbank.org/indicator/EN.POP.SLUM.UR.ZS) - The World Bank.\n",
    "- [Rural population](https://data.worldbank.org/indicator/SP.RUR.TOTL.ZS) - The World Bank.\n",
    "- [Life expectancy at birth](https://data.worldbank.org/indicator/SP.DYN.LE00.IN) - The World Bank.\n",
    "- [Current healthcare expenditure](https://data.worldbank.org/indicator/SH.XPD.CHEX.GD.ZS) - The World Bank.\n",
    "- https://datahub.io/JohnSnowLabs/country-and-continent-codes-list - country codes and continents."
   ]
  },
  {
   "cell_type": "markdown",
   "metadata": {},
   "source": [
    "# Data preparation\n",
    "\n",
    "## COVID-19 data\n",
    "To  obtain a copy of the data clone the repository: <br>\n",
    "`git clone https://github.com/CSSEGISandData/COVID-19`"
   ]
  },
  {
   "cell_type": "code",
   "execution_count": null,
   "metadata": {},
   "outputs": [],
   "source": [
    "path = './data/COVID-19/csse_covid_19_data/csse_covid_19_time_series/'"
   ]
  },
  {
   "cell_type": "code",
   "execution_count": null,
   "metadata": {},
   "outputs": [],
   "source": [
    "conf = pd.read_csv(f'{path}/time_series_covid19_confirmed_global.csv')\n",
    "recov = pd.read_csv(f'{path}/time_series_covid19_recovered_global.csv')\n",
    "dead = pd.read_csv(f'{path}/time_series_covid19_deaths_global.csv')"
   ]
  },
  {
   "cell_type": "code",
   "execution_count": null,
   "metadata": {},
   "outputs": [],
   "source": [
    "def rename_countries(df):\n",
    "    \n",
    "    # Fix country names.\n",
    "    # This also helps with grouping (eg. Congo)\n",
    "    df['Country'] = df['Country'].apply(lambda x: \"Taiwan\" if x == \"Taiwan*\" else x)\n",
    "    df['Country'] = df['Country'].apply(lambda x: \"Korea\" if x == \"Korea, South\" else x)\n",
    "    df['Country'] = df['Country'].apply(lambda x: \"Macedonia\"  if x == \"North Macedonia\" else x)\n",
    "    df['Country'] = df['Country'].apply(lambda x: \"Cape Verde\" if x == \"Cabo Verde\" else x)\n",
    "    df['Country'] = df['Country'].apply(lambda x: \"Congo\" if x == \"Congo (Brazzaville)\"  else x)\n",
    "    df['Country'] = df['Country'].apply(lambda x: \"Congo\" if x == \"Congo (Kinshasa)\" else x)\n",
    "    \n",
    "    return df"
   ]
  },
  {
   "cell_type": "code",
   "execution_count": null,
   "metadata": {},
   "outputs": [],
   "source": [
    "def process_data(df):\n",
    "    \"\"\"\n",
    "    \n",
    "    Convert data from columns to rows.\n",
    "    \n",
    "    \"\"\"\n",
    "    \n",
    "    # Drop columns\n",
    "    df = df.drop(['Lat', 'Long', 'Province/State'], axis=1)\n",
    "    df = df.rename(columns={\"Country/Region\": \"Country\"})    \n",
    "    \n",
    "    # Rename countries\n",
    "    df = rename_countries(df=df)\n",
    "    \n",
    "    # Enforce countries are unique\n",
    "    df = df.groupby('Country', as_index=False).sum()        \n",
    "    \n",
    "    # Switch to colum format\n",
    "    df = df.transpose()\n",
    "    \n",
    "    # Copy headers from first row\n",
    "    df.columns = df.iloc[0, :].to_list()\n",
    "    df['Date'] = df.index\n",
    "    df = df[1:]    \n",
    "    \n",
    "    # Convert dates\n",
    "    df['Date'] = pd.to_datetime(df['Date'])\n",
    "    \n",
    "    # Convert to ints\n",
    "    cols = df.columns.to_list()\n",
    "    cols.remove('Date')\n",
    "    for col in cols:\n",
    "        df[col] = df[col].astype(int)\n",
    "    \n",
    "    # Reorder & Sort    \n",
    "    cols = ['Date'] + sorted(cols)\n",
    "    df = df[cols]\n",
    "    \n",
    "    # Reset index\n",
    "    df = df.reset_index(drop=True)\n",
    "    df.head()    \n",
    "    \n",
    "    return df"
   ]
  },
  {
   "cell_type": "code",
   "execution_count": null,
   "metadata": {
    "scrolled": true
   },
   "outputs": [],
   "source": [
    "conf = process_data(df=conf)\n",
    "recov = process_data(df=recov)\n",
    "dead = process_data(df=dead)\n",
    "conf.tail()"
   ]
  },
  {
   "cell_type": "code",
   "execution_count": null,
   "metadata": {},
   "outputs": [],
   "source": [
    "boats = ['Diamond Princess', 'MS Zaandam']\n",
    "conf = conf.drop(boats, axis=1)\n",
    "recov = recov.drop(boats, axis=1)\n",
    "dead = dead.drop(boats, axis=1)\n",
    "\n",
    "active = conf.drop(['Date'], axis=1) - recov.drop(['Date'], axis=1) - dead.drop(['Date'], axis=1)\n",
    "active['Date'] = conf['Date']"
   ]
  },
  {
   "cell_type": "markdown",
   "metadata": {},
   "source": [
    "## Helper functions"
   ]
  },
  {
   "cell_type": "code",
   "execution_count": null,
   "metadata": {},
   "outputs": [],
   "source": [
    "dataframes = [conf, recov, dead]\n",
    "names = ['Confirmed', 'Recovered', 'Deaths']"
   ]
  },
  {
   "cell_type": "code",
   "execution_count": null,
   "metadata": {},
   "outputs": [],
   "source": [
    "def get_country_ts(country, dataframes, columns):\n",
    "    \"\"\"\n",
    "    \n",
    "    Extract data for specific country.\n",
    "    \n",
    "    Notes\n",
    "    -----\n",
    "    Apply backfill to NaN's.\n",
    "    \n",
    "    \"\"\"\n",
    "    \n",
    "    cols = ['Date'] + columns\n",
    "    ctry = list()\n",
    "    for df in dataframes:\n",
    "        tmp = df.loc[:, ['Date', country]]\n",
    "        ctry.append(tmp)        \n",
    "    ctry = reduce(lambda x, y: pd.merge(x, y, on='Date', how='outer'), ctry)    \n",
    "    ctry.columns = cols\n",
    "    ctry = ctry.fillna(method='bfill')\n",
    "    \n",
    "    return ctry\n",
    "\n",
    "get_country_ts(country='Poland', \n",
    "               dataframes=dataframes, \n",
    "               columns=names).tail()"
   ]
  },
  {
   "cell_type": "code",
   "execution_count": null,
   "metadata": {},
   "outputs": [],
   "source": [
    "def get_country_stats(dataframes, names):\n",
    "    \"\"\"\n",
    "    \n",
    "    Create dataframe with cases summarize\n",
    "    by country.\n",
    "    \n",
    "    \"\"\"\n",
    "    \n",
    "    stats = []\n",
    "    for df,name in zip(dataframes, names):\n",
    "        tmp = df.tail(1).drop('Date', axis=1)\n",
    "        tmp = tmp.transpose()\n",
    "        tmp = tmp.reset_index()\n",
    "        tmp.columns = ['Country', name]\n",
    "        stats.append(tmp)\n",
    "    stats = reduce(lambda x, y: pd.merge(x, y, on='Country', how='outer'), stats)    \n",
    "    \n",
    "    return stats\n",
    "\n",
    "get_country_stats(dataframes, names).head()"
   ]
  },
  {
   "cell_type": "markdown",
   "metadata": {},
   "source": [
    "## Extract mortality rate"
   ]
  },
  {
   "cell_type": "code",
   "execution_count": null,
   "metadata": {
    "scrolled": false
   },
   "outputs": [],
   "source": [
    "def extract_mortality(country):\n",
    "    \"\"\"\n",
    "    \n",
    "    Calculate mortality rate over time\n",
    "    for specific country.\n",
    "    \n",
    "    \"\"\"\n",
    "    \n",
    "    df = get_country_ts(country=country, \n",
    "                        dataframes=[conf, dead], \n",
    "                        columns=['Confirmed', 'Deaths'])\n",
    "    df = df[df['Confirmed'] > 0]\n",
    "    df['Mortality'] = df['Deaths'] / df['Confirmed']\n",
    "    df['Mortality'] = df['Mortality'] * 100\n",
    "    df['Mortality'] = np.round(df['Mortality'], 2)\n",
    "    df = df[['Date', 'Mortality']]\n",
    "    df.columns = ['Date', country]\n",
    "    \n",
    "    return df\n",
    "\n",
    "extract_mortality('Poland').tail()"
   ]
  },
  {
   "cell_type": "code",
   "execution_count": null,
   "metadata": {},
   "outputs": [],
   "source": [
    "all_countries = sorted(set(conf.drop('Date', axis=1).columns))\n",
    "mort = list()\n",
    "for c in all_countries:\n",
    "    tmp = extract_mortality(country=c)\n",
    "    mort.append(tmp)\n",
    "    \n",
    "mort = reduce(lambda x, y: pd.merge(x, y, on='Date'), mort)    \n",
    "\n",
    "mort.tail()"
   ]
  },
  {
   "cell_type": "code",
   "execution_count": null,
   "metadata": {},
   "outputs": [],
   "source": [
    "print(conf.shape)\n",
    "print(recov.shape)\n",
    "print(dead.shape)\n",
    "print(active.shape)\n",
    "print(mort.shape)"
   ]
  },
  {
   "cell_type": "code",
   "execution_count": null,
   "metadata": {},
   "outputs": [],
   "source": [
    "def count_na(df):\n",
    "    df = df.drop('Date', axis=1).isna().sum(axis=0)\n",
    "    df.name = 'Missing'\n",
    "    df = df.to_frame()\n",
    "    df.sort_values('Missing', ascending=False)\n",
    "    return df"
   ]
  },
  {
   "cell_type": "code",
   "execution_count": null,
   "metadata": {},
   "outputs": [],
   "source": [
    "count_na(conf).head()"
   ]
  },
  {
   "cell_type": "code",
   "execution_count": null,
   "metadata": {},
   "outputs": [],
   "source": [
    "count_na(recov).head()"
   ]
  },
  {
   "cell_type": "code",
   "execution_count": null,
   "metadata": {},
   "outputs": [],
   "source": [
    "count_na(dead).head()"
   ]
  },
  {
   "cell_type": "code",
   "execution_count": null,
   "metadata": {},
   "outputs": [],
   "source": [
    "count_na(active).head()"
   ]
  },
  {
   "cell_type": "code",
   "execution_count": null,
   "metadata": {},
   "outputs": [],
   "source": [
    "count_na(mort).head()"
   ]
  },
  {
   "cell_type": "code",
   "execution_count": null,
   "metadata": {},
   "outputs": [],
   "source": [
    "dataframes = [conf, recov, dead, active, mort]\n",
    "names = ['Confirmed', 'Recovered', 'Deaths', 'Active', 'Mortality']\n",
    "country_stats = get_country_stats(dataframes, names)\n",
    "country_stats.head()"
   ]
  },
  {
   "cell_type": "code",
   "execution_count": null,
   "metadata": {},
   "outputs": [],
   "source": [
    "country_stats.isna().sum(axis=0)"
   ]
  },
  {
   "cell_type": "markdown",
   "metadata": {},
   "source": [
    "## First order differences"
   ]
  },
  {
   "cell_type": "code",
   "execution_count": null,
   "metadata": {},
   "outputs": [],
   "source": [
    "def get_daily_changes(df):   \n",
    "    \"\"\"\n",
    "    \n",
    "    Calculate daily change in case\n",
    "    data, ie apply difference operator.\n",
    "    \n",
    "    \"\"\"\n",
    "    diff = df.drop(['Date'], axis=1) - df.drop(['Date'], axis=1).shift(1)\n",
    "    diff['Date'] = df['Date']\n",
    "    diff.dropna(inplace=True)\n",
    "    diff.tail()\n",
    "    return diff"
   ]
  },
  {
   "cell_type": "code",
   "execution_count": null,
   "metadata": {},
   "outputs": [],
   "source": [
    "conf_diff = get_daily_changes(df=conf)\n",
    "recov_diff = get_daily_changes(df=recov)\n",
    "dead_diff = get_daily_changes(df=dead)\n",
    "active_diff = get_daily_changes(df=active)\n",
    "conf_diff.tail()"
   ]
  },
  {
   "cell_type": "markdown",
   "metadata": {},
   "source": [
    "## Coordinate data"
   ]
  },
  {
   "cell_type": "code",
   "execution_count": null,
   "metadata": {},
   "outputs": [],
   "source": [
    "coords = pd.read_csv(f'{path}/time_series_covid19_confirmed_global.csv')\n",
    "coords = coords.rename(columns={\"Country/Region\": \"Country\"})   \n",
    "coords = coords.loc[~coords['Country'].isin(boats)]\n",
    "coords = rename_countries(df=coords)\n",
    "coords = coords[['Country', 'Lat', 'Long']]\n",
    "coords = coords.groupby('Country', as_index=False).mean()\n",
    "coords = coords.sort_values('Country')\n",
    "coords = coords.reset_index(drop=True)\n",
    "coords.head()"
   ]
  },
  {
   "cell_type": "markdown",
   "metadata": {},
   "source": [
    "## Continent data"
   ]
  },
  {
   "cell_type": "code",
   "execution_count": null,
   "metadata": {},
   "outputs": [],
   "source": [
    "cont_path = './data/datahub/countries.csv'\n",
    "cont_map = pd.read_csv(cont_path)\n",
    "\n",
    "cont_map = cont_map.drop(['Continent_Code', \n",
    "                          'Two_Letter_Country_Code', \n",
    "                          'Country_Number'], axis=1)\n",
    "\n",
    "cont_map['Country'] = cont_map['Country_Name'].apply(lambda x: x.split(\", \")[0])\n",
    "cont_map = cont_map.rename(columns={\"Continent_Name\": \"Continent\", 'Three_Letter_Country_Code': 'Country Code'})\n",
    "cont_map = cont_map.drop(['Country_Name'], axis=1)\n",
    "cont_map = cont_map.drop_duplicates(subset=['Country'])\n",
    "\n",
    "cont_map.head()"
   ]
  },
  {
   "cell_type": "code",
   "execution_count": null,
   "metadata": {},
   "outputs": [],
   "source": [
    "countries_covid = set(coords['Country'])"
   ]
  },
  {
   "cell_type": "code",
   "execution_count": null,
   "metadata": {},
   "outputs": [],
   "source": [
    "# Change values in countries.csv to match covid data.\n",
    "to_swap = [('Russian Federation', 'Russia'),\n",
    "           ('Slovakia (Slovak Republic)', 'Slovakia'),\n",
    "           ('Kyrgyz Republic', 'Kyrgyzstan'),\n",
    "           ('Syrian Arab Republic', 'Syria'),\n",
    "           ('Libyan Arab Jamahiriya', 'Libya'),\n",
    "           ('Korea, South', 'Korea'),\n",
    "           ('Brunei Darussalam', 'Brunei'),\n",
    "           ('Cabo Verde', 'Cape Verde'),\n",
    "           ('Holy See (Vatican City State)', 'Holy See'),\n",
    "           ('United States of America', 'US'),\n",
    "           ('United Kingdom of Great Britain & Northern Ireland', 'United Kingdom'),\n",
    "           (\"Lao People's Democratic Republic\", 'Laos'),\n",
    "           ('Myanmar', 'Burma'),\n",
    "           ('Czech Republic', 'Czechia'),\n",
    "           ('Swaziland',  'Eswatini')]\n",
    "\n",
    "for x in to_swap:\n",
    "    cont_map.loc[cont_map['Country'] == x[0], 'Country'] = x[1]    "
   ]
  },
  {
   "cell_type": "code",
   "execution_count": null,
   "metadata": {},
   "outputs": [],
   "source": [
    "countries_cont_map = set(cont_map['Country'])"
   ]
  },
  {
   "cell_type": "code",
   "execution_count": null,
   "metadata": {},
   "outputs": [],
   "source": [
    "countries_covid.difference(countries_cont_map)"
   ]
  },
  {
   "cell_type": "code",
   "execution_count": null,
   "metadata": {},
   "outputs": [],
   "source": [
    "ctry_to_cont = pd.merge(coords, cont_map, how='left', on='Country')\n",
    "ctry_to_cont = ctry_to_cont.dropna()\n",
    "ctry_to_cont.head()"
   ]
  },
  {
   "cell_type": "code",
   "execution_count": null,
   "metadata": {},
   "outputs": [],
   "source": [
    "print(ctry_to_cont.shape)"
   ]
  },
  {
   "cell_type": "markdown",
   "metadata": {},
   "source": [
    "## World Bank data"
   ]
  },
  {
   "cell_type": "code",
   "execution_count": null,
   "metadata": {},
   "outputs": [],
   "source": [
    "wb_path = './data/world_bank/'"
   ]
  },
  {
   "cell_type": "code",
   "execution_count": null,
   "metadata": {},
   "outputs": [],
   "source": [
    "def get_world_bank_data(path, desc):\n",
    "    \"\"\"\n",
    "    \n",
    "    Get World Bank data into usable format.\n",
    "    \n",
    "    Notes\n",
    "    -----\n",
    "    Forward filling is applied rowwise.\n",
    "    \n",
    "    \"\"\"\n",
    "    \n",
    "    df = pd.read_csv(path, skiprows=4)\n",
    "    df = df.rename(columns={'Country Name': 'Country'})\n",
    "    df = df.drop(['Country', 'Indicator Name', 'Indicator Code'], axis=1)    \n",
    "    df = df.ffill(axis=1)\n",
    "    df = df[['Country Code', '2019']]\n",
    "    df = df.rename(columns={'2019': desc})\n",
    "    df = df[~(df[desc].str.isalpha() == True)]\n",
    "    df[desc] = df[desc].astype(float)\n",
    "    df[desc] = df[desc].round(2)\n",
    "    \n",
    "    return df"
   ]
  },
  {
   "cell_type": "code",
   "execution_count": null,
   "metadata": {},
   "outputs": [],
   "source": [
    "wb_le = 'API_SP.DYN.LE00.IN_DS2_en_csv_v2_1308162.csv'\n",
    "life_expectancy = get_world_bank_data(path=f'{wb_path}/{wb_le}',\n",
    "                                      desc='Life Expectancy')\n",
    "life_expectancy.head()"
   ]
  },
  {
   "cell_type": "code",
   "execution_count": null,
   "metadata": {},
   "outputs": [],
   "source": [
    "wb_gdp = 'API_NY.GDP.PCAP.PP.CD_DS2_en_csv_v2_1217517.csv'\n",
    "gdp_per_capita = get_world_bank_data(path=f'{wb_path}/{wb_gdp}',\n",
    "                                     desc='GDP Per Capita')\n",
    "gdp_per_capita.head()"
   ]
  },
  {
   "cell_type": "code",
   "execution_count": null,
   "metadata": {},
   "outputs": [],
   "source": [
    "wb_pop = 'API_SP.POP.TOTL_DS2_en_csv_v2_1308146.csv'\n",
    "population = get_world_bank_data(path=f'{wb_path}/{wb_pop}',\n",
    "                                     desc='Population')\n",
    "population.head()"
   ]
  },
  {
   "cell_type": "code",
   "execution_count": null,
   "metadata": {},
   "outputs": [],
   "source": [
    "wb_urb = 'API_SP.URB.TOTL.IN.ZS_DS2_en_csv_v2_1219669.csv'\n",
    "urban_population = get_world_bank_data(path=f'{wb_path}/{wb_urb}',\n",
    "                                     desc='Urban Population %')\n",
    "urban_population.head()"
   ]
  },
  {
   "cell_type": "code",
   "execution_count": null,
   "metadata": {},
   "outputs": [],
   "source": [
    "wb_slum = 'API_EN.POP.SLUM.UR.ZS_DS2_en_csv_v2_1221614.csv'\n",
    "slum_population = get_world_bank_data(path=f'{wb_path}/{wb_slum}',\n",
    "                                     desc='Slum Population %')\n",
    "slum_population.head()"
   ]
  },
  {
   "cell_type": "code",
   "execution_count": null,
   "metadata": {},
   "outputs": [],
   "source": [
    "wb_rur = 'API_SP.RUR.TOTL.ZS_DS2_en_csv_v2_1222914.csv'\n",
    "rural_population = get_world_bank_data(path=f'{wb_path}/{wb_rur}',\n",
    "                                     desc='Rural Population %')\n",
    "rural_population.head()"
   ]
  },
  {
   "cell_type": "code",
   "execution_count": null,
   "metadata": {},
   "outputs": [],
   "source": [
    "wb_hc = 'API_SH.XPD.CHEX.GD.ZS_DS2_en_csv_v2_1217782.csv'\n",
    "gdp_healthcare = get_world_bank_data(path=f'{wb_path}/{wb_hc}',\n",
    "                                     desc='GDP Healthcare %')\n",
    "gdp_healthcare.head()"
   ]
  },
  {
   "cell_type": "code",
   "execution_count": null,
   "metadata": {},
   "outputs": [],
   "source": [
    "world_bank = [life_expectancy,\n",
    "              gdp_per_capita,\n",
    "              population,\n",
    "              urban_population,\n",
    "              slum_population,\n",
    "              rural_population,\n",
    "              gdp_healthcare]\n",
    "\n",
    "world_bank = reduce(lambda x, y: pd.merge(x, y, on='Country Code', how='outer'), world_bank)\n",
    "world_bank.head()"
   ]
  },
  {
   "cell_type": "code",
   "execution_count": null,
   "metadata": {},
   "outputs": [],
   "source": [
    "world_bank.shape"
   ]
  },
  {
   "cell_type": "code",
   "execution_count": null,
   "metadata": {},
   "outputs": [],
   "source": [
    "wb_missing = world_bank.isnull().sum(axis=0)\n",
    "wb_missing.name = 'Missing'\n",
    "wb_missing = wb_missing.to_frame()\n",
    "wb_missing = wb_missing.sort_values('Missing', ascending=False)\n",
    "wb_missing = wb_missing.reset_index()\n",
    "wb_missing = wb_missing.rename(columns={'index': 'Column'})\n",
    "wb_missing = wb_missing[wb_missing['Missing'] > 0]\n",
    "wb_missing"
   ]
  },
  {
   "cell_type": "markdown",
   "metadata": {},
   "source": [
    "## Merge world bank with COVID-19"
   ]
  },
  {
   "cell_type": "code",
   "execution_count": null,
   "metadata": {},
   "outputs": [],
   "source": [
    "# Check missing countries\n",
    "S1 = set(ctry_to_cont['Country Code'])\n",
    "S2 = set(world_bank['Country Code'])\n",
    "sorted(S1.difference(S2))"
   ]
  },
  {
   "cell_type": "code",
   "execution_count": null,
   "metadata": {},
   "outputs": [],
   "source": [
    "ctry_to_cont[ctry_to_cont['Country Code'] == 'ESH']"
   ]
  },
  {
   "cell_type": "code",
   "execution_count": null,
   "metadata": {},
   "outputs": [],
   "source": [
    "ctry_to_cont[ctry_to_cont['Country Code'] == 'TWN']"
   ]
  },
  {
   "cell_type": "code",
   "execution_count": null,
   "metadata": {},
   "outputs": [],
   "source": [
    "ctry_to_cont[ctry_to_cont['Country Code'] == 'VAT']"
   ]
  },
  {
   "cell_type": "code",
   "execution_count": null,
   "metadata": {},
   "outputs": [],
   "source": [
    "merged = pd.merge(ctry_to_cont, country_stats, on='Country', how='outer')\n",
    "merged = pd.merge(merged, world_bank, on='Country Code', how='outer')\n",
    "merged.shape"
   ]
  },
  {
   "cell_type": "markdown",
   "metadata": {},
   "source": [
    "# Data - summary\n",
    "\n",
    "After the lengthy process of preparing the data I feel obliged to summarize in short some of the key datasets.\n",
    "\n",
    "From the original `COVID-19` data we created:\n",
    "- `conf` - Confirmed cases. Timeseries, by country.\n",
    "- `recov` - Recovered cases. Timeseries, by country.\n",
    "- `dead` - Fatal cases. Timeseries, by country.\n",
    "- `active` - Active cases. Calculation: `conf` - `recov` - `dead`. Timeseries, by country.\n",
    "- `coords` - Countries with latitude and longitude data.\n",
    "- `country_stats` - Case data summarized by country.\n",
    "\n",
    "By transforming the above we obtain:\n",
    "- `conf_diff` - Confirmed cases daily change. Calculated using the difference operator. Timeseries, by country.\n",
    "- `active_diff` - Confirmed cases daily change. Calculated using the difference operator. Timeseries, by country.\n",
    "- `recov_diff` - Recovered cases daily change. Calculated using the difference operator. Timeseries, by country.\n",
    "- `dead_diff` - Fatal cases daily change. Calculated using the difference operator. Timeseries, by country.\n",
    "- `mort` - Mortality, expressed by `dead`/`conf`. Timeseries, by country.\n",
    "\n",
    "From X we create:\n",
    "- `ctry_to_cont` - Map each country to continent.\n",
    "\n",
    "Using the data above and data from the World Bank we create:\n",
    "- `world_bank` - Combines all the data from the World Bank.\n",
    "- `merged` - Combines COVID-19 summary statistics, continents, gdp and population data.\n",
    "\n",
    "The `COVID-19` data used in this notebook starts on:"
   ]
  },
  {
   "cell_type": "code",
   "execution_count": null,
   "metadata": {},
   "outputs": [],
   "source": [
    "str(conf['Date'].min().date())"
   ]
  },
  {
   "cell_type": "markdown",
   "metadata": {},
   "source": [
    "and ends on:"
   ]
  },
  {
   "cell_type": "code",
   "execution_count": null,
   "metadata": {},
   "outputs": [],
   "source": [
    "str(conf['Date'].max().date())"
   ]
  },
  {
   "cell_type": "markdown",
   "metadata": {},
   "source": [
    "# COVID19 - Globally\n",
    "\n",
    "First we plot the total number of cases around the world."
   ]
  },
  {
   "cell_type": "code",
   "execution_count": null,
   "metadata": {},
   "outputs": [],
   "source": [
    "all_countries = sorted(set(coords['Country']))\n",
    "dataframes = [conf, recov, dead, active]\n",
    "names = ['Confirmed cases',\n",
    "         'Recovered cases',\n",
    "         'Fatal cases',\n",
    "         'Active cases']"
   ]
  },
  {
   "cell_type": "code",
   "execution_count": null,
   "metadata": {},
   "outputs": [],
   "source": [
    "# for name,df in zip(names, dataframes):\n",
    "#     plt.plot(df['Date'],\n",
    "#              np.log(df.drop('Date', axis=1).sum(axis=1)),\n",
    "#              label=name)\n",
    "# plt.ylabel('Cases, Log scale')\n",
    "# plt.legend(loc='best')\n",
    "# plt.xticks(rotation=90)\n",
    "# plt.tight_layout()\n",
    "# plt.show()"
   ]
  },
  {
   "cell_type": "markdown",
   "metadata": {},
   "source": [
    "# COVID19 - By continent\n",
    "\n",
    "We drill down further into the data visualizing cases data at the continent level."
   ]
  },
  {
   "cell_type": "code",
   "execution_count": null,
   "metadata": {},
   "outputs": [],
   "source": [
    "def continent_plot(df, name):\n",
    "    \"\"\"\n",
    "    \n",
    "    Plot cases over time by continent.\n",
    "    \n",
    "    \"\"\"\n",
    "    \n",
    "    continents = set(ctry_to_cont['Continent'])\n",
    "    for cont in continents:\n",
    "\n",
    "        C = ctry_to_cont[ctry_to_cont['Continent'] == cont]\n",
    "        C = C['Country'].to_list()\n",
    "\n",
    "        plt.plot(df['Date'], df[C].sum(axis=1), label=cont)\n",
    "\n",
    "    plt.legend(loc='best')\n",
    "    plt.title(f'{name}')\n",
    "    plt.ylabel('Cases, log scale')\n",
    "    plt.tight_layout()\n",
    "    plt.show()    "
   ]
  },
  {
   "cell_type": "code",
   "execution_count": null,
   "metadata": {},
   "outputs": [],
   "source": [
    "for name,df in zip(names, dataframes):\n",
    "    continent_plot(df=df, name=name)  \n",
    "    break"
   ]
  },
  {
   "cell_type": "markdown",
   "metadata": {},
   "source": [
    "# COVID - Country level\n",
    "\n",
    "Finally we can take a look at the data on a country level. First we show the countries with the most cases."
   ]
  },
  {
   "cell_type": "code",
   "execution_count": null,
   "metadata": {},
   "outputs": [],
   "source": [
    "def sorted_bar_plot(df, name, n=10):\n",
    "    \"\"\"\n",
    "    \n",
    "    Bar plot of countries with the most cases\n",
    "    of a certain type.\n",
    "    \n",
    "    \"\"\"\n",
    "        \n",
    "    df = df.sum()\n",
    "    df.name = name\n",
    "    df = df.to_frame()\n",
    "    df = df.sort_values(name, ascending=False)\n",
    "    df = df.reset_index()\n",
    "    df = df.rename(columns={'index': 'Country'})\n",
    "    df = df.head(n)\n",
    "\n",
    "    plt.bar(df['Country'], df[name])\n",
    "    plt.xticks(rotation=90)\n",
    "    plt.title(f'{name}')\n",
    "    plt.ylabel('Cases, log scale')\n",
    "    plt.tight_layout()\n",
    "    plt.show()    "
   ]
  },
  {
   "cell_type": "code",
   "execution_count": null,
   "metadata": {
    "scrolled": false
   },
   "outputs": [],
   "source": [
    "for name,df in zip(names, dataframes):\n",
    "    sorted_bar_plot(df=df, name=name) \n",
    "    break"
   ]
  },
  {
   "cell_type": "markdown",
   "metadata": {},
   "source": [
    "Then we show countries with the highest mortality rate."
   ]
  },
  {
   "cell_type": "code",
   "execution_count": null,
   "metadata": {},
   "outputs": [],
   "source": [
    "high_mort = country_stats[['Country', 'Mortality']]\n",
    "high_mort = high_mort.sort_values('Mortality', ascending=False)\n",
    "high_mort = high_mort.reset_index(drop=True)\n",
    "high_mort.columns = ['Country', 'Mortality Rate']\n",
    "high_mort = high_mort.head(10)\n",
    "\n",
    "plt.bar(high_mort['Country'], height=high_mort['Mortality Rate'])\n",
    "plt.xticks(rotation=90)\n",
    "plt.ylabel('Moratlity rate (%)')\n",
    "plt.title('Countries with highest mortality rate')\n",
    "plt.tight_layout()\n",
    "plt.show()"
   ]
  },
  {
   "cell_type": "code",
   "execution_count": null,
   "metadata": {},
   "outputs": [],
   "source": [
    "def country_plot_cases(country):\n",
    "    \"\"\"\n",
    "    \n",
    "    Plot country level cases data.\n",
    "    \n",
    "    \"\"\"\n",
    "    \n",
    "    names = ['Confirmed', 'Recovered', 'Fatal', 'Active']\n",
    "    dataframes= [conf, recov, dead, active]    \n",
    "    \n",
    "    df = get_country_ts(country=country,\n",
    "                        dataframes=dataframes,\n",
    "                        columns=names)\n",
    "    \n",
    "    df = df[df['Confirmed'] > 0]\n",
    "    \n",
    "    plt.plot(df['Date'], df['Confirmed'], label=names[0])\n",
    "    plt.plot(df['Date'], df['Recovered'], label=names[1])\n",
    "    plt.plot(df['Date'], df['Fatal'], label=names[2])\n",
    "    plt.plot(df['Date'], df['Active'], label=names[3])    \n",
    "    \n",
    "    plt.title(f'{country}')\n",
    "    plt.ylabel('Cases')\n",
    "    plt.legend(loc='best')\n",
    "    plt.tight_layout()\n",
    "    plt.show()      "
   ]
  },
  {
   "cell_type": "markdown",
   "metadata": {},
   "source": [
    "We can inspect the data for specific countries."
   ]
  },
  {
   "cell_type": "code",
   "execution_count": null,
   "metadata": {},
   "outputs": [],
   "source": [
    "country_plot_cases(country='Germany')"
   ]
  },
  {
   "cell_type": "markdown",
   "metadata": {},
   "source": [
    "We plot the daily increase in cases for specific countries."
   ]
  },
  {
   "cell_type": "code",
   "execution_count": null,
   "metadata": {},
   "outputs": [],
   "source": [
    "def country_plot_chg(country, n=7):\n",
    "    \"\"\"\n",
    "    \n",
    "    Plot country level change in cases with\n",
    "    n day moving average.\n",
    "    \n",
    "    \"\"\"\n",
    "    names = ['Confirmed Chg']\n",
    "    dataframes= [conf_diff]        \n",
    "    \n",
    "    df = get_country_ts(country=country, dataframes=dataframes, columns=names)\n",
    "    df = df.rename(columns={'Confirmed Chg': 'New cases'})\n",
    "    \n",
    "    plt.plot(df['Date'], df['New cases'],\n",
    "             label='New cases', alpha=1/2)\n",
    "    \n",
    "    plt.fill_between(df['Date'], y1=0, y2=df['New cases'], alpha=1/4)\n",
    "    \n",
    "    plt.plot(df['Date'], df['New cases'].rolling(n).mean(), \n",
    "             label=f'{n} day average', c='black')    \n",
    "    \n",
    "    plt.title(f'{country} - daily new cases')\n",
    "    plt.ylabel('Cases')\n",
    "    plt.legend(loc='best')\n",
    "    plt.tight_layout()\n",
    "    plt.show()  "
   ]
  },
  {
   "cell_type": "code",
   "execution_count": null,
   "metadata": {},
   "outputs": [],
   "source": [
    "country_plot_chg(country='Brazil')        "
   ]
  },
  {
   "cell_type": "markdown",
   "metadata": {},
   "source": [
    "# Exponential growth\n",
    "\n",
    "We proceed to visualize the early days of the pandemic. In most cases the growth was exponential as will be seen.\n",
    "First we create define a function to calculate exponential growth. Secondly we create dataset of timeseries reindexed to begin at the point in time `t0` defined as the first day where a country reported more than a hundred confirmed cases. Then we plot the data."
   ]
  },
  {
   "cell_type": "code",
   "execution_count": null,
   "metadata": {},
   "outputs": [],
   "source": [
    "def exp_growth(a, b, t, tau):\n",
    "    \"\"\"\n",
    "    \n",
    "    Calculate exponential growth.\n",
    "    \n",
    "    Parameters\n",
    "    ----------\n",
    "    a : int\n",
    "        Initial value.\n",
    "    b : int\n",
    "        Growth factor.\n",
    "    t : int \n",
    "        Time.\n",
    "    tau : int\n",
    "        Time required for increase by factor of b.\n",
    "        \n",
    "    Notes\n",
    "    -----\n",
    "    See https://en.wikipedia.org/wiki/Exponential_growth \n",
    "    for details.\n",
    "    \n",
    "    \"\"\"\n",
    "    \n",
    "    return a * np.power(b, t / tau) "
   ]
  },
  {
   "cell_type": "code",
   "execution_count": null,
   "metadata": {
    "scrolled": false
   },
   "outputs": [],
   "source": [
    "conf_t0 = list()\n",
    "for country in all_countries:\n",
    "    t0 = get_country_ts(country=country, dataframes=[conf], columns=['Confirmed'])\n",
    "    t0 = t0.loc[t0['Confirmed'] >= 100]\n",
    "    t0 = t0.loc[:, ['Confirmed']]\n",
    "    t0 = t0.reset_index(drop=True)\n",
    "    conf_t0.append(t0)\n",
    "    \n",
    "conf_t0 = reduce(lambda x, y: pd.merge(x, y, left_index=True, \n",
    "                                       right_index=True, how='outer'), \n",
    "                 conf_t0)    \n",
    "conf_t0.columns = all_countries\n",
    "conf_t0 = conf_t0.head(100)\n",
    "max_cases = max(conf_t0.max())"
   ]
  },
  {
   "cell_type": "code",
   "execution_count": null,
   "metadata": {},
   "outputs": [],
   "source": [
    "def growth_plot(df, countries, periods, steps=50):\n",
    "    \"\"\"\n",
    "    \n",
    "    Plot growth curves, log scale.\n",
    "    \n",
    "    Inputs\n",
    "    ------\n",
    "    df :\n",
    "        `conf_t0` dataframe that contains confirmed\n",
    "        cases reindexed to start with the date a \n",
    "        country had  >= 100 cases.\n",
    "    countries : list\n",
    "        List of countries\n",
    "    periods : list of ints\n",
    "        Doubling periods for growth curves.\n",
    "    steps : int\n",
    "        Number of data points to use.\n",
    "    \n",
    "    \"\"\"\n",
    "    \n",
    "    countries = sorted(countries)\n",
    "    \n",
    "    # Extract mean and use as starting point for \n",
    "    # exponential growth curves.\n",
    "    a = df.mean(axis=1)[0]\n",
    "    b = 2\n",
    "\n",
    "    # List of growth curves\n",
    "    growth = list()\n",
    "    for period in periods:\n",
    "        g = exp_growth(a=a, \n",
    "                       b=b, \n",
    "                       t=np.arange(steps), \n",
    "                       tau=period)\n",
    "        g = np.log(g)\n",
    "        growth.append(list(g))\n",
    "\n",
    "    for g,p in zip(growth, periods):\n",
    "\n",
    "        # Draw growth curves\n",
    "        plt.plot(range(steps), g, \n",
    "                 c='black', \n",
    "                 linestyle='dashed', \n",
    "                 alpha=1/2)\n",
    "\n",
    "        if p == 1:\n",
    "            s = f'Double every day'\n",
    "        else:\n",
    "            s = f'Double every {str(p)} days'       \n",
    "\n",
    "        # Draw text outside\n",
    "        plt.text(x=steps,\n",
    "                 y=g[steps - 1],\n",
    "                 s=s, \n",
    "                 alpha=3/4, \n",
    "                 horizontalalignment='left',\n",
    "                 verticalalignment='center',\n",
    "                 rotation_mode='anchor')\n",
    "\n",
    "    # Draw country level data\n",
    "    plot_df = conf_t0[countries].head(steps)\n",
    "    for c in countries:\n",
    "        plt.plot(range(len(plot_df)), np.log(plot_df[c]), label=c)\n",
    "\n",
    "    plt.xlim(0, steps-1)\n",
    "    plt.legend(loc='best')\n",
    "    plt.ylabel('Confirmed cases, log scale')\n",
    "    plt.xlabel('Days since 100 cases')\n",
    "    plt.tight_layout()\n",
    "    plt.show()"
   ]
  },
  {
   "cell_type": "code",
   "execution_count": null,
   "metadata": {},
   "outputs": [],
   "source": [
    "growth_plot(df=conf_t0, \n",
    "            countries=['US', 'Russia', 'Germany', 'France'], \n",
    "            periods=[2, 4, 8], \n",
    "            steps=50)"
   ]
  },
  {
   "cell_type": "markdown",
   "metadata": {},
   "source": [
    "# Economic data\n",
    "\n",
    "We proceed to visually inspect the relationship between the `COVID-19` dataset and data downloaded from the World Bank. Given that the `Population` column varies wildy we choose a different metric to make comparisons."
   ]
  },
  {
   "cell_type": "code",
   "execution_count": null,
   "metadata": {},
   "outputs": [],
   "source": [
    "figsize = (5, 5)"
   ]
  },
  {
   "cell_type": "code",
   "execution_count": null,
   "metadata": {},
   "outputs": [],
   "source": [
    "economic = merged.copy()\n",
    "\n",
    "economic['Cases Per Milion'] = economic['Confirmed'] / (economic['Population'] /  10**6)\n",
    "economic['Cases Per Milion'] = economic['Cases Per Milion'].round(2)\n",
    "\n",
    "economic['Deaths Per Milion'] = economic['Deaths'] / (economic['Population'] /  10**6)\n",
    "economic['Deaths Per Milion'] = economic['Deaths Per Milion'].round(2)\n",
    "\n",
    "economic = economic.drop(['Lat', 'Long', 'Country Code', 'Continent'], axis=1)\n",
    "economic.head()"
   ]
  },
  {
   "cell_type": "code",
   "execution_count": null,
   "metadata": {},
   "outputs": [],
   "source": [
    "economic.sort_values('Mortality', ascending=False).head()"
   ]
  },
  {
   "cell_type": "markdown",
   "metadata": {},
   "source": [
    "## GDP Healthcare\n",
    "We compare the percentage of gdp spent on healthcare with cases per milion."
   ]
  },
  {
   "cell_type": "code",
   "execution_count": null,
   "metadata": {},
   "outputs": [],
   "source": [
    "cols = ['Cases Per Milion', 'Deaths Per Milion']\n",
    "\n",
    "for col in cols:\n",
    "    plt.figure(figsize=figsize)\n",
    "    plt.scatter(economic['GDP Healthcare %'], economic[col], s=2)\n",
    "    plt.xlabel('GDP Healthcare %')\n",
    "    plt.ylabel(f'{col}')\n",
    "    plt.tight_layout()\n",
    "    plt.show()\n",
    "    break"
   ]
  },
  {
   "cell_type": "markdown",
   "metadata": {},
   "source": [
    "## Population\n",
    "\n",
    "We compare the proportion of people living in different areas to the mortality rate."
   ]
  },
  {
   "cell_type": "code",
   "execution_count": null,
   "metadata": {
    "scrolled": false
   },
   "outputs": [],
   "source": [
    "cols = ['Urban Population %', \n",
    "        'Rural Population %', \n",
    "        'Slum Population %']\n",
    "\n",
    "for col in cols:\n",
    "    plt.figure(figsize=figsize)\n",
    "    plt.scatter(economic[col], economic['Mortality'], s=2)\n",
    "    plt.ylabel('Mortality %')\n",
    "    plt.xlabel(f'{col}')\n",
    "    plt.tight_layout()\n",
    "    plt.show()\n",
    "    break    "
   ]
  },
  {
   "cell_type": "markdown",
   "metadata": {},
   "source": [
    "## GDP & Healthcare\n",
    "We compare life expectancy, healthcare spending and gdp per capita to the mortality rate."
   ]
  },
  {
   "cell_type": "code",
   "execution_count": null,
   "metadata": {},
   "outputs": [],
   "source": [
    "cols = ['Life Expectancy', 'GDP Healthcare %', 'GDP Per Capita']\n",
    "\n",
    "for col in cols:\n",
    "    plt.figure(figsize=figsize)\n",
    "    plt.scatter(economic[col], economic['Mortality'], s=2)\n",
    "    plt.ylabel('Mortality %')\n",
    "    plt.xlabel(f'{col}')\n",
    "    plt.tight_layout()\n",
    "    plt.show()\n",
    "    break    "
   ]
  },
  {
   "cell_type": "markdown",
   "metadata": {},
   "source": [
    "# Fancy plot\n",
    "\n",
    "Visual for repo readme."
   ]
  },
  {
   "cell_type": "code",
   "execution_count": null,
   "metadata": {},
   "outputs": [],
   "source": [
    "countries = ['Germany', \n",
    "             'France', \n",
    "             'Italy', \n",
    "             'Spain', \n",
    "             'United Kingdom', \n",
    "             'Russia', \n",
    "             'India', \n",
    "             'Brazil',\n",
    "             'US', \n",
    "             'Poland', \n",
    "             'Mexico']\n",
    "\n",
    "width = 1600\n",
    "height = width / 2\n",
    "dpi = 200\n",
    "period = 7\n",
    "step = 14\n",
    "label_size = 12\n",
    "n_clabels = 6\n",
    "\n",
    "countries = sorted(countries)\n",
    "\n",
    "plot_df = conf_diff[countries]\n",
    "plot_df = plot_df.rename(columns={'United Kingdom': 'UK'})\n",
    "countries = plot_df.columns.to_list()\n",
    "plot_df = plot_df.rolling(period)\n",
    "plot_df = plot_df.mean()\n",
    "plot_df = plot_df.dropna()\n",
    "plot_df = plot_df.to_numpy()\n",
    "plot_df = plot_df.astype(float)\n",
    "plot_df = plot_df.transpose()\n",
    "plot_df = np.sqrt(plot_df)\n",
    "\n",
    "xticks = range(plot_df.shape[1])[::step]\n",
    "xlabels = list(conf_diff['Date'])[period:]\n",
    "xlabels = [x.date() for x in xlabels]\n",
    "xlabels = xlabels[::step]\n",
    "\n",
    "yticks = range(len(countries))\n",
    "ylabels = countries\n",
    "\n",
    "cticks = np.round(np.linspace(0, np.max(plot_df), 6), -1)\n",
    "cticks = cticks.astype(np.int)\n",
    "clabels = np.power(cticks, 2)\n",
    "cticks = sorted(set(cticks))\n",
    "clabels = np.power(cticks, 2)\n",
    "clabels = [round(x, -3) for x in clabels]\n",
    "clabels = list(map(str, clabels))\n",
    "\n",
    "plt.figure(figsize=(width / dpi, height / dpi))\n",
    "plt.imshow(plot_df, aspect='auto', interpolation='nearest')\n",
    "plt.set_cmap('hot')\n",
    "\n",
    "plt.yticks(ticks=yticks,\n",
    "           labels=ylabels, \n",
    "           fontsize=label_size, \n",
    "           verticalalignment='center')\n",
    "\n",
    "plt.xticks(ticks=xticks,\n",
    "           labels=xlabels,\n",
    "           rotation=45, \n",
    "           fontsize=label_size, \n",
    "           horizontalalignment='right')\n",
    "\n",
    "cbar = plt.colorbar()\n",
    "cbar.set_ticks(cticks)\n",
    "cbar.set_ticklabels(clabels)\n",
    "cbar.ax.tick_params(labelsize=label_size) \n",
    "\n",
    "plt.title('New COVID-19 cases', fontsize=20)\n",
    "\n",
    "plt.tight_layout()\n",
    "plt.savefig('img/covid_tiles.png')\n",
    "\n",
    "plt.show()"
   ]
  }
 ],
 "metadata": {
  "kernelspec": {
   "display_name": "Python 3",
   "language": "python",
   "name": "python3"
  },
  "language_info": {
   "codemirror_mode": {
    "name": "ipython",
    "version": 3
   },
   "file_extension": ".py",
   "mimetype": "text/x-python",
   "name": "python",
   "nbconvert_exporter": "python",
   "pygments_lexer": "ipython3",
   "version": "3.8.2"
  }
 },
 "nbformat": 4,
 "nbformat_minor": 2
}
