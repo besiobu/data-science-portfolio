{
 "cells": [
  {
   "cell_type": "code",
   "execution_count": 1,
   "metadata": {},
   "outputs": [],
   "source": [
    "import pandas as pd\n",
    "import matplotlib as mpl\n",
    "import matplotlib.pyplot as plt\n",
    "import numpy as np\n",
    "\n",
    "from functools import reduce"
   ]
  },
  {
   "cell_type": "code",
   "execution_count": 2,
   "metadata": {},
   "outputs": [],
   "source": [
    "mpl.rcParams['figure.figsize'] = (9, 5)"
   ]
  },
  {
   "cell_type": "markdown",
   "metadata": {},
   "source": [
    "# Goal\n",
    "My goal is to visualize various aspect of the `COVID-19` pandemic."
   ]
  },
  {
   "cell_type": "markdown",
   "metadata": {},
   "source": [
    "# Data sources\n",
    "\n",
    "In this project I use data from the following sources:\n",
    "- https://github.com/CSSEGISandData/COVID-19 - JHU CSSE COVID-19 Data.\n",
    "- [GDP per capita PPP](https://data.worldbank.org/indicator/NY.GDP.PCAP.PP.CD) - The World Bank.\n",
    "- [Population](https://data.worldbank.org/indicator/SP.POP.TOTL) - The World Bank.\n",
    "- [Urban Population](https://data.worldbank.org/indicator/SP.URB.TOTL.IN.ZS) - The World Bank.\n",
    "- [Population living in slums](https://data.worldbank.org/indicator/EN.POP.SLUM.UR.ZS) - The World Bank.\n",
    "- [Rural population](https://data.worldbank.org/indicator/SP.RUR.TOTL.ZS) - The World Bank.\n",
    "- [Life expectancy at birth](https://data.worldbank.org/indicator/SP.DYN.LE00.IN) - The World Bank.\n",
    "- [Current healthcare expenditure](https://data.worldbank.org/indicator/SH.XPD.CHEX.GD.ZS) - The World Bank.\n",
    "- https://datahub.io/JohnSnowLabs/country-and-continent-codes-list - country codes and continents."
   ]
  },
  {
   "cell_type": "markdown",
   "metadata": {},
   "source": [
    "# Data loading"
   ]
  },
  {
   "cell_type": "code",
   "execution_count": 3,
   "metadata": {},
   "outputs": [],
   "source": [
    "merged = pd.read_csv('./data/cleaned/merged.csv')"
   ]
  },
  {
   "cell_type": "markdown",
   "metadata": {},
   "source": [
    "# Socioeconomic data\n",
    "\n",
    "We proceed to visually inspect the relationship between the `COVID-19` dataset and data downloaded from the World Bank. Given that the `Population` column varies wildy we choose a different metric to make comparisons."
   ]
  },
  {
   "cell_type": "code",
   "execution_count": 4,
   "metadata": {},
   "outputs": [],
   "source": [
    "figsize = (5, 5)"
   ]
  },
  {
   "cell_type": "code",
   "execution_count": 5,
   "metadata": {},
   "outputs": [
    {
     "data": {
      "text/html": [
       "<div>\n",
       "<style scoped>\n",
       "    .dataframe tbody tr th:only-of-type {\n",
       "        vertical-align: middle;\n",
       "    }\n",
       "\n",
       "    .dataframe tbody tr th {\n",
       "        vertical-align: top;\n",
       "    }\n",
       "\n",
       "    .dataframe thead th {\n",
       "        text-align: right;\n",
       "    }\n",
       "</style>\n",
       "<table border=\"1\" class=\"dataframe\">\n",
       "  <thead>\n",
       "    <tr style=\"text-align: right;\">\n",
       "      <th></th>\n",
       "      <th>Country</th>\n",
       "      <th>Confirmed</th>\n",
       "      <th>Recovered</th>\n",
       "      <th>Deaths</th>\n",
       "      <th>Active</th>\n",
       "      <th>Mortality</th>\n",
       "      <th>Life Expectancy</th>\n",
       "      <th>GDP Per Capita</th>\n",
       "      <th>Population</th>\n",
       "      <th>Urban Population %</th>\n",
       "      <th>Slum Population %</th>\n",
       "      <th>Rural Population %</th>\n",
       "      <th>GDP Healthcare %</th>\n",
       "      <th>Cases Per Milion</th>\n",
       "      <th>Deaths Per Milion</th>\n",
       "    </tr>\n",
       "  </thead>\n",
       "  <tbody>\n",
       "    <tr>\n",
       "      <th>0</th>\n",
       "      <td>Afghanistan</td>\n",
       "      <td>39186.0</td>\n",
       "      <td>32619.0</td>\n",
       "      <td>1451.0</td>\n",
       "      <td>5116.0</td>\n",
       "      <td>3.70</td>\n",
       "      <td>64.49</td>\n",
       "      <td>2293.55</td>\n",
       "      <td>38041754.0</td>\n",
       "      <td>25.75</td>\n",
       "      <td>62.7</td>\n",
       "      <td>74.25</td>\n",
       "      <td>11.78</td>\n",
       "      <td>1030.08</td>\n",
       "      <td>38.14</td>\n",
       "    </tr>\n",
       "    <tr>\n",
       "      <th>1</th>\n",
       "      <td>Albania</td>\n",
       "      <td>13045.0</td>\n",
       "      <td>7309.0</td>\n",
       "      <td>373.0</td>\n",
       "      <td>5363.0</td>\n",
       "      <td>2.86</td>\n",
       "      <td>78.46</td>\n",
       "      <td>14495.08</td>\n",
       "      <td>2854191.0</td>\n",
       "      <td>61.23</td>\n",
       "      <td>NaN</td>\n",
       "      <td>38.77</td>\n",
       "      <td>NaN</td>\n",
       "      <td>4570.47</td>\n",
       "      <td>130.69</td>\n",
       "    </tr>\n",
       "    <tr>\n",
       "      <th>2</th>\n",
       "      <td>Algeria</td>\n",
       "      <td>50754.0</td>\n",
       "      <td>35654.0</td>\n",
       "      <td>1707.0</td>\n",
       "      <td>13393.0</td>\n",
       "      <td>3.36</td>\n",
       "      <td>76.69</td>\n",
       "      <td>11820.09</td>\n",
       "      <td>43053054.0</td>\n",
       "      <td>73.19</td>\n",
       "      <td>11.8</td>\n",
       "      <td>26.81</td>\n",
       "      <td>6.37</td>\n",
       "      <td>1178.87</td>\n",
       "      <td>39.65</td>\n",
       "    </tr>\n",
       "    <tr>\n",
       "      <th>3</th>\n",
       "      <td>Andorra</td>\n",
       "      <td>1836.0</td>\n",
       "      <td>1263.0</td>\n",
       "      <td>53.0</td>\n",
       "      <td>520.0</td>\n",
       "      <td>2.89</td>\n",
       "      <td>NaN</td>\n",
       "      <td>NaN</td>\n",
       "      <td>77142.0</td>\n",
       "      <td>87.98</td>\n",
       "      <td>NaN</td>\n",
       "      <td>12.02</td>\n",
       "      <td>10.32</td>\n",
       "      <td>23800.26</td>\n",
       "      <td>687.04</td>\n",
       "    </tr>\n",
       "    <tr>\n",
       "      <th>4</th>\n",
       "      <td>Angola</td>\n",
       "      <td>4590.0</td>\n",
       "      <td>1554.0</td>\n",
       "      <td>167.0</td>\n",
       "      <td>2869.0</td>\n",
       "      <td>3.64</td>\n",
       "      <td>60.78</td>\n",
       "      <td>6929.68</td>\n",
       "      <td>31825295.0</td>\n",
       "      <td>66.18</td>\n",
       "      <td>55.5</td>\n",
       "      <td>33.82</td>\n",
       "      <td>2.79</td>\n",
       "      <td>144.22</td>\n",
       "      <td>5.25</td>\n",
       "    </tr>\n",
       "  </tbody>\n",
       "</table>\n",
       "</div>"
      ],
      "text/plain": [
       "       Country  Confirmed  Recovered  Deaths   Active  Mortality  \\\n",
       "0  Afghanistan    39186.0    32619.0  1451.0   5116.0       3.70   \n",
       "1      Albania    13045.0     7309.0   373.0   5363.0       2.86   \n",
       "2      Algeria    50754.0    35654.0  1707.0  13393.0       3.36   \n",
       "3      Andorra     1836.0     1263.0    53.0    520.0       2.89   \n",
       "4       Angola     4590.0     1554.0   167.0   2869.0       3.64   \n",
       "\n",
       "   Life Expectancy  GDP Per Capita  Population  Urban Population %  \\\n",
       "0            64.49         2293.55  38041754.0               25.75   \n",
       "1            78.46        14495.08   2854191.0               61.23   \n",
       "2            76.69        11820.09  43053054.0               73.19   \n",
       "3              NaN             NaN     77142.0               87.98   \n",
       "4            60.78         6929.68  31825295.0               66.18   \n",
       "\n",
       "   Slum Population %  Rural Population %  GDP Healthcare %  Cases Per Milion  \\\n",
       "0               62.7               74.25             11.78           1030.08   \n",
       "1                NaN               38.77               NaN           4570.47   \n",
       "2               11.8               26.81              6.37           1178.87   \n",
       "3                NaN               12.02             10.32          23800.26   \n",
       "4               55.5               33.82              2.79            144.22   \n",
       "\n",
       "   Deaths Per Milion  \n",
       "0              38.14  \n",
       "1             130.69  \n",
       "2              39.65  \n",
       "3             687.04  \n",
       "4               5.25  "
      ]
     },
     "execution_count": 5,
     "metadata": {},
     "output_type": "execute_result"
    }
   ],
   "source": [
    "economic = merged.copy()\n",
    "\n",
    "economic['Cases Per Milion'] = economic['Confirmed'] / (economic['Population'] /  10**6)\n",
    "economic['Cases Per Milion'] = economic['Cases Per Milion'].round(2)\n",
    "\n",
    "economic['Deaths Per Milion'] = economic['Deaths'] / (economic['Population'] /  10**6)\n",
    "economic['Deaths Per Milion'] = economic['Deaths Per Milion'].round(2)\n",
    "\n",
    "economic = economic.drop(['Lat', 'Long', 'Country Code', 'Continent'], axis=1)\n",
    "economic.head()"
   ]
  },
  {
   "cell_type": "code",
   "execution_count": 6,
   "metadata": {},
   "outputs": [
    {
     "data": {
      "text/html": [
       "<div>\n",
       "<style scoped>\n",
       "    .dataframe tbody tr th:only-of-type {\n",
       "        vertical-align: middle;\n",
       "    }\n",
       "\n",
       "    .dataframe tbody tr th {\n",
       "        vertical-align: top;\n",
       "    }\n",
       "\n",
       "    .dataframe thead th {\n",
       "        text-align: right;\n",
       "    }\n",
       "</style>\n",
       "<table border=\"1\" class=\"dataframe\">\n",
       "  <thead>\n",
       "    <tr style=\"text-align: right;\">\n",
       "      <th></th>\n",
       "      <th>Country</th>\n",
       "      <th>Confirmed</th>\n",
       "      <th>Recovered</th>\n",
       "      <th>Deaths</th>\n",
       "      <th>Active</th>\n",
       "      <th>Mortality</th>\n",
       "      <th>Life Expectancy</th>\n",
       "      <th>GDP Per Capita</th>\n",
       "      <th>Population</th>\n",
       "      <th>Urban Population %</th>\n",
       "      <th>Slum Population %</th>\n",
       "      <th>Rural Population %</th>\n",
       "      <th>GDP Healthcare %</th>\n",
       "      <th>Cases Per Milion</th>\n",
       "      <th>Deaths Per Milion</th>\n",
       "    </tr>\n",
       "  </thead>\n",
       "  <tbody>\n",
       "    <tr>\n",
       "      <th>180</th>\n",
       "      <td>Yemen</td>\n",
       "      <td>2029.0</td>\n",
       "      <td>1255.0</td>\n",
       "      <td>587.0</td>\n",
       "      <td>187.0</td>\n",
       "      <td>28.93</td>\n",
       "      <td>66.10</td>\n",
       "      <td>3688.52</td>\n",
       "      <td>29161922.0</td>\n",
       "      <td>37.27</td>\n",
       "      <td>60.8</td>\n",
       "      <td>62.73</td>\n",
       "      <td>4.23</td>\n",
       "      <td>69.58</td>\n",
       "      <td>20.13</td>\n",
       "    </tr>\n",
       "    <tr>\n",
       "      <th>83</th>\n",
       "      <td>Italy</td>\n",
       "      <td>306235.0</td>\n",
       "      <td>222716.0</td>\n",
       "      <td>35801.0</td>\n",
       "      <td>47718.0</td>\n",
       "      <td>11.69</td>\n",
       "      <td>83.35</td>\n",
       "      <td>44196.69</td>\n",
       "      <td>60297396.0</td>\n",
       "      <td>70.74</td>\n",
       "      <td>NaN</td>\n",
       "      <td>29.26</td>\n",
       "      <td>8.84</td>\n",
       "      <td>5078.74</td>\n",
       "      <td>593.74</td>\n",
       "    </tr>\n",
       "    <tr>\n",
       "      <th>110</th>\n",
       "      <td>Mexico</td>\n",
       "      <td>720858.0</td>\n",
       "      <td>609041.0</td>\n",
       "      <td>75844.0</td>\n",
       "      <td>35973.0</td>\n",
       "      <td>10.52</td>\n",
       "      <td>74.99</td>\n",
       "      <td>20410.71</td>\n",
       "      <td>127575529.0</td>\n",
       "      <td>80.44</td>\n",
       "      <td>11.1</td>\n",
       "      <td>19.56</td>\n",
       "      <td>5.52</td>\n",
       "      <td>5650.44</td>\n",
       "      <td>594.50</td>\n",
       "    </tr>\n",
       "    <tr>\n",
       "      <th>179</th>\n",
       "      <td>Western Sahara</td>\n",
       "      <td>10.0</td>\n",
       "      <td>8.0</td>\n",
       "      <td>1.0</td>\n",
       "      <td>1.0</td>\n",
       "      <td>10.00</td>\n",
       "      <td>NaN</td>\n",
       "      <td>NaN</td>\n",
       "      <td>NaN</td>\n",
       "      <td>NaN</td>\n",
       "      <td>NaN</td>\n",
       "      <td>NaN</td>\n",
       "      <td>NaN</td>\n",
       "      <td>NaN</td>\n",
       "      <td>NaN</td>\n",
       "    </tr>\n",
       "    <tr>\n",
       "      <th>174</th>\n",
       "      <td>United Kingdom</td>\n",
       "      <td>425767.0</td>\n",
       "      <td>2303.0</td>\n",
       "      <td>42025.0</td>\n",
       "      <td>381439.0</td>\n",
       "      <td>9.87</td>\n",
       "      <td>81.26</td>\n",
       "      <td>48709.70</td>\n",
       "      <td>66834405.0</td>\n",
       "      <td>83.65</td>\n",
       "      <td>NaN</td>\n",
       "      <td>16.35</td>\n",
       "      <td>9.63</td>\n",
       "      <td>6370.48</td>\n",
       "      <td>628.79</td>\n",
       "    </tr>\n",
       "  </tbody>\n",
       "</table>\n",
       "</div>"
      ],
      "text/plain": [
       "            Country  Confirmed  Recovered   Deaths    Active  Mortality  \\\n",
       "180           Yemen     2029.0     1255.0    587.0     187.0      28.93   \n",
       "83            Italy   306235.0   222716.0  35801.0   47718.0      11.69   \n",
       "110          Mexico   720858.0   609041.0  75844.0   35973.0      10.52   \n",
       "179  Western Sahara       10.0        8.0      1.0       1.0      10.00   \n",
       "174  United Kingdom   425767.0     2303.0  42025.0  381439.0       9.87   \n",
       "\n",
       "     Life Expectancy  GDP Per Capita   Population  Urban Population %  \\\n",
       "180            66.10         3688.52   29161922.0               37.27   \n",
       "83             83.35        44196.69   60297396.0               70.74   \n",
       "110            74.99        20410.71  127575529.0               80.44   \n",
       "179              NaN             NaN          NaN                 NaN   \n",
       "174            81.26        48709.70   66834405.0               83.65   \n",
       "\n",
       "     Slum Population %  Rural Population %  GDP Healthcare %  \\\n",
       "180               60.8               62.73              4.23   \n",
       "83                 NaN               29.26              8.84   \n",
       "110               11.1               19.56              5.52   \n",
       "179                NaN                 NaN               NaN   \n",
       "174                NaN               16.35              9.63   \n",
       "\n",
       "     Cases Per Milion  Deaths Per Milion  \n",
       "180             69.58              20.13  \n",
       "83            5078.74             593.74  \n",
       "110           5650.44             594.50  \n",
       "179               NaN                NaN  \n",
       "174           6370.48             628.79  "
      ]
     },
     "execution_count": 6,
     "metadata": {},
     "output_type": "execute_result"
    }
   ],
   "source": [
    "economic.sort_values('Mortality', ascending=False).head()"
   ]
  },
  {
   "cell_type": "markdown",
   "metadata": {},
   "source": [
    "## GDP Healthcare\n",
    "We compare the percentage of gdp spent on healthcare with cases per milion."
   ]
  },
  {
   "cell_type": "code",
   "execution_count": 7,
   "metadata": {},
   "outputs": [
    {
     "data": {
      "image/png": "[encoded data removed]",
      "text/plain": [
       "<Figure size 360x360 with 1 Axes>"
      ]
     },
     "metadata": {
      "needs_background": "light"
     },
     "output_type": "display_data"
    },
    {
     "data": {
      "image/png": "[encoded data removed]",
      "text/plain": [
       "<Figure size 360x360 with 1 Axes>"
      ]
     },
     "metadata": {
      "needs_background": "light"
     },
     "output_type": "display_data"
    }
   ],
   "source": [
    "cols = ['Cases Per Milion', 'Deaths Per Milion']\n",
    "\n",
    "for col in cols:\n",
    "    plt.figure(figsize=figsize)\n",
    "    plt.scatter(economic['GDP Healthcare %'], economic[col], s=2)\n",
    "    plt.xlabel('GDP Healthcare %')\n",
    "    plt.ylabel(f'{col}')\n",
    "    plt.tight_layout()\n",
    "    plt.show()"
   ]
  },
  {
   "cell_type": "markdown",
   "metadata": {},
   "source": [
    "## Population\n",
    "\n",
    "We compare the proportion of people living in different areas to the mortality rate."
   ]
  },
  {
   "cell_type": "code",
   "execution_count": 8,
   "metadata": {
    "scrolled": false
   },
   "outputs": [
    {
     "data": {
      "image/png": "[encoded data removed]",
      "text/plain": [
       "<Figure size 360x360 with 1 Axes>"
      ]
     },
     "metadata": {
      "needs_background": "light"
     },
     "output_type": "display_data"
    },
    {
     "data": {
      "image/png": "[encoded data removed]",
      "text/plain": [
       "<Figure size 360x360 with 1 Axes>"
      ]
     },
     "metadata": {
      "needs_background": "light"
     },
     "output_type": "display_data"
    },
    {
     "data": {
      "image/png": "[encoded data removed]",
      "text/plain": [
       "<Figure size 360x360 with 1 Axes>"
      ]
     },
     "metadata": {
      "needs_background": "light"
     },
     "output_type": "display_data"
    }
   ],
   "source": [
    "cols = ['Urban Population %', \n",
    "        'Rural Population %', \n",
    "        'Slum Population %']\n",
    "\n",
    "for col in cols:\n",
    "    plt.figure(figsize=figsize)\n",
    "    plt.scatter(economic[col], economic['Mortality'], s=2)\n",
    "    plt.ylabel('Mortality %')\n",
    "    plt.xlabel(f'{col}')\n",
    "    plt.tight_layout()\n",
    "    plt.show()"
   ]
  },
  {
   "cell_type": "markdown",
   "metadata": {},
   "source": [
    "## GDP & Healthcare\n",
    "We compare life expectancy, healthcare spending and gdp per capita to the mortality rate."
   ]
  },
  {
   "cell_type": "code",
   "execution_count": 9,
   "metadata": {},
   "outputs": [
    {
     "data": {
      "image/png": "[encoded data removed]",
      "text/plain": [
       "<Figure size 360x360 with 1 Axes>"
      ]
     },
     "metadata": {
      "needs_background": "light"
     },
     "output_type": "display_data"
    },
    {
     "data": {
      "image/png": "[encoded data removed]",
      "text/plain": [
       "<Figure size 360x360 with 1 Axes>"
      ]
     },
     "metadata": {
      "needs_background": "light"
     },
     "output_type": "display_data"
    },
    {
     "data": {
      "image/png": "[encoded data removed]",
      "text/plain": [
       "<Figure size 360x360 with 1 Axes>"
      ]
     },
     "metadata": {
      "needs_background": "light"
     },
     "output_type": "display_data"
    }
   ],
   "source": [
    "cols = ['Life Expectancy', 'GDP Healthcare %', 'GDP Per Capita']\n",
    "\n",
    "for col in cols:\n",
    "    plt.figure(figsize=figsize)\n",
    "    plt.scatter(economic[col], economic['Mortality'], s=2)\n",
    "    plt.ylabel('Mortality %')\n",
    "    plt.xlabel(f'{col}')\n",
    "    plt.tight_layout()\n",
    "    plt.show()"
   ]
  }
 ],
 "metadata": {
  "kernelspec": {
   "display_name": "Python 3",
   "language": "python",
   "name": "python3"
  },
  "language_info": {
   "codemirror_mode": {
    "name": "ipython",
    "version": 3
   },
   "file_extension": ".py",
   "mimetype": "text/x-python",
   "name": "python",
   "nbconvert_exporter": "python",
   "pygments_lexer": "ipython3",
   "version": "3.8.2"
  }
 },
 "nbformat": 4,
 "nbformat_minor": 2
}
