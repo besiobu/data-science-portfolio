{
 "cells": [
  {
   "cell_type": "markdown",
   "metadata": {},
   "source": [
    "# Imports"
   ]
  },
  {
   "cell_type": "code",
   "execution_count": 1,
   "metadata": {},
   "outputs": [],
   "source": [
    "import sys\n",
    "import os\n",
    "import numpy as np\n",
    "import matplotlib as mpl\n",
    "import matplotlib.pyplot as plt"
   ]
  },
  {
   "cell_type": "code",
   "execution_count": 2,
   "metadata": {},
   "outputs": [],
   "source": [
    "project_path = os.path.abspath(os.path.join('..'))\n",
    "\n",
    "if project_path not in sys.path:\n",
    "    sys.path.append(f'{project_path}/src/visualizations/')\n",
    "    \n",
    "from covid_data_viz import CovidDataViz    "
   ]
  },
  {
   "cell_type": "markdown",
   "metadata": {},
   "source": [
    "# Goal\n",
    "My goal is to visualize various aspect of the `COVID-19` pandemic."
   ]
  },
  {
   "cell_type": "markdown",
   "metadata": {},
   "source": [
    "# Data sources\n",
    "\n",
    "In this project I use data from the following sources:\n",
    "- https://github.com/CSSEGISandData/COVID-19 - JHU CSSE COVID-19 Data.\n",
    "- https://datahub.io/JohnSnowLabs/country-and-continent-codes-list - country codes and continents."
   ]
  },
  {
   "cell_type": "markdown",
   "metadata": {},
   "source": [
    "# Data loading"
   ]
  },
  {
   "cell_type": "code",
   "execution_count": 3,
   "metadata": {},
   "outputs": [],
   "source": [
    "cdv = CovidDataViz()"
   ]
  },
  {
   "cell_type": "markdown",
   "metadata": {},
   "source": [
    "# Fancy plot\n",
    "\n",
    "Visual for repo readme."
   ]
  },
  {
   "cell_type": "code",
   "execution_count": 4,
   "metadata": {},
   "outputs": [],
   "source": [
    "def create_plot(width, height, dpi, period, step, \n",
    "                fontsize, fontfamily, n_clabels, \n",
    "                countries, suffix):\n",
    "    \n",
    "    # Data prep\n",
    "    df = cdv.data['Confirmed chg'][countries].copy()\n",
    "    df = df.rename(columns={'United Kingdom': 'UK'})\n",
    "    countries = df.columns.to_list()\n",
    "    df = df.rolling(period)\n",
    "    df = df.mean()\n",
    "    df = df.dropna()\n",
    "    df = df.to_numpy()\n",
    "    df = df.astype(float)\n",
    "    df = df.transpose()\n",
    "    df = np.sqrt(df)\n",
    "\n",
    "    mpl.rcParams['axes.linewidth'] \n",
    "\n",
    "    # Plot\n",
    "    size = (width / dpi, height / dpi)\n",
    "    plt.figure(figsize=size, dpi=dpi)\n",
    "    plt.imshow(df, aspect='auto', interpolation='nearest')\n",
    "    plt.set_cmap('hot')\n",
    "\n",
    "    # Labels\n",
    "    xticks = range(df.shape[1])[::step]\n",
    "    xlabels = list(cdv.data['Confirmed chg']['Date'])[period:]\n",
    "    xlabels = [x.strftime(format='%Y-%m') for x in xlabels]\n",
    "    xlabels = xlabels[::step]\n",
    "\n",
    "    yticks = range(len(countries))\n",
    "    ylabels = countries\n",
    "\n",
    "    plt.yticks(ticks=yticks, labels=ylabels, fontsize=fontsize, \n",
    "               family=fontfamily, verticalalignment='center')\n",
    "\n",
    "    plt.xticks(ticks=xticks, labels=xlabels, rotation=45, \n",
    "               fontsize=fontsize, family=fontfamily,\n",
    "               horizontalalignment='center')\n",
    "\n",
    "    # Colorbar\n",
    "    cticks = np.round(np.linspace(0, np.max(df), 6), -1)\n",
    "    cticks = cticks.astype(np.int)\n",
    "    clabels = np.power(cticks, 2)\n",
    "    cticks = sorted(set(cticks))\n",
    "    clabels = np.power(cticks, 2)\n",
    "    clabels = [int((round(x, -3))/1000) for x in clabels]\n",
    "    clabels = [str(x)+'k' for x in clabels]\n",
    "\n",
    "    cbar = plt.colorbar()\n",
    "    cbar.set_ticks(cticks)\n",
    "    cbar.set_ticklabels(clabels)\n",
    "    cbar.ax.tick_params(labelsize=fontsize) \n",
    "\n",
    "    for l in cbar.ax.yaxis.get_ticklabels():\n",
    "        l.set_family(fontfamily)\n",
    "        \n",
    "    plt.title('New COVID-19 cases', fontsize=fontsize + 2,\n",
    "              family=fontfamily)\n",
    "\n",
    "    plt.tight_layout()\n",
    "    plt.savefig(fname=f'../img/covid_tiles_{suffix}.png', \n",
    "                bbox_inches='tight')\n",
    "\n",
    "    plt.show()"
   ]
  },
  {
   "cell_type": "code",
   "execution_count": 5,
   "metadata": {},
   "outputs": [],
   "source": [
    "countries = ['Germany', \n",
    "             'France', \n",
    "             'Italy', \n",
    "             'Spain', \n",
    "             'United Kingdom', \n",
    "             'Russia', \n",
    "             'India', \n",
    "             'Brazil',\n",
    "             'US', \n",
    "             'Poland', \n",
    "             'Mexico']\n",
    "\n",
    "countries = sorted(countries)"
   ]
  },
  {
   "cell_type": "code",
   "execution_count": 6,
   "metadata": {},
   "outputs": [],
   "source": [
    "create_plot(width=600,\n",
    "            height=350,\n",
    "            dpi=200,\n",
    "            period=7,\n",
    "            step=30,\n",
    "            fontsize=5,\n",
    "            fontfamily='serif',\n",
    "            n_clabels=6,\n",
    "            countries=countries,\n",
    "            suffix='portfolio_readme')"
   ]
  },
  {
   "cell_type": "code",
   "execution_count": 9,
   "metadata": {},
   "outputs": [
    {
     "data": {
      "image/png": "[encoded data removed]",
      "text/plain": [
       "<Figure size 1000x600 with 2 Axes>"
      ]
     },
     "metadata": {
      "needs_background": "light"
     },
     "output_type": "display_data"
    }
   ],
   "source": [
    "create_plot(width=1000,\n",
    "            height=600,\n",
    "            dpi=300,\n",
    "            period=7,\n",
    "            step=30,\n",
    "            fontsize=4,\n",
    "            fontfamily='serif',            \n",
    "            n_clabels=6,\n",
    "            countries=countries,\n",
    "            suffix='project_readme')"
   ]
  }
 ],
 "metadata": {
  "kernelspec": {
   "display_name": "Python 3",
   "language": "python",
   "name": "python3"
  },
  "language_info": {
   "codemirror_mode": {
    "name": "ipython",
    "version": 3
   },
   "file_extension": ".py",
   "mimetype": "text/x-python",
   "name": "python",
   "nbconvert_exporter": "python",
   "pygments_lexer": "ipython3",
   "version": "3.8.5"
  }
 },
 "nbformat": 4,
 "nbformat_minor": 2
}
