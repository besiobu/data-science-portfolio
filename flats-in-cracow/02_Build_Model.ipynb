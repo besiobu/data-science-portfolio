{
 "cells": [
  {
   "cell_type": "code",
   "execution_count": 61,
   "metadata": {},
   "outputs": [],
   "source": [
    "import joblib\n",
    "import matplotlib.pyplot as plt\n",
    "import numpy as np\n",
    "import pandas as pd\n",
    "from matplotlib.ticker import MaxNLocator\n",
    "from pathlib import Path\n",
    "from pylab import rcParams\n",
    "from sklearn.compose import ColumnTransformer\n",
    "from sklearn.dummy import DummyRegressor\n",
    "from sklearn.ensemble import GradientBoostingRegressor, RandomForestRegressor\n",
    "from sklearn.impute import KNNImputer\n",
    "from sklearn.metrics import (mean_absolute_error, mean_squared_error,\n",
    "                             mean_squared_log_error)\n",
    "from sklearn.model_selection import GridSearchCV, train_test_split\n",
    "from sklearn.pipeline import Pipeline\n",
    "from sklearn.preprocessing import OneHotEncoder\n",
    "\n",
    "from distutils.dir_util import copy_tree"
   ]
  },
  {
   "cell_type": "code",
   "execution_count": 2,
   "metadata": {},
   "outputs": [],
   "source": [
    "# Create directory for images\n",
    "Path(\"img\").mkdir(parents=True, exist_ok=True)"
   ]
  },
  {
   "cell_type": "code",
   "execution_count": 3,
   "metadata": {},
   "outputs": [],
   "source": [
    "# Set figure size\n",
    "rcParams['figure.figsize'] = (6, 6)"
   ]
  },
  {
   "cell_type": "code",
   "execution_count": 4,
   "metadata": {},
   "outputs": [],
   "source": [
    "# Set float format\n",
    "pd.options.display.float_format = \"{:,.2f}\".format"
   ]
  },
  {
   "cell_type": "markdown",
   "metadata": {},
   "source": [
    "# Goal\n",
    "I scraped listings of properties for sale in Cracow. We would like to create a model to predict flat prices."
   ]
  },
  {
   "cell_type": "markdown",
   "metadata": {},
   "source": [
    "# Data inspection\n",
    "\n",
    "Data has been scraped from a website with listings. The data has undergone small transformations along the way. The goal of these transformations was to get the data into a usable state not to check it's validity."
   ]
  },
  {
   "cell_type": "code",
   "execution_count": 5,
   "metadata": {},
   "outputs": [],
   "source": [
    "path = '../flats-data/cleaned_data.csv'"
   ]
  },
  {
   "cell_type": "code",
   "execution_count": 6,
   "metadata": {},
   "outputs": [],
   "source": [
    "data = pd.read_csv(path, lineterminator='\\n')"
   ]
  },
  {
   "cell_type": "code",
   "execution_count": 7,
   "metadata": {},
   "outputs": [
    {
     "name": "stdout",
     "output_type": "stream",
     "text": [
      "<class 'pandas.core.frame.DataFrame'>\n",
      "RangeIndex: 35693 entries, 0 to 35692\n",
      "Data columns (total 24 columns):\n",
      " #   Column       Non-Null Count  Dtype  \n",
      "---  ------       --------------  -----  \n",
      " 0   Date         35600 non-null  object \n",
      " 1   City         22682 non-null  object \n",
      " 2   District     18446 non-null  object \n",
      " 3   Amount       35570 non-null  float64\n",
      " 4   Currency     35570 non-null  object \n",
      " 5   Property     35327 non-null  object \n",
      " 6   Seller       35491 non-null  object \n",
      " 7   Area         35382 non-null  float64\n",
      " 8   Rooms        34975 non-null  float64\n",
      " 9   Bathrooms    22633 non-null  float64\n",
      " 10  Parking      14734 non-null  object \n",
      " 11  Garden       35693 non-null  bool   \n",
      " 12  Balcony      35693 non-null  bool   \n",
      " 13  Terrace      35693 non-null  bool   \n",
      " 14  Lift         35693 non-null  bool   \n",
      " 15  New          35693 non-null  bool   \n",
      " 16  Estate       35693 non-null  bool   \n",
      " 17  Townhouse    35693 non-null  bool   \n",
      " 18  Apartment    35693 non-null  bool   \n",
      " 19  Land         35693 non-null  bool   \n",
      " 20  Studio       35693 non-null  bool   \n",
      " 21  Title        35600 non-null  object \n",
      " 22  Description  31359 non-null  object \n",
      " 23  Link         35693 non-null  object \n",
      "dtypes: bool(10), float64(4), object(10)\n",
      "memory usage: 4.2+ MB\n"
     ]
    }
   ],
   "source": [
    "data.info()"
   ]
  },
  {
   "cell_type": "markdown",
   "metadata": {},
   "source": [
    "Next we inspect numeric features."
   ]
  },
  {
   "cell_type": "code",
   "execution_count": 8,
   "metadata": {},
   "outputs": [
    {
     "data": {
      "text/html": [
       "<div>\n",
       "<style scoped>\n",
       "    .dataframe tbody tr th:only-of-type {\n",
       "        vertical-align: middle;\n",
       "    }\n",
       "\n",
       "    .dataframe tbody tr th {\n",
       "        vertical-align: top;\n",
       "    }\n",
       "\n",
       "    .dataframe thead th {\n",
       "        text-align: right;\n",
       "    }\n",
       "</style>\n",
       "<table border=\"1\" class=\"dataframe\">\n",
       "  <thead>\n",
       "    <tr style=\"text-align: right;\">\n",
       "      <th></th>\n",
       "      <th>Amount</th>\n",
       "      <th>Area</th>\n",
       "      <th>Rooms</th>\n",
       "      <th>Bathrooms</th>\n",
       "    </tr>\n",
       "  </thead>\n",
       "  <tbody>\n",
       "    <tr>\n",
       "      <th>count</th>\n",
       "      <td>35,570.00</td>\n",
       "      <td>35,382.00</td>\n",
       "      <td>34,975.00</td>\n",
       "      <td>22,633.00</td>\n",
       "    </tr>\n",
       "    <tr>\n",
       "      <th>mean</th>\n",
       "      <td>731,287.01</td>\n",
       "      <td>99.97</td>\n",
       "      <td>3.01</td>\n",
       "      <td>1.36</td>\n",
       "    </tr>\n",
       "    <tr>\n",
       "      <th>std</th>\n",
       "      <td>859,314.61</td>\n",
       "      <td>1,929.00</td>\n",
       "      <td>1.32</td>\n",
       "      <td>0.67</td>\n",
       "    </tr>\n",
       "    <tr>\n",
       "      <th>min</th>\n",
       "      <td>1.00</td>\n",
       "      <td>1.00</td>\n",
       "      <td>1.00</td>\n",
       "      <td>1.00</td>\n",
       "    </tr>\n",
       "    <tr>\n",
       "      <th>25%</th>\n",
       "      <td>409,000.00</td>\n",
       "      <td>45.00</td>\n",
       "      <td>2.00</td>\n",
       "      <td>1.00</td>\n",
       "    </tr>\n",
       "    <tr>\n",
       "      <th>50%</th>\n",
       "      <td>525,000.00</td>\n",
       "      <td>59.00</td>\n",
       "      <td>3.00</td>\n",
       "      <td>1.00</td>\n",
       "    </tr>\n",
       "    <tr>\n",
       "      <th>75%</th>\n",
       "      <td>760,000.00</td>\n",
       "      <td>87.00</td>\n",
       "      <td>4.00</td>\n",
       "      <td>2.00</td>\n",
       "    </tr>\n",
       "    <tr>\n",
       "      <th>max</th>\n",
       "      <td>22,000,000.00</td>\n",
       "      <td>320,000.00</td>\n",
       "      <td>6.00</td>\n",
       "      <td>4.00</td>\n",
       "    </tr>\n",
       "  </tbody>\n",
       "</table>\n",
       "</div>"
      ],
      "text/plain": [
       "             Amount       Area     Rooms  Bathrooms\n",
       "count     35,570.00  35,382.00 34,975.00  22,633.00\n",
       "mean     731,287.01      99.97      3.01       1.36\n",
       "std      859,314.61   1,929.00      1.32       0.67\n",
       "min            1.00       1.00      1.00       1.00\n",
       "25%      409,000.00      45.00      2.00       1.00\n",
       "50%      525,000.00      59.00      3.00       1.00\n",
       "75%      760,000.00      87.00      4.00       2.00\n",
       "max   22,000,000.00 320,000.00      6.00       4.00"
      ]
     },
     "execution_count": 8,
     "metadata": {},
     "output_type": "execute_result"
    }
   ],
   "source": [
    "data.describe()"
   ]
  },
  {
   "cell_type": "markdown",
   "metadata": {},
   "source": [
    "We see that we have 24 columns at our disposal. \n",
    "We inspect the numeric columns to see what we are dealing with. \n",
    "In the `Amount` column we note there is a property for sale that costs 1PLN, clearly a erroneous value. \n",
    "Next we note that the enourmous maximum in the `Amount` column. That is quite a lot of money and could be considered a potential outlier.\n",
    "The maximum and minimum of the `Area` column also indicate the existance of outliers. These values are clearly too large for flats. The data will need to undergo a filtering process."
   ]
  },
  {
   "cell_type": "markdown",
   "metadata": {},
   "source": [
    "We inspect categorical columns to assert that they contain \"valid\" values. Most of these columns were generated by a script during the scraping and etl phase of the project."
   ]
  },
  {
   "cell_type": "code",
   "execution_count": 9,
   "metadata": {
    "scrolled": false
   },
   "outputs": [
    {
     "name": "stdout",
     "output_type": "stream",
     "text": [
      "City:\n",
      "\tkraków\n",
      "\tnan\n",
      "District:\n",
      "\tnan\n",
      "\tpodgórze\n",
      "\tdębniki\n",
      "\tprądnik biały\n",
      "\tkrowodrza\n",
      "\tbieżanów\n",
      "\tstare miasto\n",
      "\tmistrzejowice\n",
      "\tgrzegórzki\n",
      "\tbronowice\n",
      "\tnowa huta\n",
      "\tłagiewniki\n",
      "\tzwierzyniec\n",
      "\tczyżyny\n",
      "\tpodgórze duchackie\n",
      "\tprądnik czerwony\n",
      "\tswoszowice\n",
      "\tprokocim\n",
      "\twzgórza krzesławickie\n",
      "\tbieńczyce\n",
      "\tborek fałęcki\n",
      "Currency:\n",
      "\tpln\n",
      "\tnan\n",
      "Property:\n",
      "\tflat\n",
      "\thouse\n",
      "\tnan\n",
      "Seller:\n",
      "\trealtor\n",
      "\towner\n",
      "\tnan\n",
      "Parking:\n",
      "\tnan\n",
      "\tunknown\n",
      "\tstreet\n",
      "\tgarage\n",
      "\tcovered\n"
     ]
    }
   ],
   "source": [
    "cols_to_check = data.select_dtypes('object').columns\n",
    "cols_to_check = cols_to_check.to_list()\n",
    "cols_to_check.remove('Title')\n",
    "cols_to_check.remove('Link')\n",
    "cols_to_check.remove('Description')\n",
    "cols_to_check.remove('Date')\n",
    "\n",
    "for col in cols_to_check:\n",
    "    unique = data[col].unique()\n",
    "    print(f'{col}:')    \n",
    "    for value in unique:\n",
    "        print(f'\\t{value}')        "
   ]
  },
  {
   "cell_type": "markdown",
   "metadata": {},
   "source": [
    "# Data preparation\n",
    "## Dealing with NaN's.\n",
    "\n",
    "First we assume that if the `City` is missing but we have a `District` value the property is in Cracow."
   ]
  },
  {
   "cell_type": "code",
   "execution_count": 10,
   "metadata": {},
   "outputs": [],
   "source": [
    "mask = (data['City'].isna() == True) & (data['District'].isna() == False)\n",
    "data.loc[mask, 'City'] = 'kraków'"
   ]
  },
  {
   "cell_type": "markdown",
   "metadata": {},
   "source": [
    "We convert binary features to zeroes and ones."
   ]
  },
  {
   "cell_type": "code",
   "execution_count": 11,
   "metadata": {},
   "outputs": [],
   "source": [
    "data = data.replace(True, 1)\n",
    "data = data.replace(False, 0)"
   ]
  },
  {
   "cell_type": "markdown",
   "metadata": {},
   "source": [
    "We add an extra category `unknown` to the `Parking` and `District` column."
   ]
  },
  {
   "cell_type": "code",
   "execution_count": 12,
   "metadata": {},
   "outputs": [],
   "source": [
    "data.loc[:, 'Parking'] = data['Parking'].apply(lambda x: 'unknown' if pd.isnull(x) else x)\n",
    "data.loc[:, 'District'] = data['District'].apply(lambda x: 'unknown' if pd.isnull(x) else x)"
   ]
  },
  {
   "cell_type": "markdown",
   "metadata": {},
   "source": [
    "Since there are duplicate rows we assume that each listing has a unique `Title`."
   ]
  },
  {
   "cell_type": "code",
   "execution_count": 13,
   "metadata": {},
   "outputs": [],
   "source": [
    "data = data.drop_duplicates(['Title'])"
   ]
  },
  {
   "cell_type": "markdown",
   "metadata": {},
   "source": [
    "## Filter data\n",
    "Next we filter the data according to these rules:\n",
    "1. `Seller` is not `NaN`\n",
    "2. `Property` is not `NaN`\n",
    "3. `City` is '`kraków'`\n",
    "4. `Currency` is Polish Złoty (`PLN`)\n",
    "5. 50 000 <= `Amount` <= 1 500 000\n",
    "6. 0 < `Area` <= 200\n",
    "6. `District` is not `NaN`\n",
    "7. `Property` is not a `house`\n",
    "\n",
    "Before applying these filters the shape of the data is:"
   ]
  },
  {
   "cell_type": "code",
   "execution_count": 14,
   "metadata": {},
   "outputs": [
    {
     "name": "stdout",
     "output_type": "stream",
     "text": [
      "(6862, 24)\n"
     ]
    }
   ],
   "source": [
    "print(data.shape)"
   ]
  },
  {
   "cell_type": "code",
   "execution_count": 15,
   "metadata": {},
   "outputs": [],
   "source": [
    "data = data[data['Seller'].isna() == False]\n",
    "data = data[data['Property'].isna() == False]\n",
    "data = data[data['City'] == 'kraków']\n",
    "data = data[data['Currency'] == 'pln']\n",
    "data = data[data['Amount'] >= 5 * 10 ** 4]\n",
    "data = data[data['Amount'] <= 1.5 * 10 ** 6]\n",
    "data = data[data['Area'] > 0]\n",
    "data = data[data['Area'] <= 200]\n",
    "data = data[data['District'] != 'unknown']\n",
    "data = data[data['Property'] != 'house']\n",
    "data = data.reset_index(drop=True)"
   ]
  },
  {
   "cell_type": "markdown",
   "metadata": {},
   "source": [
    "The shape of the filtered data is:"
   ]
  },
  {
   "cell_type": "code",
   "execution_count": 16,
   "metadata": {},
   "outputs": [
    {
     "name": "stdout",
     "output_type": "stream",
     "text": [
      "(3431, 24)\n"
     ]
    }
   ],
   "source": [
    "print(data.shape)"
   ]
  },
  {
   "cell_type": "markdown",
   "metadata": {},
   "source": [
    "## Impute numerical values\n",
    "The next step is to fill in missing values for numeric columns `Amount` `Area` `Rooms` and `Bathrooms`."
   ]
  },
  {
   "cell_type": "code",
   "execution_count": 17,
   "metadata": {},
   "outputs": [],
   "source": [
    "mask = (data['Bathrooms'].isna() == True | data['Rooms'].isna())\n",
    "to_impute = ['Amount', 'Area', 'Rooms', 'Bathrooms']\n",
    "\n",
    "missing = data[to_impute]"
   ]
  },
  {
   "cell_type": "markdown",
   "metadata": {},
   "source": [
    "We use the KNN algorithm to accomplish this."
   ]
  },
  {
   "cell_type": "code",
   "execution_count": 18,
   "metadata": {},
   "outputs": [],
   "source": [
    "imputer = KNNImputer(n_neighbors=5)\n",
    "imputer.fit(missing)\n",
    "missing = imputer.transform(missing)\n",
    "missing = pd.DataFrame(missing, columns=to_impute)"
   ]
  },
  {
   "cell_type": "markdown",
   "metadata": {},
   "source": [
    "We add the imputed back into the original dataset."
   ]
  },
  {
   "cell_type": "code",
   "execution_count": 19,
   "metadata": {},
   "outputs": [],
   "source": [
    "for col in to_impute:\n",
    "    data[col] = missing[col]\n",
    "    \n",
    "for col in to_impute:\n",
    "    data[col] = data[col].apply(lambda x: round(x))    "
   ]
  },
  {
   "cell_type": "markdown",
   "metadata": {},
   "source": [
    "The shape of the data is:"
   ]
  },
  {
   "cell_type": "code",
   "execution_count": 20,
   "metadata": {},
   "outputs": [
    {
     "name": "stdout",
     "output_type": "stream",
     "text": [
      "(3431, 24)\n"
     ]
    }
   ],
   "source": [
    "print(data.shape)"
   ]
  },
  {
   "cell_type": "markdown",
   "metadata": {},
   "source": [
    "## Remove columns\n",
    "The data has been fully processed so we remove the unwanted columns."
   ]
  },
  {
   "cell_type": "code",
   "execution_count": 21,
   "metadata": {},
   "outputs": [],
   "source": [
    "data = data.reset_index(drop=True)\n",
    "data = data.drop(['Title', \n",
    "                  'Description', \n",
    "                  'Link', \n",
    "                  'Property', \n",
    "                  'City', \n",
    "                  'Currency', \n",
    "                  'Date', \n",
    "                  'Amount Z-score', \n",
    "                  'Area Z-score'], \n",
    "                 axis=1, errors='ignore')\n",
    "\n",
    "data = data.dropna()"
   ]
  },
  {
   "cell_type": "markdown",
   "metadata": {},
   "source": [
    "The shape of the data is:"
   ]
  },
  {
   "cell_type": "code",
   "execution_count": 22,
   "metadata": {},
   "outputs": [
    {
     "name": "stdout",
     "output_type": "stream",
     "text": [
      "(3431, 17)\n"
     ]
    }
   ],
   "source": [
    "print(data.shape)"
   ]
  },
  {
   "cell_type": "markdown",
   "metadata": {},
   "source": [
    "# Feature engineering\n",
    "The next step is to engineer features. We add columns describing the `Total Rooms` in the property, ratio of `Area to Rooms` and so on."
   ]
  },
  {
   "cell_type": "code",
   "execution_count": 23,
   "metadata": {},
   "outputs": [],
   "source": [
    "data['Log Area'] = np.round(np.log(data['Area']), 2)\n",
    "data['Bool Sum'] = data.select_dtypes(bool).sum(axis=1)\n",
    "# Avoid division by zero\n",
    "data['Area to Bool Sum'] = round(data['Area'] / (data.select_dtypes(bool).sum(axis=1) + 1), 2)\n",
    "data['Rooms to Bool Sum'] = round(data['Rooms'] / (data.select_dtypes(bool).sum(axis=1) + 1), 2)\n",
    "data['Rooms to Bathrooms' ] = round(data['Rooms'] / data['Bathrooms'], 2)\n",
    "data['Total Rooms'] = round(data['Rooms'] + data['Bathrooms'], 2)\n",
    "data['Area to Rooms'] = round(data['Area'] / data['Rooms'], 2)\n",
    "data['Area to Bathrooms'] = round(data['Area'] / data['Rooms'], 2)\n",
    "data['Area to Total Rooms'] = round(data['Area'] / data['Total Rooms'], 2)"
   ]
  },
  {
   "cell_type": "markdown",
   "metadata": {},
   "source": [
    "# Model\n",
    "\n",
    "At this stage we are ready to create a test-train split and a pipeline.\n",
    "\n",
    "## Test-train split\n",
    "We decide to use 80% of the data to train the model and 20% to check performance.\n",
    "We make sure to remove the `Amount` column from the training data since this is our target."
   ]
  },
  {
   "cell_type": "code",
   "execution_count": 24,
   "metadata": {},
   "outputs": [],
   "source": [
    "X = data.drop(['Amount'], axis=1)\n",
    "y = data['Amount']\n",
    "\n",
    "split = train_test_split(X, y, train_size=.8,\n",
    "                               random_state=123)\n",
    "\n",
    "X_train, X_test, y_train, y_test = split"
   ]
  },
  {
   "cell_type": "markdown",
   "metadata": {},
   "source": [
    "The shape of the training data is:"
   ]
  },
  {
   "cell_type": "code",
   "execution_count": 25,
   "metadata": {},
   "outputs": [
    {
     "name": "stdout",
     "output_type": "stream",
     "text": [
      "(2744, 25) (2744,)\n"
     ]
    }
   ],
   "source": [
    "print(X_train.shape, y_train.shape)"
   ]
  },
  {
   "cell_type": "markdown",
   "metadata": {},
   "source": [
    "The shape of the testing data is:"
   ]
  },
  {
   "cell_type": "code",
   "execution_count": 26,
   "metadata": {},
   "outputs": [
    {
     "name": "stdout",
     "output_type": "stream",
     "text": [
      "(687, 25) (687,)\n"
     ]
    }
   ],
   "source": [
    "print(X_test.shape, y_test.shape)"
   ]
  },
  {
   "cell_type": "markdown",
   "metadata": {},
   "source": [
    "## One Hot Encoding\n",
    "\n",
    "We apply one hot encoding to categorical features and use the `ColumnTransformer` parameter `passthrough` to allow the rest of the columns to remain unchanged."
   ]
  },
  {
   "cell_type": "code",
   "execution_count": 27,
   "metadata": {},
   "outputs": [],
   "source": [
    "categorical_features = ['District', \n",
    "                        'Seller', \n",
    "                        'Parking']\n",
    "\n",
    "categorical_transformer = Pipeline(\n",
    "    steps=[('onehot', OneHotEncoder(handle_unknown='ignore'))]\n",
    ")\n",
    "\n",
    "preprocessor = ColumnTransformer(\n",
    "    transformers = [\n",
    "        ('cat', categorical_transformer, categorical_features)\n",
    "    ],\n",
    "    remainder='passthrough'\n",
    ")"
   ]
  },
  {
   "cell_type": "markdown",
   "metadata": {},
   "source": [
    "## Models\n",
    "\n",
    "For model evaulation purposes we create two models: \n",
    "1. `DummyRegressor` - we willuse this as the baseline.\n",
    "2. `GradientBoostingRegressor`.\n",
    "\n",
    "It would nice if the `GradientBoostingRegressor` outperforms the `DummyRegressor` since it uses averages to make predictions."
   ]
  },
  {
   "cell_type": "code",
   "execution_count": 28,
   "metadata": {},
   "outputs": [],
   "source": [
    "reg = GradientBoostingRegressor(random_state=123)\n",
    "reg_dummy = DummyRegressor()"
   ]
  },
  {
   "cell_type": "markdown",
   "metadata": {},
   "source": [
    "## Pipeline\n",
    "\n",
    "For each model we create a seperate pipeline."
   ]
  },
  {
   "cell_type": "code",
   "execution_count": 29,
   "metadata": {},
   "outputs": [],
   "source": [
    "mdl = Pipeline(steps = [('preprocessor', preprocessor),\n",
    "                        ('regressor', reg)])\n",
    "\n",
    "dum = Pipeline(steps = [('preprocessor', preprocessor),\n",
    "                        ('regressor', reg_dummy)])"
   ]
  },
  {
   "cell_type": "markdown",
   "metadata": {},
   "source": [
    "## Parameter Tuning\n",
    "We create a parameter grid to conduct basic parameter tuning and perfom cross-validation."
   ]
  },
  {
   "cell_type": "code",
   "execution_count": 30,
   "metadata": {},
   "outputs": [],
   "source": [
    "param_grid = {\"regressor__max_depth\": [3], \n",
    "              \"regressor__n_estimators\": [100],\n",
    "              \"regressor__min_samples_split\": [2],\n",
    "              \"regressor__min_samples_leaf\": [2],\n",
    "              \"regressor__max_features\": ['auto']}\n",
    "\n",
    "gs = GridSearchCV(estimator=mdl, \n",
    "                  param_grid=param_grid,\n",
    "                  cv=2,\n",
    "                  n_jobs=8,\n",
    "                  verbose=2)"
   ]
  },
  {
   "cell_type": "markdown",
   "metadata": {},
   "source": [
    "We then fit the model to the data."
   ]
  },
  {
   "cell_type": "code",
   "execution_count": 31,
   "metadata": {},
   "outputs": [
    {
     "name": "stdout",
     "output_type": "stream",
     "text": [
      "Fitting 2 folds for each of 1 candidates, totalling 2 fits\n"
     ]
    },
    {
     "name": "stderr",
     "output_type": "stream",
     "text": [
      "[Parallel(n_jobs=8)]: Using backend LokyBackend with 8 concurrent workers.\n",
      "[Parallel(n_jobs=8)]: Done   2 out of   2 | elapsed:    3.0s finished\n"
     ]
    }
   ],
   "source": [
    "gs.fit(X_train, y_train)\n",
    "mdl = gs.best_estimator_"
   ]
  },
  {
   "cell_type": "markdown",
   "metadata": {},
   "source": [
    "We then fit the dummy model to the data."
   ]
  },
  {
   "cell_type": "code",
   "execution_count": 32,
   "metadata": {},
   "outputs": [
    {
     "data": {
      "text/plain": [
       "Pipeline(steps=[('preprocessor',\n",
       "                 ColumnTransformer(remainder='passthrough',\n",
       "                                   transformers=[('cat',\n",
       "                                                  Pipeline(steps=[('onehot',\n",
       "                                                                   OneHotEncoder(handle_unknown='ignore'))]),\n",
       "                                                  ['District', 'Seller',\n",
       "                                                   'Parking'])])),\n",
       "                ('regressor', DummyRegressor())])"
      ]
     },
     "execution_count": 32,
     "metadata": {},
     "output_type": "execute_result"
    }
   ],
   "source": [
    "dum.fit(X_train, y_train)"
   ]
  },
  {
   "cell_type": "markdown",
   "metadata": {},
   "source": [
    "## Performance evaluation\n",
    "### Metrics\n",
    "\n",
    "We obtain predictions for the testing set."
   ]
  },
  {
   "cell_type": "code",
   "execution_count": 33,
   "metadata": {},
   "outputs": [],
   "source": [
    "y_pred_dum = dum.predict(X_test)\n",
    "y_pred = mdl.predict(X_test)"
   ]
  },
  {
   "cell_type": "markdown",
   "metadata": {},
   "source": [
    "We compare `RMSE`, `MAE` and `MSLE` for our models. The scores of the dummy model are:"
   ]
  },
  {
   "cell_type": "code",
   "execution_count": 34,
   "metadata": {},
   "outputs": [
    {
     "name": "stdout",
     "output_type": "stream",
     "text": [
      "Dummy model:\n",
      "RMSE:  230260.40\n",
      "MAE:   172417.13\n",
      "MSLE:       0.18\n"
     ]
    }
   ],
   "source": [
    "dum_rmse = mean_squared_error(y_pred=y_pred_dum, y_true=y_test, squared=False)\n",
    "dum_mae = mean_absolute_error(y_pred=y_pred_dum, y_true=y_test)\n",
    "dum_msle = mean_squared_log_error(y_pred=y_pred_dum, y_true=y_test)\n",
    "\n",
    "print(f'Dummy model:')\n",
    "print(f'RMSE: {dum_rmse:10.2f}')\n",
    "print(f'MAE:  {dum_mae:10.2f}')\n",
    "print(f'MSLE: {dum_msle:10.2f}')"
   ]
  },
  {
   "cell_type": "markdown",
   "metadata": {},
   "source": [
    "The scores of the actual model are:"
   ]
  },
  {
   "cell_type": "code",
   "execution_count": 35,
   "metadata": {},
   "outputs": [
    {
     "name": "stdout",
     "output_type": "stream",
     "text": [
      "Actual model\n",
      "RMSE:  115096.87\n",
      "MAE:    77954.81\n",
      "MSLE:       0.04\n"
     ]
    }
   ],
   "source": [
    "rmse = mean_squared_error(y_pred=y_pred, y_true=y_test, squared=False)\n",
    "mae = mean_absolute_error(y_pred=y_pred, y_true=y_test)\n",
    "msle = mean_squared_log_error(y_pred=y_pred, y_true=y_test)\n",
    "\n",
    "print('Actual model')\n",
    "print(f'RMSE: {rmse:10.2f}')\n",
    "print(f'MAE:  {mae:10.2f}')\n",
    "print(f'MSLE: {msle:10.2f}')"
   ]
  },
  {
   "cell_type": "markdown",
   "metadata": {},
   "source": [
    "### Performance comparison"
   ]
  },
  {
   "cell_type": "markdown",
   "metadata": {},
   "source": [
    "We are happy to see that the `GradientBoostingRegressor` outperfomed the `DummyRegressor` significantly.\n",
    "In terms of percentages the improvements are:"
   ]
  },
  {
   "cell_type": "code",
   "execution_count": 36,
   "metadata": {},
   "outputs": [
    {
     "data": {
      "text/html": [
       "<div>\n",
       "<style scoped>\n",
       "    .dataframe tbody tr th:only-of-type {\n",
       "        vertical-align: middle;\n",
       "    }\n",
       "\n",
       "    .dataframe tbody tr th {\n",
       "        vertical-align: top;\n",
       "    }\n",
       "\n",
       "    .dataframe thead th {\n",
       "        text-align: right;\n",
       "    }\n",
       "</style>\n",
       "<table border=\"1\" class=\"dataframe\">\n",
       "  <thead>\n",
       "    <tr style=\"text-align: right;\">\n",
       "      <th></th>\n",
       "      <th>Dummy</th>\n",
       "      <th>Model</th>\n",
       "      <th>Improvement (%)</th>\n",
       "    </tr>\n",
       "  </thead>\n",
       "  <tbody>\n",
       "    <tr>\n",
       "      <th>MSE</th>\n",
       "      <td>230,260.40</td>\n",
       "      <td>115,096.87</td>\n",
       "      <td>-50.01</td>\n",
       "    </tr>\n",
       "    <tr>\n",
       "      <th>MAE</th>\n",
       "      <td>172,417.13</td>\n",
       "      <td>77,954.81</td>\n",
       "      <td>-54.79</td>\n",
       "    </tr>\n",
       "    <tr>\n",
       "      <th>MSLE</th>\n",
       "      <td>0.18</td>\n",
       "      <td>0.04</td>\n",
       "      <td>-75.50</td>\n",
       "    </tr>\n",
       "  </tbody>\n",
       "</table>\n",
       "</div>"
      ],
      "text/plain": [
       "          Dummy      Model  Improvement (%)\n",
       "MSE  230,260.40 115,096.87           -50.01\n",
       "MAE  172,417.13  77,954.81           -54.79\n",
       "MSLE       0.18       0.04           -75.50"
      ]
     },
     "execution_count": 36,
     "metadata": {},
     "output_type": "execute_result"
    }
   ],
   "source": [
    "scores = [[dum_rmse, dum_mae, dum_msle],\n",
    "          [rmse, mae, msle]]\n",
    "\n",
    "scores = pd.DataFrame(scores, \n",
    "                      index=['Dummy', 'Model'], \n",
    "                      columns=['MSE', 'MAE', 'MSLE'])\n",
    "\n",
    "scores = scores.transpose()\n",
    "scores['Improvement (%)'] = np.round((scores['Model'] / scores['Dummy'] - 1) * 100, 2)\n",
    "\n",
    "scores"
   ]
  },
  {
   "cell_type": "markdown",
   "metadata": {},
   "source": [
    "Our model after parameter tuning is:"
   ]
  },
  {
   "cell_type": "code",
   "execution_count": 37,
   "metadata": {},
   "outputs": [
    {
     "data": {
      "text/plain": [
       "Pipeline(steps=[('preprocessor',\n",
       "                 ColumnTransformer(remainder='passthrough',\n",
       "                                   transformers=[('cat',\n",
       "                                                  Pipeline(steps=[('onehot',\n",
       "                                                                   OneHotEncoder(handle_unknown='ignore'))]),\n",
       "                                                  ['District', 'Seller',\n",
       "                                                   'Parking'])])),\n",
       "                ('regressor',\n",
       "                 GradientBoostingRegressor(max_features='auto',\n",
       "                                           min_samples_leaf=2,\n",
       "                                           random_state=123))])"
      ]
     },
     "execution_count": 37,
     "metadata": {},
     "output_type": "execute_result"
    }
   ],
   "source": [
    "mdl"
   ]
  },
  {
   "cell_type": "markdown",
   "metadata": {},
   "source": [
    "### Visuals\n",
    "We produce a couple of plots the visually inspect the performance of our model.\n",
    "We use the test data set with the predicted `Amount` to produce the plots."
   ]
  },
  {
   "cell_type": "code",
   "execution_count": 38,
   "metadata": {},
   "outputs": [
    {
     "data": {
      "text/html": [
       "<div>\n",
       "<style scoped>\n",
       "    .dataframe tbody tr th:only-of-type {\n",
       "        vertical-align: middle;\n",
       "    }\n",
       "\n",
       "    .dataframe tbody tr th {\n",
       "        vertical-align: top;\n",
       "    }\n",
       "\n",
       "    .dataframe thead th {\n",
       "        text-align: right;\n",
       "    }\n",
       "</style>\n",
       "<table border=\"1\" class=\"dataframe\">\n",
       "  <thead>\n",
       "    <tr style=\"text-align: right;\">\n",
       "      <th></th>\n",
       "      <th>Amount</th>\n",
       "      <th>Predicted Amount</th>\n",
       "      <th>District</th>\n",
       "      <th>Area</th>\n",
       "      <th>Total Rooms</th>\n",
       "    </tr>\n",
       "  </thead>\n",
       "  <tbody>\n",
       "    <tr>\n",
       "      <th>3117</th>\n",
       "      <td>991000</td>\n",
       "      <td>820,214.01</td>\n",
       "      <td>podgórze</td>\n",
       "      <td>90</td>\n",
       "      <td>3</td>\n",
       "    </tr>\n",
       "    <tr>\n",
       "      <th>646</th>\n",
       "      <td>369000</td>\n",
       "      <td>381,753.23</td>\n",
       "      <td>nowa huta</td>\n",
       "      <td>47</td>\n",
       "      <td>3</td>\n",
       "    </tr>\n",
       "    <tr>\n",
       "      <th>776</th>\n",
       "      <td>1000000</td>\n",
       "      <td>726,125.56</td>\n",
       "      <td>prądnik czerwony</td>\n",
       "      <td>166</td>\n",
       "      <td>8</td>\n",
       "    </tr>\n",
       "    <tr>\n",
       "      <th>2306</th>\n",
       "      <td>1199000</td>\n",
       "      <td>1,114,750.76</td>\n",
       "      <td>stare miasto</td>\n",
       "      <td>102</td>\n",
       "      <td>4</td>\n",
       "    </tr>\n",
       "    <tr>\n",
       "      <th>956</th>\n",
       "      <td>594000</td>\n",
       "      <td>859,928.53</td>\n",
       "      <td>stare miasto</td>\n",
       "      <td>65</td>\n",
       "      <td>3</td>\n",
       "    </tr>\n",
       "  </tbody>\n",
       "</table>\n",
       "</div>"
      ],
      "text/plain": [
       "       Amount  Predicted Amount          District  Area  Total Rooms\n",
       "3117   991000        820,214.01          podgórze    90            3\n",
       "646    369000        381,753.23         nowa huta    47            3\n",
       "776   1000000        726,125.56  prądnik czerwony   166            8\n",
       "2306  1199000      1,114,750.76      stare miasto   102            4\n",
       "956    594000        859,928.53      stare miasto    65            3"
      ]
     },
     "execution_count": 38,
     "metadata": {},
     "output_type": "execute_result"
    }
   ],
   "source": [
    "cols = ['Amount', 'Predicted Amount', \n",
    "        'District', 'Area', 'Total Rooms']\n",
    "\n",
    "X_pred = X_test.copy()\n",
    "X_pred.loc[:, 'Amount'] = y\n",
    "X_pred.loc[:, 'Predicted Amount'] = y_pred\n",
    "X_pred = X_pred.loc[:, cols]\n",
    "\n",
    "X_pred.head()"
   ]
  },
  {
   "cell_type": "markdown",
   "metadata": {},
   "source": [
    "On our first visual it can be seen that there exists a fairly linear relationship between the `Predicted Amount` and the `Area` of the property."
   ]
  },
  {
   "cell_type": "code",
   "execution_count": 39,
   "metadata": {},
   "outputs": [
    {
     "data": {
      "image/png": "[encoded data removed]",
      "text/plain": [
       "<Figure size 432x432 with 1 Axes>"
      ]
     },
     "metadata": {
      "needs_background": "light"
     },
     "output_type": "display_data"
    }
   ],
   "source": [
    "plt.scatter(X_pred['Area'], X_pred['Predicted Amount'], s=2)\n",
    "plt.title('Predicted Amount vs. Area')\n",
    "plt.xlabel('Area')\n",
    "plt.ylabel('Predicted Amount (PLN)')\n",
    "\n",
    "ax = plt.gca()\n",
    "ax.xaxis.set_major_locator(MaxNLocator(integer=True))\n",
    "\n",
    "plt.tight_layout()\n",
    "plt.savefig('img/area_vs_amount.png')\n",
    "plt.show()"
   ]
  },
  {
   "cell_type": "markdown",
   "metadata": {},
   "source": [
    "On the second visual it can bee seen, as expected the more `Total Rooms` in a `Property` the more it should cost."
   ]
  },
  {
   "cell_type": "code",
   "execution_count": 40,
   "metadata": {},
   "outputs": [
    {
     "data": {
      "image/png": "[encoded data removed]",
      "text/plain": [
       "<Figure size 432x432 with 1 Axes>"
      ]
     },
     "metadata": {
      "needs_background": "light"
     },
     "output_type": "display_data"
    }
   ],
   "source": [
    "plt.scatter(X_pred['Total Rooms'], X_pred['Predicted Amount'], s=2)\n",
    "plt.title('Predicted Amount vs Total Rooms')\n",
    "plt.xlabel('Total Rooms')\n",
    "plt.ylabel('Predicted Amount (PLN)')\n",
    "\n",
    "ax = plt.gca()\n",
    "ax.xaxis.set_major_locator(MaxNLocator(integer=True))\n",
    "\n",
    "plt.tight_layout()\n",
    "plt.show()"
   ]
  },
  {
   "cell_type": "markdown",
   "metadata": {},
   "source": [
    "Next we want to check if the model distinguishes between districts. We group the data by `District` and calculate the mean of the predictions with the group. We produce a bar chart sorted from highest average to lowest. Clearly the model distinguishes between district that are near the city center (`stare miasto`, `zwierzyniec`) and those further away (`łagiewniki`, `bieżanów`)."
   ]
  },
  {
   "cell_type": "code",
   "execution_count": 56,
   "metadata": {},
   "outputs": [
    {
     "data": {
      "image/png": "[encoded data removed]",
      "text/plain": [
       "<Figure size 576x288 with 1 Axes>"
      ]
     },
     "metadata": {
      "needs_background": "light"
     },
     "output_type": "display_data"
    }
   ],
   "source": [
    "width = 800\n",
    "height = 400\n",
    "dpi = 100\n",
    "\n",
    "X_grp = X_pred[['District', 'Predicted Amount']]\n",
    "X_grp = X_grp.groupby('District', as_index=False).mean()\n",
    "X_grp = X_grp.sort_values('Predicted Amount', ascending=False)\n",
    "\n",
    "plt.figure(figsize=(width/dpi, height/dpi))\n",
    "\n",
    "plt.bar(X_grp['District'], X_grp['Predicted Amount'] / 1000)\n",
    "\n",
    "# plt.title('Average predicted amount by district')\n",
    "# plt.xlabel('District')\n",
    "plt.ylabel('Mean predicted amount (k PLN)')\n",
    "plt.ylim(X_grp['Predicted Amount'].min() * 0.67 / 1000, None)\n",
    "plt.xticks(rotation=90)\n",
    "\n",
    "plt.tight_layout()\n",
    "plt.savefig('img/district_vs_avg_amount.png')\n",
    "plt.show()"
   ]
  },
  {
   "cell_type": "markdown",
   "metadata": {},
   "source": [
    "### Model vs. arbitrary inputs\n",
    "Next we would like see how the model handles sets of arbitrary parameters. We write a function to transform inputs to desired format and obtain prediction from the model."
   ]
  },
  {
   "cell_type": "code",
   "execution_count": 42,
   "metadata": {
    "scrolled": false
   },
   "outputs": [],
   "source": [
    "def get_pred(district,\n",
    "             seller,\n",
    "             area,\n",
    "             rooms,\n",
    "             bathrooms,\n",
    "             parking,\n",
    "             garden,\n",
    "             balcony,\n",
    "             terrace,\n",
    "             lift,\n",
    "             new,\n",
    "             estate,\n",
    "             townhouse,\n",
    "             apartment,\n",
    "             land,\n",
    "             studio):\n",
    "\n",
    "    columns = ['District',\n",
    "               'Seller',\n",
    "               'Area',\n",
    "               'Rooms',\n",
    "               'Bathrooms',\n",
    "               'Parking',\n",
    "               'Garden',\n",
    "               'Balcony',\n",
    "               'Terrace',\n",
    "               'Lift',\n",
    "               'New',\n",
    "               'Estate',\n",
    "               'Townhouse',\n",
    "               'Apartment',\n",
    "               'Land',\n",
    "               'Studio',\n",
    "               'Log Area',\n",
    "               'Bool Sum',\n",
    "               'Area to Bool Sum',\n",
    "               'Rooms to Bool Sum',\n",
    "               'Rooms to Bathrooms',\n",
    "               'Total Rooms',\n",
    "               'Area to Rooms',\n",
    "               'Area to Bathrooms',\n",
    "               'Area to Total Rooms']\n",
    "        \n",
    "    log_area = np.log(area)\n",
    "\n",
    "    all_bools = [garden,\n",
    "                 balcony,\n",
    "                 terrace,\n",
    "                 lift,\n",
    "                 new,\n",
    "                 estate,\n",
    "                 townhouse,\n",
    "                 apartment,\n",
    "                 land,\n",
    "                 studio]\n",
    "    \n",
    "    bool_sum = sum(all_bools)\n",
    "    area_to_bool_sum = area / (bool_sum + 1)\n",
    "    rooms_to_bool_sum = rooms / (bool_sum + 1)    \n",
    "    rooms_to_bathrooms = rooms / bathrooms        \n",
    "    total_rooms = rooms + bathrooms\n",
    "    area_to_rooms = area / total_rooms\n",
    "    area_to_bathrooms = area / bathrooms\n",
    "    area_to_total_rooms = area / total_rooms\n",
    "    \n",
    "    x = [district,\n",
    "         seller,\n",
    "         area,\n",
    "         rooms,\n",
    "         bathrooms,\n",
    "         parking,\n",
    "         garden,\n",
    "         balcony,\n",
    "         terrace,\n",
    "         lift,\n",
    "         new,\n",
    "         estate,\n",
    "         townhouse,\n",
    "         apartment,\n",
    "         land,\n",
    "         studio,\n",
    "         log_area,\n",
    "         bool_sum,\n",
    "         area_to_bool_sum,\n",
    "         rooms_to_bool_sum,\n",
    "         rooms_to_bathrooms,\n",
    "         total_rooms,\n",
    "         area_to_rooms,\n",
    "         area_to_bathrooms,\n",
    "         area_to_total_rooms]    \n",
    "    \n",
    "    x = pd.DataFrame([x], columns=columns)    \n",
    "    x = float(mdl.predict(x))\n",
    "\n",
    "    return int(round(x, -3))    "
   ]
  },
  {
   "cell_type": "markdown",
   "metadata": {},
   "source": [
    "We create lists of inputs for the model to predict."
   ]
  },
  {
   "cell_type": "code",
   "execution_count": 43,
   "metadata": {},
   "outputs": [],
   "source": [
    "areas = range(30, 120, 5)\n",
    "rooms = range(1, 5)\n",
    "districts = ['stare miasto', \n",
    "             'bronowice', \n",
    "             'podgórze', \n",
    "             'krowodrza']"
   ]
  },
  {
   "cell_type": "markdown",
   "metadata": {},
   "source": [
    "Next we loop over lists of possible areas and rooms and plot the outputs. First we check how the model reacts to different districts."
   ]
  },
  {
   "cell_type": "code",
   "execution_count": 44,
   "metadata": {},
   "outputs": [
    {
     "data": {
      "image/png": "[encoded data removed]",
      "text/plain": [
       "<Figure size 432x432 with 1 Axes>"
      ]
     },
     "metadata": {
      "needs_background": "light"
     },
     "output_type": "display_data"
    }
   ],
   "source": [
    "plt.figure()\n",
    "\n",
    "for d in districts:\n",
    "    value = list()\n",
    "    for a in areas:\n",
    "        pred = get_pred(district=d,\n",
    "         seller='realtor',\n",
    "         area=a,\n",
    "         rooms=2,\n",
    "         bathrooms=1,\n",
    "         parking='street',\n",
    "         garden=False,\n",
    "         balcony=False,\n",
    "         terrace=False,\n",
    "         lift=False,\n",
    "         new=True,\n",
    "         estate=False,\n",
    "         townhouse=True,\n",
    "         apartment=False,\n",
    "         land=False,\n",
    "         studio=True)\n",
    "        value.append(pred)\n",
    "    plt.plot(areas, value, label=d)\n",
    "    \n",
    "plt.title('Forecasted flat price by district')\n",
    "plt.ylabel('Price (PLN)')\n",
    "plt.xlabel('Area')\n",
    "plt.legend(loc='best')\n",
    "plt.savefig('img/area_vs_amount_by_district')\n",
    "plt.show()"
   ]
  },
  {
   "cell_type": "markdown",
   "metadata": {},
   "source": [
    "We do the same for different amounts of rooms."
   ]
  },
  {
   "cell_type": "code",
   "execution_count": 45,
   "metadata": {},
   "outputs": [
    {
     "data": {
      "image/png": "[encoded data removed]",
      "text/plain": [
       "<Figure size 432x432 with 1 Axes>"
      ]
     },
     "metadata": {
      "needs_background": "light"
     },
     "output_type": "display_data"
    }
   ],
   "source": [
    "plt.figure()\n",
    "\n",
    "for r in rooms:\n",
    "    value = list()\n",
    "    for a in areas:\n",
    "        pred = get_pred(district='stare miasto',\n",
    "         seller='owner',\n",
    "         area=a,\n",
    "         rooms=r,\n",
    "         bathrooms=1,\n",
    "         parking='street',\n",
    "         garden=False,\n",
    "         balcony=True,\n",
    "         terrace=False,\n",
    "         lift=False,\n",
    "         new=True,\n",
    "         estate=False,\n",
    "         townhouse=True,\n",
    "         apartment=False,\n",
    "         land=False,\n",
    "         studio=True)\n",
    "        value.append(pred)\n",
    "    plt.plot(areas, value, label=f'{r} rooms')\n",
    "    \n",
    "plt.title('Forecasted flat price in Stare Miasto')\n",
    "plt.ylabel('Price (PLN)')\n",
    "plt.xlabel('Area')    \n",
    "plt.legend(loc='best')\n",
    "plt.savefig('img/area_vs_amount_by_rooms')\n",
    "plt.show()"
   ]
  },
  {
   "cell_type": "markdown",
   "metadata": {},
   "source": [
    "# Fit final model"
   ]
  },
  {
   "cell_type": "markdown",
   "metadata": {},
   "source": [
    "The last step is to fit the model to the entire dataset and save it for later use."
   ]
  },
  {
   "cell_type": "code",
   "execution_count": 46,
   "metadata": {},
   "outputs": [
    {
     "data": {
      "text/plain": [
       "['../flats-model/model.joblib']"
      ]
     },
     "execution_count": 46,
     "metadata": {},
     "output_type": "execute_result"
    }
   ],
   "source": [
    "mdl.fit(X, y)\n",
    "model_path = '../flats-model'\n",
    "joblib.dump(mdl, f'{model_path}/model.joblib')"
   ]
  },
  {
   "cell_type": "code",
   "execution_count": 66,
   "metadata": {},
   "outputs": [
    {
     "data": {
      "text/plain": [
       "['/home/dev/Github/data-science-portfolio/.ipynb_checkpoints/02_Build_Model-checkpoint.ipynb',\n",
       " '/home/dev/Github/data-science-portfolio/.ipynb_checkpoints/01_Exploratory_Analysis-checkpoint.ipynb',\n",
       " '/home/dev/Github/data-science-portfolio/01_Exploratory_Analysis.ipynb',\n",
       " '/home/dev/Github/data-science-portfolio/02_Build_Model.ipynb',\n",
       " '/home/dev/Github/data-science-portfolio/img/area_vs_amount_by_district.png',\n",
       " '/home/dev/Github/data-science-portfolio/img/area_vs_amount.png',\n",
       " '/home/dev/Github/data-science-portfolio/img/area_vs_amount_by_rooms.png',\n",
       " '/home/dev/Github/data-science-portfolio/img/district_vs_avg_amount.png']"
      ]
     },
     "execution_count": 66,
     "metadata": {},
     "output_type": "execute_result"
    }
   ],
   "source": [
    "# Copy files to portfolio\n",
    "fromDirectory = '.'\n",
    "toDirectory = '/home/dev/Github/data-science-portfolio/flats-in-cracow'\n",
    "\n",
    "copy_tree(fromDirectory, toDirectory)"
   ]
  }
 ],
 "metadata": {
  "kernelspec": {
   "display_name": "Python 3",
   "language": "python",
   "name": "python3"
  },
  "language_info": {
   "codemirror_mode": {
    "name": "ipython",
    "version": 3
   },
   "file_extension": ".py",
   "mimetype": "text/x-python",
   "name": "python",
   "nbconvert_exporter": "python",
   "pygments_lexer": "ipython3",
   "version": "3.8.2"
  }
 },
 "nbformat": 4,
 "nbformat_minor": 4
}
