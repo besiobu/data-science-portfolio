{
 "cells": [
  {
   "cell_type": "markdown",
   "metadata": {},
   "source": [
    "# flats-in-cracow machine learning"
   ]
  },
  {
   "cell_type": "markdown",
   "metadata": {},
   "source": [
    "## Imports"
   ]
  },
  {
   "cell_type": "code",
   "execution_count": 6,
   "metadata": {},
   "outputs": [],
   "source": [
    "import matplotlib.pyplot as plt\n",
    "import pandas as pd\n",
    "import numpy as np\n",
    "import joblib\n",
    "\n",
    "from matplotlib.ticker import MaxNLocator\n",
    "\n",
    "from sklearn.impute import KNNImputer\n",
    "from sklearn.model_selection import GridSearchCV, train_test_split\n",
    "from sklearn.compose import ColumnTransformer\n",
    "from sklearn.dummy import DummyRegressor\n",
    "from sklearn.ensemble import GradientBoostingRegressor, RandomForestRegressor\n",
    "from sklearn.pipeline import Pipeline\n",
    "from sklearn.preprocessing import OneHotEncoder\n",
    "from sklearn.metrics import (mean_absolute_error, mean_squared_error,\n",
    "                             mean_squared_log_error)\n",
    "from pylab import rcParams\n",
    "from pathlib import Path\n",
    "\n",
    "from distutils.dir_util import copy_tree"
   ]
  },
  {
   "cell_type": "markdown",
   "metadata": {},
   "source": [
    "## Setup"
   ]
  },
  {
   "cell_type": "code",
   "execution_count": 2,
   "metadata": {},
   "outputs": [],
   "source": [
    "# Create directory for images \n",
    "Path(\"img\").mkdir(parents=True, exist_ok=True)\n",
    "\n",
    "# Set default figure size\n",
    "rcParams['figure.figsize'] = (4, 4)\n",
    "\n",
    "# Tell pandas how to display floats\n",
    "pd.options.display.float_format = \"{:,.2f}\".format"
   ]
  },
  {
   "cell_type": "markdown",
   "metadata": {},
   "source": [
    "## Data loading"
   ]
  },
  {
   "cell_type": "code",
   "execution_count": 3,
   "metadata": {},
   "outputs": [],
   "source": [
    "path = '../flats-data/cleaned_data.csv'"
   ]
  },
  {
   "cell_type": "code",
   "execution_count": 4,
   "metadata": {},
   "outputs": [],
   "source": [
    "data = pd.read_csv(path, lineterminator='\\n')"
   ]
  },
  {
   "cell_type": "code",
   "execution_count": 5,
   "metadata": {},
   "outputs": [
    {
     "name": "stdout",
     "output_type": "stream",
     "text": [
      "<class 'pandas.core.frame.DataFrame'>\n",
      "RangeIndex: 3269 entries, 0 to 3268\n",
      "Data columns (total 17 columns):\n",
      " #   Column     Non-Null Count  Dtype \n",
      "---  ------     --------------  ----- \n",
      " 0   District   3269 non-null   object\n",
      " 1   Amount     3269 non-null   int64 \n",
      " 2   Seller     3269 non-null   object\n",
      " 3   Area       3269 non-null   int64 \n",
      " 4   Rooms      3269 non-null   int64 \n",
      " 5   Bathrooms  3269 non-null   int64 \n",
      " 6   Parking    3269 non-null   object\n",
      " 7   Garden     3269 non-null   bool  \n",
      " 8   Balcony    3269 non-null   bool  \n",
      " 9   Terrace    3269 non-null   bool  \n",
      " 10  Floor      3269 non-null   bool  \n",
      " 11  New        3269 non-null   bool  \n",
      " 12  Estate     3269 non-null   bool  \n",
      " 13  Townhouse  3269 non-null   bool  \n",
      " 14  Apartment  3269 non-null   bool  \n",
      " 15  Land       3269 non-null   bool  \n",
      " 16  Studio     3269 non-null   bool  \n",
      "dtypes: bool(10), int64(4), object(3)\n",
      "memory usage: 210.8+ KB\n"
     ]
    }
   ],
   "source": [
    "data.info()"
   ]
  },
  {
   "cell_type": "code",
   "execution_count": 6,
   "metadata": {},
   "outputs": [
    {
     "data": {
      "text/html": [
       "<div>\n",
       "<style scoped>\n",
       "    .dataframe tbody tr th:only-of-type {\n",
       "        vertical-align: middle;\n",
       "    }\n",
       "\n",
       "    .dataframe tbody tr th {\n",
       "        vertical-align: top;\n",
       "    }\n",
       "\n",
       "    .dataframe thead th {\n",
       "        text-align: right;\n",
       "    }\n",
       "</style>\n",
       "<table border=\"1\" class=\"dataframe\">\n",
       "  <thead>\n",
       "    <tr style=\"text-align: right;\">\n",
       "      <th></th>\n",
       "      <th>District</th>\n",
       "      <th>Amount</th>\n",
       "      <th>Seller</th>\n",
       "      <th>Area</th>\n",
       "      <th>Rooms</th>\n",
       "      <th>Bathrooms</th>\n",
       "      <th>Parking</th>\n",
       "      <th>Garden</th>\n",
       "      <th>Balcony</th>\n",
       "      <th>Terrace</th>\n",
       "      <th>Floor</th>\n",
       "      <th>New</th>\n",
       "      <th>Estate</th>\n",
       "      <th>Townhouse</th>\n",
       "      <th>Apartment</th>\n",
       "      <th>Land</th>\n",
       "      <th>Studio</th>\n",
       "    </tr>\n",
       "  </thead>\n",
       "  <tbody>\n",
       "    <tr>\n",
       "      <th>0</th>\n",
       "      <td>dębniki</td>\n",
       "      <td>990000</td>\n",
       "      <td>realtor</td>\n",
       "      <td>93</td>\n",
       "      <td>4</td>\n",
       "      <td>2</td>\n",
       "      <td>street</td>\n",
       "      <td>False</td>\n",
       "      <td>False</td>\n",
       "      <td>False</td>\n",
       "      <td>False</td>\n",
       "      <td>False</td>\n",
       "      <td>False</td>\n",
       "      <td>False</td>\n",
       "      <td>False</td>\n",
       "      <td>False</td>\n",
       "      <td>False</td>\n",
       "    </tr>\n",
       "    <tr>\n",
       "      <th>1</th>\n",
       "      <td>prądnik biały</td>\n",
       "      <td>401430</td>\n",
       "      <td>realtor</td>\n",
       "      <td>41</td>\n",
       "      <td>2</td>\n",
       "      <td>1</td>\n",
       "      <td>garage</td>\n",
       "      <td>False</td>\n",
       "      <td>True</td>\n",
       "      <td>True</td>\n",
       "      <td>False</td>\n",
       "      <td>True</td>\n",
       "      <td>False</td>\n",
       "      <td>False</td>\n",
       "      <td>False</td>\n",
       "      <td>True</td>\n",
       "      <td>False</td>\n",
       "    </tr>\n",
       "    <tr>\n",
       "      <th>2</th>\n",
       "      <td>krowodrza</td>\n",
       "      <td>439000</td>\n",
       "      <td>realtor</td>\n",
       "      <td>29</td>\n",
       "      <td>1</td>\n",
       "      <td>1</td>\n",
       "      <td>garage</td>\n",
       "      <td>False</td>\n",
       "      <td>True</td>\n",
       "      <td>False</td>\n",
       "      <td>True</td>\n",
       "      <td>False</td>\n",
       "      <td>True</td>\n",
       "      <td>False</td>\n",
       "      <td>False</td>\n",
       "      <td>False</td>\n",
       "      <td>True</td>\n",
       "    </tr>\n",
       "    <tr>\n",
       "      <th>3</th>\n",
       "      <td>krowodrza</td>\n",
       "      <td>520000</td>\n",
       "      <td>realtor</td>\n",
       "      <td>55</td>\n",
       "      <td>3</td>\n",
       "      <td>1</td>\n",
       "      <td>street</td>\n",
       "      <td>False</td>\n",
       "      <td>False</td>\n",
       "      <td>False</td>\n",
       "      <td>False</td>\n",
       "      <td>False</td>\n",
       "      <td>False</td>\n",
       "      <td>False</td>\n",
       "      <td>False</td>\n",
       "      <td>False</td>\n",
       "      <td>False</td>\n",
       "    </tr>\n",
       "    <tr>\n",
       "      <th>4</th>\n",
       "      <td>bieżanów</td>\n",
       "      <td>287387</td>\n",
       "      <td>realtor</td>\n",
       "      <td>38</td>\n",
       "      <td>2</td>\n",
       "      <td>1</td>\n",
       "      <td>garage</td>\n",
       "      <td>False</td>\n",
       "      <td>True</td>\n",
       "      <td>False</td>\n",
       "      <td>False</td>\n",
       "      <td>False</td>\n",
       "      <td>False</td>\n",
       "      <td>False</td>\n",
       "      <td>False</td>\n",
       "      <td>False</td>\n",
       "      <td>False</td>\n",
       "    </tr>\n",
       "  </tbody>\n",
       "</table>\n",
       "</div>"
      ],
      "text/plain": [
       "        District  Amount   Seller  Area  Rooms  Bathrooms Parking  Garden  \\\n",
       "0        dębniki  990000  realtor    93      4          2  street   False   \n",
       "1  prądnik biały  401430  realtor    41      2          1  garage   False   \n",
       "2      krowodrza  439000  realtor    29      1          1  garage   False   \n",
       "3      krowodrza  520000  realtor    55      3          1  street   False   \n",
       "4       bieżanów  287387  realtor    38      2          1  garage   False   \n",
       "\n",
       "   Balcony  Terrace  Floor    New  Estate  Townhouse  Apartment   Land  Studio  \n",
       "0    False    False  False  False   False      False      False  False   False  \n",
       "1     True     True  False   True   False      False      False   True   False  \n",
       "2     True    False   True  False    True      False      False  False    True  \n",
       "3    False    False  False  False   False      False      False  False   False  \n",
       "4     True    False  False  False   False      False      False  False   False  "
      ]
     },
     "execution_count": 6,
     "metadata": {},
     "output_type": "execute_result"
    }
   ],
   "source": [
    "data.head()"
   ]
  },
  {
   "cell_type": "markdown",
   "metadata": {},
   "source": [
    "## Feature engineering"
   ]
  },
  {
   "cell_type": "markdown",
   "metadata": {},
   "source": [
    "The next step is to engineer features. We add columns describing the `Total Rooms` in the property, ratio of `Area to Rooms` and so on."
   ]
  },
  {
   "cell_type": "code",
   "execution_count": 7,
   "metadata": {},
   "outputs": [],
   "source": [
    "data['Log Area'] = np.round(np.log(data['Area']), 2)\n",
    "data['Bool Sum'] = data.select_dtypes(bool).sum(axis=1)\n",
    "# Avoid division by zero\n",
    "data['Area to Bool Sum'] = round(data['Area'] / (data.select_dtypes(bool).sum(axis=1) + 1), 2)\n",
    "data['Rooms to Bool Sum'] = round(data['Rooms'] / (data.select_dtypes(bool).sum(axis=1) + 1), 2)\n",
    "data['Rooms to Bathrooms' ] = round(data['Rooms'] / data['Bathrooms'], 2)\n",
    "data['Total Rooms'] = round(data['Rooms'] + data['Bathrooms'], 2)\n",
    "data['Area to Rooms'] = round(data['Area'] / data['Rooms'], 2)\n",
    "data['Area to Bathrooms'] = round(data['Area'] / data['Rooms'], 2)\n",
    "data['Area to Total Rooms'] = round(data['Area'] / data['Total Rooms'], 2)"
   ]
  },
  {
   "cell_type": "markdown",
   "metadata": {},
   "source": [
    "## Data split"
   ]
  },
  {
   "cell_type": "markdown",
   "metadata": {},
   "source": [
    "We decide to use 80% of the data to train the model and 20% to check performance.\n",
    "We make sure to remove the `Amount` column from the training data since this is our target."
   ]
  },
  {
   "cell_type": "code",
   "execution_count": 8,
   "metadata": {},
   "outputs": [],
   "source": [
    "X = data.drop(['Amount'], axis=1)\n",
    "y = data['Amount']\n",
    "\n",
    "split = train_test_split(X, y, train_size=.8,\n",
    "                               random_state=123)\n",
    "\n",
    "X_train, X_test, y_train, y_test = split"
   ]
  },
  {
   "cell_type": "markdown",
   "metadata": {},
   "source": [
    "## Baseline model"
   ]
  },
  {
   "cell_type": "markdown",
   "metadata": {},
   "source": [
    "For comparison purposes we create a model to give base predictions."
   ]
  },
  {
   "cell_type": "code",
   "execution_count": 9,
   "metadata": {},
   "outputs": [],
   "source": [
    "reg_dummy = DummyRegressor()"
   ]
  },
  {
   "cell_type": "markdown",
   "metadata": {},
   "source": [
    "## Model"
   ]
  },
  {
   "cell_type": "markdown",
   "metadata": {},
   "source": [
    "Then we create the actual model."
   ]
  },
  {
   "cell_type": "code",
   "execution_count": 10,
   "metadata": {},
   "outputs": [],
   "source": [
    "reg = GradientBoostingRegressor(random_state=123)"
   ]
  },
  {
   "cell_type": "markdown",
   "metadata": {},
   "source": [
    "## One Hot Encoding"
   ]
  },
  {
   "cell_type": "markdown",
   "metadata": {},
   "source": [
    "We apply one hot encoding to categorical features and use the `ColumnTransformer` parameter `passthrough` to allow the rest of the columns to remain unchanged."
   ]
  },
  {
   "cell_type": "code",
   "execution_count": 11,
   "metadata": {},
   "outputs": [],
   "source": [
    "categorical = list(data.select_dtypes('object').columns)    \n",
    "\n",
    "categorical_transformer = Pipeline(\n",
    "    steps=[('onehot', OneHotEncoder(handle_unknown='ignore'))]\n",
    ")\n",
    "\n",
    "preprocessor = ColumnTransformer(\n",
    "    transformers = [\n",
    "        ('cat', categorical_transformer, categorical)\n",
    "    ],\n",
    "    remainder='passthrough'\n",
    ")"
   ]
  },
  {
   "cell_type": "markdown",
   "metadata": {},
   "source": [
    "## Pipelines"
   ]
  },
  {
   "cell_type": "code",
   "execution_count": 12,
   "metadata": {},
   "outputs": [],
   "source": [
    "mdl = Pipeline(steps = [('preprocessor', preprocessor),\n",
    "                        ('regressor', reg)])\n",
    "\n",
    "dum = Pipeline(steps = [('preprocessor', preprocessor),\n",
    "                        ('regressor', reg_dummy)])"
   ]
  },
  {
   "cell_type": "markdown",
   "metadata": {},
   "source": [
    "## Parameter tuning"
   ]
  },
  {
   "cell_type": "code",
   "execution_count": 13,
   "metadata": {},
   "outputs": [],
   "source": [
    "param_grid = {\"regressor__max_depth\": [5, 10, 15], \n",
    "              \"regressor__n_estimators\": [250, 500, 1000],\n",
    "              \"regressor__min_samples_split\": [2, 4],\n",
    "              \"regressor__min_samples_leaf\": [2, 4],\n",
    "              \"regressor__max_features\": ['auto']}\n",
    "\n",
    "gs = GridSearchCV(estimator=mdl, \n",
    "                  param_grid=param_grid,\n",
    "                  cv=10,\n",
    "                  n_jobs=8,\n",
    "                  verbose=2)"
   ]
  },
  {
   "cell_type": "markdown",
   "metadata": {},
   "source": [
    "## Training"
   ]
  },
  {
   "cell_type": "code",
   "execution_count": 14,
   "metadata": {},
   "outputs": [
    {
     "name": "stdout",
     "output_type": "stream",
     "text": [
      "Fitting 10 folds for each of 36 candidates, totalling 360 fits\n"
     ]
    },
    {
     "name": "stderr",
     "output_type": "stream",
     "text": [
      "[Parallel(n_jobs=8)]: Using backend LokyBackend with 8 concurrent workers.\n",
      "[Parallel(n_jobs=8)]: Done  25 tasks      | elapsed:   35.7s\n",
      "[Parallel(n_jobs=8)]: Done 146 tasks      | elapsed:  4.0min\n",
      "[Parallel(n_jobs=8)]: Done 360 out of 360 | elapsed: 16.4min finished\n"
     ]
    }
   ],
   "source": [
    "dum.fit(X_train, y_train)\n",
    "gs.fit(X_train, y_train)\n",
    "mdl = gs.best_estimator_"
   ]
  },
  {
   "cell_type": "markdown",
   "metadata": {},
   "source": [
    "## Model performance"
   ]
  },
  {
   "cell_type": "markdown",
   "metadata": {},
   "source": [
    "We obtain predictions for the testing set and compare `RMSE`, `MAE` and `MSLE` scores of our models."
   ]
  },
  {
   "cell_type": "code",
   "execution_count": 15,
   "metadata": {},
   "outputs": [],
   "source": [
    "y_pred_dum = dum.predict(X_test)\n",
    "y_pred = mdl.predict(X_test)"
   ]
  },
  {
   "cell_type": "markdown",
   "metadata": {},
   "source": [
    "### Dummy"
   ]
  },
  {
   "cell_type": "code",
   "execution_count": 16,
   "metadata": {},
   "outputs": [
    {
     "name": "stdout",
     "output_type": "stream",
     "text": [
      "Dummy model:\n",
      "RMSE:  218780.49\n",
      "MAE:   159976.48\n",
      "MSLE:       0.14\n"
     ]
    }
   ],
   "source": [
    "dum_rmse = mean_squared_error(y_pred=y_pred_dum, y_true=y_test, squared=False)\n",
    "dum_mae = mean_absolute_error(y_pred=y_pred_dum, y_true=y_test)\n",
    "dum_msle = mean_squared_log_error(y_pred=y_pred_dum, y_true=y_test)\n",
    "\n",
    "print(f'Dummy model:')\n",
    "print(f'RMSE: {dum_rmse:10.2f}')\n",
    "print(f'MAE:  {dum_mae:10.2f}')\n",
    "print(f'MSLE: {dum_msle:10.2f}')"
   ]
  },
  {
   "cell_type": "markdown",
   "metadata": {},
   "source": [
    "### Actual"
   ]
  },
  {
   "cell_type": "code",
   "execution_count": 17,
   "metadata": {},
   "outputs": [
    {
     "name": "stdout",
     "output_type": "stream",
     "text": [
      "Actual model\n",
      "RMSE:  111701.83\n",
      "MAE:    71636.86\n",
      "MSLE:       0.03\n"
     ]
    }
   ],
   "source": [
    "rmse = mean_squared_error(y_pred=y_pred, y_true=y_test, squared=False)\n",
    "mae = mean_absolute_error(y_pred=y_pred, y_true=y_test)\n",
    "msle = mean_squared_log_error(y_pred=y_pred, y_true=y_test)\n",
    "\n",
    "print('Actual model')\n",
    "print(f'RMSE: {rmse:10.2f}')\n",
    "print(f'MAE:  {mae:10.2f}')\n",
    "print(f'MSLE: {msle:10.2f}')"
   ]
  },
  {
   "cell_type": "markdown",
   "metadata": {},
   "source": [
    "### Comparison"
   ]
  },
  {
   "cell_type": "markdown",
   "metadata": {},
   "source": [
    "We are happy to see that the `GradientBoostingRegressor` outperfomed the `DummyRegressor` significantly.\n",
    "In terms of percentages the improvements are:"
   ]
  },
  {
   "cell_type": "code",
   "execution_count": 18,
   "metadata": {},
   "outputs": [
    {
     "data": {
      "text/html": [
       "<div>\n",
       "<style scoped>\n",
       "    .dataframe tbody tr th:only-of-type {\n",
       "        vertical-align: middle;\n",
       "    }\n",
       "\n",
       "    .dataframe tbody tr th {\n",
       "        vertical-align: top;\n",
       "    }\n",
       "\n",
       "    .dataframe thead th {\n",
       "        text-align: right;\n",
       "    }\n",
       "</style>\n",
       "<table border=\"1\" class=\"dataframe\">\n",
       "  <thead>\n",
       "    <tr style=\"text-align: right;\">\n",
       "      <th></th>\n",
       "      <th>Dummy</th>\n",
       "      <th>Model</th>\n",
       "      <th>Improvement (%)</th>\n",
       "    </tr>\n",
       "  </thead>\n",
       "  <tbody>\n",
       "    <tr>\n",
       "      <th>MSE</th>\n",
       "      <td>218,780.49</td>\n",
       "      <td>111,701.83</td>\n",
       "      <td>-48.94</td>\n",
       "    </tr>\n",
       "    <tr>\n",
       "      <th>MAE</th>\n",
       "      <td>159,976.48</td>\n",
       "      <td>71,636.86</td>\n",
       "      <td>-55.22</td>\n",
       "    </tr>\n",
       "    <tr>\n",
       "      <th>MSLE</th>\n",
       "      <td>0.14</td>\n",
       "      <td>0.03</td>\n",
       "      <td>-78.17</td>\n",
       "    </tr>\n",
       "  </tbody>\n",
       "</table>\n",
       "</div>"
      ],
      "text/plain": [
       "          Dummy      Model  Improvement (%)\n",
       "MSE  218,780.49 111,701.83           -48.94\n",
       "MAE  159,976.48  71,636.86           -55.22\n",
       "MSLE       0.14       0.03           -78.17"
      ]
     },
     "execution_count": 18,
     "metadata": {},
     "output_type": "execute_result"
    }
   ],
   "source": [
    "scores = [[dum_rmse, dum_mae, dum_msle],\n",
    "          [rmse, mae, msle]]\n",
    "\n",
    "scores = pd.DataFrame(scores, \n",
    "                      index=['Dummy', 'Model'], \n",
    "                      columns=['MSE', 'MAE', 'MSLE'])\n",
    "\n",
    "scores = scores.transpose()\n",
    "scores['Improvement (%)'] = np.round((scores['Model'] / scores['Dummy'] - 1) * 100, 2)\n",
    "\n",
    "scores"
   ]
  },
  {
   "cell_type": "markdown",
   "metadata": {},
   "source": [
    "## Visualizations "
   ]
  },
  {
   "cell_type": "markdown",
   "metadata": {},
   "source": [
    "We produce a couple of plots the visually inspect the performance of our model.\n",
    "We use the test data set with the predicted `Amount` to produce the plots."
   ]
  },
  {
   "cell_type": "code",
   "execution_count": 19,
   "metadata": {},
   "outputs": [
    {
     "data": {
      "text/html": [
       "<div>\n",
       "<style scoped>\n",
       "    .dataframe tbody tr th:only-of-type {\n",
       "        vertical-align: middle;\n",
       "    }\n",
       "\n",
       "    .dataframe tbody tr th {\n",
       "        vertical-align: top;\n",
       "    }\n",
       "\n",
       "    .dataframe thead th {\n",
       "        text-align: right;\n",
       "    }\n",
       "</style>\n",
       "<table border=\"1\" class=\"dataframe\">\n",
       "  <thead>\n",
       "    <tr style=\"text-align: right;\">\n",
       "      <th></th>\n",
       "      <th>Amount</th>\n",
       "      <th>Predicted Amount</th>\n",
       "      <th>District</th>\n",
       "      <th>Area</th>\n",
       "      <th>Total Rooms</th>\n",
       "    </tr>\n",
       "  </thead>\n",
       "  <tbody>\n",
       "    <tr>\n",
       "      <th>3266</th>\n",
       "      <td>368000</td>\n",
       "      <td>359,731.90</td>\n",
       "      <td>nowa huta</td>\n",
       "      <td>47</td>\n",
       "      <td>3</td>\n",
       "    </tr>\n",
       "    <tr>\n",
       "      <th>428</th>\n",
       "      <td>1050000</td>\n",
       "      <td>933,296.91</td>\n",
       "      <td>krowodrza</td>\n",
       "      <td>104</td>\n",
       "      <td>5</td>\n",
       "    </tr>\n",
       "    <tr>\n",
       "      <th>319</th>\n",
       "      <td>339000</td>\n",
       "      <td>373,246.75</td>\n",
       "      <td>krowodrza</td>\n",
       "      <td>36</td>\n",
       "      <td>3</td>\n",
       "    </tr>\n",
       "    <tr>\n",
       "      <th>1509</th>\n",
       "      <td>1011840</td>\n",
       "      <td>1,123,272.20</td>\n",
       "      <td>grzegórzki</td>\n",
       "      <td>85</td>\n",
       "      <td>5</td>\n",
       "    </tr>\n",
       "    <tr>\n",
       "      <th>2365</th>\n",
       "      <td>285000</td>\n",
       "      <td>363,161.46</td>\n",
       "      <td>dębniki</td>\n",
       "      <td>33</td>\n",
       "      <td>3</td>\n",
       "    </tr>\n",
       "  </tbody>\n",
       "</table>\n",
       "</div>"
      ],
      "text/plain": [
       "       Amount  Predicted Amount    District  Area  Total Rooms\n",
       "3266   368000        359,731.90   nowa huta    47            3\n",
       "428   1050000        933,296.91   krowodrza   104            5\n",
       "319    339000        373,246.75   krowodrza    36            3\n",
       "1509  1011840      1,123,272.20  grzegórzki    85            5\n",
       "2365   285000        363,161.46     dębniki    33            3"
      ]
     },
     "execution_count": 19,
     "metadata": {},
     "output_type": "execute_result"
    }
   ],
   "source": [
    "cols = ['Amount', 'Predicted Amount', \n",
    "        'District', 'Area', 'Total Rooms']\n",
    "\n",
    "X_pred = X_test.copy()\n",
    "X_pred.loc[:, 'Amount'] = y\n",
    "X_pred.loc[:, 'Predicted Amount'] = y_pred\n",
    "X_pred = X_pred.loc[:, cols]\n",
    "\n",
    "X_pred.head()"
   ]
  },
  {
   "cell_type": "markdown",
   "metadata": {},
   "source": [
    "On our first visual it can be seen that there exists a fairly linear relationship between the `Predicted Amount` and the `Area` of the property."
   ]
  },
  {
   "cell_type": "code",
   "execution_count": 20,
   "metadata": {},
   "outputs": [
    {
     "data": {
      "image/png": "[encoded data removed]",
      "text/plain": [
       "<Figure size 288x288 with 1 Axes>"
      ]
     },
     "metadata": {
      "needs_background": "light"
     },
     "output_type": "display_data"
    }
   ],
   "source": [
    "plt.scatter(X_pred['Area'], X_pred['Predicted Amount'], s=2)\n",
    "plt.xlabel('Area')\n",
    "plt.ylabel('Predicted Amount (PLN)')\n",
    "\n",
    "ax = plt.gca()\n",
    "ax.xaxis.set_major_locator(MaxNLocator(integer=True))\n",
    "\n",
    "plt.tight_layout()\n",
    "plt.savefig('img/area_vs_amount.png')\n",
    "plt.show()"
   ]
  },
  {
   "cell_type": "markdown",
   "metadata": {},
   "source": [
    "On the second visual it can bee seen, as expected the more `Total Rooms` in a `Property` the more it should cost."
   ]
  },
  {
   "cell_type": "code",
   "execution_count": 21,
   "metadata": {},
   "outputs": [
    {
     "data": {
      "image/png": "[encoded data removed]",
      "text/plain": [
       "<Figure size 288x288 with 1 Axes>"
      ]
     },
     "metadata": {
      "needs_background": "light"
     },
     "output_type": "display_data"
    }
   ],
   "source": [
    "plt.scatter(X_pred['Total Rooms'], X_pred['Predicted Amount'], s=2)\n",
    "plt.xlabel('Total Rooms')\n",
    "plt.ylabel('Predicted Amount (PLN)')\n",
    "\n",
    "ax = plt.gca()\n",
    "ax.xaxis.set_major_locator(MaxNLocator(integer=True))\n",
    "\n",
    "plt.tight_layout()\n",
    "plt.show()"
   ]
  },
  {
   "cell_type": "markdown",
   "metadata": {},
   "source": [
    "Next we want to check if the model distinguishes between districts. We group the data by `District` and calculate the mean of the predictions with the group. We produce a bar chart sorted from highest average to lowest. Clearly the model distinguishes between district that are near the city center (`stare miasto`, `zwierzyniec`) and those further away (`łagiewniki`, `bieżanów`)."
   ]
  },
  {
   "cell_type": "code",
   "execution_count": 22,
   "metadata": {},
   "outputs": [
    {
     "data": {
      "image/png": "[encoded data removed]",
      "text/plain": [
       "<Figure size 576x288 with 1 Axes>"
      ]
     },
     "metadata": {
      "needs_background": "light"
     },
     "output_type": "display_data"
    }
   ],
   "source": [
    "width = 1600\n",
    "height = width/2\n",
    "dpi = 200\n",
    "\n",
    "X_grp = X_pred[['District', 'Predicted Amount']]\n",
    "X_grp = X_grp.groupby('District', as_index=False).mean()\n",
    "X_grp = X_grp.sort_values('Predicted Amount', ascending=False)\n",
    "\n",
    "plt.figure(figsize=(width/dpi, height/dpi))\n",
    "\n",
    "plt.bar(X_grp['District'], X_grp['Predicted Amount'] / 1000)\n",
    "\n",
    "plt.ylabel('Mean predicted amount (k PLN)')\n",
    "plt.ylim(X_grp['Predicted Amount'].min() * 0.67 / 1000, None)\n",
    "plt.xticks(rotation=90)\n",
    "\n",
    "plt.tight_layout()\n",
    "plt.savefig('img/district_vs_avg_amount.png')\n",
    "plt.show()"
   ]
  },
  {
   "cell_type": "markdown",
   "metadata": {},
   "source": [
    "## Getting predictions"
   ]
  },
  {
   "cell_type": "markdown",
   "metadata": {},
   "source": [
    "Next we would like see how the model handles sets of arbitrary parameters. We write a function to transform inputs to desired format and obtain prediction from the model."
   ]
  },
  {
   "cell_type": "code",
   "execution_count": 23,
   "metadata": {},
   "outputs": [],
   "source": [
    "def get_pred(district,\n",
    "             seller,\n",
    "             area,\n",
    "             rooms,\n",
    "             bathrooms,\n",
    "             parking,\n",
    "             garden,\n",
    "             balcony,\n",
    "             terrace,\n",
    "             floor,\n",
    "             new,\n",
    "             estate,\n",
    "             townhouse,\n",
    "             apartment,\n",
    "             land,\n",
    "             studio):\n",
    "\n",
    "    columns = ['District',\n",
    "               'Seller',\n",
    "               'Area',\n",
    "               'Rooms',\n",
    "               'Bathrooms',\n",
    "               'Parking',\n",
    "               'Garden',\n",
    "               'Balcony',\n",
    "               'Terrace',\n",
    "               'Floor',\n",
    "               'New',\n",
    "               'Estate',\n",
    "               'Townhouse',\n",
    "               'Apartment',\n",
    "               'Land',\n",
    "               'Studio',\n",
    "               'Log Area',\n",
    "               'Bool Sum',\n",
    "               'Area to Bool Sum',\n",
    "               'Rooms to Bool Sum',\n",
    "               'Rooms to Bathrooms',\n",
    "               'Total Rooms',\n",
    "               'Area to Rooms',\n",
    "               'Area to Bathrooms',\n",
    "               'Area to Total Rooms']\n",
    "        \n",
    "    log_area = np.log(area)\n",
    "\n",
    "    all_bools = [garden,\n",
    "                 balcony,\n",
    "                 terrace,\n",
    "                 floor,\n",
    "                 new,\n",
    "                 estate,\n",
    "                 townhouse,\n",
    "                 apartment,\n",
    "                 land,\n",
    "                 studio]\n",
    "    \n",
    "    bool_sum = sum(all_bools)\n",
    "    area_to_bool_sum = area / (bool_sum + 1)\n",
    "    rooms_to_bool_sum = rooms / (bool_sum + 1)    \n",
    "    rooms_to_bathrooms = rooms / bathrooms        \n",
    "    total_rooms = rooms + bathrooms\n",
    "    area_to_rooms = area / total_rooms\n",
    "    area_to_bathrooms = area / bathrooms\n",
    "    area_to_total_rooms = area / total_rooms\n",
    "    \n",
    "    x = [district,\n",
    "         seller,\n",
    "         area,\n",
    "         rooms,\n",
    "         bathrooms,\n",
    "         parking,\n",
    "         garden,\n",
    "         balcony,\n",
    "         terrace,\n",
    "         floor,\n",
    "         new,\n",
    "         estate,\n",
    "         townhouse,\n",
    "         apartment,\n",
    "         land,\n",
    "         studio,\n",
    "         log_area,\n",
    "         bool_sum,\n",
    "         area_to_bool_sum,\n",
    "         rooms_to_bool_sum,\n",
    "         rooms_to_bathrooms,\n",
    "         total_rooms,\n",
    "         area_to_rooms,\n",
    "         area_to_bathrooms,\n",
    "         area_to_total_rooms]    \n",
    "    \n",
    "    x = pd.DataFrame([x], columns=columns)    \n",
    "    x = float(mdl.predict(x))\n",
    "\n",
    "    return int(round(x, -3))    "
   ]
  },
  {
   "cell_type": "markdown",
   "metadata": {},
   "source": [
    "We create lists of inputs for the model to predict."
   ]
  },
  {
   "cell_type": "code",
   "execution_count": 24,
   "metadata": {},
   "outputs": [],
   "source": [
    "areas = range(30, 120, 5)\n",
    "rooms = range(1, 5)\n",
    "districts = ['stare miasto', \n",
    "             'bronowice', \n",
    "             'podgórze', \n",
    "             'krowodrza']"
   ]
  },
  {
   "cell_type": "markdown",
   "metadata": {},
   "source": [
    "Next we loop over lists of possible areas and rooms and plot the outputs. First we check how the model reacts to different districts."
   ]
  },
  {
   "cell_type": "code",
   "execution_count": 25,
   "metadata": {},
   "outputs": [
    {
     "data": {
      "image/png": "[encoded data removed]",
      "text/plain": [
       "<Figure size 288x288 with 1 Axes>"
      ]
     },
     "metadata": {
      "needs_background": "light"
     },
     "output_type": "display_data"
    }
   ],
   "source": [
    "plt.figure()\n",
    "\n",
    "for d in districts:\n",
    "    value = list()\n",
    "    for a in areas:\n",
    "        pred = get_pred(district=d,\n",
    "         seller='realtor',\n",
    "         area=a,\n",
    "         rooms=2,\n",
    "         bathrooms=1,\n",
    "         parking='street',\n",
    "         garden=False,\n",
    "         balcony=False,\n",
    "         terrace=False,\n",
    "         floor=False,\n",
    "         new=True,\n",
    "         estate=False,\n",
    "         townhouse=True,\n",
    "         apartment=False,\n",
    "         land=False,\n",
    "         studio=True)\n",
    "        value.append(pred)\n",
    "    plt.plot(areas, value, label=d)\n",
    "    \n",
    "plt.ylabel('Price (PLN)')\n",
    "plt.xlabel('Area')\n",
    "plt.legend(loc='best')\n",
    "plt.savefig('img/area_vs_amount_by_district')\n",
    "plt.show()"
   ]
  },
  {
   "cell_type": "markdown",
   "metadata": {},
   "source": [
    "We do the same for different amounts of rooms."
   ]
  },
  {
   "cell_type": "code",
   "execution_count": 26,
   "metadata": {},
   "outputs": [
    {
     "data": {
      "image/png": "[encoded data removed]",
      "text/plain": [
       "<Figure size 288x288 with 1 Axes>"
      ]
     },
     "metadata": {
      "needs_background": "light"
     },
     "output_type": "display_data"
    }
   ],
   "source": [
    "plt.figure()\n",
    "\n",
    "for r in rooms:\n",
    "    value = list()\n",
    "    for a in areas:\n",
    "        pred = get_pred(district='stare miasto',\n",
    "         seller='owner',\n",
    "         area=a,\n",
    "         rooms=r,\n",
    "         bathrooms=1,\n",
    "         parking='street',\n",
    "         garden=False,\n",
    "         balcony=True,\n",
    "         terrace=False,\n",
    "         floor=False,\n",
    "         new=True,\n",
    "         estate=False,\n",
    "         townhouse=True,\n",
    "         apartment=False,\n",
    "         land=False,\n",
    "         studio=True)\n",
    "        value.append(pred)\n",
    "    plt.plot(areas, value, label=f'{r} rooms')\n",
    "    \n",
    "plt.title('Stare Miasto')\n",
    "plt.ylabel('Price (PLN)')\n",
    "plt.xlabel('Area')    \n",
    "plt.legend(loc='best')\n",
    "plt.savefig('img/area_vs_amount_by_rooms')\n",
    "plt.show()"
   ]
  },
  {
   "cell_type": "markdown",
   "metadata": {},
   "source": [
    "## Final training"
   ]
  },
  {
   "cell_type": "markdown",
   "metadata": {},
   "source": [
    "The last step is to fit the model to the entire dataset and save it for later use."
   ]
  },
  {
   "cell_type": "code",
   "execution_count": 27,
   "metadata": {},
   "outputs": [
    {
     "data": {
      "text/plain": [
       "['../flats-model/model.joblib']"
      ]
     },
     "execution_count": 27,
     "metadata": {},
     "output_type": "execute_result"
    }
   ],
   "source": [
    "mdl.fit(X, y)\n",
    "model_path = ''\n",
    "joblib.dump(mdl, f'../flats-model/model.joblib')"
   ]
  },
  {
   "cell_type": "code",
   "execution_count": 5,
   "metadata": {},
   "outputs": [
    {
     "ename": "NameError",
     "evalue": "name 'copy_tree' is not defined",
     "output_type": "error",
     "traceback": [
      "\u001b[0;31m---------------------------------------------------------------------------\u001b[0m",
      "\u001b[0;31mNameError\u001b[0m                                 Traceback (most recent call last)",
      "\u001b[0;32m<ipython-input-5-f5a33f841eeb>\u001b[0m in \u001b[0;36m<module>\u001b[0;34m\u001b[0m\n\u001b[1;32m      2\u001b[0m \u001b[0mfromDirectory\u001b[0m \u001b[0;34m=\u001b[0m \u001b[0;34m'.'\u001b[0m\u001b[0;34m\u001b[0m\u001b[0;34m\u001b[0m\u001b[0m\n\u001b[1;32m      3\u001b[0m \u001b[0mtoDirectory\u001b[0m \u001b[0;34m=\u001b[0m \u001b[0;34m'/home/dev/Github/data-science-portfolio/flats-in-cracow'\u001b[0m\u001b[0;34m\u001b[0m\u001b[0;34m\u001b[0m\u001b[0m\n\u001b[0;32m----> 4\u001b[0;31m \u001b[0mcopy_tree\u001b[0m\u001b[0;34m(\u001b[0m\u001b[0mfromDirectory\u001b[0m\u001b[0;34m,\u001b[0m \u001b[0mtoDirectory\u001b[0m\u001b[0;34m)\u001b[0m\u001b[0;34m\u001b[0m\u001b[0;34m\u001b[0m\u001b[0m\n\u001b[0m",
      "\u001b[0;31mNameError\u001b[0m: name 'copy_tree' is not defined"
     ]
    }
   ],
   "source": [
    "# Copy files to portfolio\n",
    "fromDirectory = '.'\n",
    "toDirectory = '/home/dev/Github/data-science-portfolio/flats-in-cracow'\n",
    "copy_tree(fromDirectory, toDirectory)"
   ]
  }
 ],
 "metadata": {
  "kernelspec": {
   "display_name": "Python 3",
   "language": "python",
   "name": "python3"
  },
  "language_info": {
   "codemirror_mode": {
    "name": "ipython",
    "version": 3
   },
   "file_extension": ".py",
   "mimetype": "text/x-python",
   "name": "python",
   "nbconvert_exporter": "python",
   "pygments_lexer": "ipython3",
   "version": "3.8.2"
  }
 },
 "nbformat": 4,
 "nbformat_minor": 4
}
